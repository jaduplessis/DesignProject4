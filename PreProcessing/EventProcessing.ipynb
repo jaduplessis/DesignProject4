{
 "cells": [
  {
   "cell_type": "code",
   "execution_count": null,
   "metadata": {},
   "outputs": [],
   "source": [
    "import pandas as pd"
   ]
  },
  {
   "cell_type": "code",
   "execution_count": null,
   "metadata": {},
   "outputs": [],
   "source": [
    "df = pd.read_csv('../hh111/hh111.ann.txt', sep='\\t')"
   ]
  }
 ],
 "metadata": {
  "kernelspec": {
   "display_name": "DP4",
   "language": "python",
   "name": "python3"
  },
  "language_info": {
   "name": "python",
   "version": "3.10.9"
  },
  "orig_nbformat": 4,
  "vscode": {
   "interpreter": {
    "hash": "a8f364f4c6a15a98e6f24366f20c415b81f2b82de1c06055d293928a78744407"
   }
  }
 },
 "nbformat": 4,
 "nbformat_minor": 2
}
