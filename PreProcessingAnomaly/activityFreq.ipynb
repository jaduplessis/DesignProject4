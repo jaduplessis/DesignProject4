{
 "cells": [
  {
   "cell_type": "code",
   "execution_count": 63,
   "metadata": {},
   "outputs": [],
   "source": []
  },
  {
   "cell_type": "code",
   "execution_count": 145,
   "metadata": {},
   "outputs": [],
   "source": [
    "# Import standardisation libraries\n",
    "from sklearn.preprocessing import StandardScaler#\n",
    "import numpy as np\n",
    "from sklearn.preprocessing import StandardScaler\n",
    "import time\n",
    "import pandas as pd\n",
    "\n",
    "\n",
    "def train_test_split(df_freq):\n",
    "    day31 = '2011-07-15'\n",
    "    converted_day31 = pd.to_datetime(day31).date()\n",
    "\n",
    "    # All activities split into training and test data\n",
    "    df_train = df_freq[df_freq['Date'] < converted_day31]\n",
    "    df_test = df_freq[df_freq['Date'] >= converted_day31]\n",
    "\n",
    "    # Reset index\n",
    "    df_test.reset_index(drop=True, inplace=True)\n",
    "\n",
    "    # Save to csv\n",
    "    df_train.to_csv('Unscaled/df_train_frequency.csv', index=False)\n",
    "    df_test.to_csv('Unscaled/df_test_frequency.csv', index=False)\n",
    "\n",
    "    return df_train, df_test\n",
    "\n",
    "\n",
    "\n",
    "def standardise(df_train, df_test, type):\n",
    "    # Drop date column\n",
    "    df_train.drop('Date', axis=1, inplace=True)\n",
    "    df_test.drop('Date', axis=1, inplace=True)\n",
    "\n",
    "    # Transform day of week to number\n",
    "    def dayOfWeek(day):\n",
    "        if day == 'Monday':\n",
    "            return 0\n",
    "        elif day == 'Tuesday':\n",
    "            return 1\n",
    "        elif day == 'Wednesday':\n",
    "            return 2\n",
    "        elif day == 'Thursday':\n",
    "            return 3\n",
    "        elif day == 'Friday':\n",
    "            return 4\n",
    "        elif day == 'Saturday':\n",
    "            return 5\n",
    "        elif day == 'Sunday':\n",
    "            return 6\n",
    "        \n",
    "    def weekend_or_weekday(day):\n",
    "        if day == 'Weekend':\n",
    "            return 1\n",
    "        elif day == 'Weekday':\n",
    "            return 0\n",
    "\n",
    "    df_train['Day of activity'] = df_train['Day of activity'].apply(dayOfWeek)\n",
    "    df_train['Weekend or weekday'] = df_train['Weekend or weekday'].apply(weekend_or_weekday)\n",
    "    df_test['Day of activity'] = df_test['Day of activity'].apply(dayOfWeek)\n",
    "    df_test['Weekend or weekday'] = df_test['Weekend or weekday'].apply(weekend_or_weekday)\n",
    "\n",
    "    header = ','.join(df_train.columns)\n",
    "\n",
    "    scaler = StandardScaler()\n",
    "    scaler.fit(df_train)\n",
    "\n",
    "    df_train = scaler.transform(df_train)\n",
    "    df_test = scaler.transform(df_test)\n",
    "\n",
    "    np.savetxt(f'df_train_{type}.csv', df_train, delimiter=',', header=header, comments='')\n",
    "    np.savetxt(f'df_test_{type}.csv', df_test, delimiter=',', header=header, comments='')\n",
    "\n",
    "\n",
    "def create_freq_df(df_activity):\n",
    "    # Get all unique activities\n",
    "    activites = df_activity['Activity'].unique()\n",
    "\n",
    "    df_columns = [\n",
    "        'Date',\n",
    "        'Day of activity',\n",
    "        'Weekend or weekday',\n",
    "    ]\n",
    "\n",
    "    for activity in activites:\n",
    "        df_columns.append(f'Total {activity} duration')\n",
    "        df_columns.append(f'Total {activity} frequency')\n",
    "\n",
    "    # Create new dataframe\n",
    "    df_freq = pd.DataFrame(columns=df_columns)\n",
    "\n",
    "    # Convert str to datetime\n",
    "    df_activity['Start time'] = pd.to_datetime(df_activity['Start time'])\n",
    "    start_day = df_activity['Start time'].iloc[0].date()\n",
    "    end_day = df_activity['Start time'].iloc[-1].date()\n",
    "\n",
    "    # Iterate through each day\n",
    "    for day in pd.date_range(start_day, end_day):\n",
    "        date = day.date()\n",
    "        day_of_week = day.day_name()\n",
    "        weekend_or_weekday = 'Weekend' if day_of_week == 'Saturday' or day_of_week == 'Sunday' else 'Weekday'\n",
    "\n",
    "        # Create new row\n",
    "        new_row = {\n",
    "            'Date': date,\n",
    "            'Day of activity': day_of_week,\n",
    "            'Weekend or weekday': weekend_or_weekday,\n",
    "        }\n",
    "        \n",
    "        # Check if day is in dataframe\n",
    "        if date not in df_activity['Start time'].dt.date.unique():\n",
    "            # Add to new row\n",
    "            for activity in activites:\n",
    "                new_row[f'Total {activity} duration'] = 0\n",
    "                new_row[f'Total {activity} frequency'] = 0\n",
    "\n",
    "            # Concatenate new row to dataframe\n",
    "            df_freq = pd.concat([df_freq, pd.DataFrame(new_row, index=[0])], ignore_index=True)\n",
    "            continue\n",
    "\n",
    "        # Iterate through each activity\n",
    "        for activity in activites:\n",
    "            # Filter dataframe by day and activity\n",
    "            df_activity_day = df_activity[df_activity['Start time'].dt.date == date]\n",
    "            df_activity_day = df_activity_day[df_activity_day['Activity'] == activity]\n",
    "\n",
    "            # Calculate total duration and frequency\n",
    "            total_duration = df_activity_day['Duration'].sum()\n",
    "            total_frequency = len(df_activity_day.index)\n",
    "\n",
    "            # Add to new row\n",
    "            new_row[f'Total {activity} duration'] = total_duration\n",
    "            new_row[f'Total {activity} frequency'] = total_frequency\n",
    "\n",
    "        # Concatenate new row to dataframe\n",
    "        df_freq = pd.concat([df_freq, pd.DataFrame(new_row, index=[0])], ignore_index=True)\n",
    "\n",
    "    # Calculate average duration and frequency\n",
    "    df_average = df_freq.copy()\n",
    "    df_average.drop(['Date', 'Day of activity', 'Weekend or weekday'], axis=1, inplace=True)\n",
    "    df_average = df_average.mean(axis=0)\n",
    "\n",
    "    # If average frequency is < 0.25, drop activity\n",
    "    for activity in activites:\n",
    "        if df_average[f'Total {activity} frequency'] < 0.25:\n",
    "            df_freq.drop([f'Total {activity} duration', f'Total {activity} frequency'], axis=1, inplace=True)\n",
    "\n",
    "\n",
    "    # Save dataframe to csv\n",
    "    df_freq.to_csv('Activity_frequency.csv', index=False)\n",
    "\n",
    "    # Save average training day to csv\n",
    "    dff_freq = df_freq[df_freq['Date'] <= pd.to_datetime('2011-07-15').date()]\n",
    "    average_day = dff_freq.drop(['Date', 'Day of activity', 'Weekend or weekday'], axis=1).mean(axis=0)\n",
    "    average_day = pd.DataFrame(average_day).T\n",
    "    average_day.to_csv('Unscaled/average_day.csv', index=False)\n",
    "\n",
    "    # Save average weekend day to csv\n",
    "    dff_freq = df_freq[df_freq['Weekend or weekday'] == 'Weekend']\n",
    "    average_day = dff_freq.drop(['Date', 'Day of activity', 'Weekend or weekday'], axis=1).mean(axis=0)\n",
    "    average_day = pd.DataFrame(average_day).T\n",
    "    average_day.to_csv('Unscaled/average_weekend_day.csv', index=False)\n",
    "\n",
    "    # Save average weekday day to csv\n",
    "    dff_freq = df_freq[df_freq['Weekend or weekday'] == 'Weekday']\n",
    "    average_day = dff_freq.drop(['Date', 'Day of activity', 'Weekend or weekday'], axis=1).mean(axis=0)\n",
    "    average_day = pd.DataFrame(average_day).T\n",
    "    average_day.to_csv('Unscaled/average_weekday_day.csv', index=False)\n",
    "\n",
    "    # Save average day of week to csv\n",
    "    for day in ['Monday', 'Tuesday', 'Wednesday', 'Thursday', 'Friday', 'Saturday', 'Sunday']:\n",
    "        dff_freq = df_freq[df_freq['Day of activity'] == day]\n",
    "        average_day = dff_freq.drop(['Date', 'Day of activity', 'Weekend or weekday'], axis=1).mean(axis=0)\n",
    "        average_day = pd.DataFrame(average_day).T\n",
    "        average_day.to_csv(f'Unscaled/average_{day}_day.csv', index=False)\n",
    "\n",
    "    return df_freq"
   ]
  },
  {
   "cell_type": "code",
   "execution_count": 146,
   "metadata": {},
   "outputs": [
    {
     "name": "stderr",
     "output_type": "stream",
     "text": [
      "C:\\Users\\duppu\\AppData\\Local\\Temp\\ipykernel_18448\\1915056668.py:30: SettingWithCopyWarning:\n",
      "\n",
      "\n",
      "A value is trying to be set on a copy of a slice from a DataFrame\n",
      "\n",
      "See the caveats in the documentation: https://pandas.pydata.org/pandas-docs/stable/user_guide/indexing.html#returning-a-view-versus-a-copy\n",
      "\n",
      "C:\\Users\\duppu\\AppData\\Local\\Temp\\ipykernel_18448\\1915056668.py:31: SettingWithCopyWarning:\n",
      "\n",
      "\n",
      "A value is trying to be set on a copy of a slice from a DataFrame\n",
      "\n",
      "See the caveats in the documentation: https://pandas.pydata.org/pandas-docs/stable/user_guide/indexing.html#returning-a-view-versus-a-copy\n",
      "\n",
      "C:\\Users\\duppu\\AppData\\Local\\Temp\\ipykernel_18448\\1915056668.py:56: SettingWithCopyWarning:\n",
      "\n",
      "\n",
      "A value is trying to be set on a copy of a slice from a DataFrame.\n",
      "Try using .loc[row_indexer,col_indexer] = value instead\n",
      "\n",
      "See the caveats in the documentation: https://pandas.pydata.org/pandas-docs/stable/user_guide/indexing.html#returning-a-view-versus-a-copy\n",
      "\n",
      "C:\\Users\\duppu\\AppData\\Local\\Temp\\ipykernel_18448\\1915056668.py:57: SettingWithCopyWarning:\n",
      "\n",
      "\n",
      "A value is trying to be set on a copy of a slice from a DataFrame.\n",
      "Try using .loc[row_indexer,col_indexer] = value instead\n",
      "\n",
      "See the caveats in the documentation: https://pandas.pydata.org/pandas-docs/stable/user_guide/indexing.html#returning-a-view-versus-a-copy\n",
      "\n",
      "C:\\Users\\duppu\\AppData\\Local\\Temp\\ipykernel_18448\\1915056668.py:58: SettingWithCopyWarning:\n",
      "\n",
      "\n",
      "A value is trying to be set on a copy of a slice from a DataFrame.\n",
      "Try using .loc[row_indexer,col_indexer] = value instead\n",
      "\n",
      "See the caveats in the documentation: https://pandas.pydata.org/pandas-docs/stable/user_guide/indexing.html#returning-a-view-versus-a-copy\n",
      "\n",
      "C:\\Users\\duppu\\AppData\\Local\\Temp\\ipykernel_18448\\1915056668.py:59: SettingWithCopyWarning:\n",
      "\n",
      "\n",
      "A value is trying to be set on a copy of a slice from a DataFrame.\n",
      "Try using .loc[row_indexer,col_indexer] = value instead\n",
      "\n",
      "See the caveats in the documentation: https://pandas.pydata.org/pandas-docs/stable/user_guide/indexing.html#returning-a-view-versus-a-copy\n",
      "\n"
     ]
    }
   ],
   "source": [
    "# Import data\n",
    "df_activity = pd.read_csv('Activity.csv')\n",
    "df_activity = df_activity[df_activity['Activity'] != 'Sleep']\n",
    "df_activity = df_activity[df_activity['Activity'] != 'Other_Activity']\n",
    "\n",
    "df_freq = create_freq_df(df_activity)\n",
    "\n",
    "df_train, df_test = train_test_split(df_freq)\n",
    "\n",
    "standardise(df_train, df_test, 'frequency')"
   ]
  },
  {
   "cell_type": "code",
   "execution_count": 140,
   "metadata": {},
   "outputs": [
    {
     "name": "stdout",
     "output_type": "stream",
     "text": [
      "51\n"
     ]
    },
    {
     "data": {
      "application/vnd.plotly.v1+json": {
       "config": {
        "plotlyServerURL": "https://plot.ly"
       },
       "data": [
        {
         "marker": {
          "color": "rgb(55, 83, 109)"
         },
         "name": "Total Cook_Dinner frequency",
         "offsetgroup": "0",
         "showlegend": false,
         "type": "bar",
         "x": [
          "Cook_Dinner"
         ],
         "xaxis": "x",
         "y": [
          -0.8064516129032258
         ],
         "yaxis": "y"
        },
        {
         "marker": {
          "color": "rgb(26, 118, 255)"
         },
         "name": "Total Cook_Dinner duration",
         "offsetgroup": "1",
         "showlegend": false,
         "type": "bar",
         "x": [
          "Cook_Dinner"
         ],
         "xaxis": "x2",
         "y": [
          -3.529032258064516
         ],
         "yaxis": "y2"
        },
        {
         "marker": {
          "color": "rgb(55, 83, 109)"
         },
         "name": "Total Work_At_Desk frequency",
         "offsetgroup": "0",
         "showlegend": false,
         "type": "bar",
         "x": [
          "Work_At_Desk"
         ],
         "xaxis": "x",
         "y": [
          -0.6774193548387096
         ],
         "yaxis": "y"
        },
        {
         "marker": {
          "color": "rgb(26, 118, 255)"
         },
         "name": "Total Work_At_Desk duration",
         "offsetgroup": "1",
         "showlegend": false,
         "type": "bar",
         "x": [
          "Work_At_Desk"
         ],
         "xaxis": "x2",
         "y": [
          -3.746236559139785
         ],
         "yaxis": "y2"
        },
        {
         "marker": {
          "color": "rgb(55, 83, 109)"
         },
         "name": "Total Eat_Lunch frequency",
         "offsetgroup": "0",
         "showlegend": false,
         "type": "bar",
         "x": [
          "Eat_Lunch"
         ],
         "xaxis": "x",
         "y": [
          -0.3225806451612903
         ],
         "yaxis": "y"
        },
        {
         "marker": {
          "color": "rgb(26, 118, 255)"
         },
         "name": "Total Eat_Lunch duration",
         "offsetgroup": "1",
         "showlegend": false,
         "type": "bar",
         "x": [
          "Eat_Lunch"
         ],
         "xaxis": "x2",
         "y": [
          -3.372043010752688
         ],
         "yaxis": "y2"
        },
        {
         "marker": {
          "color": "rgb(55, 83, 109)"
         },
         "name": "Total Eat_Dinner frequency",
         "offsetgroup": "0",
         "showlegend": false,
         "type": "bar",
         "x": [
          "Eat_Dinner"
         ],
         "xaxis": "x",
         "y": [
          -0.2903225806451613
         ],
         "yaxis": "y"
        },
        {
         "marker": {
          "color": "rgb(26, 118, 255)"
         },
         "name": "Total Eat_Dinner duration",
         "offsetgroup": "1",
         "showlegend": false,
         "type": "bar",
         "x": [
          "Eat_Dinner"
         ],
         "xaxis": "x2",
         "y": [
          -2.070967741935484
         ],
         "yaxis": "y2"
        },
        {
         "marker": {
          "color": "rgb(55, 83, 109)"
         },
         "name": "Total Evening_Meds frequency",
         "offsetgroup": "0",
         "showlegend": false,
         "type": "bar",
         "x": [
          "Evening_Meds"
         ],
         "xaxis": "x",
         "y": [
          -0.3870967741935484
         ],
         "yaxis": "y"
        },
        {
         "marker": {
          "color": "rgb(26, 118, 255)"
         },
         "name": "Total Evening_Meds duration",
         "offsetgroup": "1",
         "showlegend": false,
         "type": "bar",
         "x": [
          "Evening_Meds"
         ],
         "xaxis": "x2",
         "y": [
          -0.593010752688172
         ],
         "yaxis": "y2"
        },
        {
         "marker": {
          "color": "rgb(55, 83, 109)"
         },
         "name": "Total Wash_Dinner_Dishes frequency",
         "offsetgroup": "0",
         "showlegend": false,
         "type": "bar",
         "x": [
          "Wash_Dinner_Dishes"
         ],
         "xaxis": "x",
         "y": [
          -0.5161290322580645
         ],
         "yaxis": "y"
        },
        {
         "marker": {
          "color": "rgb(26, 118, 255)"
         },
         "name": "Total Wash_Dinner_Dishes duration",
         "offsetgroup": "1",
         "showlegend": false,
         "type": "bar",
         "x": [
          "Wash_Dinner_Dishes"
         ],
         "xaxis": "x2",
         "y": [
          -1.2096774193548387
         ],
         "yaxis": "y2"
        },
        {
         "marker": {
          "color": "rgb(55, 83, 109)"
         },
         "name": "Total Cook_Breakfast frequency",
         "offsetgroup": "0",
         "showlegend": false,
         "type": "bar",
         "x": [
          "Cook_Breakfast"
         ],
         "xaxis": "x",
         "y": [
          -0.967741935483871
         ],
         "yaxis": "y"
        },
        {
         "marker": {
          "color": "rgb(26, 118, 255)"
         },
         "name": "Total Cook_Breakfast duration",
         "offsetgroup": "1",
         "showlegend": false,
         "type": "bar",
         "x": [
          "Cook_Breakfast"
         ],
         "xaxis": "x2",
         "y": [
          -3.551075268817204
         ],
         "yaxis": "y2"
        },
        {
         "marker": {
          "color": "rgb(55, 83, 109)"
         },
         "name": "Total Eat_Breakfast frequency",
         "offsetgroup": "0",
         "showlegend": false,
         "type": "bar",
         "x": [
          "Eat_Breakfast"
         ],
         "xaxis": "x",
         "y": [
          -0.7741935483870968
         ],
         "yaxis": "y"
        },
        {
         "marker": {
          "color": "rgb(26, 118, 255)"
         },
         "name": "Total Eat_Breakfast duration",
         "offsetgroup": "1",
         "showlegend": false,
         "type": "bar",
         "x": [
          "Eat_Breakfast"
         ],
         "xaxis": "x2",
         "y": [
          -9.761290322580646
         ],
         "yaxis": "y2"
        },
        {
         "marker": {
          "color": "rgb(55, 83, 109)"
         },
         "name": "Total Leave_Home frequency",
         "offsetgroup": "0",
         "showlegend": false,
         "type": "bar",
         "x": [
          "Leave_Home"
         ],
         "xaxis": "x",
         "y": [
          -0.967741935483871
         ],
         "yaxis": "y"
        },
        {
         "marker": {
          "color": "rgb(26, 118, 255)"
         },
         "name": "Total Leave_Home duration",
         "offsetgroup": "1",
         "showlegend": false,
         "type": "bar",
         "x": [
          "Leave_Home"
         ],
         "xaxis": "x2",
         "y": [
          -1.4505376344086023
         ],
         "yaxis": "y2"
        },
        {
         "marker": {
          "color": "rgb(55, 83, 109)"
         },
         "name": "Total Cook_Lunch frequency",
         "offsetgroup": "0",
         "showlegend": false,
         "type": "bar",
         "x": [
          "Cook_Lunch"
         ],
         "xaxis": "x",
         "y": [
          -0.5483870967741935
         ],
         "yaxis": "y"
        },
        {
         "marker": {
          "color": "rgb(26, 118, 255)"
         },
         "name": "Total Cook_Lunch duration",
         "offsetgroup": "1",
         "showlegend": false,
         "type": "bar",
         "x": [
          "Cook_Lunch"
         ],
         "xaxis": "x2",
         "y": [
          -3.320967741935484
         ],
         "yaxis": "y2"
        },
        {
         "marker": {
          "color": "rgb(55, 83, 109)"
         },
         "name": "Total Read frequency",
         "offsetgroup": "0",
         "showlegend": false,
         "type": "bar",
         "x": [
          "Read"
         ],
         "xaxis": "x",
         "y": [
          -2.096774193548387
         ],
         "yaxis": "y"
        },
        {
         "marker": {
          "color": "rgb(26, 118, 255)"
         },
         "name": "Total Read duration",
         "offsetgroup": "1",
         "showlegend": false,
         "type": "bar",
         "x": [
          "Read"
         ],
         "xaxis": "x2",
         "y": [
          -68.74193548387096
         ],
         "yaxis": "y2"
        },
        {
         "marker": {
          "color": "rgb(55, 83, 109)"
         },
         "name": "Total Dress frequency",
         "offsetgroup": "0",
         "showlegend": false,
         "type": "bar",
         "x": [
          "Dress"
         ],
         "xaxis": "x",
         "y": [
          -3.7096774193548394
         ],
         "yaxis": "y"
        },
        {
         "marker": {
          "color": "rgb(26, 118, 255)"
         },
         "name": "Total Dress duration",
         "offsetgroup": "1",
         "showlegend": false,
         "type": "bar",
         "x": [
          "Dress"
         ],
         "xaxis": "x2",
         "y": [
          -13.066129032258065
         ],
         "yaxis": "y2"
        },
        {
         "marker": {
          "color": "rgb(55, 83, 109)"
         },
         "name": "Total Bathe frequency",
         "offsetgroup": "0",
         "showlegend": false,
         "type": "bar",
         "x": [
          "Bathe"
         ],
         "xaxis": "x",
         "y": [
          -0.3548387096774194
         ],
         "yaxis": "y"
        },
        {
         "marker": {
          "color": "rgb(26, 118, 255)"
         },
         "name": "Total Bathe duration",
         "offsetgroup": "1",
         "showlegend": false,
         "type": "bar",
         "x": [
          "Bathe"
         ],
         "xaxis": "x2",
         "y": [
          -2.4381720430107525
         ],
         "yaxis": "y2"
        },
        {
         "marker": {
          "color": "rgb(55, 83, 109)"
         },
         "name": "Total Step_Out frequency",
         "offsetgroup": "0",
         "showlegend": false,
         "type": "bar",
         "x": [
          "Step_Out"
         ],
         "xaxis": "x",
         "y": [
          -0.6129032258064516
         ],
         "yaxis": "y"
        },
        {
         "marker": {
          "color": "rgb(26, 118, 255)"
         },
         "name": "Total Step_Out duration",
         "offsetgroup": "1",
         "showlegend": false,
         "type": "bar",
         "x": [
          "Step_Out"
         ],
         "xaxis": "x2",
         "y": [
          -1.898924731182796
         ],
         "yaxis": "y2"
        },
        {
         "marker": {
          "color": "rgb(55, 83, 109)"
         },
         "name": "Total Work_On_Computer frequency",
         "offsetgroup": "0",
         "showlegend": false,
         "type": "bar",
         "x": [
          "Work_On_Computer"
         ],
         "xaxis": "x",
         "y": [
          -6.935483870967742
         ],
         "yaxis": "y"
        },
        {
         "marker": {
          "color": "rgb(26, 118, 255)"
         },
         "name": "Total Work_On_Computer duration",
         "offsetgroup": "1",
         "showlegend": false,
         "type": "bar",
         "x": [
          "Work_On_Computer"
         ],
         "xaxis": "x2",
         "y": [
          -213.19301075268817
         ],
         "yaxis": "y2"
        },
        {
         "marker": {
          "color": "rgb(55, 83, 109)"
         },
         "name": "Total Toilet frequency",
         "offsetgroup": "0",
         "showlegend": false,
         "type": "bar",
         "x": [
          "Toilet"
         ],
         "xaxis": "x",
         "y": [
          -2.161290322580645
         ],
         "yaxis": "y"
        },
        {
         "marker": {
          "color": "rgb(26, 118, 255)"
         },
         "name": "Total Toilet duration",
         "offsetgroup": "1",
         "showlegend": false,
         "type": "bar",
         "x": [
          "Toilet"
         ],
         "xaxis": "x2",
         "y": [
          -4.720967741935484
         ],
         "yaxis": "y2"
        },
        {
         "marker": {
          "color": "rgb(55, 83, 109)"
         },
         "name": "Total Wash_Dishes frequency",
         "offsetgroup": "0",
         "showlegend": false,
         "type": "bar",
         "x": [
          "Wash_Dishes"
         ],
         "xaxis": "x",
         "y": [
          -0.6451612903225806
         ],
         "yaxis": "y"
        },
        {
         "marker": {
          "color": "rgb(26, 118, 255)"
         },
         "name": "Total Wash_Dishes duration",
         "offsetgroup": "1",
         "showlegend": false,
         "type": "bar",
         "x": [
          "Wash_Dishes"
         ],
         "xaxis": "x2",
         "y": [
          -1.9016129032258065
         ],
         "yaxis": "y2"
        },
        {
         "marker": {
          "color": "rgb(55, 83, 109)"
         },
         "name": "Total Personal_Hygiene frequency",
         "offsetgroup": "0",
         "showlegend": false,
         "type": "bar",
         "x": [
          "Personal_Hygiene"
         ],
         "xaxis": "x",
         "y": [
          -2.3225806451612905
         ],
         "yaxis": "y"
        },
        {
         "marker": {
          "color": "rgb(26, 118, 255)"
         },
         "name": "Total Personal_Hygiene duration",
         "offsetgroup": "1",
         "showlegend": false,
         "type": "bar",
         "x": [
          "Personal_Hygiene"
         ],
         "xaxis": "x2",
         "y": [
          -12.697311827956987
         ],
         "yaxis": "y2"
        },
        {
         "marker": {
          "color": "rgb(55, 83, 109)"
         },
         "name": "Total Work frequency",
         "offsetgroup": "0",
         "showlegend": false,
         "type": "bar",
         "x": [
          "Work"
         ],
         "xaxis": "x",
         "y": [
          -0.2903225806451613
         ],
         "yaxis": "y"
        },
        {
         "marker": {
          "color": "rgb(26, 118, 255)"
         },
         "name": "Total Work duration",
         "offsetgroup": "1",
         "showlegend": false,
         "type": "bar",
         "x": [
          "Work"
         ],
         "xaxis": "x2",
         "y": [
          -0.782258064516129
         ],
         "yaxis": "y2"
        },
        {
         "marker": {
          "color": "rgb(55, 83, 109)"
         },
         "name": "Total Drink frequency",
         "offsetgroup": "0",
         "showlegend": false,
         "type": "bar",
         "x": [
          "Drink"
         ],
         "xaxis": "x",
         "y": [
          -0.4193548387096775
         ],
         "yaxis": "y"
        },
        {
         "marker": {
          "color": "rgb(26, 118, 255)"
         },
         "name": "Total Drink duration",
         "offsetgroup": "1",
         "showlegend": false,
         "type": "bar",
         "x": [
          "Drink"
         ],
         "xaxis": "x2",
         "y": [
          -0.5268817204301075
         ],
         "yaxis": "y2"
        },
        {
         "marker": {
          "color": "rgb(55, 83, 109)"
         },
         "name": "Total Groom frequency",
         "offsetgroup": "0",
         "showlegend": false,
         "type": "bar",
         "x": [
          "Groom"
         ],
         "xaxis": "x",
         "y": [
          -1.032258064516129
         ],
         "yaxis": "y"
        },
        {
         "marker": {
          "color": "rgb(26, 118, 255)"
         },
         "name": "Total Groom duration",
         "offsetgroup": "1",
         "showlegend": false,
         "type": "bar",
         "x": [
          "Groom"
         ],
         "xaxis": "x2",
         "y": [
          -4.098387096774194
         ],
         "yaxis": "y2"
        },
        {
         "marker": {
          "color": "rgb(55, 83, 109)"
         },
         "name": "Total Wash_Breakfast_Dishes frequency",
         "offsetgroup": "0",
         "showlegend": false,
         "type": "bar",
         "x": [
          "Wash_Breakfast_Dishes"
         ],
         "xaxis": "x",
         "y": [
          -0.4838709677419355
         ],
         "yaxis": "y"
        },
        {
         "marker": {
          "color": "rgb(26, 118, 255)"
         },
         "name": "Total Wash_Breakfast_Dishes duration",
         "offsetgroup": "1",
         "showlegend": false,
         "type": "bar",
         "x": [
          "Wash_Breakfast_Dishes"
         ],
         "xaxis": "x2",
         "y": [
          -0.868279569892473
         ],
         "yaxis": "y2"
        },
        {
         "marker": {
          "color": "rgb(55, 83, 109)"
         },
         "name": "Total Entertain_Guests frequency",
         "offsetgroup": "0",
         "showlegend": false,
         "type": "bar",
         "x": [
          "Entertain_Guests"
         ],
         "xaxis": "x",
         "y": [
          3.7096774193548385
         ],
         "yaxis": "y"
        },
        {
         "marker": {
          "color": "rgb(26, 118, 255)"
         },
         "name": "Total Entertain_Guests duration",
         "offsetgroup": "1",
         "showlegend": false,
         "type": "bar",
         "x": [
          "Entertain_Guests"
         ],
         "xaxis": "x2",
         "y": [
          1296.659677419355
         ],
         "yaxis": "y2"
        },
        {
         "marker": {
          "color": "rgb(55, 83, 109)"
         },
         "name": "Total Watch_TV frequency",
         "offsetgroup": "0",
         "showlegend": false,
         "type": "bar",
         "x": [
          "Watch_TV"
         ],
         "xaxis": "x",
         "y": [
          -2
         ],
         "yaxis": "y"
        },
        {
         "marker": {
          "color": "rgb(26, 118, 255)"
         },
         "name": "Total Watch_TV duration",
         "offsetgroup": "1",
         "showlegend": false,
         "type": "bar",
         "x": [
          "Watch_TV"
         ],
         "xaxis": "x2",
         "y": [
          -64.0951612903226
         ],
         "yaxis": "y2"
        }
       ],
       "layout": {
        "barmode": "group",
        "template": {
         "data": {
          "bar": [
           {
            "error_x": {
             "color": "#2a3f5f"
            },
            "error_y": {
             "color": "#2a3f5f"
            },
            "marker": {
             "line": {
              "color": "#E5ECF6",
              "width": 0.5
             },
             "pattern": {
              "fillmode": "overlay",
              "size": 10,
              "solidity": 0.2
             }
            },
            "type": "bar"
           }
          ],
          "barpolar": [
           {
            "marker": {
             "line": {
              "color": "#E5ECF6",
              "width": 0.5
             },
             "pattern": {
              "fillmode": "overlay",
              "size": 10,
              "solidity": 0.2
             }
            },
            "type": "barpolar"
           }
          ],
          "carpet": [
           {
            "aaxis": {
             "endlinecolor": "#2a3f5f",
             "gridcolor": "white",
             "linecolor": "white",
             "minorgridcolor": "white",
             "startlinecolor": "#2a3f5f"
            },
            "baxis": {
             "endlinecolor": "#2a3f5f",
             "gridcolor": "white",
             "linecolor": "white",
             "minorgridcolor": "white",
             "startlinecolor": "#2a3f5f"
            },
            "type": "carpet"
           }
          ],
          "choropleth": [
           {
            "colorbar": {
             "outlinewidth": 0,
             "ticks": ""
            },
            "type": "choropleth"
           }
          ],
          "contour": [
           {
            "colorbar": {
             "outlinewidth": 0,
             "ticks": ""
            },
            "colorscale": [
             [
              0,
              "#0d0887"
             ],
             [
              0.1111111111111111,
              "#46039f"
             ],
             [
              0.2222222222222222,
              "#7201a8"
             ],
             [
              0.3333333333333333,
              "#9c179e"
             ],
             [
              0.4444444444444444,
              "#bd3786"
             ],
             [
              0.5555555555555556,
              "#d8576b"
             ],
             [
              0.6666666666666666,
              "#ed7953"
             ],
             [
              0.7777777777777778,
              "#fb9f3a"
             ],
             [
              0.8888888888888888,
              "#fdca26"
             ],
             [
              1,
              "#f0f921"
             ]
            ],
            "type": "contour"
           }
          ],
          "contourcarpet": [
           {
            "colorbar": {
             "outlinewidth": 0,
             "ticks": ""
            },
            "type": "contourcarpet"
           }
          ],
          "heatmap": [
           {
            "colorbar": {
             "outlinewidth": 0,
             "ticks": ""
            },
            "colorscale": [
             [
              0,
              "#0d0887"
             ],
             [
              0.1111111111111111,
              "#46039f"
             ],
             [
              0.2222222222222222,
              "#7201a8"
             ],
             [
              0.3333333333333333,
              "#9c179e"
             ],
             [
              0.4444444444444444,
              "#bd3786"
             ],
             [
              0.5555555555555556,
              "#d8576b"
             ],
             [
              0.6666666666666666,
              "#ed7953"
             ],
             [
              0.7777777777777778,
              "#fb9f3a"
             ],
             [
              0.8888888888888888,
              "#fdca26"
             ],
             [
              1,
              "#f0f921"
             ]
            ],
            "type": "heatmap"
           }
          ],
          "heatmapgl": [
           {
            "colorbar": {
             "outlinewidth": 0,
             "ticks": ""
            },
            "colorscale": [
             [
              0,
              "#0d0887"
             ],
             [
              0.1111111111111111,
              "#46039f"
             ],
             [
              0.2222222222222222,
              "#7201a8"
             ],
             [
              0.3333333333333333,
              "#9c179e"
             ],
             [
              0.4444444444444444,
              "#bd3786"
             ],
             [
              0.5555555555555556,
              "#d8576b"
             ],
             [
              0.6666666666666666,
              "#ed7953"
             ],
             [
              0.7777777777777778,
              "#fb9f3a"
             ],
             [
              0.8888888888888888,
              "#fdca26"
             ],
             [
              1,
              "#f0f921"
             ]
            ],
            "type": "heatmapgl"
           }
          ],
          "histogram": [
           {
            "marker": {
             "pattern": {
              "fillmode": "overlay",
              "size": 10,
              "solidity": 0.2
             }
            },
            "type": "histogram"
           }
          ],
          "histogram2d": [
           {
            "colorbar": {
             "outlinewidth": 0,
             "ticks": ""
            },
            "colorscale": [
             [
              0,
              "#0d0887"
             ],
             [
              0.1111111111111111,
              "#46039f"
             ],
             [
              0.2222222222222222,
              "#7201a8"
             ],
             [
              0.3333333333333333,
              "#9c179e"
             ],
             [
              0.4444444444444444,
              "#bd3786"
             ],
             [
              0.5555555555555556,
              "#d8576b"
             ],
             [
              0.6666666666666666,
              "#ed7953"
             ],
             [
              0.7777777777777778,
              "#fb9f3a"
             ],
             [
              0.8888888888888888,
              "#fdca26"
             ],
             [
              1,
              "#f0f921"
             ]
            ],
            "type": "histogram2d"
           }
          ],
          "histogram2dcontour": [
           {
            "colorbar": {
             "outlinewidth": 0,
             "ticks": ""
            },
            "colorscale": [
             [
              0,
              "#0d0887"
             ],
             [
              0.1111111111111111,
              "#46039f"
             ],
             [
              0.2222222222222222,
              "#7201a8"
             ],
             [
              0.3333333333333333,
              "#9c179e"
             ],
             [
              0.4444444444444444,
              "#bd3786"
             ],
             [
              0.5555555555555556,
              "#d8576b"
             ],
             [
              0.6666666666666666,
              "#ed7953"
             ],
             [
              0.7777777777777778,
              "#fb9f3a"
             ],
             [
              0.8888888888888888,
              "#fdca26"
             ],
             [
              1,
              "#f0f921"
             ]
            ],
            "type": "histogram2dcontour"
           }
          ],
          "mesh3d": [
           {
            "colorbar": {
             "outlinewidth": 0,
             "ticks": ""
            },
            "type": "mesh3d"
           }
          ],
          "parcoords": [
           {
            "line": {
             "colorbar": {
              "outlinewidth": 0,
              "ticks": ""
             }
            },
            "type": "parcoords"
           }
          ],
          "pie": [
           {
            "automargin": true,
            "type": "pie"
           }
          ],
          "scatter": [
           {
            "fillpattern": {
             "fillmode": "overlay",
             "size": 10,
             "solidity": 0.2
            },
            "type": "scatter"
           }
          ],
          "scatter3d": [
           {
            "line": {
             "colorbar": {
              "outlinewidth": 0,
              "ticks": ""
             }
            },
            "marker": {
             "colorbar": {
              "outlinewidth": 0,
              "ticks": ""
             }
            },
            "type": "scatter3d"
           }
          ],
          "scattercarpet": [
           {
            "marker": {
             "colorbar": {
              "outlinewidth": 0,
              "ticks": ""
             }
            },
            "type": "scattercarpet"
           }
          ],
          "scattergeo": [
           {
            "marker": {
             "colorbar": {
              "outlinewidth": 0,
              "ticks": ""
             }
            },
            "type": "scattergeo"
           }
          ],
          "scattergl": [
           {
            "marker": {
             "colorbar": {
              "outlinewidth": 0,
              "ticks": ""
             }
            },
            "type": "scattergl"
           }
          ],
          "scattermapbox": [
           {
            "marker": {
             "colorbar": {
              "outlinewidth": 0,
              "ticks": ""
             }
            },
            "type": "scattermapbox"
           }
          ],
          "scatterpolar": [
           {
            "marker": {
             "colorbar": {
              "outlinewidth": 0,
              "ticks": ""
             }
            },
            "type": "scatterpolar"
           }
          ],
          "scatterpolargl": [
           {
            "marker": {
             "colorbar": {
              "outlinewidth": 0,
              "ticks": ""
             }
            },
            "type": "scatterpolargl"
           }
          ],
          "scatterternary": [
           {
            "marker": {
             "colorbar": {
              "outlinewidth": 0,
              "ticks": ""
             }
            },
            "type": "scatterternary"
           }
          ],
          "surface": [
           {
            "colorbar": {
             "outlinewidth": 0,
             "ticks": ""
            },
            "colorscale": [
             [
              0,
              "#0d0887"
             ],
             [
              0.1111111111111111,
              "#46039f"
             ],
             [
              0.2222222222222222,
              "#7201a8"
             ],
             [
              0.3333333333333333,
              "#9c179e"
             ],
             [
              0.4444444444444444,
              "#bd3786"
             ],
             [
              0.5555555555555556,
              "#d8576b"
             ],
             [
              0.6666666666666666,
              "#ed7953"
             ],
             [
              0.7777777777777778,
              "#fb9f3a"
             ],
             [
              0.8888888888888888,
              "#fdca26"
             ],
             [
              1,
              "#f0f921"
             ]
            ],
            "type": "surface"
           }
          ],
          "table": [
           {
            "cells": {
             "fill": {
              "color": "#EBF0F8"
             },
             "line": {
              "color": "white"
             }
            },
            "header": {
             "fill": {
              "color": "#C8D4E3"
             },
             "line": {
              "color": "white"
             }
            },
            "type": "table"
           }
          ]
         },
         "layout": {
          "annotationdefaults": {
           "arrowcolor": "#2a3f5f",
           "arrowhead": 0,
           "arrowwidth": 1
          },
          "autotypenumbers": "strict",
          "coloraxis": {
           "colorbar": {
            "outlinewidth": 0,
            "ticks": ""
           }
          },
          "colorscale": {
           "diverging": [
            [
             0,
             "#8e0152"
            ],
            [
             0.1,
             "#c51b7d"
            ],
            [
             0.2,
             "#de77ae"
            ],
            [
             0.3,
             "#f1b6da"
            ],
            [
             0.4,
             "#fde0ef"
            ],
            [
             0.5,
             "#f7f7f7"
            ],
            [
             0.6,
             "#e6f5d0"
            ],
            [
             0.7,
             "#b8e186"
            ],
            [
             0.8,
             "#7fbc41"
            ],
            [
             0.9,
             "#4d9221"
            ],
            [
             1,
             "#276419"
            ]
           ],
           "sequential": [
            [
             0,
             "#0d0887"
            ],
            [
             0.1111111111111111,
             "#46039f"
            ],
            [
             0.2222222222222222,
             "#7201a8"
            ],
            [
             0.3333333333333333,
             "#9c179e"
            ],
            [
             0.4444444444444444,
             "#bd3786"
            ],
            [
             0.5555555555555556,
             "#d8576b"
            ],
            [
             0.6666666666666666,
             "#ed7953"
            ],
            [
             0.7777777777777778,
             "#fb9f3a"
            ],
            [
             0.8888888888888888,
             "#fdca26"
            ],
            [
             1,
             "#f0f921"
            ]
           ],
           "sequentialminus": [
            [
             0,
             "#0d0887"
            ],
            [
             0.1111111111111111,
             "#46039f"
            ],
            [
             0.2222222222222222,
             "#7201a8"
            ],
            [
             0.3333333333333333,
             "#9c179e"
            ],
            [
             0.4444444444444444,
             "#bd3786"
            ],
            [
             0.5555555555555556,
             "#d8576b"
            ],
            [
             0.6666666666666666,
             "#ed7953"
            ],
            [
             0.7777777777777778,
             "#fb9f3a"
            ],
            [
             0.8888888888888888,
             "#fdca26"
            ],
            [
             1,
             "#f0f921"
            ]
           ]
          },
          "colorway": [
           "#636efa",
           "#EF553B",
           "#00cc96",
           "#ab63fa",
           "#FFA15A",
           "#19d3f3",
           "#FF6692",
           "#B6E880",
           "#FF97FF",
           "#FECB52"
          ],
          "font": {
           "color": "#2a3f5f"
          },
          "geo": {
           "bgcolor": "white",
           "lakecolor": "white",
           "landcolor": "#E5ECF6",
           "showlakes": true,
           "showland": true,
           "subunitcolor": "white"
          },
          "hoverlabel": {
           "align": "left"
          },
          "hovermode": "closest",
          "mapbox": {
           "style": "light"
          },
          "paper_bgcolor": "white",
          "plot_bgcolor": "#E5ECF6",
          "polar": {
           "angularaxis": {
            "gridcolor": "white",
            "linecolor": "white",
            "ticks": ""
           },
           "bgcolor": "#E5ECF6",
           "radialaxis": {
            "gridcolor": "white",
            "linecolor": "white",
            "ticks": ""
           }
          },
          "scene": {
           "xaxis": {
            "backgroundcolor": "#E5ECF6",
            "gridcolor": "white",
            "gridwidth": 2,
            "linecolor": "white",
            "showbackground": true,
            "ticks": "",
            "zerolinecolor": "white"
           },
           "yaxis": {
            "backgroundcolor": "#E5ECF6",
            "gridcolor": "white",
            "gridwidth": 2,
            "linecolor": "white",
            "showbackground": true,
            "ticks": "",
            "zerolinecolor": "white"
           },
           "zaxis": {
            "backgroundcolor": "#E5ECF6",
            "gridcolor": "white",
            "gridwidth": 2,
            "linecolor": "white",
            "showbackground": true,
            "ticks": "",
            "zerolinecolor": "white"
           }
          },
          "shapedefaults": {
           "line": {
            "color": "#2a3f5f"
           }
          },
          "ternary": {
           "aaxis": {
            "gridcolor": "white",
            "linecolor": "white",
            "ticks": ""
           },
           "baxis": {
            "gridcolor": "white",
            "linecolor": "white",
            "ticks": ""
           },
           "bgcolor": "#E5ECF6",
           "caxis": {
            "gridcolor": "white",
            "linecolor": "white",
            "ticks": ""
           }
          },
          "title": {
           "x": 0.05
          },
          "xaxis": {
           "automargin": true,
           "gridcolor": "white",
           "linecolor": "white",
           "ticks": "",
           "title": {
            "standoff": 15
           },
           "zerolinecolor": "white",
           "zerolinewidth": 2
          },
          "yaxis": {
           "automargin": true,
           "gridcolor": "white",
           "linecolor": "white",
           "ticks": "",
           "title": {
            "standoff": 15
           },
           "zerolinecolor": "white",
           "zerolinewidth": 2
          }
         }
        },
        "xaxis": {
         "anchor": "y",
         "domain": [
          0,
          0.45
         ],
         "tickangle": -45,
         "title": {
          "text": "Activity"
         }
        },
        "xaxis2": {
         "anchor": "y2",
         "domain": [
          0.55,
          1
         ],
         "tickangle": -45
        },
        "yaxis": {
         "anchor": "x",
         "domain": [
          0,
          1
         ],
         "title": {
          "text": "Frequency"
         }
        },
        "yaxis2": {
         "anchor": "x2",
         "domain": [
          0,
          1
         ],
         "title": {
          "text": "Duration"
         }
        }
       }
      }
     },
     "metadata": {},
     "output_type": "display_data"
    },
    {
     "data": {
      "application/vnd.plotly.v1+json": {
       "config": {
        "plotlyServerURL": "https://plot.ly"
       },
       "data": [
        {
         "marker": {
          "color": "rgb(55, 83, 109)"
         },
         "name": "Total Cook_Dinner frequency",
         "offsetgroup": "0",
         "showlegend": false,
         "type": "bar",
         "x": [
          "Cook_Dinner"
         ],
         "xaxis": "x",
         "y": [
          1.1935483870967742
         ],
         "yaxis": "y"
        },
        {
         "marker": {
          "color": "rgb(26, 118, 255)"
         },
         "name": "Total Cook_Dinner duration",
         "offsetgroup": "1",
         "showlegend": false,
         "type": "bar",
         "x": [
          "Cook_Dinner"
         ],
         "xaxis": "x2",
         "y": [
          2.470967741935484
         ],
         "yaxis": "y2"
        },
        {
         "marker": {
          "color": "rgb(55, 83, 109)"
         },
         "name": "Total Work_At_Desk frequency",
         "offsetgroup": "0",
         "showlegend": false,
         "type": "bar",
         "x": [
          "Work_At_Desk"
         ],
         "xaxis": "x",
         "y": [
          1.3225806451612905
         ],
         "yaxis": "y"
        },
        {
         "marker": {
          "color": "rgb(26, 118, 255)"
         },
         "name": "Total Work_At_Desk duration",
         "offsetgroup": "1",
         "showlegend": false,
         "type": "bar",
         "x": [
          "Work_At_Desk"
         ],
         "xaxis": "x2",
         "y": [
          3.4037634408602155
         ],
         "yaxis": "y2"
        },
        {
         "marker": {
          "color": "rgb(55, 83, 109)"
         },
         "name": "Total Eat_Lunch frequency",
         "offsetgroup": "0",
         "showlegend": false,
         "type": "bar",
         "x": [
          "Eat_Lunch"
         ],
         "xaxis": "x",
         "y": [
          -0.3225806451612903
         ],
         "yaxis": "y"
        },
        {
         "marker": {
          "color": "rgb(26, 118, 255)"
         },
         "name": "Total Eat_Lunch duration",
         "offsetgroup": "1",
         "showlegend": false,
         "type": "bar",
         "x": [
          "Eat_Lunch"
         ],
         "xaxis": "x2",
         "y": [
          -3.372043010752688
         ],
         "yaxis": "y2"
        },
        {
         "marker": {
          "color": "rgb(55, 83, 109)"
         },
         "name": "Total Eat_Dinner frequency",
         "offsetgroup": "0",
         "showlegend": false,
         "type": "bar",
         "x": [
          "Eat_Dinner"
         ],
         "xaxis": "x",
         "y": [
          -0.2903225806451613
         ],
         "yaxis": "y"
        },
        {
         "marker": {
          "color": "rgb(26, 118, 255)"
         },
         "name": "Total Eat_Dinner duration",
         "offsetgroup": "1",
         "showlegend": false,
         "type": "bar",
         "x": [
          "Eat_Dinner"
         ],
         "xaxis": "x2",
         "y": [
          -2.070967741935484
         ],
         "yaxis": "y2"
        },
        {
         "marker": {
          "color": "rgb(55, 83, 109)"
         },
         "name": "Total Evening_Meds frequency",
         "offsetgroup": "0",
         "showlegend": false,
         "type": "bar",
         "x": [
          "Evening_Meds"
         ],
         "xaxis": "x",
         "y": [
          0.6129032258064516
         ],
         "yaxis": "y"
        },
        {
         "marker": {
          "color": "rgb(26, 118, 255)"
         },
         "name": "Total Evening_Meds duration",
         "offsetgroup": "1",
         "showlegend": false,
         "type": "bar",
         "x": [
          "Evening_Meds"
         ],
         "xaxis": "x2",
         "y": [
          1.1236559139784945
         ],
         "yaxis": "y2"
        },
        {
         "marker": {
          "color": "rgb(55, 83, 109)"
         },
         "name": "Total Wash_Dinner_Dishes frequency",
         "offsetgroup": "0",
         "showlegend": false,
         "type": "bar",
         "x": [
          "Wash_Dinner_Dishes"
         ],
         "xaxis": "x",
         "y": [
          0.4838709677419355
         ],
         "yaxis": "y"
        },
        {
         "marker": {
          "color": "rgb(26, 118, 255)"
         },
         "name": "Total Wash_Dinner_Dishes duration",
         "offsetgroup": "1",
         "showlegend": false,
         "type": "bar",
         "x": [
          "Wash_Dinner_Dishes"
         ],
         "xaxis": "x2",
         "y": [
          0.7403225806451612
         ],
         "yaxis": "y2"
        },
        {
         "marker": {
          "color": "rgb(55, 83, 109)"
         },
         "name": "Total Cook_Breakfast frequency",
         "offsetgroup": "0",
         "showlegend": false,
         "type": "bar",
         "x": [
          "Cook_Breakfast"
         ],
         "xaxis": "x",
         "y": [
          0.032258064516129004
         ],
         "yaxis": "y"
        },
        {
         "marker": {
          "color": "rgb(26, 118, 255)"
         },
         "name": "Total Cook_Breakfast duration",
         "offsetgroup": "1",
         "showlegend": false,
         "type": "bar",
         "x": [
          "Cook_Breakfast"
         ],
         "xaxis": "x2",
         "y": [
          -1.867741935483871
         ],
         "yaxis": "y2"
        },
        {
         "marker": {
          "color": "rgb(55, 83, 109)"
         },
         "name": "Total Eat_Breakfast frequency",
         "offsetgroup": "0",
         "showlegend": false,
         "type": "bar",
         "x": [
          "Eat_Breakfast"
         ],
         "xaxis": "x",
         "y": [
          0.22580645161290325
         ],
         "yaxis": "y"
        },
        {
         "marker": {
          "color": "rgb(26, 118, 255)"
         },
         "name": "Total Eat_Breakfast duration",
         "offsetgroup": "1",
         "showlegend": false,
         "type": "bar",
         "x": [
          "Eat_Breakfast"
         ],
         "xaxis": "x2",
         "y": [
          -0.744623655913978
         ],
         "yaxis": "y2"
        },
        {
         "marker": {
          "color": "rgb(55, 83, 109)"
         },
         "name": "Total Leave_Home frequency",
         "offsetgroup": "0",
         "showlegend": false,
         "type": "bar",
         "x": [
          "Leave_Home"
         ],
         "xaxis": "x",
         "y": [
          -0.967741935483871
         ],
         "yaxis": "y"
        },
        {
         "marker": {
          "color": "rgb(26, 118, 255)"
         },
         "name": "Total Leave_Home duration",
         "offsetgroup": "1",
         "showlegend": false,
         "type": "bar",
         "x": [
          "Leave_Home"
         ],
         "xaxis": "x2",
         "y": [
          -4.233870967741936
         ],
         "yaxis": "y2"
        },
        {
         "marker": {
          "color": "rgb(55, 83, 109)"
         },
         "name": "Total Cook_Lunch frequency",
         "offsetgroup": "0",
         "showlegend": false,
         "type": "bar",
         "x": [
          "Cook_Lunch"
         ],
         "xaxis": "x",
         "y": [
          -0.5483870967741935
         ],
         "yaxis": "y"
        },
        {
         "marker": {
          "color": "rgb(26, 118, 255)"
         },
         "name": "Total Cook_Lunch duration",
         "offsetgroup": "1",
         "showlegend": false,
         "type": "bar",
         "x": [
          "Cook_Lunch"
         ],
         "xaxis": "x2",
         "y": [
          -3.320967741935484
         ],
         "yaxis": "y2"
        },
        {
         "marker": {
          "color": "rgb(55, 83, 109)"
         },
         "name": "Total Read frequency",
         "offsetgroup": "0",
         "showlegend": false,
         "type": "bar",
         "x": [
          "Read"
         ],
         "xaxis": "x",
         "y": [
          -0.09677419354838701
         ],
         "yaxis": "y"
        },
        {
         "marker": {
          "color": "rgb(26, 118, 255)"
         },
         "name": "Total Read duration",
         "offsetgroup": "1",
         "showlegend": false,
         "type": "bar",
         "x": [
          "Read"
         ],
         "xaxis": "x2",
         "y": [
          37.79139784946237
         ],
         "yaxis": "y2"
        },
        {
         "marker": {
          "color": "rgb(55, 83, 109)"
         },
         "name": "Total Dress frequency",
         "offsetgroup": "0",
         "showlegend": false,
         "type": "bar",
         "x": [
          "Dress"
         ],
         "xaxis": "x",
         "y": [
          -0.7096774193548394
         ],
         "yaxis": "y"
        },
        {
         "marker": {
          "color": "rgb(26, 118, 255)"
         },
         "name": "Total Dress duration",
         "offsetgroup": "1",
         "showlegend": false,
         "type": "bar",
         "x": [
          "Dress"
         ],
         "xaxis": "x2",
         "y": [
          -0.49946236559139834
         ],
         "yaxis": "y2"
        },
        {
         "marker": {
          "color": "rgb(55, 83, 109)"
         },
         "name": "Total Bathe frequency",
         "offsetgroup": "0",
         "showlegend": false,
         "type": "bar",
         "x": [
          "Bathe"
         ],
         "xaxis": "x",
         "y": [
          -0.3548387096774194
         ],
         "yaxis": "y"
        },
        {
         "marker": {
          "color": "rgb(26, 118, 255)"
         },
         "name": "Total Bathe duration",
         "offsetgroup": "1",
         "showlegend": false,
         "type": "bar",
         "x": [
          "Bathe"
         ],
         "xaxis": "x2",
         "y": [
          -2.4381720430107525
         ],
         "yaxis": "y2"
        },
        {
         "marker": {
          "color": "rgb(55, 83, 109)"
         },
         "name": "Total Step_Out frequency",
         "offsetgroup": "0",
         "showlegend": false,
         "type": "bar",
         "x": [
          "Step_Out"
         ],
         "xaxis": "x",
         "y": [
          0.3870967741935484
         ],
         "yaxis": "y"
        },
        {
         "marker": {
          "color": "rgb(26, 118, 255)"
         },
         "name": "Total Step_Out duration",
         "offsetgroup": "1",
         "showlegend": false,
         "type": "bar",
         "x": [
          "Step_Out"
         ],
         "xaxis": "x2",
         "y": [
          3.301075268817204
         ],
         "yaxis": "y2"
        },
        {
         "marker": {
          "color": "rgb(55, 83, 109)"
         },
         "name": "Total Work_On_Computer frequency",
         "offsetgroup": "0",
         "showlegend": false,
         "type": "bar",
         "x": [
          "Work_On_Computer"
         ],
         "xaxis": "x",
         "y": [
          0.06451612903225801
         ],
         "yaxis": "y"
        },
        {
         "marker": {
          "color": "rgb(26, 118, 255)"
         },
         "name": "Total Work_On_Computer duration",
         "offsetgroup": "1",
         "showlegend": false,
         "type": "bar",
         "x": [
          "Work_On_Computer"
         ],
         "xaxis": "x2",
         "y": [
          -87.14301075268816
         ],
         "yaxis": "y2"
        },
        {
         "marker": {
          "color": "rgb(55, 83, 109)"
         },
         "name": "Total Toilet frequency",
         "offsetgroup": "0",
         "showlegend": false,
         "type": "bar",
         "x": [
          "Toilet"
         ],
         "xaxis": "x",
         "y": [
          -0.16129032258064502
         ],
         "yaxis": "y"
        },
        {
         "marker": {
          "color": "rgb(26, 118, 255)"
         },
         "name": "Total Toilet duration",
         "offsetgroup": "1",
         "showlegend": false,
         "type": "bar",
         "x": [
          "Toilet"
         ],
         "xaxis": "x2",
         "y": [
          -0.054301075268817556
         ],
         "yaxis": "y2"
        },
        {
         "marker": {
          "color": "rgb(55, 83, 109)"
         },
         "name": "Total Wash_Dishes frequency",
         "offsetgroup": "0",
         "showlegend": false,
         "type": "bar",
         "x": [
          "Wash_Dishes"
         ],
         "xaxis": "x",
         "y": [
          1.3548387096774195
         ],
         "yaxis": "y"
        },
        {
         "marker": {
          "color": "rgb(26, 118, 255)"
         },
         "name": "Total Wash_Dishes duration",
         "offsetgroup": "1",
         "showlegend": false,
         "type": "bar",
         "x": [
          "Wash_Dishes"
         ],
         "xaxis": "x2",
         "y": [
          4.71505376344086
         ],
         "yaxis": "y2"
        },
        {
         "marker": {
          "color": "rgb(55, 83, 109)"
         },
         "name": "Total Personal_Hygiene frequency",
         "offsetgroup": "0",
         "showlegend": false,
         "type": "bar",
         "x": [
          "Personal_Hygiene"
         ],
         "xaxis": "x",
         "y": [
          1.6774193548387095
         ],
         "yaxis": "y"
        },
        {
         "marker": {
          "color": "rgb(26, 118, 255)"
         },
         "name": "Total Personal_Hygiene duration",
         "offsetgroup": "1",
         "showlegend": false,
         "type": "bar",
         "x": [
          "Personal_Hygiene"
         ],
         "xaxis": "x2",
         "y": [
          7.21935483870968
         ],
         "yaxis": "y2"
        },
        {
         "marker": {
          "color": "rgb(55, 83, 109)"
         },
         "name": "Total Work frequency",
         "offsetgroup": "0",
         "showlegend": false,
         "type": "bar",
         "x": [
          "Work"
         ],
         "xaxis": "x",
         "y": [
          -0.2903225806451613
         ],
         "yaxis": "y"
        },
        {
         "marker": {
          "color": "rgb(26, 118, 255)"
         },
         "name": "Total Work duration",
         "offsetgroup": "1",
         "showlegend": false,
         "type": "bar",
         "x": [
          "Work"
         ],
         "xaxis": "x2",
         "y": [
          -0.782258064516129
         ],
         "yaxis": "y2"
        },
        {
         "marker": {
          "color": "rgb(55, 83, 109)"
         },
         "name": "Total Drink frequency",
         "offsetgroup": "0",
         "showlegend": false,
         "type": "bar",
         "x": [
          "Drink"
         ],
         "xaxis": "x",
         "y": [
          -0.4193548387096775
         ],
         "yaxis": "y"
        },
        {
         "marker": {
          "color": "rgb(26, 118, 255)"
         },
         "name": "Total Drink duration",
         "offsetgroup": "1",
         "showlegend": false,
         "type": "bar",
         "x": [
          "Drink"
         ],
         "xaxis": "x2",
         "y": [
          -1.0768817204301073
         ],
         "yaxis": "y2"
        },
        {
         "marker": {
          "color": "rgb(55, 83, 109)"
         },
         "name": "Total Groom frequency",
         "offsetgroup": "0",
         "showlegend": false,
         "type": "bar",
         "x": [
          "Groom"
         ],
         "xaxis": "x",
         "y": [
          -1.032258064516129
         ],
         "yaxis": "y"
        },
        {
         "marker": {
          "color": "rgb(26, 118, 255)"
         },
         "name": "Total Groom duration",
         "offsetgroup": "1",
         "showlegend": false,
         "type": "bar",
         "x": [
          "Groom"
         ],
         "xaxis": "x2",
         "y": [
          -4.098387096774194
         ],
         "yaxis": "y2"
        },
        {
         "marker": {
          "color": "rgb(55, 83, 109)"
         },
         "name": "Total Wash_Breakfast_Dishes frequency",
         "offsetgroup": "0",
         "showlegend": false,
         "type": "bar",
         "x": [
          "Wash_Breakfast_Dishes"
         ],
         "xaxis": "x",
         "y": [
          1.5161290322580645
         ],
         "yaxis": "y"
        },
        {
         "marker": {
          "color": "rgb(26, 118, 255)"
         },
         "name": "Total Wash_Breakfast_Dishes duration",
         "offsetgroup": "1",
         "showlegend": false,
         "type": "bar",
         "x": [
          "Wash_Breakfast_Dishes"
         ],
         "xaxis": "x2",
         "y": [
          2.61505376344086
         ],
         "yaxis": "y2"
        },
        {
         "marker": {
          "color": "rgb(55, 83, 109)"
         },
         "name": "Total Entertain_Guests frequency",
         "offsetgroup": "0",
         "showlegend": false,
         "type": "bar",
         "x": [
          "Entertain_Guests"
         ],
         "xaxis": "x",
         "y": [
          0.7096774193548387
         ],
         "yaxis": "y"
        },
        {
         "marker": {
          "color": "rgb(26, 118, 255)"
         },
         "name": "Total Entertain_Guests duration",
         "offsetgroup": "1",
         "showlegend": false,
         "type": "bar",
         "x": [
          "Entertain_Guests"
         ],
         "xaxis": "x2",
         "y": [
          55.84301075268818
         ],
         "yaxis": "y2"
        },
        {
         "marker": {
          "color": "rgb(55, 83, 109)"
         },
         "name": "Total Watch_TV frequency",
         "offsetgroup": "0",
         "showlegend": false,
         "type": "bar",
         "x": [
          "Watch_TV"
         ],
         "xaxis": "x",
         "y": [
          0
         ],
         "yaxis": "y"
        },
        {
         "marker": {
          "color": "rgb(26, 118, 255)"
         },
         "name": "Total Watch_TV duration",
         "offsetgroup": "1",
         "showlegend": false,
         "type": "bar",
         "x": [
          "Watch_TV"
         ],
         "xaxis": "x2",
         "y": [
          79.42150537634409
         ],
         "yaxis": "y2"
        }
       ],
       "layout": {
        "barmode": "group",
        "template": {
         "data": {
          "bar": [
           {
            "error_x": {
             "color": "#2a3f5f"
            },
            "error_y": {
             "color": "#2a3f5f"
            },
            "marker": {
             "line": {
              "color": "#E5ECF6",
              "width": 0.5
             },
             "pattern": {
              "fillmode": "overlay",
              "size": 10,
              "solidity": 0.2
             }
            },
            "type": "bar"
           }
          ],
          "barpolar": [
           {
            "marker": {
             "line": {
              "color": "#E5ECF6",
              "width": 0.5
             },
             "pattern": {
              "fillmode": "overlay",
              "size": 10,
              "solidity": 0.2
             }
            },
            "type": "barpolar"
           }
          ],
          "carpet": [
           {
            "aaxis": {
             "endlinecolor": "#2a3f5f",
             "gridcolor": "white",
             "linecolor": "white",
             "minorgridcolor": "white",
             "startlinecolor": "#2a3f5f"
            },
            "baxis": {
             "endlinecolor": "#2a3f5f",
             "gridcolor": "white",
             "linecolor": "white",
             "minorgridcolor": "white",
             "startlinecolor": "#2a3f5f"
            },
            "type": "carpet"
           }
          ],
          "choropleth": [
           {
            "colorbar": {
             "outlinewidth": 0,
             "ticks": ""
            },
            "type": "choropleth"
           }
          ],
          "contour": [
           {
            "colorbar": {
             "outlinewidth": 0,
             "ticks": ""
            },
            "colorscale": [
             [
              0,
              "#0d0887"
             ],
             [
              0.1111111111111111,
              "#46039f"
             ],
             [
              0.2222222222222222,
              "#7201a8"
             ],
             [
              0.3333333333333333,
              "#9c179e"
             ],
             [
              0.4444444444444444,
              "#bd3786"
             ],
             [
              0.5555555555555556,
              "#d8576b"
             ],
             [
              0.6666666666666666,
              "#ed7953"
             ],
             [
              0.7777777777777778,
              "#fb9f3a"
             ],
             [
              0.8888888888888888,
              "#fdca26"
             ],
             [
              1,
              "#f0f921"
             ]
            ],
            "type": "contour"
           }
          ],
          "contourcarpet": [
           {
            "colorbar": {
             "outlinewidth": 0,
             "ticks": ""
            },
            "type": "contourcarpet"
           }
          ],
          "heatmap": [
           {
            "colorbar": {
             "outlinewidth": 0,
             "ticks": ""
            },
            "colorscale": [
             [
              0,
              "#0d0887"
             ],
             [
              0.1111111111111111,
              "#46039f"
             ],
             [
              0.2222222222222222,
              "#7201a8"
             ],
             [
              0.3333333333333333,
              "#9c179e"
             ],
             [
              0.4444444444444444,
              "#bd3786"
             ],
             [
              0.5555555555555556,
              "#d8576b"
             ],
             [
              0.6666666666666666,
              "#ed7953"
             ],
             [
              0.7777777777777778,
              "#fb9f3a"
             ],
             [
              0.8888888888888888,
              "#fdca26"
             ],
             [
              1,
              "#f0f921"
             ]
            ],
            "type": "heatmap"
           }
          ],
          "heatmapgl": [
           {
            "colorbar": {
             "outlinewidth": 0,
             "ticks": ""
            },
            "colorscale": [
             [
              0,
              "#0d0887"
             ],
             [
              0.1111111111111111,
              "#46039f"
             ],
             [
              0.2222222222222222,
              "#7201a8"
             ],
             [
              0.3333333333333333,
              "#9c179e"
             ],
             [
              0.4444444444444444,
              "#bd3786"
             ],
             [
              0.5555555555555556,
              "#d8576b"
             ],
             [
              0.6666666666666666,
              "#ed7953"
             ],
             [
              0.7777777777777778,
              "#fb9f3a"
             ],
             [
              0.8888888888888888,
              "#fdca26"
             ],
             [
              1,
              "#f0f921"
             ]
            ],
            "type": "heatmapgl"
           }
          ],
          "histogram": [
           {
            "marker": {
             "pattern": {
              "fillmode": "overlay",
              "size": 10,
              "solidity": 0.2
             }
            },
            "type": "histogram"
           }
          ],
          "histogram2d": [
           {
            "colorbar": {
             "outlinewidth": 0,
             "ticks": ""
            },
            "colorscale": [
             [
              0,
              "#0d0887"
             ],
             [
              0.1111111111111111,
              "#46039f"
             ],
             [
              0.2222222222222222,
              "#7201a8"
             ],
             [
              0.3333333333333333,
              "#9c179e"
             ],
             [
              0.4444444444444444,
              "#bd3786"
             ],
             [
              0.5555555555555556,
              "#d8576b"
             ],
             [
              0.6666666666666666,
              "#ed7953"
             ],
             [
              0.7777777777777778,
              "#fb9f3a"
             ],
             [
              0.8888888888888888,
              "#fdca26"
             ],
             [
              1,
              "#f0f921"
             ]
            ],
            "type": "histogram2d"
           }
          ],
          "histogram2dcontour": [
           {
            "colorbar": {
             "outlinewidth": 0,
             "ticks": ""
            },
            "colorscale": [
             [
              0,
              "#0d0887"
             ],
             [
              0.1111111111111111,
              "#46039f"
             ],
             [
              0.2222222222222222,
              "#7201a8"
             ],
             [
              0.3333333333333333,
              "#9c179e"
             ],
             [
              0.4444444444444444,
              "#bd3786"
             ],
             [
              0.5555555555555556,
              "#d8576b"
             ],
             [
              0.6666666666666666,
              "#ed7953"
             ],
             [
              0.7777777777777778,
              "#fb9f3a"
             ],
             [
              0.8888888888888888,
              "#fdca26"
             ],
             [
              1,
              "#f0f921"
             ]
            ],
            "type": "histogram2dcontour"
           }
          ],
          "mesh3d": [
           {
            "colorbar": {
             "outlinewidth": 0,
             "ticks": ""
            },
            "type": "mesh3d"
           }
          ],
          "parcoords": [
           {
            "line": {
             "colorbar": {
              "outlinewidth": 0,
              "ticks": ""
             }
            },
            "type": "parcoords"
           }
          ],
          "pie": [
           {
            "automargin": true,
            "type": "pie"
           }
          ],
          "scatter": [
           {
            "fillpattern": {
             "fillmode": "overlay",
             "size": 10,
             "solidity": 0.2
            },
            "type": "scatter"
           }
          ],
          "scatter3d": [
           {
            "line": {
             "colorbar": {
              "outlinewidth": 0,
              "ticks": ""
             }
            },
            "marker": {
             "colorbar": {
              "outlinewidth": 0,
              "ticks": ""
             }
            },
            "type": "scatter3d"
           }
          ],
          "scattercarpet": [
           {
            "marker": {
             "colorbar": {
              "outlinewidth": 0,
              "ticks": ""
             }
            },
            "type": "scattercarpet"
           }
          ],
          "scattergeo": [
           {
            "marker": {
             "colorbar": {
              "outlinewidth": 0,
              "ticks": ""
             }
            },
            "type": "scattergeo"
           }
          ],
          "scattergl": [
           {
            "marker": {
             "colorbar": {
              "outlinewidth": 0,
              "ticks": ""
             }
            },
            "type": "scattergl"
           }
          ],
          "scattermapbox": [
           {
            "marker": {
             "colorbar": {
              "outlinewidth": 0,
              "ticks": ""
             }
            },
            "type": "scattermapbox"
           }
          ],
          "scatterpolar": [
           {
            "marker": {
             "colorbar": {
              "outlinewidth": 0,
              "ticks": ""
             }
            },
            "type": "scatterpolar"
           }
          ],
          "scatterpolargl": [
           {
            "marker": {
             "colorbar": {
              "outlinewidth": 0,
              "ticks": ""
             }
            },
            "type": "scatterpolargl"
           }
          ],
          "scatterternary": [
           {
            "marker": {
             "colorbar": {
              "outlinewidth": 0,
              "ticks": ""
             }
            },
            "type": "scatterternary"
           }
          ],
          "surface": [
           {
            "colorbar": {
             "outlinewidth": 0,
             "ticks": ""
            },
            "colorscale": [
             [
              0,
              "#0d0887"
             ],
             [
              0.1111111111111111,
              "#46039f"
             ],
             [
              0.2222222222222222,
              "#7201a8"
             ],
             [
              0.3333333333333333,
              "#9c179e"
             ],
             [
              0.4444444444444444,
              "#bd3786"
             ],
             [
              0.5555555555555556,
              "#d8576b"
             ],
             [
              0.6666666666666666,
              "#ed7953"
             ],
             [
              0.7777777777777778,
              "#fb9f3a"
             ],
             [
              0.8888888888888888,
              "#fdca26"
             ],
             [
              1,
              "#f0f921"
             ]
            ],
            "type": "surface"
           }
          ],
          "table": [
           {
            "cells": {
             "fill": {
              "color": "#EBF0F8"
             },
             "line": {
              "color": "white"
             }
            },
            "header": {
             "fill": {
              "color": "#C8D4E3"
             },
             "line": {
              "color": "white"
             }
            },
            "type": "table"
           }
          ]
         },
         "layout": {
          "annotationdefaults": {
           "arrowcolor": "#2a3f5f",
           "arrowhead": 0,
           "arrowwidth": 1
          },
          "autotypenumbers": "strict",
          "coloraxis": {
           "colorbar": {
            "outlinewidth": 0,
            "ticks": ""
           }
          },
          "colorscale": {
           "diverging": [
            [
             0,
             "#8e0152"
            ],
            [
             0.1,
             "#c51b7d"
            ],
            [
             0.2,
             "#de77ae"
            ],
            [
             0.3,
             "#f1b6da"
            ],
            [
             0.4,
             "#fde0ef"
            ],
            [
             0.5,
             "#f7f7f7"
            ],
            [
             0.6,
             "#e6f5d0"
            ],
            [
             0.7,
             "#b8e186"
            ],
            [
             0.8,
             "#7fbc41"
            ],
            [
             0.9,
             "#4d9221"
            ],
            [
             1,
             "#276419"
            ]
           ],
           "sequential": [
            [
             0,
             "#0d0887"
            ],
            [
             0.1111111111111111,
             "#46039f"
            ],
            [
             0.2222222222222222,
             "#7201a8"
            ],
            [
             0.3333333333333333,
             "#9c179e"
            ],
            [
             0.4444444444444444,
             "#bd3786"
            ],
            [
             0.5555555555555556,
             "#d8576b"
            ],
            [
             0.6666666666666666,
             "#ed7953"
            ],
            [
             0.7777777777777778,
             "#fb9f3a"
            ],
            [
             0.8888888888888888,
             "#fdca26"
            ],
            [
             1,
             "#f0f921"
            ]
           ],
           "sequentialminus": [
            [
             0,
             "#0d0887"
            ],
            [
             0.1111111111111111,
             "#46039f"
            ],
            [
             0.2222222222222222,
             "#7201a8"
            ],
            [
             0.3333333333333333,
             "#9c179e"
            ],
            [
             0.4444444444444444,
             "#bd3786"
            ],
            [
             0.5555555555555556,
             "#d8576b"
            ],
            [
             0.6666666666666666,
             "#ed7953"
            ],
            [
             0.7777777777777778,
             "#fb9f3a"
            ],
            [
             0.8888888888888888,
             "#fdca26"
            ],
            [
             1,
             "#f0f921"
            ]
           ]
          },
          "colorway": [
           "#636efa",
           "#EF553B",
           "#00cc96",
           "#ab63fa",
           "#FFA15A",
           "#19d3f3",
           "#FF6692",
           "#B6E880",
           "#FF97FF",
           "#FECB52"
          ],
          "font": {
           "color": "#2a3f5f"
          },
          "geo": {
           "bgcolor": "white",
           "lakecolor": "white",
           "landcolor": "#E5ECF6",
           "showlakes": true,
           "showland": true,
           "subunitcolor": "white"
          },
          "hoverlabel": {
           "align": "left"
          },
          "hovermode": "closest",
          "mapbox": {
           "style": "light"
          },
          "paper_bgcolor": "white",
          "plot_bgcolor": "#E5ECF6",
          "polar": {
           "angularaxis": {
            "gridcolor": "white",
            "linecolor": "white",
            "ticks": ""
           },
           "bgcolor": "#E5ECF6",
           "radialaxis": {
            "gridcolor": "white",
            "linecolor": "white",
            "ticks": ""
           }
          },
          "scene": {
           "xaxis": {
            "backgroundcolor": "#E5ECF6",
            "gridcolor": "white",
            "gridwidth": 2,
            "linecolor": "white",
            "showbackground": true,
            "ticks": "",
            "zerolinecolor": "white"
           },
           "yaxis": {
            "backgroundcolor": "#E5ECF6",
            "gridcolor": "white",
            "gridwidth": 2,
            "linecolor": "white",
            "showbackground": true,
            "ticks": "",
            "zerolinecolor": "white"
           },
           "zaxis": {
            "backgroundcolor": "#E5ECF6",
            "gridcolor": "white",
            "gridwidth": 2,
            "linecolor": "white",
            "showbackground": true,
            "ticks": "",
            "zerolinecolor": "white"
           }
          },
          "shapedefaults": {
           "line": {
            "color": "#2a3f5f"
           }
          },
          "ternary": {
           "aaxis": {
            "gridcolor": "white",
            "linecolor": "white",
            "ticks": ""
           },
           "baxis": {
            "gridcolor": "white",
            "linecolor": "white",
            "ticks": ""
           },
           "bgcolor": "#E5ECF6",
           "caxis": {
            "gridcolor": "white",
            "linecolor": "white",
            "ticks": ""
           }
          },
          "title": {
           "x": 0.05
          },
          "xaxis": {
           "automargin": true,
           "gridcolor": "white",
           "linecolor": "white",
           "ticks": "",
           "title": {
            "standoff": 15
           },
           "zerolinecolor": "white",
           "zerolinewidth": 2
          },
          "yaxis": {
           "automargin": true,
           "gridcolor": "white",
           "linecolor": "white",
           "ticks": "",
           "title": {
            "standoff": 15
           },
           "zerolinecolor": "white",
           "zerolinewidth": 2
          }
         }
        },
        "xaxis": {
         "anchor": "y",
         "domain": [
          0,
          0.45
         ],
         "tickangle": -45,
         "title": {
          "text": "Activity"
         }
        },
        "xaxis2": {
         "anchor": "y2",
         "domain": [
          0.55,
          1
         ],
         "tickangle": -45
        },
        "yaxis": {
         "anchor": "x",
         "domain": [
          0,
          1
         ],
         "title": {
          "text": "Frequency"
         }
        },
        "yaxis2": {
         "anchor": "x2",
         "domain": [
          0,
          1
         ],
         "title": {
          "text": "Duration"
         }
        }
       }
      }
     },
     "metadata": {},
     "output_type": "display_data"
    }
   ],
   "source": [
    "import plotly.graph_objects as go\n",
    "from plotly.subplots import make_subplots\n",
    "\n",
    "def plot_day(example_day, title):\n",
    "    average_day = pd.read_csv('Unscaled/average_day.csv')\n",
    "\n",
    "    columns = example_day.columns[3:]\n",
    "    activites = set([column.split(' ')[1] for column in columns])\n",
    "\n",
    "    # Plot frequency on one axis and duration on another\n",
    "    fig = make_subplots(cols=2, rows=1)\n",
    "\n",
    "    # Iterate through each activity\n",
    "    for activity in activites:\n",
    "        # Get total frequency and duration\n",
    "        total_frequency = example_day[f'Total {activity} frequency'].iloc[0]\n",
    "        total_duration = example_day[f'Total {activity} duration'].iloc[0]\n",
    "\n",
    "        # Get average frequency and duration\n",
    "        average_frequency = average_day[f'Total {activity} frequency'].iloc[0]\n",
    "        average_duration = average_day[f'Total {activity} duration'].iloc[0]\n",
    "\n",
    "        diff_frequency = total_frequency - average_frequency\n",
    "        diff_duration = total_duration - average_duration\n",
    "\n",
    "        # Plot\n",
    "        fig.add_trace(\n",
    "            go.Bar(\n",
    "                x=[activity],\n",
    "                y=[diff_frequency],\n",
    "                name=f'Total {activity} frequency',\n",
    "                offsetgroup=0,\n",
    "                marker_color='rgb(55, 83, 109)',\n",
    "                showlegend=False,\n",
    "            ),\n",
    "            col=1, row=1,\n",
    "        )\n",
    "\n",
    "        fig.add_trace(\n",
    "            go.Bar(\n",
    "                x=[activity],\n",
    "                y=[diff_duration],\n",
    "                name=f'Total {activity} duration',\n",
    "                offsetgroup=1,\n",
    "                marker_color='rgb(26, 118, 255)',\n",
    "                showlegend=False,\n",
    "            ),\n",
    "            col=2, row=1,\n",
    "        )\n",
    "\n",
    "    # Set layout\n",
    "    fig.update_layout( barmode='group', xaxis_tickangle=-45, xaxis_title='Activity')\n",
    "    # Xticks for col2\n",
    "    fig.update_xaxes(tickangle=-45, col=2, row=1)\n",
    "\n",
    "    fig.update_xaxes(title_text='Activity', col=1, row=1)\n",
    "    fig.update_yaxes(title_text='Frequency', col=1, row=1)\n",
    "    fig.update_yaxes(title_text='Duration', col=2, row=1)\n",
    "\n",
    "    fig.show()\n",
    "\n",
    "print(len(df_freq.columns))\n",
    "\n",
    "# August 2nd\n",
    "date = pd.to_datetime('2011-08-02').date()\n",
    "df_freq_day = df_freq[df_freq['Date'] == date]\n",
    "plot_day(df_freq_day, date)\n",
    "\n",
    "# June 27th 2011\n",
    "date = pd.to_datetime('2011-06-27').date()\n",
    "df_freq_day = df_freq[df_freq['Date'] == date]\n",
    "plot_day(df_freq_day, date)\n"
   ]
  }
 ],
 "metadata": {
  "kernelspec": {
   "display_name": "DP4",
   "language": "python",
   "name": "python3"
  },
  "language_info": {
   "codemirror_mode": {
    "name": "ipython",
    "version": 3
   },
   "file_extension": ".py",
   "mimetype": "text/x-python",
   "name": "python",
   "nbconvert_exporter": "python",
   "pygments_lexer": "ipython3",
   "version": "3.10.9"
  },
  "orig_nbformat": 4
 },
 "nbformat": 4,
 "nbformat_minor": 2
}
