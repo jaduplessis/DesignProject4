{
 "cells": [
  {
   "cell_type": "code",
   "execution_count": 335,
   "metadata": {},
   "outputs": [
    {
     "data": {
      "text/html": [
       "<div>\n",
       "<style scoped>\n",
       "    .dataframe tbody tr th:only-of-type {\n",
       "        vertical-align: middle;\n",
       "    }\n",
       "\n",
       "    .dataframe tbody tr th {\n",
       "        vertical-align: top;\n",
       "    }\n",
       "\n",
       "    .dataframe thead th {\n",
       "        text-align: right;\n",
       "    }\n",
       "</style>\n",
       "<table border=\"1\" class=\"dataframe\">\n",
       "  <thead>\n",
       "    <tr style=\"text-align: right;\">\n",
       "      <th></th>\n",
       "      <th>DateTime</th>\n",
       "      <th>Location</th>\n",
       "      <th>Activity</th>\n",
       "      <th>scaledTime</th>\n",
       "      <th>Weekday</th>\n",
       "      <th>Weekend</th>\n",
       "    </tr>\n",
       "  </thead>\n",
       "  <tbody>\n",
       "    <tr>\n",
       "      <th>0</th>\n",
       "      <td>2011-06-15 00:09:20.394217</td>\n",
       "      <td>Bedroom</td>\n",
       "      <td>Other_Activity</td>\n",
       "      <td>12:09:20</td>\n",
       "      <td>Wednesday</td>\n",
       "      <td>0</td>\n",
       "    </tr>\n",
       "    <tr>\n",
       "      <th>1</th>\n",
       "      <td>2011-06-15 00:09:21.556337</td>\n",
       "      <td>Bedroom</td>\n",
       "      <td>Other_Activity</td>\n",
       "      <td>12:09:21</td>\n",
       "      <td>Wednesday</td>\n",
       "      <td>0</td>\n",
       "    </tr>\n",
       "    <tr>\n",
       "      <th>2</th>\n",
       "      <td>2011-06-15 00:09:22.064266</td>\n",
       "      <td>Bedroom</td>\n",
       "      <td>Other_Activity</td>\n",
       "      <td>12:09:22</td>\n",
       "      <td>Wednesday</td>\n",
       "      <td>0</td>\n",
       "    </tr>\n",
       "    <tr>\n",
       "      <th>3</th>\n",
       "      <td>2011-06-15 00:09:24.750548</td>\n",
       "      <td>Bedroom</td>\n",
       "      <td>Other_Activity</td>\n",
       "      <td>12:09:24</td>\n",
       "      <td>Wednesday</td>\n",
       "      <td>0</td>\n",
       "    </tr>\n",
       "    <tr>\n",
       "      <th>4</th>\n",
       "      <td>2011-06-15 00:09:33.499231</td>\n",
       "      <td>Ignore</td>\n",
       "      <td>Other_Activity</td>\n",
       "      <td>12:09:33</td>\n",
       "      <td>Wednesday</td>\n",
       "      <td>0</td>\n",
       "    </tr>\n",
       "  </tbody>\n",
       "</table>\n",
       "</div>"
      ],
      "text/plain": [
       "                     DateTime Location        Activity scaledTime    Weekday  \\\n",
       "0  2011-06-15 00:09:20.394217  Bedroom  Other_Activity   12:09:20  Wednesday   \n",
       "1  2011-06-15 00:09:21.556337  Bedroom  Other_Activity   12:09:21  Wednesday   \n",
       "2  2011-06-15 00:09:22.064266  Bedroom  Other_Activity   12:09:22  Wednesday   \n",
       "3  2011-06-15 00:09:24.750548  Bedroom  Other_Activity   12:09:24  Wednesday   \n",
       "4  2011-06-15 00:09:33.499231   Ignore  Other_Activity   12:09:33  Wednesday   \n",
       "\n",
       "   Weekend  \n",
       "0        0  \n",
       "1        0  \n",
       "2        0  \n",
       "3        0  \n",
       "4        0  "
      ]
     },
     "execution_count": 335,
     "metadata": {},
     "output_type": "execute_result"
    }
   ],
   "source": [
    "import pandas as pd\n",
    "\n",
    "# Open the csv file\n",
    "df = pd.read_csv('Annotations.csv')\n",
    "\n",
    "# Remove SensorSerial, SensorLocation, SensorValue, SensorType\n",
    "df.head()"
   ]
  },
  {
   "cell_type": "code",
   "execution_count": 336,
   "metadata": {},
   "outputs": [
    {
     "name": "stdout",
     "output_type": "stream",
     "text": [
      "87804.90170181666\n",
      "time.struct_time(tm_year=2011, tm_mon=6, tm_mday=15, tm_hour=0, tm_min=9, tm_sec=20, tm_wday=2, tm_yday=166, tm_isdst=-1)\n",
      "Sum of durations:  87804.90000000001\n",
      "Size of df_activity:  15255\n",
      "Sum of durations:  86644.43333333333\n",
      "Size of df_activity:  2747\n"
     ]
    }
   ],
   "source": [
    "\n",
    "# Duration from start to end in minutes\n",
    "start = df['DateTime'][0]\n",
    "end = df['DateTime'][len(df)-1]\n",
    "duration = (pd.to_datetime(end) - pd.to_datetime(start)).total_seconds()/60\n",
    "print(duration)\n",
    "\n",
    "\n",
    "import time\n",
    "data = {\n",
    "    'Activity': [],\n",
    "    'Start time': [],\n",
    "    'Duration': [], # in minutes\n",
    "    'Number of interruptions': [], # Number of times sleep was interrupted. Over 60 minutes, considered a new activity\n",
    "    'Duration of interruptions': [], # in minutes\n",
    "    'Day of activity': [], # 0 = Monday --> 6 = Sunday\n",
    "    'Weekend or weekday': [], # 0 = weekday, 1 = weekend\n",
    "}\n",
    "\n",
    "# Initialize variables\n",
    "activity = df['Activity'][0]\n",
    "start_time = df['DateTime'][0].split('.')[0]\n",
    "num_interruptions = 0\n",
    "duration_of_interruptions = 0\n",
    "weekday = df['Weekday'][0]\n",
    "weekend = df['Weekend'][0]\n",
    "\n",
    "exact_time = time.strptime(start_time, '%Y-%m-%d %H:%M:%S')\n",
    "print(exact_time)\n",
    "\n",
    "\n",
    "# Iterate through the rows. Cannot save duration of activity until the next activity is found\n",
    "for i in range(len(df)):\n",
    "    if activity != df['Activity'][i]:\n",
    "        # New activity found, save the previous activity\n",
    "        data['Activity'].append(activity)\n",
    "        data['Start time'].append(start_time)\n",
    "        data['Duration'].append((time.mktime(time.strptime(df['DateTime'][i].split('.')[0], '%Y-%m-%d %H:%M:%S')) - time.mktime(exact_time)) / 60)\n",
    "        data['Number of interruptions'].append(num_interruptions)\n",
    "        data['Duration of interruptions'].append(duration_of_interruptions)\n",
    "        data['Day of activity'].append(weekday)\n",
    "        data['Weekend or weekday'].append(weekend)\n",
    "\n",
    "        # Reset variables\n",
    "        activity = df['Activity'][i]\n",
    "        start_time = df['DateTime'][i].split('.')[0]\n",
    "        num_interruptions = 0\n",
    "        duration_of_interruptions = 0\n",
    "        weekday = df['Weekday'][i]\n",
    "        weekend = df['Weekend'][i]\n",
    "        exact_time = time.strptime(start_time, '%Y-%m-%d %H:%M:%S')\n",
    "        \n",
    "df_activity = pd.DataFrame(data)        \n",
    "df_activity.head()\n",
    "print('Sum of durations: ', df_activity['Duration'].sum())\n",
    "print('Size of df_activity: ', len(df_activity))\n",
    "\n",
    "# If duration of activity is less than 1 minute, remove it\n",
    "df_activity = df_activity[df_activity['Duration'] > 1]\n",
    "print('Sum of durations: ', df_activity['Duration'].sum())\n",
    "print('Size of df_activity: ', len(df_activity))"
   ]
  },
  {
   "cell_type": "code",
   "execution_count": 337,
   "metadata": {},
   "outputs": [
    {
     "name": "stdout",
     "output_type": "stream",
     "text": [
      "Sum of durations:  86423.66666666667\n",
      "Sum of interruptions:  59\n",
      "Sum of duration of interruptions:  220.7666666666667\n",
      "Sum of total duration:  86644.43333333333\n",
      "Size of df_activity:  2648\n",
      "Sum of durations:  86390.54999999999\n",
      "Sum of interruptions:  68\n",
      "Sum of duration of interruptions:  253.88333333333333\n",
      "Sum of total duration:  86644.43333333332\n",
      "Size of df_activity:  2632\n",
      "Sum of durations:  86390.54999999999\n",
      "Sum of interruptions:  68\n",
      "Sum of duration of interruptions:  253.88333333333333\n",
      "Sum of total duration:  86644.43333333332\n",
      "Size of df_activity:  2632\n"
     ]
    }
   ],
   "source": [
    "# Check if activity is sleep 60 minutes after the last sleep activity\n",
    "def checkSleep(df):\n",
    "    df_new = pd.DataFrame(columns=df.columns)\n",
    "    i = 0\n",
    "    while i < len(df) - 1:\n",
    "        # Calculate progress\n",
    "        print('{}/{}'.format(i, len(df) - 1), end='\\r')\n",
    "\n",
    "        current_activity = df.iloc[i]['Activity']\n",
    "        next_activity = df.iloc[i+1]['Activity']\n",
    "\n",
    "        if current_activity == 'Sleep':\n",
    "            j = i + 1\n",
    "\n",
    "            if j > len(df) - 1:\n",
    "                print('Break')\n",
    "                break\n",
    "            \n",
    "            interuption_duration = df.iloc[j]['Duration']\n",
    "            while interuption_duration < 60:\n",
    "                j += 1\n",
    "                interuption_duration += df.iloc[j]['Duration']\n",
    "            interuption_duration -= df.iloc[j]['Duration']\n",
    "\n",
    "            if df.iloc[j]['Activity'] == 'Sleep':\n",
    "                # Interrupted sleep activity\n",
    "                num_interruptions = j - i - 1\n",
    "\n",
    "                # Merge the sleep activities\n",
    "                new_row = {\n",
    "                    'Activity': 'Sleep',\n",
    "                    'Start time': df.iloc[i]['Start time'],\n",
    "                    'Duration': df.iloc[i]['Duration'] + df.iloc[j]['Duration'],\n",
    "                    'Number of interruptions': df.iloc[i]['Number of interruptions'] + df.iloc[j]['Number of interruptions'] + num_interruptions,\n",
    "                    'Duration of interruptions': df.iloc[i]['Duration of interruptions'] + df.iloc[j]['Duration of interruptions'] + interuption_duration,\n",
    "                    'Day of activity': df.iloc[i]['Day of activity'],\n",
    "                    'Weekend or weekday': df.iloc[i]['Weekend or weekday']\n",
    "                }\n",
    "                df_new = df_new.append(new_row, ignore_index=True)\n",
    "                i = j + 1\n",
    "            \n",
    "            else:\n",
    "                # New activity\n",
    "                df_new = df_new.append(df.iloc[i], ignore_index=True)\n",
    "                i += 1\n",
    "\n",
    "        else:\n",
    "            # Not a sleep activity\n",
    "            df_new = df_new.append(df.iloc[i], ignore_index=True)\n",
    "            i += 1\n",
    "\n",
    "    # Add the last activity\n",
    "    df_new = df_new.append(df.iloc[len(df)-1], ignore_index=True)\n",
    "    return df_new\n",
    "\n",
    "total_interruptions = df_activity['Number of interruptions'].sum()\n",
    "new_total_interruptions = 10\n",
    "\n",
    "while total_interruptions != new_total_interruptions:\n",
    "    total_interruptions = new_total_interruptions\n",
    "    df_activity = checkSleep(df_activity)\n",
    "    new_total_interruptions = df_activity['Number of interruptions'].sum()\n",
    "\n",
    "    print('Sum of durations: ', df_activity['Duration'].sum())\n",
    "    print('Sum of interruptions: ', df_activity['Number of interruptions'].sum())\n",
    "    print('Sum of duration of interruptions: ', df_activity['Duration of interruptions'].sum())\n",
    "    print('Sum of total duration: ', df_activity['Duration'].sum() + df_activity['Duration of interruptions'].sum())\n",
    "    print('Size of df_activity: ', len(df_activity))\n"
   ]
  },
  {
   "cell_type": "code",
   "execution_count": 338,
   "metadata": {},
   "outputs": [],
   "source": [
    "# Change time to HH:MM:SS\n",
    "def changeTime(time):\n",
    "    return time.split(' ')[1]\n",
    "\n",
    "df_activity['Start time short'] = df_activity['Start time'].apply(changeTime)"
   ]
  },
  {
   "cell_type": "code",
   "execution_count": 339,
   "metadata": {},
   "outputs": [],
   "source": [
    "# Save the dataframe to a csv file\n",
    "df_activity.to_csv('Activity.csv', index=False)"
   ]
  },
  {
   "cell_type": "code",
   "execution_count": 340,
   "metadata": {},
   "outputs": [
    {
     "data": {
      "application/vnd.plotly.v1+json": {
       "config": {
        "plotlyServerURL": "https://plot.ly"
       },
       "data": [
        {
         "alignmentgroup": "True",
         "base": [
          "2011-06-20 00:00:00",
          "2011-06-20 22:22:23"
         ],
         "hovertemplate": "Activity=%{y}<br>Start=%{base}<br>Finish=%{x}<extra></extra>",
         "legendgroup": "Sleep",
         "marker": {
          "color": "rgb(102, 197, 204)",
          "pattern": {
           "shape": ""
          }
         },
         "name": "Sleep",
         "offsetgroup": "Sleep",
         "orientation": "h",
         "showlegend": true,
         "textposition": "auto",
         "type": "bar",
         "x": [
          23226000,
          5856000
         ],
         "xaxis": "x",
         "y": [
          "Sleep",
          "Sleep"
         ],
         "yaxis": "y"
        },
        {
         "alignmentgroup": "True",
         "base": [
          "2011-06-20 06:27:06",
          "2011-06-20 08:55:23",
          "2011-06-20 11:07:27",
          "2011-06-20 11:22:37",
          "2011-06-20 15:40:33",
          "2011-06-20 20:40:21",
          "2011-06-20 22:06:01"
         ],
         "hovertemplate": "Activity=%{y}<br>Start=%{base}<br>Finish=%{x}<extra></extra>",
         "legendgroup": "Other_Activity",
         "marker": {
          "color": "rgb(246, 207, 113)",
          "pattern": {
           "shape": ""
          }
         },
         "name": "Other_Activity",
         "offsetgroup": "Other_Activity",
         "orientation": "h",
         "showlegend": true,
         "textposition": "auto",
         "type": "bar",
         "x": [
          215000,
          3626000,
          124000,
          14017000,
          17988000,
          98000,
          531000
         ],
         "xaxis": "x",
         "y": [
          "Other_Activity",
          "Other_Activity",
          "Other_Activity",
          "Other_Activity",
          "Other_Activity",
          "Other_Activity",
          "Other_Activity"
         ],
         "yaxis": "y"
        },
        {
         "alignmentgroup": "True",
         "base": [
          "2011-06-20 06:30:41",
          "2011-06-20 09:55:49"
         ],
         "hovertemplate": "Activity=%{y}<br>Start=%{base}<br>Finish=%{x}<extra></extra>",
         "legendgroup": "Personal_Hygiene",
         "marker": {
          "color": "rgb(248, 156, 116)",
          "pattern": {
           "shape": ""
          }
         },
         "name": "Personal_Hygiene",
         "offsetgroup": "Personal_Hygiene",
         "orientation": "h",
         "showlegend": true,
         "textposition": "auto",
         "type": "bar",
         "x": [
          465000,
          440000
         ],
         "xaxis": "x",
         "y": [
          "Personal_Hygiene",
          "Personal_Hygiene"
         ],
         "yaxis": "y"
        },
        {
         "alignmentgroup": "True",
         "base": [
          "2011-06-20 06:38:26",
          "2011-06-20 10:03:09",
          "2011-06-20 11:02:46",
          "2011-06-20 21:51:16",
          "2011-06-20 22:19:39"
         ],
         "hovertemplate": "Activity=%{y}<br>Start=%{base}<br>Finish=%{x}<extra></extra>",
         "legendgroup": "Dress",
         "marker": {
          "color": "rgb(220, 176, 242)",
          "pattern": {
           "shape": ""
          }
         },
         "name": "Dress",
         "offsetgroup": "Dress",
         "orientation": "h",
         "showlegend": true,
         "textposition": "auto",
         "type": "bar",
         "x": [
          224000,
          408000,
          136000,
          131000,
          164000
         ],
         "xaxis": "x",
         "y": [
          "Dress",
          "Dress",
          "Dress",
          "Dress",
          "Dress"
         ],
         "yaxis": "y"
        },
        {
         "alignmentgroup": "True",
         "base": [
          "2011-06-20 06:42:10"
         ],
         "hovertemplate": "Activity=%{y}<br>Start=%{base}<br>Finish=%{x}<extra></extra>",
         "legendgroup": "Cook_Breakfast",
         "marker": {
          "color": "rgb(135, 197, 95)",
          "pattern": {
           "shape": ""
          }
         },
         "name": "Cook_Breakfast",
         "offsetgroup": "Cook_Breakfast",
         "orientation": "h",
         "showlegend": true,
         "textposition": "auto",
         "type": "bar",
         "x": [
          348000
         ],
         "xaxis": "x",
         "y": [
          "Cook_Breakfast"
         ],
         "yaxis": "y"
        },
        {
         "alignmentgroup": "True",
         "base": [
          "2011-06-20 06:47:58"
         ],
         "hovertemplate": "Activity=%{y}<br>Start=%{base}<br>Finish=%{x}<extra></extra>",
         "legendgroup": "Eat_Breakfast",
         "marker": {
          "color": "rgb(158, 185, 243)",
          "pattern": {
           "shape": ""
          }
         },
         "name": "Eat_Breakfast",
         "offsetgroup": "Eat_Breakfast",
         "orientation": "h",
         "showlegend": true,
         "textposition": "auto",
         "type": "bar",
         "x": [
          605000
         ],
         "xaxis": "x",
         "y": [
          "Eat_Breakfast"
         ],
         "yaxis": "y"
        },
        {
         "alignmentgroup": "True",
         "base": [
          "2011-06-20 06:58:03",
          "2011-06-20 07:13:16",
          "2011-06-20 21:53:27"
         ],
         "hovertemplate": "Activity=%{y}<br>Start=%{base}<br>Finish=%{x}<extra></extra>",
         "legendgroup": "Read",
         "marker": {
          "color": "rgb(254, 136, 177)",
          "pattern": {
           "shape": ""
          }
         },
         "name": "Read",
         "offsetgroup": "Read",
         "orientation": "h",
         "showlegend": true,
         "textposition": "auto",
         "type": "bar",
         "x": [
          816000,
          4698000,
          754000
         ],
         "xaxis": "x",
         "y": [
          "Read",
          "Read",
          "Read"
         ],
         "yaxis": "y"
        },
        {
         "alignmentgroup": "True",
         "base": [
          "2011-06-20 07:11:39",
          "2011-06-20 20:41:59",
          "2011-06-20 20:43:21"
         ],
         "hovertemplate": "Activity=%{y}<br>Start=%{base}<br>Finish=%{x}<extra></extra>",
         "legendgroup": "Drink",
         "marker": {
          "color": "rgb(201, 219, 116)",
          "pattern": {
           "shape": ""
          }
         },
         "name": "Drink",
         "offsetgroup": "Drink",
         "orientation": "h",
         "showlegend": true,
         "textposition": "auto",
         "type": "bar",
         "x": [
          97000,
          82000,
          146000
         ],
         "xaxis": "x",
         "y": [
          "Drink",
          "Drink",
          "Drink"
         ],
         "yaxis": "y"
        },
        {
         "alignmentgroup": "True",
         "base": [
          "2011-06-20 08:31:34",
          "2011-06-20 10:09:57",
          "2011-06-20 11:05:02",
          "2011-06-20 15:30:00"
         ],
         "hovertemplate": "Activity=%{y}<br>Start=%{base}<br>Finish=%{x}<extra></extra>",
         "legendgroup": "Toilet",
         "marker": {
          "color": "rgb(139, 224, 164)",
          "pattern": {
           "shape": ""
          }
         },
         "name": "Toilet",
         "offsetgroup": "Toilet",
         "orientation": "h",
         "showlegend": true,
         "textposition": "auto",
         "type": "bar",
         "x": [
          345000,
          213000,
          145000,
          187000
         ],
         "xaxis": "x",
         "y": [
          "Toilet",
          "Toilet",
          "Toilet",
          "Toilet"
         ],
         "yaxis": "y"
        },
        {
         "alignmentgroup": "True",
         "base": [
          "2011-06-20 08:37:19",
          "2011-06-20 10:13:30",
          "2011-06-20 15:16:14",
          "2011-06-20 15:33:07",
          "2011-06-20 20:50:06",
          "2011-06-20 20:51:39"
         ],
         "hovertemplate": "Activity=%{y}<br>Start=%{base}<br>Finish=%{x}<extra></extra>",
         "legendgroup": "Work_On_Computer",
         "marker": {
          "color": "rgb(180, 151, 231)",
          "pattern": {
           "shape": ""
          }
         },
         "name": "Work_On_Computer",
         "offsetgroup": "Work_On_Computer",
         "orientation": "h",
         "showlegend": true,
         "textposition": "auto",
         "type": "bar",
         "x": [
          1003000,
          2956000,
          826000,
          334000,
          93000,
          3577000
         ],
         "xaxis": "x",
         "y": [
          "Work_On_Computer",
          "Work_On_Computer",
          "Work_On_Computer",
          "Work_On_Computer",
          "Work_On_Computer",
          "Work_On_Computer"
         ],
         "yaxis": "y"
        },
        {
         "alignmentgroup": "True",
         "base": [
          "2011-06-20 08:54:02",
          "2011-06-20 11:21:30",
          "2011-06-20 15:38:41"
         ],
         "hovertemplate": "Activity=%{y}<br>Start=%{base}<br>Finish=%{x}<extra></extra>",
         "legendgroup": "Leave_Home",
         "marker": {
          "color": "rgb(179, 179, 179)",
          "pattern": {
           "shape": ""
          }
         },
         "name": "Leave_Home",
         "offsetgroup": "Leave_Home",
         "orientation": "h",
         "showlegend": true,
         "textposition": "auto",
         "type": "bar",
         "x": [
          81000,
          67000,
          112000
         ],
         "xaxis": "x",
         "y": [
          "Leave_Home",
          "Leave_Home",
          "Leave_Home"
         ],
         "yaxis": "y"
        },
        {
         "alignmentgroup": "True",
         "base": [
          "2011-06-20 11:09:31"
         ],
         "hovertemplate": "Activity=%{y}<br>Start=%{base}<br>Finish=%{x}<extra></extra>",
         "legendgroup": "Work_At_Desk",
         "marker": {
          "color": "rgb(102, 197, 204)",
          "pattern": {
           "shape": ""
          }
         },
         "name": "Work_At_Desk",
         "offsetgroup": "Work_At_Desk",
         "orientation": "h",
         "showlegend": true,
         "textposition": "auto",
         "type": "bar",
         "x": [
          719000
         ],
         "xaxis": "x",
         "y": [
          "Work_At_Desk"
         ],
         "yaxis": "y"
        },
        {
         "alignmentgroup": "True",
         "base": [
          "2011-06-20 20:45:47"
         ],
         "hovertemplate": "Activity=%{y}<br>Start=%{base}<br>Finish=%{x}<extra></extra>",
         "legendgroup": "Step_Out",
         "marker": {
          "color": "rgb(246, 207, 113)",
          "pattern": {
           "shape": ""
          }
         },
         "name": "Step_Out",
         "offsetgroup": "Step_Out",
         "orientation": "h",
         "showlegend": true,
         "textposition": "auto",
         "type": "bar",
         "x": [
          259000
         ],
         "xaxis": "x",
         "y": [
          "Step_Out"
         ],
         "yaxis": "y"
        },
        {
         "alignmentgroup": "True",
         "base": [
          "2011-06-20 22:14:52"
         ],
         "hovertemplate": "Activity=%{y}<br>Start=%{base}<br>Finish=%{x}<extra></extra>",
         "legendgroup": "Groom",
         "marker": {
          "color": "rgb(248, 156, 116)",
          "pattern": {
           "shape": ""
          }
         },
         "name": "Groom",
         "offsetgroup": "Groom",
         "orientation": "h",
         "showlegend": true,
         "textposition": "auto",
         "type": "bar",
         "x": [
          193000
         ],
         "xaxis": "x",
         "y": [
          "Groom"
         ],
         "yaxis": "y"
        },
        {
         "alignmentgroup": "True",
         "base": [
          "2011-06-20 22:18:05"
         ],
         "hovertemplate": "Activity=%{y}<br>Start=%{base}<br>Finish=%{x}<extra></extra>",
         "legendgroup": "Evening_Meds",
         "marker": {
          "color": "rgb(220, 176, 242)",
          "pattern": {
           "shape": ""
          }
         },
         "name": "Evening_Meds",
         "offsetgroup": "Evening_Meds",
         "orientation": "h",
         "showlegend": true,
         "textposition": "auto",
         "type": "bar",
         "x": [
          94000
         ],
         "xaxis": "x",
         "y": [
          "Evening_Meds"
         ],
         "yaxis": "y"
        }
       ],
       "layout": {
        "barmode": "overlay",
        "legend": {
         "title": {
          "text": "Activity"
         },
         "tracegroupgap": 0
        },
        "margin": {
         "t": 60
        },
        "showlegend": false,
        "template": {
         "data": {
          "bar": [
           {
            "error_x": {
             "color": "#2a3f5f"
            },
            "error_y": {
             "color": "#2a3f5f"
            },
            "marker": {
             "line": {
              "color": "#E5ECF6",
              "width": 0.5
             },
             "pattern": {
              "fillmode": "overlay",
              "size": 10,
              "solidity": 0.2
             }
            },
            "type": "bar"
           }
          ],
          "barpolar": [
           {
            "marker": {
             "line": {
              "color": "#E5ECF6",
              "width": 0.5
             },
             "pattern": {
              "fillmode": "overlay",
              "size": 10,
              "solidity": 0.2
             }
            },
            "type": "barpolar"
           }
          ],
          "carpet": [
           {
            "aaxis": {
             "endlinecolor": "#2a3f5f",
             "gridcolor": "white",
             "linecolor": "white",
             "minorgridcolor": "white",
             "startlinecolor": "#2a3f5f"
            },
            "baxis": {
             "endlinecolor": "#2a3f5f",
             "gridcolor": "white",
             "linecolor": "white",
             "minorgridcolor": "white",
             "startlinecolor": "#2a3f5f"
            },
            "type": "carpet"
           }
          ],
          "choropleth": [
           {
            "colorbar": {
             "outlinewidth": 0,
             "ticks": ""
            },
            "type": "choropleth"
           }
          ],
          "contour": [
           {
            "colorbar": {
             "outlinewidth": 0,
             "ticks": ""
            },
            "colorscale": [
             [
              0,
              "#0d0887"
             ],
             [
              0.1111111111111111,
              "#46039f"
             ],
             [
              0.2222222222222222,
              "#7201a8"
             ],
             [
              0.3333333333333333,
              "#9c179e"
             ],
             [
              0.4444444444444444,
              "#bd3786"
             ],
             [
              0.5555555555555556,
              "#d8576b"
             ],
             [
              0.6666666666666666,
              "#ed7953"
             ],
             [
              0.7777777777777778,
              "#fb9f3a"
             ],
             [
              0.8888888888888888,
              "#fdca26"
             ],
             [
              1,
              "#f0f921"
             ]
            ],
            "type": "contour"
           }
          ],
          "contourcarpet": [
           {
            "colorbar": {
             "outlinewidth": 0,
             "ticks": ""
            },
            "type": "contourcarpet"
           }
          ],
          "heatmap": [
           {
            "colorbar": {
             "outlinewidth": 0,
             "ticks": ""
            },
            "colorscale": [
             [
              0,
              "#0d0887"
             ],
             [
              0.1111111111111111,
              "#46039f"
             ],
             [
              0.2222222222222222,
              "#7201a8"
             ],
             [
              0.3333333333333333,
              "#9c179e"
             ],
             [
              0.4444444444444444,
              "#bd3786"
             ],
             [
              0.5555555555555556,
              "#d8576b"
             ],
             [
              0.6666666666666666,
              "#ed7953"
             ],
             [
              0.7777777777777778,
              "#fb9f3a"
             ],
             [
              0.8888888888888888,
              "#fdca26"
             ],
             [
              1,
              "#f0f921"
             ]
            ],
            "type": "heatmap"
           }
          ],
          "heatmapgl": [
           {
            "colorbar": {
             "outlinewidth": 0,
             "ticks": ""
            },
            "colorscale": [
             [
              0,
              "#0d0887"
             ],
             [
              0.1111111111111111,
              "#46039f"
             ],
             [
              0.2222222222222222,
              "#7201a8"
             ],
             [
              0.3333333333333333,
              "#9c179e"
             ],
             [
              0.4444444444444444,
              "#bd3786"
             ],
             [
              0.5555555555555556,
              "#d8576b"
             ],
             [
              0.6666666666666666,
              "#ed7953"
             ],
             [
              0.7777777777777778,
              "#fb9f3a"
             ],
             [
              0.8888888888888888,
              "#fdca26"
             ],
             [
              1,
              "#f0f921"
             ]
            ],
            "type": "heatmapgl"
           }
          ],
          "histogram": [
           {
            "marker": {
             "pattern": {
              "fillmode": "overlay",
              "size": 10,
              "solidity": 0.2
             }
            },
            "type": "histogram"
           }
          ],
          "histogram2d": [
           {
            "colorbar": {
             "outlinewidth": 0,
             "ticks": ""
            },
            "colorscale": [
             [
              0,
              "#0d0887"
             ],
             [
              0.1111111111111111,
              "#46039f"
             ],
             [
              0.2222222222222222,
              "#7201a8"
             ],
             [
              0.3333333333333333,
              "#9c179e"
             ],
             [
              0.4444444444444444,
              "#bd3786"
             ],
             [
              0.5555555555555556,
              "#d8576b"
             ],
             [
              0.6666666666666666,
              "#ed7953"
             ],
             [
              0.7777777777777778,
              "#fb9f3a"
             ],
             [
              0.8888888888888888,
              "#fdca26"
             ],
             [
              1,
              "#f0f921"
             ]
            ],
            "type": "histogram2d"
           }
          ],
          "histogram2dcontour": [
           {
            "colorbar": {
             "outlinewidth": 0,
             "ticks": ""
            },
            "colorscale": [
             [
              0,
              "#0d0887"
             ],
             [
              0.1111111111111111,
              "#46039f"
             ],
             [
              0.2222222222222222,
              "#7201a8"
             ],
             [
              0.3333333333333333,
              "#9c179e"
             ],
             [
              0.4444444444444444,
              "#bd3786"
             ],
             [
              0.5555555555555556,
              "#d8576b"
             ],
             [
              0.6666666666666666,
              "#ed7953"
             ],
             [
              0.7777777777777778,
              "#fb9f3a"
             ],
             [
              0.8888888888888888,
              "#fdca26"
             ],
             [
              1,
              "#f0f921"
             ]
            ],
            "type": "histogram2dcontour"
           }
          ],
          "mesh3d": [
           {
            "colorbar": {
             "outlinewidth": 0,
             "ticks": ""
            },
            "type": "mesh3d"
           }
          ],
          "parcoords": [
           {
            "line": {
             "colorbar": {
              "outlinewidth": 0,
              "ticks": ""
             }
            },
            "type": "parcoords"
           }
          ],
          "pie": [
           {
            "automargin": true,
            "type": "pie"
           }
          ],
          "scatter": [
           {
            "fillpattern": {
             "fillmode": "overlay",
             "size": 10,
             "solidity": 0.2
            },
            "type": "scatter"
           }
          ],
          "scatter3d": [
           {
            "line": {
             "colorbar": {
              "outlinewidth": 0,
              "ticks": ""
             }
            },
            "marker": {
             "colorbar": {
              "outlinewidth": 0,
              "ticks": ""
             }
            },
            "type": "scatter3d"
           }
          ],
          "scattercarpet": [
           {
            "marker": {
             "colorbar": {
              "outlinewidth": 0,
              "ticks": ""
             }
            },
            "type": "scattercarpet"
           }
          ],
          "scattergeo": [
           {
            "marker": {
             "colorbar": {
              "outlinewidth": 0,
              "ticks": ""
             }
            },
            "type": "scattergeo"
           }
          ],
          "scattergl": [
           {
            "marker": {
             "colorbar": {
              "outlinewidth": 0,
              "ticks": ""
             }
            },
            "type": "scattergl"
           }
          ],
          "scattermapbox": [
           {
            "marker": {
             "colorbar": {
              "outlinewidth": 0,
              "ticks": ""
             }
            },
            "type": "scattermapbox"
           }
          ],
          "scatterpolar": [
           {
            "marker": {
             "colorbar": {
              "outlinewidth": 0,
              "ticks": ""
             }
            },
            "type": "scatterpolar"
           }
          ],
          "scatterpolargl": [
           {
            "marker": {
             "colorbar": {
              "outlinewidth": 0,
              "ticks": ""
             }
            },
            "type": "scatterpolargl"
           }
          ],
          "scatterternary": [
           {
            "marker": {
             "colorbar": {
              "outlinewidth": 0,
              "ticks": ""
             }
            },
            "type": "scatterternary"
           }
          ],
          "surface": [
           {
            "colorbar": {
             "outlinewidth": 0,
             "ticks": ""
            },
            "colorscale": [
             [
              0,
              "#0d0887"
             ],
             [
              0.1111111111111111,
              "#46039f"
             ],
             [
              0.2222222222222222,
              "#7201a8"
             ],
             [
              0.3333333333333333,
              "#9c179e"
             ],
             [
              0.4444444444444444,
              "#bd3786"
             ],
             [
              0.5555555555555556,
              "#d8576b"
             ],
             [
              0.6666666666666666,
              "#ed7953"
             ],
             [
              0.7777777777777778,
              "#fb9f3a"
             ],
             [
              0.8888888888888888,
              "#fdca26"
             ],
             [
              1,
              "#f0f921"
             ]
            ],
            "type": "surface"
           }
          ],
          "table": [
           {
            "cells": {
             "fill": {
              "color": "#EBF0F8"
             },
             "line": {
              "color": "white"
             }
            },
            "header": {
             "fill": {
              "color": "#C8D4E3"
             },
             "line": {
              "color": "white"
             }
            },
            "type": "table"
           }
          ]
         },
         "layout": {
          "annotationdefaults": {
           "arrowcolor": "#2a3f5f",
           "arrowhead": 0,
           "arrowwidth": 1
          },
          "autotypenumbers": "strict",
          "coloraxis": {
           "colorbar": {
            "outlinewidth": 0,
            "ticks": ""
           }
          },
          "colorscale": {
           "diverging": [
            [
             0,
             "#8e0152"
            ],
            [
             0.1,
             "#c51b7d"
            ],
            [
             0.2,
             "#de77ae"
            ],
            [
             0.3,
             "#f1b6da"
            ],
            [
             0.4,
             "#fde0ef"
            ],
            [
             0.5,
             "#f7f7f7"
            ],
            [
             0.6,
             "#e6f5d0"
            ],
            [
             0.7,
             "#b8e186"
            ],
            [
             0.8,
             "#7fbc41"
            ],
            [
             0.9,
             "#4d9221"
            ],
            [
             1,
             "#276419"
            ]
           ],
           "sequential": [
            [
             0,
             "#0d0887"
            ],
            [
             0.1111111111111111,
             "#46039f"
            ],
            [
             0.2222222222222222,
             "#7201a8"
            ],
            [
             0.3333333333333333,
             "#9c179e"
            ],
            [
             0.4444444444444444,
             "#bd3786"
            ],
            [
             0.5555555555555556,
             "#d8576b"
            ],
            [
             0.6666666666666666,
             "#ed7953"
            ],
            [
             0.7777777777777778,
             "#fb9f3a"
            ],
            [
             0.8888888888888888,
             "#fdca26"
            ],
            [
             1,
             "#f0f921"
            ]
           ],
           "sequentialminus": [
            [
             0,
             "#0d0887"
            ],
            [
             0.1111111111111111,
             "#46039f"
            ],
            [
             0.2222222222222222,
             "#7201a8"
            ],
            [
             0.3333333333333333,
             "#9c179e"
            ],
            [
             0.4444444444444444,
             "#bd3786"
            ],
            [
             0.5555555555555556,
             "#d8576b"
            ],
            [
             0.6666666666666666,
             "#ed7953"
            ],
            [
             0.7777777777777778,
             "#fb9f3a"
            ],
            [
             0.8888888888888888,
             "#fdca26"
            ],
            [
             1,
             "#f0f921"
            ]
           ]
          },
          "colorway": [
           "#636efa",
           "#EF553B",
           "#00cc96",
           "#ab63fa",
           "#FFA15A",
           "#19d3f3",
           "#FF6692",
           "#B6E880",
           "#FF97FF",
           "#FECB52"
          ],
          "font": {
           "color": "#2a3f5f"
          },
          "geo": {
           "bgcolor": "white",
           "lakecolor": "white",
           "landcolor": "#E5ECF6",
           "showlakes": true,
           "showland": true,
           "subunitcolor": "white"
          },
          "hoverlabel": {
           "align": "left"
          },
          "hovermode": "closest",
          "mapbox": {
           "style": "light"
          },
          "paper_bgcolor": "white",
          "plot_bgcolor": "#E5ECF6",
          "polar": {
           "angularaxis": {
            "gridcolor": "white",
            "linecolor": "white",
            "ticks": ""
           },
           "bgcolor": "#E5ECF6",
           "radialaxis": {
            "gridcolor": "white",
            "linecolor": "white",
            "ticks": ""
           }
          },
          "scene": {
           "xaxis": {
            "backgroundcolor": "#E5ECF6",
            "gridcolor": "white",
            "gridwidth": 2,
            "linecolor": "white",
            "showbackground": true,
            "ticks": "",
            "zerolinecolor": "white"
           },
           "yaxis": {
            "backgroundcolor": "#E5ECF6",
            "gridcolor": "white",
            "gridwidth": 2,
            "linecolor": "white",
            "showbackground": true,
            "ticks": "",
            "zerolinecolor": "white"
           },
           "zaxis": {
            "backgroundcolor": "#E5ECF6",
            "gridcolor": "white",
            "gridwidth": 2,
            "linecolor": "white",
            "showbackground": true,
            "ticks": "",
            "zerolinecolor": "white"
           }
          },
          "shapedefaults": {
           "line": {
            "color": "#2a3f5f"
           }
          },
          "ternary": {
           "aaxis": {
            "gridcolor": "white",
            "linecolor": "white",
            "ticks": ""
           },
           "baxis": {
            "gridcolor": "white",
            "linecolor": "white",
            "ticks": ""
           },
           "bgcolor": "#E5ECF6",
           "caxis": {
            "gridcolor": "white",
            "linecolor": "white",
            "ticks": ""
           }
          },
          "title": {
           "x": 0.05
          },
          "xaxis": {
           "automargin": true,
           "gridcolor": "white",
           "linecolor": "white",
           "ticks": "",
           "title": {
            "standoff": 15
           },
           "zerolinecolor": "white",
           "zerolinewidth": 2
          },
          "yaxis": {
           "automargin": true,
           "gridcolor": "white",
           "linecolor": "white",
           "ticks": "",
           "title": {
            "standoff": 15
           },
           "zerolinecolor": "white",
           "zerolinewidth": 2
          }
         }
        },
        "xaxis": {
         "anchor": "y",
         "domain": [
          0,
          1
         ],
         "tickfont": {
          "size": 20
         },
         "tickformat": "%H:%M:%S",
         "title": {
          "font": {
           "size": 20
          },
          "text": "Time"
         },
         "type": "date"
        },
        "yaxis": {
         "anchor": "x",
         "categoryarray": [
          "Evening_Meds",
          "Groom",
          "Step_Out",
          "Work_At_Desk",
          "Leave_Home",
          "Work_On_Computer",
          "Toilet",
          "Drink",
          "Read",
          "Eat_Breakfast",
          "Cook_Breakfast",
          "Dress",
          "Personal_Hygiene",
          "Other_Activity",
          "Sleep"
         ],
         "categoryorder": "array",
         "domain": [
          0,
          1
         ],
         "tickfont": {
          "size": 20
         },
         "title": {
          "font": {
           "size": 20
          },
          "text": "Activity"
         }
        }
       }
      }
     },
     "metadata": {},
     "output_type": "display_data"
    }
   ],
   "source": [
    "import plotly.graph_objects as go\n",
    "import plotly.express as px\n",
    "\n",
    "# Plot the data for one day\n",
    "df_day = df_activity[df_activity['Start time'].str.contains('2011-06-20')]\n",
    "\n",
    "# Add row to beginning of dataframe for sleep 00:00:00 to start time\n",
    "new_row = {\n",
    "    'Activity': 'Sleep',\n",
    "    'Start time': '2011-06-20 00:00:00',\n",
    "    'Duration': (time.mktime(time.strptime(df_day.iloc[0]['Start time'], '%Y-%m-%d %H:%M:%S')) - time.mktime(time.strptime('2011-06-20 00:00:00', '%Y-%m-%d %H:%M:%S'))) / 60,\n",
    "    'Number of interruptions': 0,\n",
    "    'Duration of interruptions': 0,\n",
    "    'Day of activity': df_day.iloc[0]['Day of activity'],\n",
    "    'Weekend or weekday': df_day.iloc[0]['Weekend or weekday'],\n",
    "    'Start time short': '00:00:00'\n",
    "}\n",
    "\n",
    "df_day = df_day.append(new_row, ignore_index=True)\n",
    "df_day = df_day.sort_values(by=['Start time'])\n",
    "\n",
    "# Set end time of each activity as start time of next activity\n",
    "df_day['End time'] = df_day['Start time'].shift(-1)\n",
    "df_day['End time'] = df_day['End time'].fillna('2011-06-20 23:59:59')\n",
    "\n",
    "# df_day_inversed = clean_df(df_day)\n",
    "# df_day_inversed = df_day_inversed.sort_values(by=['Start time'], ascending=False)\n",
    "# df_day_inversed['End time'] = df_day_inversed['Start time'].shift(-1)\n",
    "\n",
    "data = []\n",
    "for i in range(len(df_day)):\n",
    "    if i < len(px.colors.qualitative.Pastel):\n",
    "        j = i\n",
    "    else:\n",
    "        j = i % len(px.colors.qualitative.Pastel)\n",
    "    data.append(dict(\n",
    "        Activity=df_day.iloc[i]['Activity'], \n",
    "        Start=df_day.iloc[i]['Start time'],\n",
    "        Finish=df_day.iloc[i]['End time'],\n",
    "    ))\n",
    "\n",
    "df = pd.DataFrame(data)\n",
    "# Set color palette\n",
    "fig = px.timeline(df, x_start=\"Start\", x_end=\"Finish\", y=\"Activity\", color=\"Activity\", color_discrete_sequence=px.colors.qualitative.Pastel)\n",
    "\n",
    "# Leave date out of x-axis, only show time\n",
    "fig.update_xaxes(\n",
    "    tickformat='%H:%M:%S',\n",
    "    title_text='Time',\n",
    "    title_font_size=20,\n",
    "    tickfont_size=20,\n",
    ")\n",
    "\n",
    "fig.update_yaxes(\n",
    "    title_text='Activity',\n",
    "    title_font_size=20,\n",
    "    tickfont_size=20,\n",
    ")\n",
    "\n",
    "fig.update_layout(showlegend=False)\n",
    "fig.show()\n",
    "\n",
    "fig.write_image(\"Activity.png\", width=1500, height=800, scale=3)\n",
    "\n"
   ]
  },
  {
   "cell_type": "code",
   "execution_count": 392,
   "metadata": {},
   "outputs": [],
   "source": [
    "# Import standardisation libraries\n",
    "from sklearn.preprocessing import StandardScaler\n",
    "\n",
    "df_activity = pd.read_csv('Activity.csv')\n",
    "df_activity_clean = df_activity.copy()\n",
    "def clean_df(df_activity_clean):\n",
    "\n",
    "    df_activity_clean['Start time short']\n",
    "    # If hour > 12, 24 - hour\n",
    "    def changeTime(time):\n",
    "        try:\n",
    "            hour = int(time.split(':')[0])\n",
    "            minute = int(time.split(':')[1])\n",
    "            second = int(time.split(':')[2])\n",
    "            if hour > 11:\n",
    "                hour = hour - 24\n",
    "                minute = 60 - minute\n",
    "                second = 60 - second\n",
    "        except Exception as e:\n",
    "            print('time: ', time)\n",
    "        return hour + minute/60 + second/3600\n",
    "\n",
    "    df_activity_clean['Start time'] = df_activity_clean['Start time short'].apply(changeTime)\n",
    "    df_activity_clean.drop(columns=['Start time short'], inplace=True)\n",
    "\n",
    "    return df_activity_clean\n",
    "\n",
    "# df_activity = clean_df(df_activity_clean)\n",
    "# df_activity.drop(columns=['Start time short'], inplace=True)\n",
    "\n",
    "# Training data is first 31 days\n",
    "day1 = '2011-06-15'\n",
    "day31 = '2011-07-15'\n",
    "\n",
    "# Convert time to float\n",
    "def convertTime(time):\n",
    "    time = time.split(' ')[1]\n",
    "    hour = int(time.split(':')[0])\n",
    "    minute = int(time.split(':')[1])\n",
    "    second = int(time.split(':')[2])\n",
    "    return hour + minute / 60 + second / 3600\n",
    "\n",
    "def isDayBefore(start_time):\n",
    "    timeConverted = time.strptime(start_time, '%Y-%m-%d %H:%M:%S')\n",
    "    return timeConverted < time.strptime(day31, '%Y-%m-%d')\n",
    "\n",
    "# Test data is last 31 days\n",
    "def isDayAfter(start_time):\n",
    "    timeConverted = time.strptime(start_time, '%Y-%m-%d %H:%M:%S')\n",
    "    return timeConverted > time.strptime(day31, '%Y-%m-%d')\n",
    "\n",
    "# All activities split into training and test data\n",
    "df_train = df_activity[df_activity['Start time'].apply(isDayBefore)]\n",
    "df_test = df_activity[df_activity['Start time'].apply(isDayAfter)]\n",
    "\n",
    "# Reset index\n",
    "df_test.reset_index(drop=True, inplace=True)\n",
    "\n",
    "# Save df\n",
    "df_train.to_csv('Unscaled/df_train.csv', index=False)\n",
    "df_test.to_csv('Unscaled/df_test.csv', index=False)\n",
    "\n",
    "# Sleep only\n",
    "df_train_sleep = df_train[df_train['Activity'] == 'Sleep']\n",
    "df_train_sleep = df_train_sleep.drop(columns=['Activity'])\n",
    "df_test_sleep = df_test[df_test['Activity'] == 'Sleep']\n",
    "df_test_sleep = df_test_sleep.drop(columns=['Activity'])\n",
    "\n",
    "# Save df\n",
    "df_train_sleep.to_csv('Unscaled/df_train_sleep.csv', index=False)\n",
    "df_test_sleep.to_csv('Unscaled/df_test_sleep.csv', index=False)\n",
    "\n",
    "df_train['Start time'] = df_train['Start time'].apply(convertTime)\n",
    "df_test['Start time'] = df_test['Start time'].apply(convertTime)\n",
    "\n",
    "# Transform day of week to number\n",
    "def dayOfWeek(day):\n",
    "    if day == 'Monday':\n",
    "        return 0\n",
    "    elif day == 'Tuesday':\n",
    "        return 1\n",
    "    elif day == 'Wednesday':\n",
    "        return 2\n",
    "    elif day == 'Thursday':\n",
    "        return 3\n",
    "    elif day == 'Friday':\n",
    "        return 4\n",
    "    elif day == 'Saturday':\n",
    "        return 5\n",
    "    elif day == 'Sunday':\n",
    "        return 6\n",
    "\n",
    "df_train['Day of activity'] = df_train['Day of activity'].apply(dayOfWeek)\n",
    "df_test['Day of activity'] = df_test['Day of activity'].apply(dayOfWeek)\n",
    "df_train_sleep['Day of activity'] = df_train_sleep['Day of activity'].apply(dayOfWeek)\n",
    "df_test_sleep['Day of activity'] = df_test_sleep['Day of activity'].apply(dayOfWeek)\n",
    "\n"
   ]
  },
  {
   "cell_type": "code",
   "execution_count": 343,
   "metadata": {},
   "outputs": [],
   "source": [
    "import numpy as np\n",
    "from sklearn.preprocessing import StandardScaler\n",
    "from sklearn.preprocessing import OneHotEncoder\n",
    "\n",
    "\n",
    "# Clean data\n",
    "df_train_sleep = clean_df(df_train_sleep)\n",
    "df_test_sleep = clean_df(df_test_sleep)\n",
    "\n",
    "# Create string of comma separated column names\n",
    "header = ','.join(df_train_sleep.columns)\n",
    "\n",
    "# Standardise the data\n",
    "scaler = StandardScaler()\n",
    "scaler.fit(df_train_sleep)\n",
    "df_train_sleep = scaler.transform(df_train_sleep)\n",
    "df_test_sleep = scaler.transform(df_test_sleep)\n",
    "\n",
    "# Save arrays to csv files with headers\n",
    "np.savetxt('df_train_sleep.csv', df_train_sleep, delimiter=',', header=header, comments='')\n",
    "np.savetxt('df_test_sleep.csv', df_test_sleep, delimiter=',', header=header, comments='')\n"
   ]
  },
  {
   "cell_type": "code",
   "execution_count": 393,
   "metadata": {},
   "outputs": [
    {
     "name": "stdout",
     "output_type": "stream",
     "text": [
      "                Activity  Start time    Duration  Number of interruptions  \\\n",
      "0                 Toilet    6.453056    3.633333                        0   \n",
      "1         Other_Activity    6.522500    1.383333                        0   \n",
      "2         Other_Activity    6.550000    4.850000                        0   \n",
      "3                  Bathe    6.630833    7.816667                        0   \n",
      "4                  Groom    6.761111    4.683333                        0   \n",
      "...                  ...         ...         ...                      ...   \n",
      "1150  Wash_Dinner_Dishes   20.755833    1.216667                        0   \n",
      "1151    Work_On_Computer   20.778611   53.966667                        0   \n",
      "1152    Personal_Hygiene   21.684722    2.233333                        0   \n",
      "1153               Dress   21.743611    2.150000                        0   \n",
      "1154               Sleep   21.781389  106.983333                        0   \n",
      "\n",
      "      Duration of interruptions  Day of activity  Weekend or weekday  \\\n",
      "0                           0.0                4                   0   \n",
      "1                           0.0                4                   0   \n",
      "2                           0.0                4                   0   \n",
      "3                           0.0                4                   0   \n",
      "4                           0.0                4                   0   \n",
      "...                         ...              ...                 ...   \n",
      "1150                        0.0                6                   1   \n",
      "1151                        0.0                6                   1   \n",
      "1152                        0.0                6                   1   \n",
      "1153                        0.0                6                   1   \n",
      "1154                        0.0                6                   1   \n",
      "\n",
      "     Start time short  \n",
      "0            06:27:11  \n",
      "1            06:31:21  \n",
      "2            06:33:00  \n",
      "3            06:37:51  \n",
      "4            06:45:40  \n",
      "...               ...  \n",
      "1150         20:45:21  \n",
      "1151         20:46:43  \n",
      "1152         21:41:05  \n",
      "1153         21:44:37  \n",
      "1154         21:46:53  \n",
      "\n",
      "[1155 rows x 8 columns]\n"
     ]
    }
   ],
   "source": [
    "print(df_test)\n"
   ]
  },
  {
   "cell_type": "code",
   "execution_count": 396,
   "metadata": {},
   "outputs": [],
   "source": [
    "\n",
    "\n",
    "unique_activities = df_train['Activity'].unique()\n",
    "activity_dict = [{'Activity': activity, 'Number': i} for i, activity in enumerate(unique_activities)]\n",
    "\n",
    "# Replace activity with number in training and test data\n",
    "def replaceActivity(activity):\n",
    "    for i in range(len(activity_dict)):\n",
    "        if activity == activity_dict[i]['Activity']:\n",
    "            return activity_dict[i]['Number']\n",
    "\n",
    "\n",
    "# One hot encode activity\n",
    "df_train_onehot = df_train.copy()\n",
    "enc = OneHotEncoder(handle_unknown='ignore')\n",
    "enc.fit(df_train_onehot[['Activity']])\n",
    "df_train_onehot = enc.transform(df_train_onehot[['Activity']]).toarray()\n",
    "df_train_onehot = pd.DataFrame(df_train_onehot, columns=['Activity_' + str(i) for i in range(len(unique_activities))])\n",
    "columns = df_train.columns\n",
    "columns = columns.drop('Activity')\n",
    "df_train_onehot = pd.concat([df_train_onehot, df_train[columns]], axis=1)\n",
    "\n",
    "\n",
    "df_test_onehot = df_test.copy()\n",
    "df_test_onehot = enc.transform(df_test_onehot[['Activity']]).toarray()\n",
    "df_test_onehot = pd.DataFrame(df_test_onehot, columns=['Activity_' + str(i) for i in range(len(unique_activities))])\n",
    "columns = df_test.columns\n",
    "columns = columns.drop('Activity')\n",
    "df_test_onehot = pd.concat([df_test_onehot, df_test[columns]], axis=1)\n",
    "\n",
    "# Clean data\n",
    "df_train_onehot = clean_df(df_train_onehot)\n",
    "df_test_onehot = clean_df(df_test_onehot)\n",
    "\n",
    "# Create string of comma separated column names\n",
    "header = ','.join(df_train_onehot.columns)\n",
    "\n",
    "# Standardise the data\n",
    "scaler = StandardScaler()\n",
    "scaler.fit(df_train_onehot)\n",
    "df_train_onehot = scaler.transform(df_train_onehot)\n",
    "df_test_onehot = scaler.transform(df_test_onehot)\n",
    "\n",
    "# Save arrays to csv files\n",
    "np.savetxt('df_train_onehot.csv', df_train_onehot, delimiter=',', header=header, comments='')\n",
    "np.savetxt('df_test_onehot.csv', df_test_onehot, delimiter=',', header=header, comments='')\n"
   ]
  },
  {
   "cell_type": "code",
   "execution_count": null,
   "metadata": {},
   "outputs": [],
   "source": [
    "\n",
    "# Replace activity with number\n",
    "df_train['Activity'] = df_train['Activity'].apply(replaceActivity)\n",
    "df_test['Activity'] = df_test['Activity'].apply(replaceActivity)\n",
    "\n",
    "# Clean data\n",
    "df_train = clean_df(df_train)\n",
    "df_test = clean_df(df_test)\n",
    "\n",
    "# Create string of comma separated column names\n",
    "header = ','.join(df_train.columns)\n",
    "\n",
    "# Standardise the data\n",
    "scaler = StandardScaler()\n",
    "scaler.fit(df_train)\n",
    "df_train = scaler.transform(df_train)\n",
    "df_test = scaler.transform(df_test)\n",
    "\n",
    "# Save arrays to csv files\n",
    "np.savetxt('df_train.csv', df_train, delimiter=',', header=header, comments='')\n",
    "np.savetxt('df_test.csv', df_test, delimiter=',', header=header, comments='')"
   ]
  }
 ],
 "metadata": {
  "kernelspec": {
   "display_name": "DP4",
   "language": "python",
   "name": "python3"
  },
  "language_info": {
   "codemirror_mode": {
    "name": "ipython",
    "version": 3
   },
   "file_extension": ".py",
   "mimetype": "text/x-python",
   "name": "python",
   "nbconvert_exporter": "python",
   "pygments_lexer": "ipython3",
   "version": "3.10.9"
  },
  "orig_nbformat": 4
 },
 "nbformat": 4,
 "nbformat_minor": 2
}
