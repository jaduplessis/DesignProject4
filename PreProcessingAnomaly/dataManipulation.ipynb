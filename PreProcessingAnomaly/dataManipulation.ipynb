{
 "cells": [
  {
   "cell_type": "code",
   "execution_count": 6,
   "metadata": {},
   "outputs": [],
   "source": [
    "# Convert txt file to csv file\n",
    "file = open(\"hh111.ann.txt\", \"r\")\n",
    "lines = file.readlines()\n",
    "file.close()\n",
    "file = open(\"Annotations\t.csv\", \"w\")\n",
    "file.write('DateTime, SensorSerial, Location, SensorLocation, SensorValue, SensorType, Activity\\n')\n",
    "for line in lines:\n",
    "    line = line.replace(\"\\t\", \",\")\n",
    "    file.write(line)\n",
    "file.close()"
   ]
  }
 ],
 "metadata": {
  "kernelspec": {
   "display_name": "DP4",
   "language": "python",
   "name": "python3"
  },
  "language_info": {
   "codemirror_mode": {
    "name": "ipython",
    "version": 3
   },
   "file_extension": ".py",
   "mimetype": "text/x-python",
   "name": "python",
   "nbconvert_exporter": "python",
   "pygments_lexer": "ipython3",
   "version": "3.10.9"
  },
  "orig_nbformat": 4
 },
 "nbformat": 4,
 "nbformat_minor": 2
}
