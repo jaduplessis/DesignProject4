{
 "cells": [
  {
   "cell_type": "code",
   "execution_count": 2,
   "metadata": {},
   "outputs": [
    {
     "name": "stderr",
     "output_type": "stream",
     "text": [
      "C:\\Users\\duppu\\AppData\\Local\\Temp\\ipykernel_11196\\401057816.py:23: FutureWarning: The frame.append method is deprecated and will be removed from pandas in a future version. Use pandas.concat instead.\n",
      "  df_day = df_day.append(new_row, ignore_index=True)\n"
     ]
    },
    {
     "data": {
      "application/vnd.plotly.v1+json": {
       "config": {
        "plotlyServerURL": "https://plot.ly"
       },
       "data": [
        {
         "alignmentgroup": "True",
         "base": [
          "2011-06-20 00:00:00",
          "2011-06-20 22:22:23"
         ],
         "hovertemplate": "Activity=%{y}<br>Start=%{base}<br>Finish=%{x}<extra></extra>",
         "legendgroup": "Sleep",
         "marker": {
          "color": "rgb(102, 197, 204)",
          "pattern": {
           "shape": ""
          }
         },
         "name": "Sleep",
         "offsetgroup": "Sleep",
         "orientation": "h",
         "showlegend": true,
         "textposition": "auto",
         "type": "bar",
         "x": [
          23226000,
          5856000
         ],
         "xaxis": "x",
         "y": [
          "Sleep",
          "Sleep"
         ],
         "yaxis": "y"
        },
        {
         "alignmentgroup": "True",
         "base": [
          "2011-06-20 06:27:06",
          "2011-06-20 08:55:23",
          "2011-06-20 11:07:27",
          "2011-06-20 11:22:37",
          "2011-06-20 15:40:33",
          "2011-06-20 20:40:21",
          "2011-06-20 22:06:01"
         ],
         "hovertemplate": "Activity=%{y}<br>Start=%{base}<br>Finish=%{x}<extra></extra>",
         "legendgroup": "Other_Activity",
         "marker": {
          "color": "rgb(246, 207, 113)",
          "pattern": {
           "shape": ""
          }
         },
         "name": "Other_Activity",
         "offsetgroup": "Other_Activity",
         "orientation": "h",
         "showlegend": true,
         "textposition": "auto",
         "type": "bar",
         "x": [
          215000,
          3626000,
          124000,
          14017000,
          17988000,
          98000,
          531000
         ],
         "xaxis": "x",
         "y": [
          "Other_Activity",
          "Other_Activity",
          "Other_Activity",
          "Other_Activity",
          "Other_Activity",
          "Other_Activity",
          "Other_Activity"
         ],
         "yaxis": "y"
        },
        {
         "alignmentgroup": "True",
         "base": [
          "2011-06-20 06:30:41",
          "2011-06-20 09:55:49"
         ],
         "hovertemplate": "Activity=%{y}<br>Start=%{base}<br>Finish=%{x}<extra></extra>",
         "legendgroup": "Personal_Hygiene",
         "marker": {
          "color": "rgb(248, 156, 116)",
          "pattern": {
           "shape": ""
          }
         },
         "name": "Personal_Hygiene",
         "offsetgroup": "Personal_Hygiene",
         "orientation": "h",
         "showlegend": true,
         "textposition": "auto",
         "type": "bar",
         "x": [
          465000,
          440000
         ],
         "xaxis": "x",
         "y": [
          "Personal_Hygiene",
          "Personal_Hygiene"
         ],
         "yaxis": "y"
        },
        {
         "alignmentgroup": "True",
         "base": [
          "2011-06-20 06:38:26",
          "2011-06-20 10:03:09",
          "2011-06-20 11:02:46",
          "2011-06-20 21:51:16",
          "2011-06-20 22:19:39"
         ],
         "hovertemplate": "Activity=%{y}<br>Start=%{base}<br>Finish=%{x}<extra></extra>",
         "legendgroup": "Dress",
         "marker": {
          "color": "rgb(220, 176, 242)",
          "pattern": {
           "shape": ""
          }
         },
         "name": "Dress",
         "offsetgroup": "Dress",
         "orientation": "h",
         "showlegend": true,
         "textposition": "auto",
         "type": "bar",
         "x": [
          224000,
          408000,
          136000,
          131000,
          164000
         ],
         "xaxis": "x",
         "y": [
          "Dress",
          "Dress",
          "Dress",
          "Dress",
          "Dress"
         ],
         "yaxis": "y"
        },
        {
         "alignmentgroup": "True",
         "base": [
          "2011-06-20 06:42:10"
         ],
         "hovertemplate": "Activity=%{y}<br>Start=%{base}<br>Finish=%{x}<extra></extra>",
         "legendgroup": "Cook_Breakfast",
         "marker": {
          "color": "rgb(135, 197, 95)",
          "pattern": {
           "shape": ""
          }
         },
         "name": "Cook_Breakfast",
         "offsetgroup": "Cook_Breakfast",
         "orientation": "h",
         "showlegend": true,
         "textposition": "auto",
         "type": "bar",
         "x": [
          348000
         ],
         "xaxis": "x",
         "y": [
          "Cook_Breakfast"
         ],
         "yaxis": "y"
        },
        {
         "alignmentgroup": "True",
         "base": [
          "2011-06-20 06:47:58"
         ],
         "hovertemplate": "Activity=%{y}<br>Start=%{base}<br>Finish=%{x}<extra></extra>",
         "legendgroup": "Eat_Breakfast",
         "marker": {
          "color": "rgb(158, 185, 243)",
          "pattern": {
           "shape": ""
          }
         },
         "name": "Eat_Breakfast",
         "offsetgroup": "Eat_Breakfast",
         "orientation": "h",
         "showlegend": true,
         "textposition": "auto",
         "type": "bar",
         "x": [
          605000
         ],
         "xaxis": "x",
         "y": [
          "Eat_Breakfast"
         ],
         "yaxis": "y"
        },
        {
         "alignmentgroup": "True",
         "base": [
          "2011-06-20 06:58:03",
          "2011-06-20 07:13:16",
          "2011-06-20 21:53:27"
         ],
         "hovertemplate": "Activity=%{y}<br>Start=%{base}<br>Finish=%{x}<extra></extra>",
         "legendgroup": "Read",
         "marker": {
          "color": "rgb(254, 136, 177)",
          "pattern": {
           "shape": ""
          }
         },
         "name": "Read",
         "offsetgroup": "Read",
         "orientation": "h",
         "showlegend": true,
         "textposition": "auto",
         "type": "bar",
         "x": [
          816000,
          4698000,
          754000
         ],
         "xaxis": "x",
         "y": [
          "Read",
          "Read",
          "Read"
         ],
         "yaxis": "y"
        },
        {
         "alignmentgroup": "True",
         "base": [
          "2011-06-20 07:11:39",
          "2011-06-20 20:41:59",
          "2011-06-20 20:43:21"
         ],
         "hovertemplate": "Activity=%{y}<br>Start=%{base}<br>Finish=%{x}<extra></extra>",
         "legendgroup": "Drink",
         "marker": {
          "color": "rgb(201, 219, 116)",
          "pattern": {
           "shape": ""
          }
         },
         "name": "Drink",
         "offsetgroup": "Drink",
         "orientation": "h",
         "showlegend": true,
         "textposition": "auto",
         "type": "bar",
         "x": [
          97000,
          82000,
          146000
         ],
         "xaxis": "x",
         "y": [
          "Drink",
          "Drink",
          "Drink"
         ],
         "yaxis": "y"
        },
        {
         "alignmentgroup": "True",
         "base": [
          "2011-06-20 08:31:34",
          "2011-06-20 10:09:57",
          "2011-06-20 11:05:02",
          "2011-06-20 15:30:00"
         ],
         "hovertemplate": "Activity=%{y}<br>Start=%{base}<br>Finish=%{x}<extra></extra>",
         "legendgroup": "Toilet",
         "marker": {
          "color": "rgb(139, 224, 164)",
          "pattern": {
           "shape": ""
          }
         },
         "name": "Toilet",
         "offsetgroup": "Toilet",
         "orientation": "h",
         "showlegend": true,
         "textposition": "auto",
         "type": "bar",
         "x": [
          345000,
          213000,
          145000,
          187000
         ],
         "xaxis": "x",
         "y": [
          "Toilet",
          "Toilet",
          "Toilet",
          "Toilet"
         ],
         "yaxis": "y"
        },
        {
         "alignmentgroup": "True",
         "base": [
          "2011-06-20 08:37:19",
          "2011-06-20 10:13:30",
          "2011-06-20 15:16:14",
          "2011-06-20 15:33:07",
          "2011-06-20 20:50:06",
          "2011-06-20 20:51:39"
         ],
         "hovertemplate": "Activity=%{y}<br>Start=%{base}<br>Finish=%{x}<extra></extra>",
         "legendgroup": "Work_On_Computer",
         "marker": {
          "color": "rgb(180, 151, 231)",
          "pattern": {
           "shape": ""
          }
         },
         "name": "Work_On_Computer",
         "offsetgroup": "Work_On_Computer",
         "orientation": "h",
         "showlegend": true,
         "textposition": "auto",
         "type": "bar",
         "x": [
          1003000,
          2956000,
          826000,
          334000,
          93000,
          3577000
         ],
         "xaxis": "x",
         "y": [
          "Work_On_Computer",
          "Work_On_Computer",
          "Work_On_Computer",
          "Work_On_Computer",
          "Work_On_Computer",
          "Work_On_Computer"
         ],
         "yaxis": "y"
        },
        {
         "alignmentgroup": "True",
         "base": [
          "2011-06-20 08:54:02",
          "2011-06-20 11:21:30",
          "2011-06-20 15:38:41"
         ],
         "hovertemplate": "Activity=%{y}<br>Start=%{base}<br>Finish=%{x}<extra></extra>",
         "legendgroup": "Leave_Home",
         "marker": {
          "color": "rgb(179, 179, 179)",
          "pattern": {
           "shape": ""
          }
         },
         "name": "Leave_Home",
         "offsetgroup": "Leave_Home",
         "orientation": "h",
         "showlegend": true,
         "textposition": "auto",
         "type": "bar",
         "x": [
          81000,
          67000,
          112000
         ],
         "xaxis": "x",
         "y": [
          "Leave_Home",
          "Leave_Home",
          "Leave_Home"
         ],
         "yaxis": "y"
        },
        {
         "alignmentgroup": "True",
         "base": [
          "2011-06-20 11:09:31"
         ],
         "hovertemplate": "Activity=%{y}<br>Start=%{base}<br>Finish=%{x}<extra></extra>",
         "legendgroup": "Work_At_Desk",
         "marker": {
          "color": "rgb(102, 197, 204)",
          "pattern": {
           "shape": ""
          }
         },
         "name": "Work_At_Desk",
         "offsetgroup": "Work_At_Desk",
         "orientation": "h",
         "showlegend": true,
         "textposition": "auto",
         "type": "bar",
         "x": [
          719000
         ],
         "xaxis": "x",
         "y": [
          "Work_At_Desk"
         ],
         "yaxis": "y"
        },
        {
         "alignmentgroup": "True",
         "base": [
          "2011-06-20 20:45:47"
         ],
         "hovertemplate": "Activity=%{y}<br>Start=%{base}<br>Finish=%{x}<extra></extra>",
         "legendgroup": "Step_Out",
         "marker": {
          "color": "rgb(246, 207, 113)",
          "pattern": {
           "shape": ""
          }
         },
         "name": "Step_Out",
         "offsetgroup": "Step_Out",
         "orientation": "h",
         "showlegend": true,
         "textposition": "auto",
         "type": "bar",
         "x": [
          259000
         ],
         "xaxis": "x",
         "y": [
          "Step_Out"
         ],
         "yaxis": "y"
        },
        {
         "alignmentgroup": "True",
         "base": [
          "2011-06-20 22:14:52"
         ],
         "hovertemplate": "Activity=%{y}<br>Start=%{base}<br>Finish=%{x}<extra></extra>",
         "legendgroup": "Groom",
         "marker": {
          "color": "rgb(248, 156, 116)",
          "pattern": {
           "shape": ""
          }
         },
         "name": "Groom",
         "offsetgroup": "Groom",
         "orientation": "h",
         "showlegend": true,
         "textposition": "auto",
         "type": "bar",
         "x": [
          193000
         ],
         "xaxis": "x",
         "y": [
          "Groom"
         ],
         "yaxis": "y"
        },
        {
         "alignmentgroup": "True",
         "base": [
          "2011-06-20 22:18:05"
         ],
         "hovertemplate": "Activity=%{y}<br>Start=%{base}<br>Finish=%{x}<extra></extra>",
         "legendgroup": "Evening_Meds",
         "marker": {
          "color": "rgb(220, 176, 242)",
          "pattern": {
           "shape": ""
          }
         },
         "name": "Evening_Meds",
         "offsetgroup": "Evening_Meds",
         "orientation": "h",
         "showlegend": true,
         "textposition": "auto",
         "type": "bar",
         "x": [
          94000
         ],
         "xaxis": "x",
         "y": [
          "Evening_Meds"
         ],
         "yaxis": "y"
        }
       ],
       "layout": {
        "barmode": "overlay",
        "legend": {
         "title": {
          "text": "Activity"
         },
         "tracegroupgap": 0
        },
        "margin": {
         "t": 60
        },
        "showlegend": false,
        "template": {
         "data": {
          "bar": [
           {
            "error_x": {
             "color": "#2a3f5f"
            },
            "error_y": {
             "color": "#2a3f5f"
            },
            "marker": {
             "line": {
              "color": "#E5ECF6",
              "width": 0.5
             },
             "pattern": {
              "fillmode": "overlay",
              "size": 10,
              "solidity": 0.2
             }
            },
            "type": "bar"
           }
          ],
          "barpolar": [
           {
            "marker": {
             "line": {
              "color": "#E5ECF6",
              "width": 0.5
             },
             "pattern": {
              "fillmode": "overlay",
              "size": 10,
              "solidity": 0.2
             }
            },
            "type": "barpolar"
           }
          ],
          "carpet": [
           {
            "aaxis": {
             "endlinecolor": "#2a3f5f",
             "gridcolor": "white",
             "linecolor": "white",
             "minorgridcolor": "white",
             "startlinecolor": "#2a3f5f"
            },
            "baxis": {
             "endlinecolor": "#2a3f5f",
             "gridcolor": "white",
             "linecolor": "white",
             "minorgridcolor": "white",
             "startlinecolor": "#2a3f5f"
            },
            "type": "carpet"
           }
          ],
          "choropleth": [
           {
            "colorbar": {
             "outlinewidth": 0,
             "ticks": ""
            },
            "type": "choropleth"
           }
          ],
          "contour": [
           {
            "colorbar": {
             "outlinewidth": 0,
             "ticks": ""
            },
            "colorscale": [
             [
              0,
              "#0d0887"
             ],
             [
              0.1111111111111111,
              "#46039f"
             ],
             [
              0.2222222222222222,
              "#7201a8"
             ],
             [
              0.3333333333333333,
              "#9c179e"
             ],
             [
              0.4444444444444444,
              "#bd3786"
             ],
             [
              0.5555555555555556,
              "#d8576b"
             ],
             [
              0.6666666666666666,
              "#ed7953"
             ],
             [
              0.7777777777777778,
              "#fb9f3a"
             ],
             [
              0.8888888888888888,
              "#fdca26"
             ],
             [
              1,
              "#f0f921"
             ]
            ],
            "type": "contour"
           }
          ],
          "contourcarpet": [
           {
            "colorbar": {
             "outlinewidth": 0,
             "ticks": ""
            },
            "type": "contourcarpet"
           }
          ],
          "heatmap": [
           {
            "colorbar": {
             "outlinewidth": 0,
             "ticks": ""
            },
            "colorscale": [
             [
              0,
              "#0d0887"
             ],
             [
              0.1111111111111111,
              "#46039f"
             ],
             [
              0.2222222222222222,
              "#7201a8"
             ],
             [
              0.3333333333333333,
              "#9c179e"
             ],
             [
              0.4444444444444444,
              "#bd3786"
             ],
             [
              0.5555555555555556,
              "#d8576b"
             ],
             [
              0.6666666666666666,
              "#ed7953"
             ],
             [
              0.7777777777777778,
              "#fb9f3a"
             ],
             [
              0.8888888888888888,
              "#fdca26"
             ],
             [
              1,
              "#f0f921"
             ]
            ],
            "type": "heatmap"
           }
          ],
          "heatmapgl": [
           {
            "colorbar": {
             "outlinewidth": 0,
             "ticks": ""
            },
            "colorscale": [
             [
              0,
              "#0d0887"
             ],
             [
              0.1111111111111111,
              "#46039f"
             ],
             [
              0.2222222222222222,
              "#7201a8"
             ],
             [
              0.3333333333333333,
              "#9c179e"
             ],
             [
              0.4444444444444444,
              "#bd3786"
             ],
             [
              0.5555555555555556,
              "#d8576b"
             ],
             [
              0.6666666666666666,
              "#ed7953"
             ],
             [
              0.7777777777777778,
              "#fb9f3a"
             ],
             [
              0.8888888888888888,
              "#fdca26"
             ],
             [
              1,
              "#f0f921"
             ]
            ],
            "type": "heatmapgl"
           }
          ],
          "histogram": [
           {
            "marker": {
             "pattern": {
              "fillmode": "overlay",
              "size": 10,
              "solidity": 0.2
             }
            },
            "type": "histogram"
           }
          ],
          "histogram2d": [
           {
            "colorbar": {
             "outlinewidth": 0,
             "ticks": ""
            },
            "colorscale": [
             [
              0,
              "#0d0887"
             ],
             [
              0.1111111111111111,
              "#46039f"
             ],
             [
              0.2222222222222222,
              "#7201a8"
             ],
             [
              0.3333333333333333,
              "#9c179e"
             ],
             [
              0.4444444444444444,
              "#bd3786"
             ],
             [
              0.5555555555555556,
              "#d8576b"
             ],
             [
              0.6666666666666666,
              "#ed7953"
             ],
             [
              0.7777777777777778,
              "#fb9f3a"
             ],
             [
              0.8888888888888888,
              "#fdca26"
             ],
             [
              1,
              "#f0f921"
             ]
            ],
            "type": "histogram2d"
           }
          ],
          "histogram2dcontour": [
           {
            "colorbar": {
             "outlinewidth": 0,
             "ticks": ""
            },
            "colorscale": [
             [
              0,
              "#0d0887"
             ],
             [
              0.1111111111111111,
              "#46039f"
             ],
             [
              0.2222222222222222,
              "#7201a8"
             ],
             [
              0.3333333333333333,
              "#9c179e"
             ],
             [
              0.4444444444444444,
              "#bd3786"
             ],
             [
              0.5555555555555556,
              "#d8576b"
             ],
             [
              0.6666666666666666,
              "#ed7953"
             ],
             [
              0.7777777777777778,
              "#fb9f3a"
             ],
             [
              0.8888888888888888,
              "#fdca26"
             ],
             [
              1,
              "#f0f921"
             ]
            ],
            "type": "histogram2dcontour"
           }
          ],
          "mesh3d": [
           {
            "colorbar": {
             "outlinewidth": 0,
             "ticks": ""
            },
            "type": "mesh3d"
           }
          ],
          "parcoords": [
           {
            "line": {
             "colorbar": {
              "outlinewidth": 0,
              "ticks": ""
             }
            },
            "type": "parcoords"
           }
          ],
          "pie": [
           {
            "automargin": true,
            "type": "pie"
           }
          ],
          "scatter": [
           {
            "fillpattern": {
             "fillmode": "overlay",
             "size": 10,
             "solidity": 0.2
            },
            "type": "scatter"
           }
          ],
          "scatter3d": [
           {
            "line": {
             "colorbar": {
              "outlinewidth": 0,
              "ticks": ""
             }
            },
            "marker": {
             "colorbar": {
              "outlinewidth": 0,
              "ticks": ""
             }
            },
            "type": "scatter3d"
           }
          ],
          "scattercarpet": [
           {
            "marker": {
             "colorbar": {
              "outlinewidth": 0,
              "ticks": ""
             }
            },
            "type": "scattercarpet"
           }
          ],
          "scattergeo": [
           {
            "marker": {
             "colorbar": {
              "outlinewidth": 0,
              "ticks": ""
             }
            },
            "type": "scattergeo"
           }
          ],
          "scattergl": [
           {
            "marker": {
             "colorbar": {
              "outlinewidth": 0,
              "ticks": ""
             }
            },
            "type": "scattergl"
           }
          ],
          "scattermapbox": [
           {
            "marker": {
             "colorbar": {
              "outlinewidth": 0,
              "ticks": ""
             }
            },
            "type": "scattermapbox"
           }
          ],
          "scatterpolar": [
           {
            "marker": {
             "colorbar": {
              "outlinewidth": 0,
              "ticks": ""
             }
            },
            "type": "scatterpolar"
           }
          ],
          "scatterpolargl": [
           {
            "marker": {
             "colorbar": {
              "outlinewidth": 0,
              "ticks": ""
             }
            },
            "type": "scatterpolargl"
           }
          ],
          "scatterternary": [
           {
            "marker": {
             "colorbar": {
              "outlinewidth": 0,
              "ticks": ""
             }
            },
            "type": "scatterternary"
           }
          ],
          "surface": [
           {
            "colorbar": {
             "outlinewidth": 0,
             "ticks": ""
            },
            "colorscale": [
             [
              0,
              "#0d0887"
             ],
             [
              0.1111111111111111,
              "#46039f"
             ],
             [
              0.2222222222222222,
              "#7201a8"
             ],
             [
              0.3333333333333333,
              "#9c179e"
             ],
             [
              0.4444444444444444,
              "#bd3786"
             ],
             [
              0.5555555555555556,
              "#d8576b"
             ],
             [
              0.6666666666666666,
              "#ed7953"
             ],
             [
              0.7777777777777778,
              "#fb9f3a"
             ],
             [
              0.8888888888888888,
              "#fdca26"
             ],
             [
              1,
              "#f0f921"
             ]
            ],
            "type": "surface"
           }
          ],
          "table": [
           {
            "cells": {
             "fill": {
              "color": "#EBF0F8"
             },
             "line": {
              "color": "white"
             }
            },
            "header": {
             "fill": {
              "color": "#C8D4E3"
             },
             "line": {
              "color": "white"
             }
            },
            "type": "table"
           }
          ]
         },
         "layout": {
          "annotationdefaults": {
           "arrowcolor": "#2a3f5f",
           "arrowhead": 0,
           "arrowwidth": 1
          },
          "autotypenumbers": "strict",
          "coloraxis": {
           "colorbar": {
            "outlinewidth": 0,
            "ticks": ""
           }
          },
          "colorscale": {
           "diverging": [
            [
             0,
             "#8e0152"
            ],
            [
             0.1,
             "#c51b7d"
            ],
            [
             0.2,
             "#de77ae"
            ],
            [
             0.3,
             "#f1b6da"
            ],
            [
             0.4,
             "#fde0ef"
            ],
            [
             0.5,
             "#f7f7f7"
            ],
            [
             0.6,
             "#e6f5d0"
            ],
            [
             0.7,
             "#b8e186"
            ],
            [
             0.8,
             "#7fbc41"
            ],
            [
             0.9,
             "#4d9221"
            ],
            [
             1,
             "#276419"
            ]
           ],
           "sequential": [
            [
             0,
             "#0d0887"
            ],
            [
             0.1111111111111111,
             "#46039f"
            ],
            [
             0.2222222222222222,
             "#7201a8"
            ],
            [
             0.3333333333333333,
             "#9c179e"
            ],
            [
             0.4444444444444444,
             "#bd3786"
            ],
            [
             0.5555555555555556,
             "#d8576b"
            ],
            [
             0.6666666666666666,
             "#ed7953"
            ],
            [
             0.7777777777777778,
             "#fb9f3a"
            ],
            [
             0.8888888888888888,
             "#fdca26"
            ],
            [
             1,
             "#f0f921"
            ]
           ],
           "sequentialminus": [
            [
             0,
             "#0d0887"
            ],
            [
             0.1111111111111111,
             "#46039f"
            ],
            [
             0.2222222222222222,
             "#7201a8"
            ],
            [
             0.3333333333333333,
             "#9c179e"
            ],
            [
             0.4444444444444444,
             "#bd3786"
            ],
            [
             0.5555555555555556,
             "#d8576b"
            ],
            [
             0.6666666666666666,
             "#ed7953"
            ],
            [
             0.7777777777777778,
             "#fb9f3a"
            ],
            [
             0.8888888888888888,
             "#fdca26"
            ],
            [
             1,
             "#f0f921"
            ]
           ]
          },
          "colorway": [
           "#636efa",
           "#EF553B",
           "#00cc96",
           "#ab63fa",
           "#FFA15A",
           "#19d3f3",
           "#FF6692",
           "#B6E880",
           "#FF97FF",
           "#FECB52"
          ],
          "font": {
           "color": "#2a3f5f"
          },
          "geo": {
           "bgcolor": "white",
           "lakecolor": "white",
           "landcolor": "#E5ECF6",
           "showlakes": true,
           "showland": true,
           "subunitcolor": "white"
          },
          "hoverlabel": {
           "align": "left"
          },
          "hovermode": "closest",
          "mapbox": {
           "style": "light"
          },
          "paper_bgcolor": "white",
          "plot_bgcolor": "#E5ECF6",
          "polar": {
           "angularaxis": {
            "gridcolor": "white",
            "linecolor": "white",
            "ticks": ""
           },
           "bgcolor": "#E5ECF6",
           "radialaxis": {
            "gridcolor": "white",
            "linecolor": "white",
            "ticks": ""
           }
          },
          "scene": {
           "xaxis": {
            "backgroundcolor": "#E5ECF6",
            "gridcolor": "white",
            "gridwidth": 2,
            "linecolor": "white",
            "showbackground": true,
            "ticks": "",
            "zerolinecolor": "white"
           },
           "yaxis": {
            "backgroundcolor": "#E5ECF6",
            "gridcolor": "white",
            "gridwidth": 2,
            "linecolor": "white",
            "showbackground": true,
            "ticks": "",
            "zerolinecolor": "white"
           },
           "zaxis": {
            "backgroundcolor": "#E5ECF6",
            "gridcolor": "white",
            "gridwidth": 2,
            "linecolor": "white",
            "showbackground": true,
            "ticks": "",
            "zerolinecolor": "white"
           }
          },
          "shapedefaults": {
           "line": {
            "color": "#2a3f5f"
           }
          },
          "ternary": {
           "aaxis": {
            "gridcolor": "white",
            "linecolor": "white",
            "ticks": ""
           },
           "baxis": {
            "gridcolor": "white",
            "linecolor": "white",
            "ticks": ""
           },
           "bgcolor": "#E5ECF6",
           "caxis": {
            "gridcolor": "white",
            "linecolor": "white",
            "ticks": ""
           }
          },
          "title": {
           "x": 0.05
          },
          "xaxis": {
           "automargin": true,
           "gridcolor": "white",
           "linecolor": "white",
           "ticks": "",
           "title": {
            "standoff": 15
           },
           "zerolinecolor": "white",
           "zerolinewidth": 2
          },
          "yaxis": {
           "automargin": true,
           "gridcolor": "white",
           "linecolor": "white",
           "ticks": "",
           "title": {
            "standoff": 15
           },
           "zerolinecolor": "white",
           "zerolinewidth": 2
          }
         }
        },
        "xaxis": {
         "anchor": "y",
         "domain": [
          0,
          1
         ],
         "tickfont": {
          "size": 20
         },
         "tickformat": "%H:%M:%S",
         "title": {
          "font": {
           "size": 20
          },
          "text": "Time"
         },
         "type": "date"
        },
        "yaxis": {
         "anchor": "x",
         "categoryarray": [
          "Evening_Meds",
          "Groom",
          "Step_Out",
          "Work_At_Desk",
          "Leave_Home",
          "Work_On_Computer",
          "Toilet",
          "Drink",
          "Read",
          "Eat_Breakfast",
          "Cook_Breakfast",
          "Dress",
          "Personal_Hygiene",
          "Other_Activity",
          "Sleep"
         ],
         "categoryorder": "array",
         "domain": [
          0,
          1
         ],
         "tickfont": {
          "size": 20
         },
         "title": {
          "font": {
           "size": 20
          },
          "text": "Activity"
         }
        }
       }
      }
     },
     "metadata": {},
     "output_type": "display_data"
    }
   ],
   "source": [
    "import plotly.graph_objects as go\n",
    "import plotly.express as px\n",
    "import pandas as pd\n",
    "import numpy as np\n",
    "import time\n",
    "\n",
    "df_activity = pd.read_csv('Activity.csv')\n",
    "# Plot the data for one day\n",
    "df_day = df_activity[df_activity['Start time'].str.contains('2011-06-20')]\n",
    "\n",
    "# Add row to beginning of dataframe for sleep 00:00:00 to start time\n",
    "new_row = {\n",
    "    'Activity': 'Sleep',\n",
    "    'Start time': '2011-06-20 00:00:00',\n",
    "    'Duration': (time.mktime(time.strptime(df_day.iloc[0]['Start time'], '%Y-%m-%d %H:%M:%S')) - time.mktime(time.strptime('2011-06-20 00:00:00', '%Y-%m-%d %H:%M:%S'))) / 60,\n",
    "    'Number of interruptions': 0,\n",
    "    'Duration of interruptions': 0,\n",
    "    'Day of activity': df_day.iloc[0]['Day of activity'],\n",
    "    'Weekend or weekday': df_day.iloc[0]['Weekend or weekday'],\n",
    "    'Start time short': '00:00:00'\n",
    "}\n",
    "\n",
    "df_day = df_day.append(new_row, ignore_index=True)\n",
    "df_day = df_day.sort_values(by=['Start time'])\n",
    "\n",
    "# Set end time of each activity as start time of next activity\n",
    "df_day['End time'] = df_day['Start time'].shift(-1)\n",
    "df_day['End time'] = df_day['End time'].fillna('2011-06-20 23:59:59')\n",
    "\n",
    "\n",
    "data = []\n",
    "for i in range(len(df_day)):\n",
    "    if i < len(px.colors.qualitative.Pastel):\n",
    "        j = i\n",
    "    else:\n",
    "        j = i % len(px.colors.qualitative.Pastel)\n",
    "    data.append(dict(\n",
    "        Activity=df_day.iloc[i]['Activity'], \n",
    "        Start=df_day.iloc[i]['Start time'],\n",
    "        Finish=df_day.iloc[i]['End time'],\n",
    "    ))\n",
    "\n",
    "df = pd.DataFrame(data)\n",
    "# Set color palette\n",
    "fig = px.timeline(df, x_start=\"Start\", x_end=\"Finish\", y=\"Activity\", color=\"Activity\", color_discrete_sequence=px.colors.qualitative.Pastel)\n",
    "\n",
    "# Leave date out of x-axis, only show time\n",
    "fig.update_xaxes(\n",
    "    tickformat='%H:%M:%S',\n",
    "    title_text='Time',\n",
    "    title_font_size=20,\n",
    "    tickfont_size=20,\n",
    ")\n",
    "\n",
    "fig.update_yaxes(\n",
    "    title_text='Activity',\n",
    "    title_font_size=20,\n",
    "    tickfont_size=20,\n",
    ")\n",
    "\n",
    "fig.update_layout(showlegend=False)\n",
    "fig.show()\n",
    "\n",
    "fig.write_image(\"Activity.png\", width=1500, height=800, scale=3)\n",
    "\n"
   ]
  }
 ],
 "metadata": {
  "kernelspec": {
   "display_name": "DP4",
   "language": "python",
   "name": "python3"
  },
  "language_info": {
   "codemirror_mode": {
    "name": "ipython",
    "version": 3
   },
   "file_extension": ".py",
   "mimetype": "text/x-python",
   "name": "python",
   "nbconvert_exporter": "python",
   "pygments_lexer": "ipython3",
   "version": "3.10.9"
  },
  "orig_nbformat": 4
 },
 "nbformat": 4,
 "nbformat_minor": 2
}
