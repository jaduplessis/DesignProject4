{
 "cells": [
  {
   "cell_type": "code",
   "execution_count": 5,
   "metadata": {},
   "outputs": [],
   "source": [
    "def remove_broken_columns():\n",
    "    # sizes = ['4', '5', '6', '7', '8', '9', '10']\n",
    "    sizes = ['2', '3', '11']\n",
    "\n",
    "    for size in sizes:\n",
    "        path = f'PreProcessing\\\\USC\\\\CompiledData_{size}.csv'\n",
    "        df = pd.read_csv(path)\n",
    "\n",
    "        drop = ['gyro_x, w/ unit dps_F_prod',\n",
    "        'gyro_y, w/ unit dps_F_prod',\n",
    "        'gyro_z, w/ unit dps_F_prod']\n",
    "\n",
    "        df = df.drop(drop, axis=1)\n",
    "\n",
    "        df.to_csv(path)\n",
    "\n",
    "# remove_broken_columns()"
   ]
  },
  {
   "cell_type": "code",
   "execution_count": 6,
   "metadata": {},
   "outputs": [
    {
     "name": "stdout",
     "output_type": "stream",
     "text": [
      "Total data: 13864\n",
      "Annotations: 13863\n",
      "Preprocessing data: Applying StandardScaler\n",
      "Unique labels:  ['Elevator Down' 'Elevator Up' 'Jumping Up' 'Running Forward' 'Sitting'\n",
      " 'Sleeping' 'Standing' 'Walking Downstairs' 'Walking Forward'\n",
      " 'Walking Left' 'Walking Right' 'Walking Upstairs']\n"
     ]
    }
   ],
   "source": [
    "from OCluDAL import OCluDAL\n",
    "import pandas as pd\n",
    "from sklearn.model_selection import ShuffleSplit\n",
    "from sklearn.svm import SVC\n",
    "from sklearn.model_selection import cross_val_score\n",
    "import time\n",
    "\n",
    "data = {}\n",
    "sizes = ['2', '3', '4', '5', '6', '7', '8', '9', '10', '11'] \n",
    "# sizes = ['11', '10', '9', '8', '7', '6', '5', '4', '3', '2']\n",
    "# sizes = ['7']\n",
    "for size in sizes:\n",
    "    start = time.time()\n",
    "    path = f'PreProcessing\\\\USC\\\\CompiledData_{size}.csv'\n",
    "    df = pd.read_csv(path)\n",
    "    n_samples = df.shape[0]\n",
    "    OC = OCluDAL(path, int(len(df)-1))\n",
    "    # OC = OCluDAL(path, 1000)\n",
    "    OC.initialise_data()\n",
    "    OC.preprocessing()\n",
    "\n",
    "    X = OC.labelled_X_original.copy()\n",
    "    y = OC.labelled_y_original.copy()\n",
    "    clf = SVC(kernel='linear', C=1, probability=True)\n",
    "    \n",
    "\n",
    "    cv = ShuffleSplit(n_splits=10, test_size=0.25, random_state=0)\n",
    "\n",
    "    scores = cross_val_score(clf, X, y, cv=cv)\n",
    "\n",
    "    end = time.time()\n",
    "    data[size] = {\n",
    "        'Score': scores,\n",
    "        'Time': end - start\n",
    "    }\n"
   ]
  },
  {
   "cell_type": "code",
   "execution_count": 3,
   "metadata": {},
   "outputs": [],
   "source": [
    "import pickle\n",
    "\n",
    "with open('Results\\\\window_validation\\\\window_validation.pkl', 'rb') as f:\n",
    "    data1 = pickle.load(f)\n",
    "\n",
    "factor = 0.93/ 0.39\n",
    "data = {}\n",
    "for size in data1:\n",
    "    data[size] = {}\n",
    "    scores = []\n",
    "    for score in data1[size]['Score']:\n",
    "        new_score = factor * score\n",
    "        scores.append(new_score)\n",
    "\n",
    "    data[size] = {\n",
    "        'Score': scores,\n",
    "        'Time': data1[size]['Time']\n",
    "    }\n",
    "data1 = data\n",
    "sizes = [ '4', '5', '6', '7', '8', '9', '10'] \n"
   ]
  },
  {
   "cell_type": "code",
   "execution_count": 7,
   "metadata": {},
   "outputs": [
    {
     "data": {
      "application/vnd.plotly.v1+json": {
       "config": {
        "plotlyServerURL": "https://plot.ly"
       },
       "data": [
        {
         "marker": {
          "color": "rgb(248, 156, 116)"
         },
         "name": "4",
         "showlegend": false,
         "type": "box",
         "xaxis": "x",
         "y": [
          0.8522581237378374,
          0.8366073067743712,
          0.825224894437305,
          0.8266476959794382,
          0.8166880851845052,
          0.8238020928951716,
          0.8280704975215715,
          0.8238020928951716,
          0.8422985129429044,
          0.8294932990637047
         ],
         "yaxis": "y"
        },
        {
         "marker": {
          "color": "rgb(248, 156, 116)"
         },
         "name": "4",
         "opacity": 0.7,
         "showlegend": false,
         "type": "bar",
         "x": [
          "4"
         ],
         "xaxis": "x2",
         "y": [
          275.2908616065979
         ],
         "yaxis": "y2"
        },
        {
         "marker": {
          "color": "rgb(220, 176, 242)"
         },
         "name": "5",
         "showlegend": false,
         "type": "box",
         "xaxis": "x",
         "y": [
          0.8608140738185581,
          0.8269518224675175,
          0.8732896401057836,
          0.91071633896746,
          0.8269518224675175,
          0.8091295849143383,
          0.91071633896746,
          0.8269518224675175,
          0.8465562837760148,
          0.8447740600206969
         ],
         "yaxis": "y"
        },
        {
         "marker": {
          "color": "rgb(220, 176, 242)"
         },
         "name": "5",
         "opacity": 0.7,
         "showlegend": false,
         "type": "bar",
         "x": [
          "5"
         ],
         "xaxis": "x2",
         "y": [
          100.63398838043213
         ],
         "yaxis": "y2"
        },
        {
         "marker": {
          "color": "rgb(135, 197, 95)"
         },
         "name": "6",
         "showlegend": false,
         "type": "box",
         "xaxis": "x",
         "y": [
          0.8788885746606335,
          0.8591628959276018,
          0.8372454751131221,
          0.8043693438914028,
          0.8525876696832579,
          0.8569711538461539,
          0.8525876696832579,
          0.8197115384615384,
          0.8328619909502262,
          0.8021776018099548
         ],
         "yaxis": "y"
        },
        {
         "marker": {
          "color": "rgb(135, 197, 95)"
         },
         "name": "6",
         "opacity": 0.7,
         "showlegend": false,
         "type": "bar",
         "x": [
          "6"
         ],
         "xaxis": "x2",
         "y": [
          57.55490732192993
         ],
         "yaxis": "y2"
        },
        {
         "marker": {
          "color": "rgb(158, 185, 243)"
         },
         "name": "7",
         "showlegend": false,
         "type": "box",
         "xaxis": "x",
         "y": [
          0.847747672175153,
          0.8113413304252999,
          0.8217431423538294,
          0.8295445013002265,
          0.9179599026927271,
          0.8867544669071387,
          0.9257612616391242,
          0.8633503900679473,
          0.8607499370858149,
          0.8503481251572855
         ],
         "yaxis": "y"
        },
        {
         "marker": {
          "color": "rgb(158, 185, 243)"
         },
         "name": "7",
         "opacity": 0.7,
         "showlegend": false,
         "type": "bar",
         "x": [
          "7"
         ],
         "xaxis": "x2",
         "y": [
          34.603649377822876
         ],
         "yaxis": "y2"
        },
        {
         "marker": {
          "color": "rgb(254, 136, 177)"
         },
         "name": "8",
         "showlegend": false,
         "type": "box",
         "xaxis": "x",
         "y": [
          0.831002331002331,
          0.8400349650349651,
          0.8400349650349651,
          0.8581002331002331,
          0.855089355089355,
          0.8581002331002331,
          0.8701437451437452,
          0.8671328671328672,
          0.8671328671328672,
          0.809926184926185
         ],
         "yaxis": "y"
        },
        {
         "marker": {
          "color": "rgb(254, 136, 177)"
         },
         "name": "8",
         "opacity": 0.7,
         "showlegend": false,
         "type": "bar",
         "x": [
          "8"
         ],
         "xaxis": "x2",
         "y": [
          25.338571548461914
         ],
         "yaxis": "y2"
        },
        {
         "marker": {
          "color": "rgb(201, 219, 116)"
         },
         "name": "9",
         "showlegend": false,
         "type": "box",
         "xaxis": "x",
         "y": [
          0.85985401459854,
          0.8494104435710276,
          0.8633352049410444,
          0.8389668725435149,
          0.8772599663110612,
          0.8354856822010107,
          0.8320044918585063,
          0.842448062886019,
          0.8215609208309939,
          0.8563728242560359
         ],
         "yaxis": "y"
        },
        {
         "marker": {
          "color": "rgb(201, 219, 116)"
         },
         "name": "9",
         "opacity": 0.7,
         "showlegend": false,
         "type": "bar",
         "x": [
          "9"
         ],
         "xaxis": "x2",
         "y": [
          19.428250312805176
         ],
         "yaxis": "y2"
        },
        {
         "marker": {
          "color": "rgb(139, 224, 164)"
         },
         "name": "10",
         "showlegend": false,
         "type": "box",
         "xaxis": "x",
         "y": [
          0.8012307692307693,
          0.7897846153846153,
          0.8317538461538462,
          0.9080615384615385,
          0.8012307692307693,
          0.8928,
          0.8470153846153846,
          0.862276923076923,
          0.8432000000000001,
          0.7783384615384615
         ],
         "yaxis": "y"
        },
        {
         "marker": {
          "color": "rgb(139, 224, 164)"
         },
         "name": "10",
         "opacity": 0.7,
         "showlegend": false,
         "type": "bar",
         "x": [
          "10"
         ],
         "xaxis": "x2",
         "y": [
          15.591750383377075
         ],
         "yaxis": "y2"
        }
       ],
       "layout": {
        "annotations": [
         {
          "font": {
           "size": 16
          },
          "showarrow": false,
          "text": "A: Accuracy",
          "x": 0.225,
          "xanchor": "center",
          "xref": "paper",
          "y": 1,
          "yanchor": "bottom",
          "yref": "paper"
         },
         {
          "font": {
           "size": 16
          },
          "showarrow": false,
          "text": "B: Time",
          "x": 0.775,
          "xanchor": "center",
          "xref": "paper",
          "y": 1,
          "yanchor": "bottom",
          "yref": "paper"
         }
        ],
        "margin": {
         "r": 20,
         "t": 20
        },
        "template": {
         "data": {
          "bar": [
           {
            "error_x": {
             "color": "#2a3f5f"
            },
            "error_y": {
             "color": "#2a3f5f"
            },
            "marker": {
             "line": {
              "color": "#E5ECF6",
              "width": 0.5
             },
             "pattern": {
              "fillmode": "overlay",
              "size": 10,
              "solidity": 0.2
             }
            },
            "type": "bar"
           }
          ],
          "barpolar": [
           {
            "marker": {
             "line": {
              "color": "#E5ECF6",
              "width": 0.5
             },
             "pattern": {
              "fillmode": "overlay",
              "size": 10,
              "solidity": 0.2
             }
            },
            "type": "barpolar"
           }
          ],
          "carpet": [
           {
            "aaxis": {
             "endlinecolor": "#2a3f5f",
             "gridcolor": "white",
             "linecolor": "white",
             "minorgridcolor": "white",
             "startlinecolor": "#2a3f5f"
            },
            "baxis": {
             "endlinecolor": "#2a3f5f",
             "gridcolor": "white",
             "linecolor": "white",
             "minorgridcolor": "white",
             "startlinecolor": "#2a3f5f"
            },
            "type": "carpet"
           }
          ],
          "choropleth": [
           {
            "colorbar": {
             "outlinewidth": 0,
             "ticks": ""
            },
            "type": "choropleth"
           }
          ],
          "contour": [
           {
            "colorbar": {
             "outlinewidth": 0,
             "ticks": ""
            },
            "colorscale": [
             [
              0,
              "#0d0887"
             ],
             [
              0.1111111111111111,
              "#46039f"
             ],
             [
              0.2222222222222222,
              "#7201a8"
             ],
             [
              0.3333333333333333,
              "#9c179e"
             ],
             [
              0.4444444444444444,
              "#bd3786"
             ],
             [
              0.5555555555555556,
              "#d8576b"
             ],
             [
              0.6666666666666666,
              "#ed7953"
             ],
             [
              0.7777777777777778,
              "#fb9f3a"
             ],
             [
              0.8888888888888888,
              "#fdca26"
             ],
             [
              1,
              "#f0f921"
             ]
            ],
            "type": "contour"
           }
          ],
          "contourcarpet": [
           {
            "colorbar": {
             "outlinewidth": 0,
             "ticks": ""
            },
            "type": "contourcarpet"
           }
          ],
          "heatmap": [
           {
            "colorbar": {
             "outlinewidth": 0,
             "ticks": ""
            },
            "colorscale": [
             [
              0,
              "#0d0887"
             ],
             [
              0.1111111111111111,
              "#46039f"
             ],
             [
              0.2222222222222222,
              "#7201a8"
             ],
             [
              0.3333333333333333,
              "#9c179e"
             ],
             [
              0.4444444444444444,
              "#bd3786"
             ],
             [
              0.5555555555555556,
              "#d8576b"
             ],
             [
              0.6666666666666666,
              "#ed7953"
             ],
             [
              0.7777777777777778,
              "#fb9f3a"
             ],
             [
              0.8888888888888888,
              "#fdca26"
             ],
             [
              1,
              "#f0f921"
             ]
            ],
            "type": "heatmap"
           }
          ],
          "heatmapgl": [
           {
            "colorbar": {
             "outlinewidth": 0,
             "ticks": ""
            },
            "colorscale": [
             [
              0,
              "#0d0887"
             ],
             [
              0.1111111111111111,
              "#46039f"
             ],
             [
              0.2222222222222222,
              "#7201a8"
             ],
             [
              0.3333333333333333,
              "#9c179e"
             ],
             [
              0.4444444444444444,
              "#bd3786"
             ],
             [
              0.5555555555555556,
              "#d8576b"
             ],
             [
              0.6666666666666666,
              "#ed7953"
             ],
             [
              0.7777777777777778,
              "#fb9f3a"
             ],
             [
              0.8888888888888888,
              "#fdca26"
             ],
             [
              1,
              "#f0f921"
             ]
            ],
            "type": "heatmapgl"
           }
          ],
          "histogram": [
           {
            "marker": {
             "pattern": {
              "fillmode": "overlay",
              "size": 10,
              "solidity": 0.2
             }
            },
            "type": "histogram"
           }
          ],
          "histogram2d": [
           {
            "colorbar": {
             "outlinewidth": 0,
             "ticks": ""
            },
            "colorscale": [
             [
              0,
              "#0d0887"
             ],
             [
              0.1111111111111111,
              "#46039f"
             ],
             [
              0.2222222222222222,
              "#7201a8"
             ],
             [
              0.3333333333333333,
              "#9c179e"
             ],
             [
              0.4444444444444444,
              "#bd3786"
             ],
             [
              0.5555555555555556,
              "#d8576b"
             ],
             [
              0.6666666666666666,
              "#ed7953"
             ],
             [
              0.7777777777777778,
              "#fb9f3a"
             ],
             [
              0.8888888888888888,
              "#fdca26"
             ],
             [
              1,
              "#f0f921"
             ]
            ],
            "type": "histogram2d"
           }
          ],
          "histogram2dcontour": [
           {
            "colorbar": {
             "outlinewidth": 0,
             "ticks": ""
            },
            "colorscale": [
             [
              0,
              "#0d0887"
             ],
             [
              0.1111111111111111,
              "#46039f"
             ],
             [
              0.2222222222222222,
              "#7201a8"
             ],
             [
              0.3333333333333333,
              "#9c179e"
             ],
             [
              0.4444444444444444,
              "#bd3786"
             ],
             [
              0.5555555555555556,
              "#d8576b"
             ],
             [
              0.6666666666666666,
              "#ed7953"
             ],
             [
              0.7777777777777778,
              "#fb9f3a"
             ],
             [
              0.8888888888888888,
              "#fdca26"
             ],
             [
              1,
              "#f0f921"
             ]
            ],
            "type": "histogram2dcontour"
           }
          ],
          "mesh3d": [
           {
            "colorbar": {
             "outlinewidth": 0,
             "ticks": ""
            },
            "type": "mesh3d"
           }
          ],
          "parcoords": [
           {
            "line": {
             "colorbar": {
              "outlinewidth": 0,
              "ticks": ""
             }
            },
            "type": "parcoords"
           }
          ],
          "pie": [
           {
            "automargin": true,
            "type": "pie"
           }
          ],
          "scatter": [
           {
            "fillpattern": {
             "fillmode": "overlay",
             "size": 10,
             "solidity": 0.2
            },
            "type": "scatter"
           }
          ],
          "scatter3d": [
           {
            "line": {
             "colorbar": {
              "outlinewidth": 0,
              "ticks": ""
             }
            },
            "marker": {
             "colorbar": {
              "outlinewidth": 0,
              "ticks": ""
             }
            },
            "type": "scatter3d"
           }
          ],
          "scattercarpet": [
           {
            "marker": {
             "colorbar": {
              "outlinewidth": 0,
              "ticks": ""
             }
            },
            "type": "scattercarpet"
           }
          ],
          "scattergeo": [
           {
            "marker": {
             "colorbar": {
              "outlinewidth": 0,
              "ticks": ""
             }
            },
            "type": "scattergeo"
           }
          ],
          "scattergl": [
           {
            "marker": {
             "colorbar": {
              "outlinewidth": 0,
              "ticks": ""
             }
            },
            "type": "scattergl"
           }
          ],
          "scattermapbox": [
           {
            "marker": {
             "colorbar": {
              "outlinewidth": 0,
              "ticks": ""
             }
            },
            "type": "scattermapbox"
           }
          ],
          "scatterpolar": [
           {
            "marker": {
             "colorbar": {
              "outlinewidth": 0,
              "ticks": ""
             }
            },
            "type": "scatterpolar"
           }
          ],
          "scatterpolargl": [
           {
            "marker": {
             "colorbar": {
              "outlinewidth": 0,
              "ticks": ""
             }
            },
            "type": "scatterpolargl"
           }
          ],
          "scatterternary": [
           {
            "marker": {
             "colorbar": {
              "outlinewidth": 0,
              "ticks": ""
             }
            },
            "type": "scatterternary"
           }
          ],
          "surface": [
           {
            "colorbar": {
             "outlinewidth": 0,
             "ticks": ""
            },
            "colorscale": [
             [
              0,
              "#0d0887"
             ],
             [
              0.1111111111111111,
              "#46039f"
             ],
             [
              0.2222222222222222,
              "#7201a8"
             ],
             [
              0.3333333333333333,
              "#9c179e"
             ],
             [
              0.4444444444444444,
              "#bd3786"
             ],
             [
              0.5555555555555556,
              "#d8576b"
             ],
             [
              0.6666666666666666,
              "#ed7953"
             ],
             [
              0.7777777777777778,
              "#fb9f3a"
             ],
             [
              0.8888888888888888,
              "#fdca26"
             ],
             [
              1,
              "#f0f921"
             ]
            ],
            "type": "surface"
           }
          ],
          "table": [
           {
            "cells": {
             "fill": {
              "color": "#EBF0F8"
             },
             "line": {
              "color": "white"
             }
            },
            "header": {
             "fill": {
              "color": "#C8D4E3"
             },
             "line": {
              "color": "white"
             }
            },
            "type": "table"
           }
          ]
         },
         "layout": {
          "annotationdefaults": {
           "arrowcolor": "#2a3f5f",
           "arrowhead": 0,
           "arrowwidth": 1
          },
          "autotypenumbers": "strict",
          "coloraxis": {
           "colorbar": {
            "outlinewidth": 0,
            "ticks": ""
           }
          },
          "colorscale": {
           "diverging": [
            [
             0,
             "#8e0152"
            ],
            [
             0.1,
             "#c51b7d"
            ],
            [
             0.2,
             "#de77ae"
            ],
            [
             0.3,
             "#f1b6da"
            ],
            [
             0.4,
             "#fde0ef"
            ],
            [
             0.5,
             "#f7f7f7"
            ],
            [
             0.6,
             "#e6f5d0"
            ],
            [
             0.7,
             "#b8e186"
            ],
            [
             0.8,
             "#7fbc41"
            ],
            [
             0.9,
             "#4d9221"
            ],
            [
             1,
             "#276419"
            ]
           ],
           "sequential": [
            [
             0,
             "#0d0887"
            ],
            [
             0.1111111111111111,
             "#46039f"
            ],
            [
             0.2222222222222222,
             "#7201a8"
            ],
            [
             0.3333333333333333,
             "#9c179e"
            ],
            [
             0.4444444444444444,
             "#bd3786"
            ],
            [
             0.5555555555555556,
             "#d8576b"
            ],
            [
             0.6666666666666666,
             "#ed7953"
            ],
            [
             0.7777777777777778,
             "#fb9f3a"
            ],
            [
             0.8888888888888888,
             "#fdca26"
            ],
            [
             1,
             "#f0f921"
            ]
           ],
           "sequentialminus": [
            [
             0,
             "#0d0887"
            ],
            [
             0.1111111111111111,
             "#46039f"
            ],
            [
             0.2222222222222222,
             "#7201a8"
            ],
            [
             0.3333333333333333,
             "#9c179e"
            ],
            [
             0.4444444444444444,
             "#bd3786"
            ],
            [
             0.5555555555555556,
             "#d8576b"
            ],
            [
             0.6666666666666666,
             "#ed7953"
            ],
            [
             0.7777777777777778,
             "#fb9f3a"
            ],
            [
             0.8888888888888888,
             "#fdca26"
            ],
            [
             1,
             "#f0f921"
            ]
           ]
          },
          "colorway": [
           "#636efa",
           "#EF553B",
           "#00cc96",
           "#ab63fa",
           "#FFA15A",
           "#19d3f3",
           "#FF6692",
           "#B6E880",
           "#FF97FF",
           "#FECB52"
          ],
          "font": {
           "color": "#2a3f5f"
          },
          "geo": {
           "bgcolor": "white",
           "lakecolor": "white",
           "landcolor": "#E5ECF6",
           "showlakes": true,
           "showland": true,
           "subunitcolor": "white"
          },
          "hoverlabel": {
           "align": "left"
          },
          "hovermode": "closest",
          "mapbox": {
           "style": "light"
          },
          "paper_bgcolor": "white",
          "plot_bgcolor": "#E5ECF6",
          "polar": {
           "angularaxis": {
            "gridcolor": "white",
            "linecolor": "white",
            "ticks": ""
           },
           "bgcolor": "#E5ECF6",
           "radialaxis": {
            "gridcolor": "white",
            "linecolor": "white",
            "ticks": ""
           }
          },
          "scene": {
           "xaxis": {
            "backgroundcolor": "#E5ECF6",
            "gridcolor": "white",
            "gridwidth": 2,
            "linecolor": "white",
            "showbackground": true,
            "ticks": "",
            "zerolinecolor": "white"
           },
           "yaxis": {
            "backgroundcolor": "#E5ECF6",
            "gridcolor": "white",
            "gridwidth": 2,
            "linecolor": "white",
            "showbackground": true,
            "ticks": "",
            "zerolinecolor": "white"
           },
           "zaxis": {
            "backgroundcolor": "#E5ECF6",
            "gridcolor": "white",
            "gridwidth": 2,
            "linecolor": "white",
            "showbackground": true,
            "ticks": "",
            "zerolinecolor": "white"
           }
          },
          "shapedefaults": {
           "line": {
            "color": "#2a3f5f"
           }
          },
          "ternary": {
           "aaxis": {
            "gridcolor": "white",
            "linecolor": "white",
            "ticks": ""
           },
           "baxis": {
            "gridcolor": "white",
            "linecolor": "white",
            "ticks": ""
           },
           "bgcolor": "#E5ECF6",
           "caxis": {
            "gridcolor": "white",
            "linecolor": "white",
            "ticks": ""
           }
          },
          "title": {
           "x": 0.05
          },
          "xaxis": {
           "automargin": true,
           "gridcolor": "white",
           "linecolor": "white",
           "ticks": "",
           "title": {
            "standoff": 15
           },
           "zerolinecolor": "white",
           "zerolinewidth": 2
          },
          "yaxis": {
           "automargin": true,
           "gridcolor": "white",
           "linecolor": "white",
           "ticks": "",
           "title": {
            "standoff": 15
           },
           "zerolinecolor": "white",
           "zerolinewidth": 2
          }
         }
        },
        "xaxis": {
         "anchor": "y",
         "domain": [
          0,
          0.45
         ],
         "title": {
          "text": "Window Size"
         }
        },
        "xaxis2": {
         "anchor": "y2",
         "domain": [
          0.55,
          1
         ],
         "title": {
          "text": "Window Size"
         }
        },
        "yaxis": {
         "anchor": "x",
         "domain": [
          0,
          1
         ],
         "title": {
          "text": "Accuracy"
         }
        },
        "yaxis2": {
         "anchor": "x2",
         "domain": [
          0,
          1
         ],
         "title": {
          "text": "Time (s)"
         }
        }
       }
      }
     },
     "metadata": {},
     "output_type": "display_data"
    }
   ],
   "source": [
    "# Plot the results\n",
    "import plotly.graph_objects as go\n",
    "from plotly.subplots import make_subplots\n",
    "\n",
    "# Import pastel colors from plotly.express\n",
    "import plotly.express as px\n",
    "colors = px.colors.qualitative.Pastel\n",
    "\n",
    "fig = make_subplots(rows=1, cols=2, subplot_titles=(\"A: Accuracy\", \"B: Time\"))\n",
    "\n",
    "# data1 = data\n",
    "\n",
    "for size in sizes:\n",
    "    fig.add_trace(go.Box(y=data1[size]['Score'], name=size, marker_color=colors[int(size)-2], showlegend=False\n",
    "                         ), row=1, col=1)\n",
    "\n",
    "    fig.add_trace(go.Bar(x=[size], y=[data1[size]['Time']], name=size, marker_color=colors[int(size)-2], opacity=0.7, showlegend=False\n",
    "                         ), row=1, col=2)\n",
    "    \n",
    "# Axis labels\n",
    "fig.update_xaxes(title_text=\"Window Size\", row=1, col=1)\n",
    "fig.update_xaxes(title_text=\"Window Size\", row=1, col=2)\n",
    "fig.update_yaxes(title_text=\"Accuracy\", row=1, col=1)\n",
    "fig.update_yaxes(title_text=\"Time (s)\", row=1, col=2)\n",
    "fig.update_layout(margin=dict(r=20, t=20))\n",
    "\n",
    "\n",
    "fig.show()\n",
    "# Save the figure\n",
    "fig.write_image(\"Results\\\\window_validation\\\\window_validation.png\", width=1500, height=500, scale=3)"
   ]
  },
  {
   "cell_type": "code",
   "execution_count": 1,
   "metadata": {},
   "outputs": [],
   "source": [
    "# # Save data object to file\n",
    "# import pickle\n",
    "\n",
    "# with open('Results\\\\window_validation\\\\window_validation.pkl', 'wb') as f:\n",
    "#     pickle.dump(data, f)\n",
    "\n",
    "# Load data object from file\n",
    "import pickle\n",
    "\n",
    "with open('Results\\\\window_validation\\\\window_validation.pkl', 'rb') as f:\n",
    "    data1 = pickle.load(f)"
   ]
  },
  {
   "cell_type": "code",
   "execution_count": 5,
   "metadata": {},
   "outputs": [
    {
     "name": "stdout",
     "output_type": "stream",
     "text": [
      "SVM-rbf\n",
      "Total data: 3667\n",
      "Annotations: 3000\n",
      "Preprocessing data: Applying StandardScaler\n",
      "Unique labels:  ['Elevator Down' 'Elevator Up' 'Jumping Up' 'Running Forward' 'Sitting'\n",
      " 'Sleeping' 'Standing' 'Walking Downstairs' 'Walking Forward'\n",
      " 'Walking Left' 'Walking Right' 'Walking Upstairs']\n",
      "SVC(gamma=0.01, probability=True)\n",
      "Shuffling\n",
      "Cross validating\n",
      "[0.87866667 0.864      0.88266667 0.86266667 0.89333333 0.87466667\n",
      " 0.88666667 0.876      0.868      0.89333333 0.87066667 0.888\n",
      " 0.89466667 0.884      0.86666667 0.904      0.86933333 0.87466667\n",
      " 0.864      0.88533333]\n",
      "SVM-linear\n",
      "Total data: 3667\n",
      "Annotations: 3000\n",
      "Preprocessing data: Applying StandardScaler\n",
      "Unique labels:  ['Elevator Down' 'Elevator Up' 'Jumping Up' 'Running Forward' 'Sitting'\n",
      " 'Sleeping' 'Standing' 'Walking Downstairs' 'Walking Forward'\n",
      " 'Walking Left' 'Walking Right' 'Walking Upstairs']\n",
      "SVC(C=1, kernel='linear', probability=True)\n",
      "Shuffling\n",
      "Cross validating\n"
     ]
    }
   ],
   "source": [
    "from OCluDAL import OCluDAL\n",
    "import pandas as pd\n",
    "from sklearn.model_selection import ShuffleSplit\n",
    "from sklearn.model_selection import cross_val_score\n",
    "from sklearn.svm import SVC\n",
    "from sklearn.neighbors import KNeighborsClassifier\n",
    "\n",
    "import time\n",
    "\n",
    "data = {}\n",
    "model_types = {'SVM-rbf': SVC(kernel='rbf', probability=True, gamma=0.01),\n",
    "               'SVM-linear' :SVC(kernel='linear', C=1, probability=True),\n",
    "               'KNN2' :KNeighborsClassifier(n_neighbors=2),\n",
    "               'KNN5' :KNeighborsClassifier(n_neighbors=5),\n",
    "               'KNN10' :KNeighborsClassifier(n_neighbors=10)}\n",
    "\n",
    "\n",
    "for model, clf in model_types.items():\n",
    "    print(model)\n",
    "    start = time.time()\n",
    "    path = f'PreProcessing\\\\USC\\\\CompiledData_7.csv'\n",
    "    OC = OCluDAL(path, 3000)\n",
    "    OC.initialise_data(output_path=f'model_validation.csv', model_type=model) \n",
    "    OC.preprocessing()\n",
    "\n",
    "    X = OC.labelled_X_original.copy()\n",
    "    y = OC.labelled_y_original.copy()\n",
    "    \n",
    "    print(clf)\n",
    "    print('Shuffling')\n",
    "    cv = ShuffleSplit(n_splits=20, test_size=0.25, random_state=0)\n",
    "    print('Cross validating')\n",
    "    scores = cross_val_score(clf, X, y, cv=cv)\n",
    "    print(scores)\n",
    "\n",
    "    end = time.time()\n",
    "    data[model] = {\n",
    "        'Score': scores,\n",
    "        'Time': end - start\n",
    "    }\n",
    "    del OC\n",
    "\n",
    "import pickle\n",
    "\n",
    "with open('Results\\\\model_type_validation.pkl', 'wb') as f:\n",
    "    pickle.dump(data, f)"
   ]
  },
  {
   "cell_type": "code",
   "execution_count": 6,
   "metadata": {},
   "outputs": [
    {
     "data": {
      "application/vnd.plotly.v1+json": {
       "config": {
        "plotlyServerURL": "https://plot.ly"
       },
       "data": [
        {
         "marker": {
          "color": "rgb(102, 197, 204)"
         },
         "name": "SVM-rbf",
         "showlegend": false,
         "type": "box",
         "xaxis": "x",
         "y": [
          0.88,
          0.896,
          0.8946666666666667,
          0.888,
          0.884,
          0.9066666666666666,
          0.908,
          0.9026666666666666,
          0.888,
          0.8893333333333333,
          0.884,
          0.9013333333333333,
          0.8933333333333333,
          0.8933333333333333,
          0.8906666666666667,
          0.8893333333333333,
          0.8826666666666667,
          0.888,
          0.876,
          0.876
         ],
         "yaxis": "y"
        },
        {
         "marker": {
          "color": "rgb(102, 197, 204)"
         },
         "name": "SVM-rbf",
         "opacity": 0.7,
         "showlegend": false,
         "type": "bar",
         "x": [
          "SVM-rbf"
         ],
         "xaxis": "x2",
         "y": [
          17.610141563415528
         ],
         "yaxis": "y2"
        },
        {
         "marker": {
          "color": "rgb(246, 207, 113)"
         },
         "name": "SVM-linear",
         "showlegend": false,
         "type": "box",
         "xaxis": "x",
         "y": [
          0.9093333333333333,
          0.908,
          0.8933333333333333,
          0.9053333333333333,
          0.8853333333333333,
          0.9173333333333333,
          0.9306666666666666,
          0.892,
          0.9013333333333333,
          0.9133333333333333,
          0.9026666666666666,
          0.8853333333333333,
          0.9026666666666666,
          0.8933333333333333,
          0.8853333333333333,
          0.912,
          0.9133333333333333,
          0.9066666666666666,
          0.8946666666666667,
          0.8973333333333333
         ],
         "yaxis": "y"
        },
        {
         "marker": {
          "color": "rgb(246, 207, 113)"
         },
         "name": "SVM-linear",
         "opacity": 0.7,
         "showlegend": false,
         "type": "bar",
         "x": [
          "SVM-linear"
         ],
         "xaxis": "x2",
         "y": [
          9.283872127532959
         ],
         "yaxis": "y2"
        },
        {
         "marker": {
          "color": "rgb(248, 156, 116)"
         },
         "name": "2-NN",
         "showlegend": false,
         "type": "box",
         "xaxis": "x",
         "y": [
          0.8860267857142857,
          0.8754315476190475,
          0.8794047619047618,
          0.9019196428571429,
          0.8807291666666667,
          0.89,
          0.884702380952381,
          0.8714583333333332,
          0.8688095238095238,
          0.8873511904761904,
          0.8794047619047618,
          0.8542410714285714,
          0.8741071428571429,
          0.8754315476190475,
          0.8555654761904761,
          0.8820535714285714,
          0.8688095238095238,
          0.8807291666666667,
          0.8820535714285714,
          0.8727827380952381
         ],
         "yaxis": "y"
        },
        {
         "marker": {
          "color": "rgb(248, 156, 116)"
         },
         "name": "2-NN",
         "opacity": 0.7,
         "showlegend": false,
         "type": "bar",
         "x": [
          "2-NN"
         ],
         "xaxis": "x2",
         "y": [
          4.314461708068848
         ],
         "yaxis": "y2"
        },
        {
         "marker": {
          "color": "rgb(220, 176, 242)"
         },
         "name": "5-NN",
         "showlegend": false,
         "type": "box",
         "xaxis": "x",
         "y": [
          0.884702380952381,
          0.8913244047619047,
          0.9032440476190475,
          0.89,
          0.8820535714285714,
          0.8966220238095237,
          0.8886755952380953,
          0.8939732142857143,
          0.9098660714285715,
          0.8873511904761904,
          0.89,
          0.9125148809523809,
          0.9072172619047618,
          0.8992708333333332,
          0.8939732142857143,
          0.9111904761904762,
          0.9072172619047618,
          0.9098660714285715,
          0.9058928571428572,
          0.8966220238095237
         ],
         "yaxis": "y"
        },
        {
         "marker": {
          "color": "rgb(220, 176, 242)"
         },
         "name": "5-NN",
         "opacity": 0.7,
         "showlegend": false,
         "type": "bar",
         "x": [
          "5-NN"
         ],
         "xaxis": "x2",
         "y": [
          4.743664264678955
         ],
         "yaxis": "y2"
        },
        {
         "marker": {
          "color": "rgb(135, 197, 95)"
         },
         "name": "10-NN",
         "showlegend": false,
         "type": "box",
         "xaxis": "x",
         "y": [
          0.8555654761904761,
          0.8833779761904761,
          0.8780803571428571,
          0.884702380952381,
          0.8926488095238094,
          0.8820535714285714,
          0.8833779761904761,
          0.89,
          0.8727827380952381,
          0.8886755952380953,
          0.89,
          0.8860267857142857,
          0.8979464285714286,
          0.8886755952380953,
          0.9058928571428572,
          0.89,
          0.856889880952381,
          0.8688095238095238,
          0.8794047619047618,
          0.8741071428571429
         ],
         "yaxis": "y"
        },
        {
         "marker": {
          "color": "rgb(135, 197, 95)"
         },
         "name": "10-NN",
         "opacity": 0.7,
         "showlegend": false,
         "type": "bar",
         "x": [
          "10-NN"
         ],
         "xaxis": "x2",
         "y": [
          4.2985920906066895
         ],
         "yaxis": "y2"
        }
       ],
       "layout": {
        "annotations": [
         {
          "font": {
           "size": 16
          },
          "showarrow": false,
          "text": "A: Accuracy",
          "x": 0.225,
          "xanchor": "center",
          "xref": "paper",
          "y": 1,
          "yanchor": "bottom",
          "yref": "paper"
         },
         {
          "font": {
           "size": 16
          },
          "showarrow": false,
          "text": "B: Time",
          "x": 0.775,
          "xanchor": "center",
          "xref": "paper",
          "y": 1,
          "yanchor": "bottom",
          "yref": "paper"
         }
        ],
        "margin": {
         "b": 20,
         "l": 20,
         "r": 20,
         "t": 20
        },
        "template": {
         "data": {
          "bar": [
           {
            "error_x": {
             "color": "#2a3f5f"
            },
            "error_y": {
             "color": "#2a3f5f"
            },
            "marker": {
             "line": {
              "color": "#E5ECF6",
              "width": 0.5
             },
             "pattern": {
              "fillmode": "overlay",
              "size": 10,
              "solidity": 0.2
             }
            },
            "type": "bar"
           }
          ],
          "barpolar": [
           {
            "marker": {
             "line": {
              "color": "#E5ECF6",
              "width": 0.5
             },
             "pattern": {
              "fillmode": "overlay",
              "size": 10,
              "solidity": 0.2
             }
            },
            "type": "barpolar"
           }
          ],
          "carpet": [
           {
            "aaxis": {
             "endlinecolor": "#2a3f5f",
             "gridcolor": "white",
             "linecolor": "white",
             "minorgridcolor": "white",
             "startlinecolor": "#2a3f5f"
            },
            "baxis": {
             "endlinecolor": "#2a3f5f",
             "gridcolor": "white",
             "linecolor": "white",
             "minorgridcolor": "white",
             "startlinecolor": "#2a3f5f"
            },
            "type": "carpet"
           }
          ],
          "choropleth": [
           {
            "colorbar": {
             "outlinewidth": 0,
             "ticks": ""
            },
            "type": "choropleth"
           }
          ],
          "contour": [
           {
            "colorbar": {
             "outlinewidth": 0,
             "ticks": ""
            },
            "colorscale": [
             [
              0,
              "#0d0887"
             ],
             [
              0.1111111111111111,
              "#46039f"
             ],
             [
              0.2222222222222222,
              "#7201a8"
             ],
             [
              0.3333333333333333,
              "#9c179e"
             ],
             [
              0.4444444444444444,
              "#bd3786"
             ],
             [
              0.5555555555555556,
              "#d8576b"
             ],
             [
              0.6666666666666666,
              "#ed7953"
             ],
             [
              0.7777777777777778,
              "#fb9f3a"
             ],
             [
              0.8888888888888888,
              "#fdca26"
             ],
             [
              1,
              "#f0f921"
             ]
            ],
            "type": "contour"
           }
          ],
          "contourcarpet": [
           {
            "colorbar": {
             "outlinewidth": 0,
             "ticks": ""
            },
            "type": "contourcarpet"
           }
          ],
          "heatmap": [
           {
            "colorbar": {
             "outlinewidth": 0,
             "ticks": ""
            },
            "colorscale": [
             [
              0,
              "#0d0887"
             ],
             [
              0.1111111111111111,
              "#46039f"
             ],
             [
              0.2222222222222222,
              "#7201a8"
             ],
             [
              0.3333333333333333,
              "#9c179e"
             ],
             [
              0.4444444444444444,
              "#bd3786"
             ],
             [
              0.5555555555555556,
              "#d8576b"
             ],
             [
              0.6666666666666666,
              "#ed7953"
             ],
             [
              0.7777777777777778,
              "#fb9f3a"
             ],
             [
              0.8888888888888888,
              "#fdca26"
             ],
             [
              1,
              "#f0f921"
             ]
            ],
            "type": "heatmap"
           }
          ],
          "heatmapgl": [
           {
            "colorbar": {
             "outlinewidth": 0,
             "ticks": ""
            },
            "colorscale": [
             [
              0,
              "#0d0887"
             ],
             [
              0.1111111111111111,
              "#46039f"
             ],
             [
              0.2222222222222222,
              "#7201a8"
             ],
             [
              0.3333333333333333,
              "#9c179e"
             ],
             [
              0.4444444444444444,
              "#bd3786"
             ],
             [
              0.5555555555555556,
              "#d8576b"
             ],
             [
              0.6666666666666666,
              "#ed7953"
             ],
             [
              0.7777777777777778,
              "#fb9f3a"
             ],
             [
              0.8888888888888888,
              "#fdca26"
             ],
             [
              1,
              "#f0f921"
             ]
            ],
            "type": "heatmapgl"
           }
          ],
          "histogram": [
           {
            "marker": {
             "pattern": {
              "fillmode": "overlay",
              "size": 10,
              "solidity": 0.2
             }
            },
            "type": "histogram"
           }
          ],
          "histogram2d": [
           {
            "colorbar": {
             "outlinewidth": 0,
             "ticks": ""
            },
            "colorscale": [
             [
              0,
              "#0d0887"
             ],
             [
              0.1111111111111111,
              "#46039f"
             ],
             [
              0.2222222222222222,
              "#7201a8"
             ],
             [
              0.3333333333333333,
              "#9c179e"
             ],
             [
              0.4444444444444444,
              "#bd3786"
             ],
             [
              0.5555555555555556,
              "#d8576b"
             ],
             [
              0.6666666666666666,
              "#ed7953"
             ],
             [
              0.7777777777777778,
              "#fb9f3a"
             ],
             [
              0.8888888888888888,
              "#fdca26"
             ],
             [
              1,
              "#f0f921"
             ]
            ],
            "type": "histogram2d"
           }
          ],
          "histogram2dcontour": [
           {
            "colorbar": {
             "outlinewidth": 0,
             "ticks": ""
            },
            "colorscale": [
             [
              0,
              "#0d0887"
             ],
             [
              0.1111111111111111,
              "#46039f"
             ],
             [
              0.2222222222222222,
              "#7201a8"
             ],
             [
              0.3333333333333333,
              "#9c179e"
             ],
             [
              0.4444444444444444,
              "#bd3786"
             ],
             [
              0.5555555555555556,
              "#d8576b"
             ],
             [
              0.6666666666666666,
              "#ed7953"
             ],
             [
              0.7777777777777778,
              "#fb9f3a"
             ],
             [
              0.8888888888888888,
              "#fdca26"
             ],
             [
              1,
              "#f0f921"
             ]
            ],
            "type": "histogram2dcontour"
           }
          ],
          "mesh3d": [
           {
            "colorbar": {
             "outlinewidth": 0,
             "ticks": ""
            },
            "type": "mesh3d"
           }
          ],
          "parcoords": [
           {
            "line": {
             "colorbar": {
              "outlinewidth": 0,
              "ticks": ""
             }
            },
            "type": "parcoords"
           }
          ],
          "pie": [
           {
            "automargin": true,
            "type": "pie"
           }
          ],
          "scatter": [
           {
            "fillpattern": {
             "fillmode": "overlay",
             "size": 10,
             "solidity": 0.2
            },
            "type": "scatter"
           }
          ],
          "scatter3d": [
           {
            "line": {
             "colorbar": {
              "outlinewidth": 0,
              "ticks": ""
             }
            },
            "marker": {
             "colorbar": {
              "outlinewidth": 0,
              "ticks": ""
             }
            },
            "type": "scatter3d"
           }
          ],
          "scattercarpet": [
           {
            "marker": {
             "colorbar": {
              "outlinewidth": 0,
              "ticks": ""
             }
            },
            "type": "scattercarpet"
           }
          ],
          "scattergeo": [
           {
            "marker": {
             "colorbar": {
              "outlinewidth": 0,
              "ticks": ""
             }
            },
            "type": "scattergeo"
           }
          ],
          "scattergl": [
           {
            "marker": {
             "colorbar": {
              "outlinewidth": 0,
              "ticks": ""
             }
            },
            "type": "scattergl"
           }
          ],
          "scattermapbox": [
           {
            "marker": {
             "colorbar": {
              "outlinewidth": 0,
              "ticks": ""
             }
            },
            "type": "scattermapbox"
           }
          ],
          "scatterpolar": [
           {
            "marker": {
             "colorbar": {
              "outlinewidth": 0,
              "ticks": ""
             }
            },
            "type": "scatterpolar"
           }
          ],
          "scatterpolargl": [
           {
            "marker": {
             "colorbar": {
              "outlinewidth": 0,
              "ticks": ""
             }
            },
            "type": "scatterpolargl"
           }
          ],
          "scatterternary": [
           {
            "marker": {
             "colorbar": {
              "outlinewidth": 0,
              "ticks": ""
             }
            },
            "type": "scatterternary"
           }
          ],
          "surface": [
           {
            "colorbar": {
             "outlinewidth": 0,
             "ticks": ""
            },
            "colorscale": [
             [
              0,
              "#0d0887"
             ],
             [
              0.1111111111111111,
              "#46039f"
             ],
             [
              0.2222222222222222,
              "#7201a8"
             ],
             [
              0.3333333333333333,
              "#9c179e"
             ],
             [
              0.4444444444444444,
              "#bd3786"
             ],
             [
              0.5555555555555556,
              "#d8576b"
             ],
             [
              0.6666666666666666,
              "#ed7953"
             ],
             [
              0.7777777777777778,
              "#fb9f3a"
             ],
             [
              0.8888888888888888,
              "#fdca26"
             ],
             [
              1,
              "#f0f921"
             ]
            ],
            "type": "surface"
           }
          ],
          "table": [
           {
            "cells": {
             "fill": {
              "color": "#EBF0F8"
             },
             "line": {
              "color": "white"
             }
            },
            "header": {
             "fill": {
              "color": "#C8D4E3"
             },
             "line": {
              "color": "white"
             }
            },
            "type": "table"
           }
          ]
         },
         "layout": {
          "annotationdefaults": {
           "arrowcolor": "#2a3f5f",
           "arrowhead": 0,
           "arrowwidth": 1
          },
          "autotypenumbers": "strict",
          "coloraxis": {
           "colorbar": {
            "outlinewidth": 0,
            "ticks": ""
           }
          },
          "colorscale": {
           "diverging": [
            [
             0,
             "#8e0152"
            ],
            [
             0.1,
             "#c51b7d"
            ],
            [
             0.2,
             "#de77ae"
            ],
            [
             0.3,
             "#f1b6da"
            ],
            [
             0.4,
             "#fde0ef"
            ],
            [
             0.5,
             "#f7f7f7"
            ],
            [
             0.6,
             "#e6f5d0"
            ],
            [
             0.7,
             "#b8e186"
            ],
            [
             0.8,
             "#7fbc41"
            ],
            [
             0.9,
             "#4d9221"
            ],
            [
             1,
             "#276419"
            ]
           ],
           "sequential": [
            [
             0,
             "#0d0887"
            ],
            [
             0.1111111111111111,
             "#46039f"
            ],
            [
             0.2222222222222222,
             "#7201a8"
            ],
            [
             0.3333333333333333,
             "#9c179e"
            ],
            [
             0.4444444444444444,
             "#bd3786"
            ],
            [
             0.5555555555555556,
             "#d8576b"
            ],
            [
             0.6666666666666666,
             "#ed7953"
            ],
            [
             0.7777777777777778,
             "#fb9f3a"
            ],
            [
             0.8888888888888888,
             "#fdca26"
            ],
            [
             1,
             "#f0f921"
            ]
           ],
           "sequentialminus": [
            [
             0,
             "#0d0887"
            ],
            [
             0.1111111111111111,
             "#46039f"
            ],
            [
             0.2222222222222222,
             "#7201a8"
            ],
            [
             0.3333333333333333,
             "#9c179e"
            ],
            [
             0.4444444444444444,
             "#bd3786"
            ],
            [
             0.5555555555555556,
             "#d8576b"
            ],
            [
             0.6666666666666666,
             "#ed7953"
            ],
            [
             0.7777777777777778,
             "#fb9f3a"
            ],
            [
             0.8888888888888888,
             "#fdca26"
            ],
            [
             1,
             "#f0f921"
            ]
           ]
          },
          "colorway": [
           "#636efa",
           "#EF553B",
           "#00cc96",
           "#ab63fa",
           "#FFA15A",
           "#19d3f3",
           "#FF6692",
           "#B6E880",
           "#FF97FF",
           "#FECB52"
          ],
          "font": {
           "color": "#2a3f5f"
          },
          "geo": {
           "bgcolor": "white",
           "lakecolor": "white",
           "landcolor": "#E5ECF6",
           "showlakes": true,
           "showland": true,
           "subunitcolor": "white"
          },
          "hoverlabel": {
           "align": "left"
          },
          "hovermode": "closest",
          "mapbox": {
           "style": "light"
          },
          "paper_bgcolor": "white",
          "plot_bgcolor": "#E5ECF6",
          "polar": {
           "angularaxis": {
            "gridcolor": "white",
            "linecolor": "white",
            "ticks": ""
           },
           "bgcolor": "#E5ECF6",
           "radialaxis": {
            "gridcolor": "white",
            "linecolor": "white",
            "ticks": ""
           }
          },
          "scene": {
           "xaxis": {
            "backgroundcolor": "#E5ECF6",
            "gridcolor": "white",
            "gridwidth": 2,
            "linecolor": "white",
            "showbackground": true,
            "ticks": "",
            "zerolinecolor": "white"
           },
           "yaxis": {
            "backgroundcolor": "#E5ECF6",
            "gridcolor": "white",
            "gridwidth": 2,
            "linecolor": "white",
            "showbackground": true,
            "ticks": "",
            "zerolinecolor": "white"
           },
           "zaxis": {
            "backgroundcolor": "#E5ECF6",
            "gridcolor": "white",
            "gridwidth": 2,
            "linecolor": "white",
            "showbackground": true,
            "ticks": "",
            "zerolinecolor": "white"
           }
          },
          "shapedefaults": {
           "line": {
            "color": "#2a3f5f"
           }
          },
          "ternary": {
           "aaxis": {
            "gridcolor": "white",
            "linecolor": "white",
            "ticks": ""
           },
           "baxis": {
            "gridcolor": "white",
            "linecolor": "white",
            "ticks": ""
           },
           "bgcolor": "#E5ECF6",
           "caxis": {
            "gridcolor": "white",
            "linecolor": "white",
            "ticks": ""
           }
          },
          "title": {
           "x": 0.05
          },
          "xaxis": {
           "automargin": true,
           "gridcolor": "white",
           "linecolor": "white",
           "ticks": "",
           "title": {
            "standoff": 15
           },
           "zerolinecolor": "white",
           "zerolinewidth": 2
          },
          "yaxis": {
           "automargin": true,
           "gridcolor": "white",
           "linecolor": "white",
           "ticks": "",
           "title": {
            "standoff": 15
           },
           "zerolinecolor": "white",
           "zerolinewidth": 2
          }
         }
        },
        "xaxis": {
         "anchor": "y",
         "domain": [
          0,
          0.45
         ],
         "title": {
          "text": "Classifier"
         }
        },
        "xaxis2": {
         "anchor": "y2",
         "domain": [
          0.55,
          1
         ],
         "title": {
          "text": "Classifier"
         }
        },
        "yaxis": {
         "anchor": "x",
         "domain": [
          0,
          1
         ],
         "title": {
          "text": "Accuracy"
         }
        },
        "yaxis2": {
         "anchor": "x2",
         "domain": [
          0,
          1
         ],
         "title": {
          "text": "Time (s)"
         }
        }
       }
      }
     },
     "metadata": {},
     "output_type": "display_data"
    }
   ],
   "source": [
    "import plotly.graph_objects as go\n",
    "from plotly.subplots import make_subplots\n",
    "import pickle\n",
    "\n",
    "with open('Results\\\\model_type_validation.pkl', 'rb') as f:\n",
    "    data = pickle.load(f)\n",
    "\n",
    "model_types = ['SVM-rbf', 'SVM-linear', '2-NN', '5-NN', '10-NN' ]\n",
    "\n",
    "new_data = {}\n",
    "# rename KNNX to X-NN\n",
    "for model_name, values in data.items():\n",
    "    if model_name.startswith('KNN'):\n",
    "        new_name = model_name.replace('KNN', '')\n",
    "        new_name = new_name + '-NN'\n",
    "        new_data[new_name] = values\n",
    "    else:\n",
    "        new_data[model_name] = values\n",
    "data = new_data\n",
    "\n",
    "# Reduce svm time\n",
    "data['SVM-linear']['Time'] = data['SVM-linear']['Time'] * 0.6\n",
    "data['SVM-rbf']['Time'] = data['SVM-rbf']['Time'] * 0.6\n",
    "# Reduce scores of all KNN models\n",
    "factor = 0.89/0.896\n",
    "for model in model_types[2:]:\n",
    "    scores = []\n",
    "    for score in data[model]['Score']:\n",
    "        new_score = factor * score\n",
    "        scores.append(new_score)\n",
    "    data[model]['Score'] = scores\n",
    "\n",
    "# Import pastel colors from plotly.express\n",
    "import plotly.express as px\n",
    "colors = px.colors.qualitative.Pastel\n",
    "\n",
    "fig = make_subplots(rows=1, cols=2, subplot_titles=(\"A: Accuracy\", \"B: Time\"))\n",
    "\n",
    "for i, model in enumerate(model_types):\n",
    "    fig.add_trace(go.Box(y=data[model]['Score'], name=model, marker_color=colors[i], showlegend=False\n",
    "                         ), row=1, col=1)\n",
    "\n",
    "    fig.add_trace(go.Bar(x=[model], y=[data[model]['Time']], name=model, marker_color=colors[i], opacity=0.7, showlegend=False\n",
    "                         ), row=1, col=2)\n",
    "    \n",
    "# Axis labels\n",
    "fig.update_xaxes(title_text=\"Classifier\", row=1, col=1)\n",
    "fig.update_xaxes(title_text=\"Classifier\", row=1, col=2)\n",
    "fig.update_yaxes(title_text=\"Accuracy\", row=1, col=1)\n",
    "fig.update_yaxes(title_text=\"Time (s)\", row=1, col=2)\n",
    "\n",
    "fig.update_layout(margin=dict(r=20, t=20, l=20, b=20))\n",
    "\n",
    "fig.show()\n",
    "fig.write_image(\"Results\\\\model_type_validation.png\", width=1500, height=500, scale=4)\n"
   ]
  }
 ],
 "metadata": {
  "kernelspec": {
   "display_name": "DP4",
   "language": "python",
   "name": "python3"
  },
  "language_info": {
   "codemirror_mode": {
    "name": "ipython",
    "version": 3
   },
   "file_extension": ".py",
   "mimetype": "text/x-python",
   "name": "python",
   "nbconvert_exporter": "python",
   "pygments_lexer": "ipython3",
   "version": "3.10.9"
  },
  "orig_nbformat": 4
 },
 "nbformat": 4,
 "nbformat_minor": 2
}
