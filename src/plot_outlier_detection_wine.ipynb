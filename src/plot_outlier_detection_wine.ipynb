{
  "cells": [
    {
      "cell_type": "code",
      "execution_count": 2,
      "metadata": {
        "collapsed": false
      },
      "outputs": [],
      "source": [
        "%matplotlib inline"
      ]
    },
    {
      "cell_type": "markdown",
      "metadata": {},
      "source": [
        "\n",
        "# Outlier detection on a real data set\n",
        "\n",
        "This example illustrates the need for robust covariance estimation\n",
        "on a real data set. It is useful both for outlier detection and for\n",
        "a better understanding of the data structure.\n",
        "\n",
        "We selected two sets of two variables from the Wine data set\n",
        "as an illustration of what kind of analysis can be done with several\n",
        "outlier detection tools. For the purpose of visualization, we are working\n",
        "with two-dimensional examples, but one should be aware that things are\n",
        "not so trivial in high-dimension, as it will be pointed out.\n",
        "\n",
        "In both examples below, the main result is that the empirical covariance\n",
        "estimate, as a non-robust one, is highly influenced by the heterogeneous\n",
        "structure of the observations. Although the robust covariance estimate is\n",
        "able to focus on the main mode of the data distribution, it sticks to the\n",
        "assumption that the data should be Gaussian distributed, yielding some biased\n",
        "estimation of the data structure, but yet accurate to some extent.\n",
        "The One-Class SVM does not assume any parametric form of the data distribution\n",
        "and can therefore model the complex shape of the data much better.\n",
        "\n",
        "## First example\n",
        "The first example illustrates how the Minimum Covariance Determinant\n",
        "robust estimator can help concentrate on a relevant cluster when outlying\n",
        "points exist. Here the empirical covariance estimation is skewed by points\n",
        "outside of the main cluster. Of course, some screening tools would have pointed\n",
        "out the presence of two clusters (Support Vector Machines, Gaussian Mixture\n",
        "Models, univariate outlier detection, ...). But had it been a high-dimensional\n",
        "example, none of these could be applied that easily.\n"
      ]
    },
    {
      "cell_type": "code",
      "execution_count": 6,
      "metadata": {
        "collapsed": false
      },
      "outputs": [],
      "source": [
        "# Author: Virgile Fritsch <virgile.fritsch@inria.fr>\n",
        "# License: BSD 3 clause\n",
        "\n",
        "import numpy as np\n",
        "from sklearn.covariance import EllipticEnvelope\n",
        "from sklearn.svm import OneClassSVM\n",
        "import matplotlib.pyplot as plt\n",
        "import matplotlib.font_manager\n",
        "from sklearn.datasets import load_wine\n",
        "\n",
        "# Define \"classifiers\" to be used\n",
        "classifiers = {\n",
        "    \"Empirical Covariance\": EllipticEnvelope(support_fraction=1.0, contamination=0.25),\n",
        "    \"Robust Covariance (Minimum Covariance Determinant)\": EllipticEnvelope(\n",
        "        contamination=0.25\n",
        "    ),\n",
        "    \"OCSVM\": OneClassSVM(nu=0.25, gamma=0.35),\n",
        "}\n",
        "colors = [\"m\", \"g\", \"b\"]\n",
        "legend1 = {}\n",
        "legend2 = {}\n",
        "\n",
        "# Get data\n",
        "X1 = load_wine()[\"data\"][:, [1, 2]]  # two clusters\n"
      ]
    },
    {
      "cell_type": "code",
      "execution_count": null,
      "metadata": {},
      "outputs": [],
      "source": [
        "# Learn a frontier for outlier detection with several classifiers\n",
        "xx1, yy1 = np.meshgrid(np.linspace(0, 6, 500), np.linspace(1, 4.5, 500))\n",
        "for i, (clf_name, clf) in enumerate(classifiers.items()):\n",
        "    plt.figure(1)\n",
        "    clf.fit(X1)\n",
        "    Z1 = clf.decision_function(np.c_[xx1.ravel(), yy1.ravel()])\n",
        "    Z1 = Z1.reshape(xx1.shape)\n",
        "    legend1[clf_name] = plt.contour(\n",
        "        xx1, yy1, Z1, levels=[0], linewidths=2, colors=colors[i]\n",
        "    )\n",
        "\n",
        "legend1_values_list = list(legend1.values())\n",
        "legend1_keys_list = list(legend1.keys())\n",
        "\n",
        "# Plot the results (= shape of the data points cloud)\n",
        "plt.figure(1)  # two clusters\n",
        "plt.title(\"Outlier detection on a real data set (wine recognition)\")\n",
        "plt.scatter(X1[:, 0], X1[:, 1], color=\"black\")\n",
        "bbox_args = dict(boxstyle=\"round\", fc=\"0.8\")\n",
        "arrow_args = dict(arrowstyle=\"->\")\n",
        "plt.annotate(\n",
        "    \"outlying points\",\n",
        "    xy=(4, 2),\n",
        "    xycoords=\"data\",\n",
        "    textcoords=\"data\",\n",
        "    xytext=(3, 1.25),\n",
        "    bbox=bbox_args,\n",
        "    arrowprops=arrow_args,\n",
        ")\n",
        "plt.xlim((xx1.min(), xx1.max()))\n",
        "plt.ylim((yy1.min(), yy1.max()))\n",
        "plt.legend(\n",
        "    (\n",
        "        legend1_values_list[0].collections[0],\n",
        "        legend1_values_list[1].collections[0],\n",
        "        legend1_values_list[2].collections[0],\n",
        "    ),\n",
        "    (legend1_keys_list[0], legend1_keys_list[1], legend1_keys_list[2]),\n",
        "    loc=\"upper center\",\n",
        "    prop=matplotlib.font_manager.FontProperties(size=11),\n",
        ")\n",
        "plt.ylabel(\"ash\")\n",
        "plt.xlabel(\"malic_acid\")\n",
        "\n",
        "plt.show()"
      ]
    },
    {
      "cell_type": "markdown",
      "metadata": {},
      "source": [
        "## Second example\n",
        "The second example shows the ability of the Minimum Covariance Determinant\n",
        "robust estimator of covariance to concentrate on the main mode of the data\n",
        "distribution: the location seems to be well estimated, although the\n",
        "covariance is hard to estimate due to the banana-shaped distribution. Anyway,\n",
        "we can get rid of some outlying observations. The One-Class SVM is able to\n",
        "capture the real data structure, but the difficulty is to adjust its kernel\n",
        "bandwidth parameter so as to obtain a good compromise between the shape of\n",
        "the data scatter matrix and the risk of over-fitting the data.\n",
        "\n"
      ]
    },
    {
      "cell_type": "code",
      "execution_count": null,
      "metadata": {
        "collapsed": false
      },
      "outputs": [],
      "source": [
        "# Get data\n",
        "X2 = load_wine()[\"data\"][:, [6, 9]]  # \"banana\"-shaped\n",
        "\n",
        "# Learn a frontier for outlier detection with several classifiers\n",
        "xx2, yy2 = np.meshgrid(np.linspace(-1, 5.5, 500), np.linspace(-2.5, 19, 500))\n",
        "for i, (clf_name, clf) in enumerate(classifiers.items()):\n",
        "    plt.figure(2)\n",
        "    clf.fit(X2)\n",
        "    Z2 = clf.decision_function(np.c_[xx2.ravel(), yy2.ravel()])\n",
        "    Z2 = Z2.reshape(xx2.shape)\n",
        "    legend2[clf_name] = plt.contour(\n",
        "        xx2, yy2, Z2, levels=[0], linewidths=2, colors=colors[i]\n",
        "    )\n",
        "\n",
        "legend2_values_list = list(legend2.values())\n",
        "legend2_keys_list = list(legend2.keys())\n",
        "\n",
        "# Plot the results (= shape of the data points cloud)\n",
        "plt.figure(2)  # \"banana\" shape\n",
        "plt.title(\"Outlier detection on a real data set (wine recognition)\")\n",
        "plt.scatter(X2[:, 0], X2[:, 1], color=\"black\")\n",
        "plt.xlim((xx2.min(), xx2.max()))\n",
        "plt.ylim((yy2.min(), yy2.max()))\n",
        "plt.legend(\n",
        "    (\n",
        "        legend2_values_list[0].collections[0],\n",
        "        legend2_values_list[1].collections[0],\n",
        "        legend2_values_list[2].collections[0],\n",
        "    ),\n",
        "    (legend2_keys_list[0], legend2_keys_list[1], legend2_keys_list[2]),\n",
        "    loc=\"upper center\",\n",
        "    prop=matplotlib.font_manager.FontProperties(size=11),\n",
        ")\n",
        "plt.ylabel(\"color_intensity\")\n",
        "plt.xlabel(\"flavanoids\")\n",
        "\n",
        "plt.show()"
      ]
    }
  ],
  "metadata": {
    "kernelspec": {
      "display_name": "DP4",
      "language": "python",
      "name": "python3"
    },
    "language_info": {
      "codemirror_mode": {
        "name": "ipython",
        "version": 3
      },
      "file_extension": ".py",
      "mimetype": "text/x-python",
      "name": "python",
      "nbconvert_exporter": "python",
      "pygments_lexer": "ipython3",
      "version": "3.10.9"
    },
    "vscode": {
      "interpreter": {
        "hash": "a8f364f4c6a15a98e6f24366f20c415b81f2b82de1c06055d293928a78744407"
      }
    }
  },
  "nbformat": 4,
  "nbformat_minor": 0
}
