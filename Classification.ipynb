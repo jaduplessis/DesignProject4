{
 "cells": [
  {
   "cell_type": "code",
   "execution_count": 1,
   "metadata": {},
   "outputs": [],
   "source": [
    "from OCluDAL import OCluDAL\n",
    "import pandas as pd\n",
    "import numpy as np"
   ]
  },
  {
   "cell_type": "code",
   "execution_count": 2,
   "metadata": {},
   "outputs": [
    {
     "name": "stdout",
     "output_type": "stream",
     "text": [
      "Total data: 4350\n",
      "Annotations: 200\n",
      "Preprocessing data: Applying StandardScaler\n",
      "Unique labels:  ['Elevator Down' 'Elevator Up' 'Jumping Up' 'Running Forward' 'Sitting'\n",
      " 'Sleeping' 'Standing' 'Walking Downstairs' 'Walking Forward'\n",
      " 'Walking Left' 'Walking Right' 'Walking Upstairs']\n",
      "Iteration 1\n",
      "Novelty detected: 2185\n",
      "Representative samples chosen for annotation: 135\n",
      "Iteration 2\n",
      "Novelty detected: 1350\n",
      "Representative samples chosen for annotation: 98\n",
      "Iteration 3\n",
      "Novelty detected: 1031\n"
     ]
    },
    {
     "name": "stderr",
     "output_type": "stream",
     "text": [
      "c:\\Users\\duppu\\miniconda3\\envs\\DP4\\lib\\site-packages\\sklearn\\cluster\\_affinity_propagation.py:143: ConvergenceWarning: Affinity propagation did not converge, this model may return degenerate cluster centers and labels.\n",
      "  warnings.warn(\n"
     ]
    },
    {
     "name": "stdout",
     "output_type": "stream",
     "text": [
      "Representative samples chosen for annotation: 77\n",
      "Iteration 4\n",
      "Novelty detected: 832\n"
     ]
    },
    {
     "name": "stderr",
     "output_type": "stream",
     "text": [
      "c:\\Users\\duppu\\miniconda3\\envs\\DP4\\lib\\site-packages\\sklearn\\cluster\\_affinity_propagation.py:143: ConvergenceWarning: Affinity propagation did not converge, this model may return degenerate cluster centers and labels.\n",
      "  warnings.warn(\n"
     ]
    },
    {
     "name": "stdout",
     "output_type": "stream",
     "text": [
      "Representative samples chosen for annotation: 94\n",
      "Iteration 5\n",
      "Novelty detected: 695\n",
      "Representative samples chosen for annotation: 62\n",
      "Training SVM...\n",
      "Predicting...\n",
      "Labelled data size: 686\n",
      "Unlabelled data size: 3664\n",
      "Training SVM...\n",
      "Predicting...\n",
      "Labelled data size: 706\n",
      "Unlabelled data size: 3644\n",
      "Training SVM...\n",
      "Predicting...\n",
      "Labelled data size: 726\n",
      "Unlabelled data size: 3624\n",
      "Training SVM...\n",
      "Predicting...\n",
      "Labelled data size: 746\n",
      "Unlabelled data size: 3604\n",
      "Training SVM...\n",
      "Predicting...\n",
      "Labelled data size: 766\n",
      "Unlabelled data size: 3584\n",
      "Training SVM...\n",
      "Predicting...\n",
      "Labelled data size: 786\n",
      "Unlabelled data size: 3564\n",
      "Training SVM...\n",
      "Predicting...\n",
      "Labelled data size: 806\n",
      "Unlabelled data size: 3544\n",
      "Training SVM...\n",
      "Predicting...\n",
      "Labelled data size: 826\n",
      "Unlabelled data size: 3524\n",
      "Training SVM...\n",
      "Predicting...\n",
      "Labelled data size: 846\n",
      "Unlabelled data size: 3504\n",
      "Training SVM...\n",
      "Predicting...\n",
      "Labelled data size: 866\n",
      "Unlabelled data size: 3484\n",
      "Training SVM...\n",
      "Predicting...\n",
      "Labelled data size: 886\n",
      "Unlabelled data size: 3464\n",
      "Training SVM...\n",
      "Predicting...\n",
      "Labelled data size: 906\n",
      "Unlabelled data size: 3444\n",
      "Training SVM...\n",
      "Predicting...\n",
      "Labelled data size: 926\n",
      "Unlabelled data size: 3424\n",
      "Training SVM...\n",
      "Predicting...\n",
      "Labelled data size: 946\n",
      "Unlabelled data size: 3404\n",
      "Training SVM...\n",
      "Predicting...\n",
      "Labelled data size: 966\n",
      "Unlabelled data size: 3384\n",
      "Training SVM...\n",
      "Predicting...\n",
      "Labelled data size: 986\n",
      "Unlabelled data size: 3364\n",
      "Training SVM...\n",
      "Predicting...\n",
      "Labelled data size: 1006\n",
      "Unlabelled data size: 3344\n",
      "Training SVM...\n",
      "Predicting...\n",
      "Labelled data size: 1026\n",
      "Unlabelled data size: 3324\n",
      "Training SVM...\n",
      "Predicting...\n",
      "Labelled data size: 1046\n",
      "Unlabelled data size: 3304\n",
      "Training SVM...\n",
      "Predicting...\n",
      "Labelled data size: 1066\n",
      "Unlabelled data size: 3284\n",
      "Training SVM...\n",
      "Predicting...\n",
      "Labelled data size: 1086\n",
      "Unlabelled data size: 3264\n"
     ]
    }
   ],
   "source": [
    "# Path to the data\n",
    "path = 'PreProcessing\\\\USC\\\\CompiledData.csv'\n",
    "annotations = 200\n",
    "\n",
    "# Create OCluDAL object\n",
    "OC = OCluDAL(path, annotations)\n",
    "\n",
    "OC.initialise_data()\n",
    "OC.preprocessing()\n",
    "OC.step1()\n",
    "OC.step2()"
   ]
  }
 ],
 "metadata": {
  "kernelspec": {
   "display_name": "DP4",
   "language": "python",
   "name": "python3"
  },
  "language_info": {
   "codemirror_mode": {
    "name": "ipython",
    "version": 3
   },
   "file_extension": ".py",
   "mimetype": "text/x-python",
   "name": "python",
   "nbconvert_exporter": "python",
   "pygments_lexer": "ipython3",
   "version": "3.10.9"
  },
  "orig_nbformat": 4,
  "vscode": {
   "interpreter": {
    "hash": "a8f364f4c6a15a98e6f24366f20c415b81f2b82de1c06055d293928a78744407"
   }
  }
 },
 "nbformat": 4,
 "nbformat_minor": 2
}
