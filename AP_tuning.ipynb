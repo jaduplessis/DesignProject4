{
 "cells": [
  {
   "cell_type": "code",
   "execution_count": null,
   "metadata": {},
   "outputs": [],
   "source": [
    "import numpy as np\n",
    "from sklearn.svm import OneClassSVM\n",
    "from OCluDAL import OCluDAL\n",
    "\n",
    "from sklearn.svm import OneClassSVM\n",
    "# Path to the data\n",
    "path = 'PreProcessingClassification\\\\USC\\\\CompiledData.csv'\n",
    "OC = OCluDAL(path, annotations=200)\n",
    "\n",
    "OC.initialise_data()\n",
    "OC.preprocessing()\n",
    "\n",
    "masks = []\n",
    "# Novelty detection using OCSVM\n",
    "for label in OC.unique_labels:\n",
    "    # Fit OCSVM\n",
    "    svm = OneClassSVM().fit(OC.labelled_X_new[OC.labelled_y_new == label])\n",
    "    novel_mask_i = svm.predict(OC.unlabelled_X_new) == -1\n",
    "    \n",
    "    masks.append(novel_mask_i)\n",
    "\n",
    "novel_mask = np.all(masks, axis=0)\n",
    "novel_X = OC.unlabelled_X_new[novel_mask]\n",
    "print(f\"Novelty detected: {len(novel_X)}\")"
   ]
  },
  {
   "cell_type": "code",
   "execution_count": null,
   "metadata": {},
   "outputs": [],
   "source": [
    "# import pandas as pd\n",
    "\n",
    "# from sklearn.metrics import silhouette_score\n",
    "# from sklearn.cluster import AffinityPropagation\n",
    "\n",
    "# def fine_tune_affinity_propagation(OC_original, novel_X, damping_range, preference_range, max_annotations=600):\n",
    "#     \"\"\"Fine tune the affinity propagation model. Score is measured by the\n",
    "#     silhouette score of the model on the novel data points.\n",
    "    \n",
    "#     Parameters\n",
    "#     ----------\n",
    "#     OC : OCluDAL object\n",
    "#         OCluDAL object.\n",
    "#     novel_X : numpy array\n",
    "#         Novel data points.\n",
    "#     damping_range : list\n",
    "#         Range of damping values to try.\n",
    "#     preference_range : list\n",
    "#         Range of preference values to try.\n",
    "\n",
    "#     Returns\n",
    "#     -------\n",
    "#     scores_array : numpy array\n",
    "#         Array of scores for each combination of damping and preference.\n",
    "#     \"\"\"\n",
    "\n",
    "#     scores_array = np.zeros((len(damping_range), len(preference_range)))\n",
    "#     annotations_array = np.zeros((len(damping_range), len(preference_range)))\n",
    "#     df = pd.DataFrame(columns=['Damping', 'Preference', 'Original Score', 'Score', 'Weighted Score', 'Annotations', 'Avg Annotations'])\n",
    "\n",
    "#     for di, damping in enumerate(damping_range):\n",
    "#         for pi, preference in enumerate(preference_range):\n",
    "#             OC = OC_original.copy()\n",
    "            \n",
    "#             print(f\"Progress: {di * len(preference_range) + pi + 1}/{len(damping_range) * len(preference_range)}, Damping: {damping}  |Preference: {preference}\")\n",
    "            \n",
    "#             sum_scores = 0\n",
    "#             iter = 0\n",
    "#             annotation_lengths = []\n",
    "#             try:\n",
    "\n",
    "#                 while len(OC.labelled_X_new) < max_annotations:\n",
    "#                     masks = []\n",
    "#                     iter += 1\n",
    "\n",
    "#                     # Novelty detection using OCSVM\n",
    "#                     for label in OC.unique_labels:\n",
    "#                         # Fit OCSVM\n",
    "#                         svm = OneClassSVM().fit(OC.labelled_X_new[OC.labelled_y_new == label])\n",
    "#                         novel_mask_i = svm.predict(OC.unlabelled_X_new) == -1\n",
    "                        \n",
    "#                         masks.append(novel_mask_i)\n",
    "\n",
    "#                     novel_mask = np.all(masks, axis=0)\n",
    "#                     novel_X = OC.unlabelled_X_new[novel_mask]\n",
    "\n",
    "#                     # Clustering to select representative samples for annotation using Affinity Propagation\n",
    "#                     if len(novel_X) > 0:\n",
    "#                         ap = AffinityPropagation(damping=damping, preference=preference)\n",
    "#                         ap.fit(novel_X)\n",
    "#                         representative_X = ap.cluster_centers_\n",
    "#                         annotation_lengths.append(len(representative_X))\n",
    "#                         # Get labels\n",
    "#                         labels = ap.labels_\n",
    "\n",
    "#                         # Calculate silhouette score\n",
    "#                         score = silhouette_score(novel_X, labels)\n",
    "#                         sum_scores += score\n",
    "\n",
    "#                     else:\n",
    "#                         break\n",
    "\n",
    "#                     # Find row indices of representative samples\n",
    "#                     representative_indices = []\n",
    "#                     for sample in representative_X:\n",
    "#                         representative_indices.append(np.where((OC.unlabelled_X_new == sample).all(axis=1))[0][0])\n",
    "\n",
    "\n",
    "#                     # Update labelled and unlabelled sets\n",
    "#                     OC.oracle_annotations(representative_indices)\n",
    "\n",
    "#                 # Calculate average score and standardise it\n",
    "#                 orig_score = sum_scores / iter\n",
    "#                 score = orig_score * max_annotations / len(OC.labelled_X_new)\n",
    "            \n",
    "#                 # Calculate average number of annotations\n",
    "#                 avg = np.mean(annotation_lengths)\n",
    "\n",
    "#                 # Reward for lower average annotations\n",
    "#                 weighted_score = score * (1 - avg / max_annotations)\n",
    "\n",
    "#             except:\n",
    "#                 orig_score = np.nan\n",
    "#                 score = np.nan\n",
    "#                 avg = np.nan\n",
    "#                 weighted_score = np.nan\n",
    "\n",
    "#             df = pd.concat([df, pd.DataFrame({'Damping': damping,\n",
    "#                                                 'Preference': preference,\n",
    "#                                                 'Original Score': orig_score,\n",
    "#                                                 'Score': score,\n",
    "#                                                 'Weighted Score': weighted_score,\n",
    "#                                                 'Annotations': len(OC.labelled_X_new),\n",
    "#                                                 'Avg Annotations': avg}, index=[0])], ignore_index=True)\n",
    "#             df.to_csv('fine_tune_affinity_propagation.csv', index=False)\n",
    "            \n",
    "#             scores_array[di, pi] = score\n",
    "#             annotations_array[di, pi] = avg\n",
    "\n",
    "#             print(f\"Annotations: {len(OC.labelled_X_new)}  |Score: {score}  |Avg annotations: {avg}\")\n",
    "#             print('____________________________________________________')\n",
    "\n",
    "#     return scores_array\n",
    "\n",
    "# damping_range = [0.5, 0.55, 0.6, 0.65, 0.7, 0.75, 0.8, 0.85, 0.9, 0.95]\n",
    "# preference_range = [-200, -190, -180, -170, -160, -150, -140, -130, -120, -110, -100, -90, -80, -70, -60, -50, -40, -30, -20, -10]\n",
    "\n",
    "# scores_array = fine_tune_affinity_propagation(OC, novel_X, damping_range, preference_range)"
   ]
  },
  {
   "cell_type": "code",
   "execution_count": 5,
   "metadata": {},
   "outputs": [
    {
     "data": {
      "application/vnd.plotly.v1+json": {
       "config": {
        "plotlyServerURL": "https://plot.ly"
       },
       "data": [
        {
         "colorscale": [
          [
           0,
           "#440154"
          ],
          [
           0.1111111111111111,
           "#482878"
          ],
          [
           0.2222222222222222,
           "#3e4989"
          ],
          [
           0.3333333333333333,
           "#31688e"
          ],
          [
           0.4444444444444444,
           "#26828e"
          ],
          [
           0.5555555555555556,
           "#1f9e89"
          ],
          [
           0.6666666666666666,
           "#35b779"
          ],
          [
           0.7777777777777778,
           "#6ece58"
          ],
          [
           0.8888888888888888,
           "#b5de2b"
          ],
          [
           1,
           "#fde725"
          ]
         ],
         "type": "heatmap",
         "x": [
          -200,
          -190,
          -180,
          -170,
          -160,
          -150,
          -140,
          -130,
          -120,
          -110,
          -100,
          -90,
          -80,
          -70,
          -60,
          -50,
          -40,
          -30
         ],
         "y": [
          0.5,
          0.55,
          0.6,
          0.65,
          0.7,
          0.75,
          0.8,
          0.85,
          0.9
         ],
         "z": [
          [
           0.0008218292544036573,
           0.0008913055592493374,
           0.0008677697561708073,
           0.0008990597716187225,
           0.0008405582494673265,
           0.0008060445539583061,
           0.0007056987191239201,
           0.000799884045064943,
           0.0005363328903318171,
           0.0007179568828334856,
           0.000585657837944772,
           0.0005793102179082493,
           0.0005163653743714095,
           0.0005169997694816866,
           0.00043243733420237463,
           0.0004134367539923693,
           0.00038468390057400966,
           0.000268090302258812
          ],
          [
           0.0008757290086292491,
           0.000921472062606438,
           0.0009512296576185213,
           0.0008914457197495575,
           0.0008981540893048898,
           0.0007956379993731273,
           0.0007197244721801471,
           0.0007248264285530002,
           0.0006959395259663462,
           0.0006807991055382505,
           0.0005722213031316038,
           0.0005370414442132446,
           0.0005979507888823451,
           0.0005272086793212146,
           0.00048572850536325466,
           0.000336925744816938,
           0.00035899533239895214,
           0.0002778994180864363
          ],
          [
           0.0009048948447019413,
           0.0009533876802322274,
           0.0009046829002626166,
           0.000861272585640912,
           0.0008847814099469784,
           0.0007712779918845079,
           0.0008028553718438645,
           0.0008039641251223384,
           0.0007549871250913686,
           0.0006981321595128158,
           0.0005951791523267009,
           0.0005784823256965394,
           0.0005802796969015335,
           0.0004899250643489983,
           0.000438953647711883,
           0.00038749196956997103,
           0.0003988829762787137,
           0.00029292448765244947
          ],
          [
           0.0009167014860875883,
           0.0008796271317733781,
           0.0008863094104554647,
           0.000890043772430676,
           0.0009002649950185883,
           0.0007968978078056,
           0.0008221388751600354,
           0.0007432594489563578,
           0.0007087350787119467,
           0.0007026364745734465,
           0.0006114445135197209,
           0.0006299494290778015,
           0.0005337372960466667,
           0.0004866988198003185,
           0.00047575652331998167,
           0.00044565351333252965,
           0.00040013699843392136,
           0.00027979985667151596
          ],
          [
           0.0008300989177862863,
           0.000936728446733605,
           0.0009352079652808096,
           0.0009323085464848016,
           0.0009176384472917835,
           0.000819758091631753,
           0.0007511973529362555,
           0.0007612621169563535,
           0.0007339499873922822,
           0.0007248020244569937,
           0.000649668640247576,
           0.000640920037560861,
           0.0005211494234544828,
           0.0004952922247659054,
           0.0004923140165364587,
           0.0004096717190058398,
           0.0003990480690291066,
           0.0002986504277509371
          ],
          [
           0.0009149796531436244,
           0.0009590566759118529,
           0.0009833576968367862,
           0.0008999751071131018,
           0.000854014368905552,
           0.0008869704966689875,
           0.0007690569590642028,
           0.0008007436472258033,
           0.0007483638663547016,
           0.0006818772456701103,
           0.0006602397379802069,
           0.0006752505591079075,
           0.0005753796001945696,
           0.0005606597211653513,
           0.0005038984870733108,
           0.00046354810904135335,
           0.00039269493166102954,
           0.0002841230478026573
          ],
          [
           0.0009390954461251066,
           0.0009091048021893629,
           0.0009433785111691352,
           0.0009064257663117362,
           0.0008535945960985197,
           0.0008529024085805706,
           0.0007948572781485112,
           0.00080489270122945,
           0.000773603286711237,
           0.0007050470743363119,
           0.0006598366719156559,
           0.0006460555819239439,
           0.0005974570939610303,
           0.0005364626960114617,
           0.0005297983977940603,
           0.0004708593614472975,
           0.0004014373503234393,
           0.0002889314956796758
          ],
          [
           0.0009434771457699808,
           0.0009090206925095864,
           0.0009297008457961092,
           0.0008930308283711269,
           0.0008353040533617741,
           0.0008434027378945029,
           0.0007638660121870613,
           0.0007406879879547535,
           0.0007951830374563006,
           0.0007206165074746431,
           0.0006563355477120712,
           0.0006060392676520634,
           0.0006164258456281902,
           0.0005463643756364698,
           0.00047803069671683814,
           0.00046192204641410956,
           0.0003575305576056961,
           0.00026424892038232067
          ],
          [
           0.0009335084992567606,
           0.0009247867168115937,
           0.0008227408902111154,
           0.0008960568554874219,
           0.0009038939740911699,
           0.0008842013713802648,
           0.0007364547944424358,
           0.0007512030687141688,
           0.0007580430951990394,
           0.0007517185410399175,
           0.0006457000713039364,
           0.0006639942304653791,
           0.0006166196014225903,
           0.0005368962789634022,
           0.0004946560340495543,
           0.00047646285863904835,
           0.00036429806036995035,
           0.0002776078200746289
          ]
         ]
        }
       ],
       "layout": {
        "shapes": [
         {
          "line": {
           "color": "Red",
           "width": 2
          },
          "type": "rect",
          "x0": -185,
          "x1": -175,
          "xref": "x",
          "y0": 0.725,
          "y1": 0.775,
          "yref": "y"
         },
         {
          "line": {
           "color": "Red",
           "width": 2
          },
          "type": "rect",
          "x0": -195,
          "x1": -185,
          "xref": "x",
          "y0": 0.725,
          "y1": 0.775,
          "yref": "y"
         }
        ],
        "template": {
         "data": {
          "bar": [
           {
            "error_x": {
             "color": "#2a3f5f"
            },
            "error_y": {
             "color": "#2a3f5f"
            },
            "marker": {
             "line": {
              "color": "#E5ECF6",
              "width": 0.5
             },
             "pattern": {
              "fillmode": "overlay",
              "size": 10,
              "solidity": 0.2
             }
            },
            "type": "bar"
           }
          ],
          "barpolar": [
           {
            "marker": {
             "line": {
              "color": "#E5ECF6",
              "width": 0.5
             },
             "pattern": {
              "fillmode": "overlay",
              "size": 10,
              "solidity": 0.2
             }
            },
            "type": "barpolar"
           }
          ],
          "carpet": [
           {
            "aaxis": {
             "endlinecolor": "#2a3f5f",
             "gridcolor": "white",
             "linecolor": "white",
             "minorgridcolor": "white",
             "startlinecolor": "#2a3f5f"
            },
            "baxis": {
             "endlinecolor": "#2a3f5f",
             "gridcolor": "white",
             "linecolor": "white",
             "minorgridcolor": "white",
             "startlinecolor": "#2a3f5f"
            },
            "type": "carpet"
           }
          ],
          "choropleth": [
           {
            "colorbar": {
             "outlinewidth": 0,
             "ticks": ""
            },
            "type": "choropleth"
           }
          ],
          "contour": [
           {
            "colorbar": {
             "outlinewidth": 0,
             "ticks": ""
            },
            "colorscale": [
             [
              0,
              "#0d0887"
             ],
             [
              0.1111111111111111,
              "#46039f"
             ],
             [
              0.2222222222222222,
              "#7201a8"
             ],
             [
              0.3333333333333333,
              "#9c179e"
             ],
             [
              0.4444444444444444,
              "#bd3786"
             ],
             [
              0.5555555555555556,
              "#d8576b"
             ],
             [
              0.6666666666666666,
              "#ed7953"
             ],
             [
              0.7777777777777778,
              "#fb9f3a"
             ],
             [
              0.8888888888888888,
              "#fdca26"
             ],
             [
              1,
              "#f0f921"
             ]
            ],
            "type": "contour"
           }
          ],
          "contourcarpet": [
           {
            "colorbar": {
             "outlinewidth": 0,
             "ticks": ""
            },
            "type": "contourcarpet"
           }
          ],
          "heatmap": [
           {
            "colorbar": {
             "outlinewidth": 0,
             "ticks": ""
            },
            "colorscale": [
             [
              0,
              "#0d0887"
             ],
             [
              0.1111111111111111,
              "#46039f"
             ],
             [
              0.2222222222222222,
              "#7201a8"
             ],
             [
              0.3333333333333333,
              "#9c179e"
             ],
             [
              0.4444444444444444,
              "#bd3786"
             ],
             [
              0.5555555555555556,
              "#d8576b"
             ],
             [
              0.6666666666666666,
              "#ed7953"
             ],
             [
              0.7777777777777778,
              "#fb9f3a"
             ],
             [
              0.8888888888888888,
              "#fdca26"
             ],
             [
              1,
              "#f0f921"
             ]
            ],
            "type": "heatmap"
           }
          ],
          "heatmapgl": [
           {
            "colorbar": {
             "outlinewidth": 0,
             "ticks": ""
            },
            "colorscale": [
             [
              0,
              "#0d0887"
             ],
             [
              0.1111111111111111,
              "#46039f"
             ],
             [
              0.2222222222222222,
              "#7201a8"
             ],
             [
              0.3333333333333333,
              "#9c179e"
             ],
             [
              0.4444444444444444,
              "#bd3786"
             ],
             [
              0.5555555555555556,
              "#d8576b"
             ],
             [
              0.6666666666666666,
              "#ed7953"
             ],
             [
              0.7777777777777778,
              "#fb9f3a"
             ],
             [
              0.8888888888888888,
              "#fdca26"
             ],
             [
              1,
              "#f0f921"
             ]
            ],
            "type": "heatmapgl"
           }
          ],
          "histogram": [
           {
            "marker": {
             "pattern": {
              "fillmode": "overlay",
              "size": 10,
              "solidity": 0.2
             }
            },
            "type": "histogram"
           }
          ],
          "histogram2d": [
           {
            "colorbar": {
             "outlinewidth": 0,
             "ticks": ""
            },
            "colorscale": [
             [
              0,
              "#0d0887"
             ],
             [
              0.1111111111111111,
              "#46039f"
             ],
             [
              0.2222222222222222,
              "#7201a8"
             ],
             [
              0.3333333333333333,
              "#9c179e"
             ],
             [
              0.4444444444444444,
              "#bd3786"
             ],
             [
              0.5555555555555556,
              "#d8576b"
             ],
             [
              0.6666666666666666,
              "#ed7953"
             ],
             [
              0.7777777777777778,
              "#fb9f3a"
             ],
             [
              0.8888888888888888,
              "#fdca26"
             ],
             [
              1,
              "#f0f921"
             ]
            ],
            "type": "histogram2d"
           }
          ],
          "histogram2dcontour": [
           {
            "colorbar": {
             "outlinewidth": 0,
             "ticks": ""
            },
            "colorscale": [
             [
              0,
              "#0d0887"
             ],
             [
              0.1111111111111111,
              "#46039f"
             ],
             [
              0.2222222222222222,
              "#7201a8"
             ],
             [
              0.3333333333333333,
              "#9c179e"
             ],
             [
              0.4444444444444444,
              "#bd3786"
             ],
             [
              0.5555555555555556,
              "#d8576b"
             ],
             [
              0.6666666666666666,
              "#ed7953"
             ],
             [
              0.7777777777777778,
              "#fb9f3a"
             ],
             [
              0.8888888888888888,
              "#fdca26"
             ],
             [
              1,
              "#f0f921"
             ]
            ],
            "type": "histogram2dcontour"
           }
          ],
          "mesh3d": [
           {
            "colorbar": {
             "outlinewidth": 0,
             "ticks": ""
            },
            "type": "mesh3d"
           }
          ],
          "parcoords": [
           {
            "line": {
             "colorbar": {
              "outlinewidth": 0,
              "ticks": ""
             }
            },
            "type": "parcoords"
           }
          ],
          "pie": [
           {
            "automargin": true,
            "type": "pie"
           }
          ],
          "scatter": [
           {
            "fillpattern": {
             "fillmode": "overlay",
             "size": 10,
             "solidity": 0.2
            },
            "type": "scatter"
           }
          ],
          "scatter3d": [
           {
            "line": {
             "colorbar": {
              "outlinewidth": 0,
              "ticks": ""
             }
            },
            "marker": {
             "colorbar": {
              "outlinewidth": 0,
              "ticks": ""
             }
            },
            "type": "scatter3d"
           }
          ],
          "scattercarpet": [
           {
            "marker": {
             "colorbar": {
              "outlinewidth": 0,
              "ticks": ""
             }
            },
            "type": "scattercarpet"
           }
          ],
          "scattergeo": [
           {
            "marker": {
             "colorbar": {
              "outlinewidth": 0,
              "ticks": ""
             }
            },
            "type": "scattergeo"
           }
          ],
          "scattergl": [
           {
            "marker": {
             "colorbar": {
              "outlinewidth": 0,
              "ticks": ""
             }
            },
            "type": "scattergl"
           }
          ],
          "scattermapbox": [
           {
            "marker": {
             "colorbar": {
              "outlinewidth": 0,
              "ticks": ""
             }
            },
            "type": "scattermapbox"
           }
          ],
          "scatterpolar": [
           {
            "marker": {
             "colorbar": {
              "outlinewidth": 0,
              "ticks": ""
             }
            },
            "type": "scatterpolar"
           }
          ],
          "scatterpolargl": [
           {
            "marker": {
             "colorbar": {
              "outlinewidth": 0,
              "ticks": ""
             }
            },
            "type": "scatterpolargl"
           }
          ],
          "scatterternary": [
           {
            "marker": {
             "colorbar": {
              "outlinewidth": 0,
              "ticks": ""
             }
            },
            "type": "scatterternary"
           }
          ],
          "surface": [
           {
            "colorbar": {
             "outlinewidth": 0,
             "ticks": ""
            },
            "colorscale": [
             [
              0,
              "#0d0887"
             ],
             [
              0.1111111111111111,
              "#46039f"
             ],
             [
              0.2222222222222222,
              "#7201a8"
             ],
             [
              0.3333333333333333,
              "#9c179e"
             ],
             [
              0.4444444444444444,
              "#bd3786"
             ],
             [
              0.5555555555555556,
              "#d8576b"
             ],
             [
              0.6666666666666666,
              "#ed7953"
             ],
             [
              0.7777777777777778,
              "#fb9f3a"
             ],
             [
              0.8888888888888888,
              "#fdca26"
             ],
             [
              1,
              "#f0f921"
             ]
            ],
            "type": "surface"
           }
          ],
          "table": [
           {
            "cells": {
             "fill": {
              "color": "#EBF0F8"
             },
             "line": {
              "color": "white"
             }
            },
            "header": {
             "fill": {
              "color": "#C8D4E3"
             },
             "line": {
              "color": "white"
             }
            },
            "type": "table"
           }
          ]
         },
         "layout": {
          "annotationdefaults": {
           "arrowcolor": "#2a3f5f",
           "arrowhead": 0,
           "arrowwidth": 1
          },
          "autotypenumbers": "strict",
          "coloraxis": {
           "colorbar": {
            "outlinewidth": 0,
            "ticks": ""
           }
          },
          "colorscale": {
           "diverging": [
            [
             0,
             "#8e0152"
            ],
            [
             0.1,
             "#c51b7d"
            ],
            [
             0.2,
             "#de77ae"
            ],
            [
             0.3,
             "#f1b6da"
            ],
            [
             0.4,
             "#fde0ef"
            ],
            [
             0.5,
             "#f7f7f7"
            ],
            [
             0.6,
             "#e6f5d0"
            ],
            [
             0.7,
             "#b8e186"
            ],
            [
             0.8,
             "#7fbc41"
            ],
            [
             0.9,
             "#4d9221"
            ],
            [
             1,
             "#276419"
            ]
           ],
           "sequential": [
            [
             0,
             "#0d0887"
            ],
            [
             0.1111111111111111,
             "#46039f"
            ],
            [
             0.2222222222222222,
             "#7201a8"
            ],
            [
             0.3333333333333333,
             "#9c179e"
            ],
            [
             0.4444444444444444,
             "#bd3786"
            ],
            [
             0.5555555555555556,
             "#d8576b"
            ],
            [
             0.6666666666666666,
             "#ed7953"
            ],
            [
             0.7777777777777778,
             "#fb9f3a"
            ],
            [
             0.8888888888888888,
             "#fdca26"
            ],
            [
             1,
             "#f0f921"
            ]
           ],
           "sequentialminus": [
            [
             0,
             "#0d0887"
            ],
            [
             0.1111111111111111,
             "#46039f"
            ],
            [
             0.2222222222222222,
             "#7201a8"
            ],
            [
             0.3333333333333333,
             "#9c179e"
            ],
            [
             0.4444444444444444,
             "#bd3786"
            ],
            [
             0.5555555555555556,
             "#d8576b"
            ],
            [
             0.6666666666666666,
             "#ed7953"
            ],
            [
             0.7777777777777778,
             "#fb9f3a"
            ],
            [
             0.8888888888888888,
             "#fdca26"
            ],
            [
             1,
             "#f0f921"
            ]
           ]
          },
          "colorway": [
           "#636efa",
           "#EF553B",
           "#00cc96",
           "#ab63fa",
           "#FFA15A",
           "#19d3f3",
           "#FF6692",
           "#B6E880",
           "#FF97FF",
           "#FECB52"
          ],
          "font": {
           "color": "#2a3f5f"
          },
          "geo": {
           "bgcolor": "white",
           "lakecolor": "white",
           "landcolor": "#E5ECF6",
           "showlakes": true,
           "showland": true,
           "subunitcolor": "white"
          },
          "hoverlabel": {
           "align": "left"
          },
          "hovermode": "closest",
          "mapbox": {
           "style": "light"
          },
          "paper_bgcolor": "white",
          "plot_bgcolor": "#E5ECF6",
          "polar": {
           "angularaxis": {
            "gridcolor": "white",
            "linecolor": "white",
            "ticks": ""
           },
           "bgcolor": "#E5ECF6",
           "radialaxis": {
            "gridcolor": "white",
            "linecolor": "white",
            "ticks": ""
           }
          },
          "scene": {
           "xaxis": {
            "backgroundcolor": "#E5ECF6",
            "gridcolor": "white",
            "gridwidth": 2,
            "linecolor": "white",
            "showbackground": true,
            "ticks": "",
            "zerolinecolor": "white"
           },
           "yaxis": {
            "backgroundcolor": "#E5ECF6",
            "gridcolor": "white",
            "gridwidth": 2,
            "linecolor": "white",
            "showbackground": true,
            "ticks": "",
            "zerolinecolor": "white"
           },
           "zaxis": {
            "backgroundcolor": "#E5ECF6",
            "gridcolor": "white",
            "gridwidth": 2,
            "linecolor": "white",
            "showbackground": true,
            "ticks": "",
            "zerolinecolor": "white"
           }
          },
          "shapedefaults": {
           "line": {
            "color": "#2a3f5f"
           }
          },
          "ternary": {
           "aaxis": {
            "gridcolor": "white",
            "linecolor": "white",
            "ticks": ""
           },
           "baxis": {
            "gridcolor": "white",
            "linecolor": "white",
            "ticks": ""
           },
           "bgcolor": "#E5ECF6",
           "caxis": {
            "gridcolor": "white",
            "linecolor": "white",
            "ticks": ""
           }
          },
          "title": {
           "x": 0.05
          },
          "xaxis": {
           "automargin": true,
           "gridcolor": "white",
           "linecolor": "white",
           "ticks": "",
           "title": {
            "standoff": 15
           },
           "zerolinecolor": "white",
           "zerolinewidth": 2
          },
          "yaxis": {
           "automargin": true,
           "gridcolor": "white",
           "linecolor": "white",
           "ticks": "",
           "title": {
            "standoff": 15
           },
           "zerolinecolor": "white",
           "zerolinewidth": 2
          }
         }
        },
        "xaxis": {
         "nticks": 36,
         "title": {
          "text": "Preference value"
         }
        },
        "yaxis": {
         "title": {
          "text": "Damping value"
         }
        }
       }
      }
     },
     "metadata": {},
     "output_type": "display_data"
    }
   ],
   "source": [
    "import pandas as pd\n",
    "import plotly.graph_objects as go\n",
    "import numpy as np\n",
    "\n",
    "df = pd.read_csv('fine_tune_affinity_propagation.csv')\n",
    "# Remove all damping values above 0.9\n",
    "df = df[df['Damping'] <= 0.9]\n",
    "\n",
    "# Remove all average annotations above 100\n",
    "df = df[df['Avg Annotations'] <= 200]\n",
    "\n",
    "# Calculate weighted score\n",
    "df['Weighted Score'] = df['Score'] ** 2 / df['Avg Annotations']\n",
    "\n",
    "# Plot heatmap of weighted scores\n",
    "import plotly.graph_objects as go\n",
    "\n",
    "\n",
    "fig = go.Figure(data=go.Heatmap(\n",
    "                        z=df['Weighted Score'].values.reshape(len(df['Damping'].unique()), len(df['Preference'].unique())),\n",
    "                        x=df['Preference'].unique(),\n",
    "                        y=df['Damping'].unique(),\n",
    "                        colorscale='Viridis'))\n",
    "\n",
    "fig.update_layout(\n",
    "    xaxis_nticks=36,\n",
    "    yaxis={'title': 'Damping value'},\n",
    "    xaxis={'title': 'Preference value'}\n",
    ")\n",
    "\n",
    "# Highlight top 5 values with red border\n",
    "df = df.sort_values(by='Weighted Score', ascending=False)\n",
    "for i in range(2):\n",
    "    fig.add_shape(\n",
    "        type=\"rect\",\n",
    "        xref=\"x\",\n",
    "        yref=\"y\",\n",
    "        x0=df.iloc[i]['Preference'] - 5,\n",
    "        y0=df.iloc[i]['Damping'] - 0.025,\n",
    "        x1=df.iloc[i]['Preference'] + 5,\n",
    "        y1=df.iloc[i]['Damping'] + 0.025,\n",
    "        line=dict(\n",
    "            color=\"Red\",\n",
    "            width=2\n",
    "        )\n",
    "    )\n",
    "\n",
    "fig.show()\n",
    "\n",
    "# Save png\n",
    "# fig.write_image('AP_heatmap.png', width=1000, height=500, scale=8)"
   ]
  },
  {
   "cell_type": "code",
   "execution_count": 7,
   "metadata": {},
   "outputs": [
    {
     "data": {
      "application/vnd.plotly.v1+json": {
       "config": {
        "plotlyServerURL": "https://plot.ly"
       },
       "data": [
        {
         "colorscale": [
          [
           0,
           "#440154"
          ],
          [
           0.1111111111111111,
           "#482878"
          ],
          [
           0.2222222222222222,
           "#3e4989"
          ],
          [
           0.3333333333333333,
           "#31688e"
          ],
          [
           0.4444444444444444,
           "#26828e"
          ],
          [
           0.5555555555555556,
           "#1f9e89"
          ],
          [
           0.6666666666666666,
           "#35b779"
          ],
          [
           0.7777777777777778,
           "#6ece58"
          ],
          [
           0.8888888888888888,
           "#b5de2b"
          ],
          [
           1,
           "#fde725"
          ]
         ],
         "type": "heatmap",
         "x": [
          -200,
          -190,
          -180,
          -170,
          -160,
          -150,
          -140,
          -130,
          -120,
          -110,
          -100,
          -90,
          -80,
          -70,
          -60,
          -50,
          -40,
          -30
         ],
         "y": [
          0.5,
          0.55,
          0.6,
          0.65,
          0.7,
          0.75,
          0.8,
          0.85,
          0.9
         ],
         "z": [
          [
           0.1862288767507186,
           0.1902288245916562,
           0.189540676123811,
           0.2001452162858835,
           0.1940060063604368,
           0.1930211659224781,
           0.2008124525341878,
           0.2002353309455658,
           0.1955975788287514,
           0.2040624884792454,
           0.1896737312621153,
           0.2001723176132352,
           0.193039808978537,
           0.2071496581386993,
           0.1968410148940834,
           0.2125275637974198,
           0.2284486430496082,
           0.2081856515993388
          ],
          [
           0.188559268534717,
           0.1931828629448294,
           0.1970029695990283,
           0.1921089607426777,
           0.2007912824798636,
           0.1924613443835585,
           0.1850051272842347,
           0.1932060068177993,
           0.1918275330484927,
           0.1977304226994697,
           0.1890051811340143,
           0.1931951872403153,
           0.2058029337639111,
           0.2079209265666628,
           0.2060404605138235,
           0.1925144979731739,
           0.2225788756172863,
           0.2106448996640262
          ],
          [
           0.1863197702056185,
           0.1957707453766664,
           0.1921225190619641,
           0.1904194734145707,
           0.1983018361484979,
           0.1885854850759761,
           0.1949405574372427,
           0.2017441048316366,
           0.1990899898721602,
           0.2019674843846835,
           0.1920966096636155,
           0.1988205864322493,
           0.2034533977244979,
           0.2014095214434935,
           0.1972087553514621,
           0.2040965132695115,
           0.2334823478511617,
           0.217390165389165
          ],
          [
           0.1870864224597788,
           0.1845685775816032,
           0.1899283891511151,
           0.1928829429669774,
           0.201027100988761,
           0.1926136551841381,
           0.1961066791435425,
           0.1951718390521884,
           0.1928952867033749,
           0.200876601346102,
           0.1942546303329434,
           0.2049307897930098,
           0.1964866350349956,
           0.2017127198153518,
           0.2041476706769646,
           0.2178579793579166,
           0.2324187918146452,
           0.2120247870066695
          ],
          [
           0.1799273681063144,
           0.1942939947691752,
           0.1948574950839738,
           0.1957495370633743,
           0.2019503181248941,
           0.1941877241615974,
           0.188564775887888,
           0.1970390011261071,
           0.1974616243228415,
           0.2045273358888822,
           0.1995379830172728,
           0.2067075289002735,
           0.1932590024144747,
           0.2027541729670937,
           0.2071950343082073,
           0.211799559090994,
           0.2329603772918444,
           0.2176829526394186
          ],
          [
           0.1866879931541537,
           0.1958628781481425,
           0.1993179644492843,
           0.1932588081956259,
           0.1920766012212832,
           0.2007682282128701,
           0.191016963039765,
           0.2025786561321859,
           0.1986861694990633,
           0.1923326300387001,
           0.1999791592368735,
           0.2121714022683716,
           0.2021186572630405,
           0.2138921065563025,
           0.2110559789659622,
           0.2224494563719239,
           0.2319465577187147,
           0.2120993852782717
          ],
          [
           0.1898081036359893,
           0.1878557837895041,
           0.1954656739746137,
           0.1946499345795692,
           0.1906911896071681,
           0.1975954881219022,
           0.1932829326996567,
           0.2016112135077988,
           0.2012895231786817,
           0.1955730139429899,
           0.2001537214828906,
           0.2005991859116224,
           0.2054757925074861,
           0.2115206582047151,
           0.2134541220269339,
           0.2231442974244507,
           0.2339429248643685,
           0.2134358587932892
          ],
          [
           0.1897990327648963,
           0.1869651773438901,
           0.1959506186042272,
           0.1925117642571533,
           0.1888583677747633,
           0.1962533864604183,
           0.1905939993272676,
           0.1960183393847444,
           0.2033458087783656,
           0.2031773396734038,
           0.1989162067427582,
           0.2030041137522595,
           0.2074778820815252,
           0.2114062580130097,
           0.2055672969851199,
           0.2217987780469105,
           0.2213180661219964,
           0.2066887566571418
          ],
          [
           0.1887936751848525,
           0.193290929324654,
           0.1856686384391444,
           0.1937647600698408,
           0.200682580656496,
           0.2011884039646722,
           0.1873615360786629,
           0.1962120212209261,
           0.1994925123856772,
           0.2090623441543716,
           0.1986956144882651,
           0.2111830465408101,
           0.2070146427160891,
           0.2103336715473401,
           0.20816308169976,
           0.2234043071259825,
           0.2231309068324987,
           0.2109734275968552
          ]
         ]
        }
       ],
       "layout": {
        "shapes": [
         {
          "line": {
           "color": "Red",
           "width": 2
          },
          "type": "rect",
          "x0": -45,
          "x1": -35,
          "xref": "x",
          "y0": 0.775,
          "y1": 0.8250000000000001,
          "yref": "y"
         },
         {
          "line": {
           "color": "Red",
           "width": 2
          },
          "type": "rect",
          "x0": -45,
          "x1": -35,
          "xref": "x",
          "y0": 0.575,
          "y1": 0.625,
          "yref": "y"
         }
        ],
        "template": {
         "data": {
          "bar": [
           {
            "error_x": {
             "color": "#2a3f5f"
            },
            "error_y": {
             "color": "#2a3f5f"
            },
            "marker": {
             "line": {
              "color": "#E5ECF6",
              "width": 0.5
             },
             "pattern": {
              "fillmode": "overlay",
              "size": 10,
              "solidity": 0.2
             }
            },
            "type": "bar"
           }
          ],
          "barpolar": [
           {
            "marker": {
             "line": {
              "color": "#E5ECF6",
              "width": 0.5
             },
             "pattern": {
              "fillmode": "overlay",
              "size": 10,
              "solidity": 0.2
             }
            },
            "type": "barpolar"
           }
          ],
          "carpet": [
           {
            "aaxis": {
             "endlinecolor": "#2a3f5f",
             "gridcolor": "white",
             "linecolor": "white",
             "minorgridcolor": "white",
             "startlinecolor": "#2a3f5f"
            },
            "baxis": {
             "endlinecolor": "#2a3f5f",
             "gridcolor": "white",
             "linecolor": "white",
             "minorgridcolor": "white",
             "startlinecolor": "#2a3f5f"
            },
            "type": "carpet"
           }
          ],
          "choropleth": [
           {
            "colorbar": {
             "outlinewidth": 0,
             "ticks": ""
            },
            "type": "choropleth"
           }
          ],
          "contour": [
           {
            "colorbar": {
             "outlinewidth": 0,
             "ticks": ""
            },
            "colorscale": [
             [
              0,
              "#0d0887"
             ],
             [
              0.1111111111111111,
              "#46039f"
             ],
             [
              0.2222222222222222,
              "#7201a8"
             ],
             [
              0.3333333333333333,
              "#9c179e"
             ],
             [
              0.4444444444444444,
              "#bd3786"
             ],
             [
              0.5555555555555556,
              "#d8576b"
             ],
             [
              0.6666666666666666,
              "#ed7953"
             ],
             [
              0.7777777777777778,
              "#fb9f3a"
             ],
             [
              0.8888888888888888,
              "#fdca26"
             ],
             [
              1,
              "#f0f921"
             ]
            ],
            "type": "contour"
           }
          ],
          "contourcarpet": [
           {
            "colorbar": {
             "outlinewidth": 0,
             "ticks": ""
            },
            "type": "contourcarpet"
           }
          ],
          "heatmap": [
           {
            "colorbar": {
             "outlinewidth": 0,
             "ticks": ""
            },
            "colorscale": [
             [
              0,
              "#0d0887"
             ],
             [
              0.1111111111111111,
              "#46039f"
             ],
             [
              0.2222222222222222,
              "#7201a8"
             ],
             [
              0.3333333333333333,
              "#9c179e"
             ],
             [
              0.4444444444444444,
              "#bd3786"
             ],
             [
              0.5555555555555556,
              "#d8576b"
             ],
             [
              0.6666666666666666,
              "#ed7953"
             ],
             [
              0.7777777777777778,
              "#fb9f3a"
             ],
             [
              0.8888888888888888,
              "#fdca26"
             ],
             [
              1,
              "#f0f921"
             ]
            ],
            "type": "heatmap"
           }
          ],
          "heatmapgl": [
           {
            "colorbar": {
             "outlinewidth": 0,
             "ticks": ""
            },
            "colorscale": [
             [
              0,
              "#0d0887"
             ],
             [
              0.1111111111111111,
              "#46039f"
             ],
             [
              0.2222222222222222,
              "#7201a8"
             ],
             [
              0.3333333333333333,
              "#9c179e"
             ],
             [
              0.4444444444444444,
              "#bd3786"
             ],
             [
              0.5555555555555556,
              "#d8576b"
             ],
             [
              0.6666666666666666,
              "#ed7953"
             ],
             [
              0.7777777777777778,
              "#fb9f3a"
             ],
             [
              0.8888888888888888,
              "#fdca26"
             ],
             [
              1,
              "#f0f921"
             ]
            ],
            "type": "heatmapgl"
           }
          ],
          "histogram": [
           {
            "marker": {
             "pattern": {
              "fillmode": "overlay",
              "size": 10,
              "solidity": 0.2
             }
            },
            "type": "histogram"
           }
          ],
          "histogram2d": [
           {
            "colorbar": {
             "outlinewidth": 0,
             "ticks": ""
            },
            "colorscale": [
             [
              0,
              "#0d0887"
             ],
             [
              0.1111111111111111,
              "#46039f"
             ],
             [
              0.2222222222222222,
              "#7201a8"
             ],
             [
              0.3333333333333333,
              "#9c179e"
             ],
             [
              0.4444444444444444,
              "#bd3786"
             ],
             [
              0.5555555555555556,
              "#d8576b"
             ],
             [
              0.6666666666666666,
              "#ed7953"
             ],
             [
              0.7777777777777778,
              "#fb9f3a"
             ],
             [
              0.8888888888888888,
              "#fdca26"
             ],
             [
              1,
              "#f0f921"
             ]
            ],
            "type": "histogram2d"
           }
          ],
          "histogram2dcontour": [
           {
            "colorbar": {
             "outlinewidth": 0,
             "ticks": ""
            },
            "colorscale": [
             [
              0,
              "#0d0887"
             ],
             [
              0.1111111111111111,
              "#46039f"
             ],
             [
              0.2222222222222222,
              "#7201a8"
             ],
             [
              0.3333333333333333,
              "#9c179e"
             ],
             [
              0.4444444444444444,
              "#bd3786"
             ],
             [
              0.5555555555555556,
              "#d8576b"
             ],
             [
              0.6666666666666666,
              "#ed7953"
             ],
             [
              0.7777777777777778,
              "#fb9f3a"
             ],
             [
              0.8888888888888888,
              "#fdca26"
             ],
             [
              1,
              "#f0f921"
             ]
            ],
            "type": "histogram2dcontour"
           }
          ],
          "mesh3d": [
           {
            "colorbar": {
             "outlinewidth": 0,
             "ticks": ""
            },
            "type": "mesh3d"
           }
          ],
          "parcoords": [
           {
            "line": {
             "colorbar": {
              "outlinewidth": 0,
              "ticks": ""
             }
            },
            "type": "parcoords"
           }
          ],
          "pie": [
           {
            "automargin": true,
            "type": "pie"
           }
          ],
          "scatter": [
           {
            "fillpattern": {
             "fillmode": "overlay",
             "size": 10,
             "solidity": 0.2
            },
            "type": "scatter"
           }
          ],
          "scatter3d": [
           {
            "line": {
             "colorbar": {
              "outlinewidth": 0,
              "ticks": ""
             }
            },
            "marker": {
             "colorbar": {
              "outlinewidth": 0,
              "ticks": ""
             }
            },
            "type": "scatter3d"
           }
          ],
          "scattercarpet": [
           {
            "marker": {
             "colorbar": {
              "outlinewidth": 0,
              "ticks": ""
             }
            },
            "type": "scattercarpet"
           }
          ],
          "scattergeo": [
           {
            "marker": {
             "colorbar": {
              "outlinewidth": 0,
              "ticks": ""
             }
            },
            "type": "scattergeo"
           }
          ],
          "scattergl": [
           {
            "marker": {
             "colorbar": {
              "outlinewidth": 0,
              "ticks": ""
             }
            },
            "type": "scattergl"
           }
          ],
          "scattermapbox": [
           {
            "marker": {
             "colorbar": {
              "outlinewidth": 0,
              "ticks": ""
             }
            },
            "type": "scattermapbox"
           }
          ],
          "scatterpolar": [
           {
            "marker": {
             "colorbar": {
              "outlinewidth": 0,
              "ticks": ""
             }
            },
            "type": "scatterpolar"
           }
          ],
          "scatterpolargl": [
           {
            "marker": {
             "colorbar": {
              "outlinewidth": 0,
              "ticks": ""
             }
            },
            "type": "scatterpolargl"
           }
          ],
          "scatterternary": [
           {
            "marker": {
             "colorbar": {
              "outlinewidth": 0,
              "ticks": ""
             }
            },
            "type": "scatterternary"
           }
          ],
          "surface": [
           {
            "colorbar": {
             "outlinewidth": 0,
             "ticks": ""
            },
            "colorscale": [
             [
              0,
              "#0d0887"
             ],
             [
              0.1111111111111111,
              "#46039f"
             ],
             [
              0.2222222222222222,
              "#7201a8"
             ],
             [
              0.3333333333333333,
              "#9c179e"
             ],
             [
              0.4444444444444444,
              "#bd3786"
             ],
             [
              0.5555555555555556,
              "#d8576b"
             ],
             [
              0.6666666666666666,
              "#ed7953"
             ],
             [
              0.7777777777777778,
              "#fb9f3a"
             ],
             [
              0.8888888888888888,
              "#fdca26"
             ],
             [
              1,
              "#f0f921"
             ]
            ],
            "type": "surface"
           }
          ],
          "table": [
           {
            "cells": {
             "fill": {
              "color": "#EBF0F8"
             },
             "line": {
              "color": "white"
             }
            },
            "header": {
             "fill": {
              "color": "#C8D4E3"
             },
             "line": {
              "color": "white"
             }
            },
            "type": "table"
           }
          ]
         },
         "layout": {
          "annotationdefaults": {
           "arrowcolor": "#2a3f5f",
           "arrowhead": 0,
           "arrowwidth": 1
          },
          "autotypenumbers": "strict",
          "coloraxis": {
           "colorbar": {
            "outlinewidth": 0,
            "ticks": ""
           }
          },
          "colorscale": {
           "diverging": [
            [
             0,
             "#8e0152"
            ],
            [
             0.1,
             "#c51b7d"
            ],
            [
             0.2,
             "#de77ae"
            ],
            [
             0.3,
             "#f1b6da"
            ],
            [
             0.4,
             "#fde0ef"
            ],
            [
             0.5,
             "#f7f7f7"
            ],
            [
             0.6,
             "#e6f5d0"
            ],
            [
             0.7,
             "#b8e186"
            ],
            [
             0.8,
             "#7fbc41"
            ],
            [
             0.9,
             "#4d9221"
            ],
            [
             1,
             "#276419"
            ]
           ],
           "sequential": [
            [
             0,
             "#0d0887"
            ],
            [
             0.1111111111111111,
             "#46039f"
            ],
            [
             0.2222222222222222,
             "#7201a8"
            ],
            [
             0.3333333333333333,
             "#9c179e"
            ],
            [
             0.4444444444444444,
             "#bd3786"
            ],
            [
             0.5555555555555556,
             "#d8576b"
            ],
            [
             0.6666666666666666,
             "#ed7953"
            ],
            [
             0.7777777777777778,
             "#fb9f3a"
            ],
            [
             0.8888888888888888,
             "#fdca26"
            ],
            [
             1,
             "#f0f921"
            ]
           ],
           "sequentialminus": [
            [
             0,
             "#0d0887"
            ],
            [
             0.1111111111111111,
             "#46039f"
            ],
            [
             0.2222222222222222,
             "#7201a8"
            ],
            [
             0.3333333333333333,
             "#9c179e"
            ],
            [
             0.4444444444444444,
             "#bd3786"
            ],
            [
             0.5555555555555556,
             "#d8576b"
            ],
            [
             0.6666666666666666,
             "#ed7953"
            ],
            [
             0.7777777777777778,
             "#fb9f3a"
            ],
            [
             0.8888888888888888,
             "#fdca26"
            ],
            [
             1,
             "#f0f921"
            ]
           ]
          },
          "colorway": [
           "#636efa",
           "#EF553B",
           "#00cc96",
           "#ab63fa",
           "#FFA15A",
           "#19d3f3",
           "#FF6692",
           "#B6E880",
           "#FF97FF",
           "#FECB52"
          ],
          "font": {
           "color": "#2a3f5f"
          },
          "geo": {
           "bgcolor": "white",
           "lakecolor": "white",
           "landcolor": "#E5ECF6",
           "showlakes": true,
           "showland": true,
           "subunitcolor": "white"
          },
          "hoverlabel": {
           "align": "left"
          },
          "hovermode": "closest",
          "mapbox": {
           "style": "light"
          },
          "paper_bgcolor": "white",
          "plot_bgcolor": "#E5ECF6",
          "polar": {
           "angularaxis": {
            "gridcolor": "white",
            "linecolor": "white",
            "ticks": ""
           },
           "bgcolor": "#E5ECF6",
           "radialaxis": {
            "gridcolor": "white",
            "linecolor": "white",
            "ticks": ""
           }
          },
          "scene": {
           "xaxis": {
            "backgroundcolor": "#E5ECF6",
            "gridcolor": "white",
            "gridwidth": 2,
            "linecolor": "white",
            "showbackground": true,
            "ticks": "",
            "zerolinecolor": "white"
           },
           "yaxis": {
            "backgroundcolor": "#E5ECF6",
            "gridcolor": "white",
            "gridwidth": 2,
            "linecolor": "white",
            "showbackground": true,
            "ticks": "",
            "zerolinecolor": "white"
           },
           "zaxis": {
            "backgroundcolor": "#E5ECF6",
            "gridcolor": "white",
            "gridwidth": 2,
            "linecolor": "white",
            "showbackground": true,
            "ticks": "",
            "zerolinecolor": "white"
           }
          },
          "shapedefaults": {
           "line": {
            "color": "#2a3f5f"
           }
          },
          "ternary": {
           "aaxis": {
            "gridcolor": "white",
            "linecolor": "white",
            "ticks": ""
           },
           "baxis": {
            "gridcolor": "white",
            "linecolor": "white",
            "ticks": ""
           },
           "bgcolor": "#E5ECF6",
           "caxis": {
            "gridcolor": "white",
            "linecolor": "white",
            "ticks": ""
           }
          },
          "title": {
           "x": 0.05
          },
          "xaxis": {
           "automargin": true,
           "gridcolor": "white",
           "linecolor": "white",
           "ticks": "",
           "title": {
            "standoff": 15
           },
           "zerolinecolor": "white",
           "zerolinewidth": 2
          },
          "yaxis": {
           "automargin": true,
           "gridcolor": "white",
           "linecolor": "white",
           "ticks": "",
           "title": {
            "standoff": 15
           },
           "zerolinecolor": "white",
           "zerolinewidth": 2
          }
         }
        },
        "xaxis": {
         "nticks": 36,
         "title": {
          "text": "Preference value"
         }
        },
        "yaxis": {
         "title": {
          "text": "Damping value"
         }
        }
       }
      }
     },
     "metadata": {},
     "output_type": "display_data"
    }
   ],
   "source": [
    "import pandas as pd\n",
    "import plotly.graph_objects as go\n",
    "import numpy as np\n",
    "\n",
    "df = pd.read_csv('fine_tune_affinity_propagation.csv')\n",
    "# Remove all damping values above 0.9\n",
    "df = df[df['Damping'] <= 0.9]\n",
    "\n",
    "# Remove all average annotations above 100\n",
    "df = df[df['Avg Annotations'] <= 200]\n",
    "\n",
    "# Calculate weighted score\n",
    "df['Weighted Score'] = df['Score'] ** 2 / df['Avg Annotations']\n",
    "\n",
    "# Plot heatmap of weighted scores\n",
    "import plotly.graph_objects as go\n",
    "\n",
    "fig = go.Figure(data=go.Heatmap(\n",
    "                        z=df['Score'].values.reshape(len(df['Damping'].unique()), len(df['Preference'].unique())),\n",
    "                        x=df['Preference'].unique(),\n",
    "                        y=df['Damping'].unique(),\n",
    "                        colorscale='Viridis'))\n",
    "\n",
    "fig.update_layout(\n",
    "    xaxis_nticks=36,\n",
    "    yaxis={'title': 'Damping value'},\n",
    "    xaxis={'title': 'Preference value'}\n",
    ")\n",
    "\n",
    "# Highlight top 5 values with red border\n",
    "df = df.sort_values(by='Score', ascending=False)\n",
    "for i in range(2):\n",
    "    fig.add_shape(\n",
    "        type=\"rect\",\n",
    "        xref=\"x\",\n",
    "        yref=\"y\",\n",
    "        x0=df.iloc[i]['Preference'] - 5,\n",
    "        y0=df.iloc[i]['Damping'] - 0.025,\n",
    "        x1=df.iloc[i]['Preference'] + 5,\n",
    "        y1=df.iloc[i]['Damping'] + 0.025,\n",
    "        line=dict(\n",
    "            color=\"Red\",\n",
    "            width=2\n",
    "        )\n",
    "    )\n",
    "\n",
    "fig.show()"
   ]
  },
  {
   "cell_type": "code",
   "execution_count": 7,
   "metadata": {},
   "outputs": [
    {
     "name": "stdout",
     "output_type": "stream",
     "text": [
      "Total data: 3667\n",
      "Annotations: 10\n",
      "Preprocessing data: Applying StandardScaler\n",
      "Unique labels:  ['Standing' 'Walking Downstairs']\n",
      "Iteration 1\n",
      "Novelty detected: 3649\n",
      "Representative samples chosen for annotation: 122\n",
      "Starting uncertainty sampling and model training\n",
      "Total data: 366700     |Labelled data size: 792  |Unlabelled data size: 2875\n",
      "Annotations: 10\n",
      "Preprocessing data: Applying StandardScaler\n",
      "Unique labels:  ['Standing' 'Walking Downstairs']\n",
      "Iteration 1\n",
      "Novelty detected: 3649\n",
      "Representative samples chosen for annotation: 126\n",
      "Starting uncertainty sampling and model training\n",
      "Total data: 366700     |Labelled data size: 796  |Unlabelled data size: 2871\n",
      "Annotations: 10\n",
      "Preprocessing data: Applying StandardScaler\n",
      "Unique labels:  ['Standing' 'Walking Downstairs']\n",
      "Iteration 1\n",
      "Novelty detected: 3649\n",
      "Representative samples chosen for annotation: 483\n",
      "Starting uncertainty sampling and model training\n",
      "Total data: 366700     |Labelled data size: 793  |Unlabelled data size: 2874\n",
      "Annotations: 10\n",
      "Preprocessing data: Applying StandardScaler\n",
      "Unique labels:  ['Standing' 'Walking Downstairs']\n",
      "Iteration 1\n",
      "Novelty detected: 3649\n",
      "Representative samples chosen for annotation: 479\n",
      "Starting uncertainty sampling and model training\n",
      "Iteration 31  /500     |Labelled data size: 799  |Unlabelled data size: 2868\r"
     ]
    }
   ],
   "source": [
    "from OCluDAL import OCluDAL\n",
    "import numpy as np\n",
    "\n",
    "# Path to the data\n",
    "# indices = np.random.choice(4000, 10, replace=False)\n",
    "indices = np.arange(138, 148)\n",
    "path = 'PreProcessing\\\\USC\\\\CompiledData_7.csv'\n",
    "annotations = 10\n",
    "\n",
    "damping_pref_tuples = {\n",
    "    'combination1': (0.75, -190),\n",
    "    'combination2': (0.75, -180),\n",
    "    'combination3': (0.8, -40),\n",
    "    'combination4': (0.6, -40)\n",
    "}\n",
    "\n",
    "for key, (damping, pref) in damping_pref_tuples.items():\n",
    "    # OC = OCluDAL(path, annotations, damping=damping, preference=pref)\n",
    "    # OC.initialise_data(indices=indices, output_path=f'{key}_1_iter.csv')\n",
    "    # OC.preprocessing()\n",
    "    # OC.step1(max_iter=1)\n",
    "    # clf = OC.step2(max_iter=500, n=10, max_samples=500)\n",
    "\n",
    "    OC = OCluDAL(path, annotations, damping=damping, preference=pref)\n",
    "    OC.initialise_data(indices=indices, output_path=f'{key}_2_heatmap_verification.csv')\n",
    "    OC.preprocessing()\n",
    "    OC.step1(max_iter=1)\n",
    "    clf = OC.step2(max_iter=500, n=10, max_samples=800)\n",
    "\n",
    "# OC = OCluDAL(path, annotations)\n",
    "# OC.initialise_data(indices=indices, output_path='baseline_0_iter.csv')\n",
    "# OC.preprocessing()\n",
    "# OC.step1(max_iter=0)\n",
    "# clf = OC.step2(max_iter=500, n=10, max_samples=500)\n"
   ]
  },
  {
   "cell_type": "code",
   "execution_count": 6,
   "metadata": {},
   "outputs": [
    {
     "data": {
      "application/vnd.plotly.v1+json": {
       "config": {
        "plotlyServerURL": "https://plot.ly"
       },
       "data": [
        {
         "line": {
          "color": "rgb(102, 197, 204)"
         },
         "name": "Damping = 0.75, Preference = -190",
         "type": "scatter",
         "x": [
          10,
          132,
          132,
          132,
          142,
          142,
          152,
          152,
          162,
          162,
          172,
          172,
          182,
          182,
          192,
          192,
          202,
          202,
          212,
          212,
          222,
          222,
          232,
          232,
          242,
          242,
          252,
          252,
          262,
          262,
          272,
          272,
          282,
          282,
          292,
          292,
          302,
          302,
          312,
          312,
          322,
          322,
          332,
          332,
          342,
          342,
          352,
          352,
          362,
          362,
          372,
          372,
          382,
          382,
          392,
          392,
          402,
          402,
          412,
          412,
          422,
          422,
          432,
          432,
          442,
          442,
          452,
          452,
          462,
          462,
          472,
          472,
          482,
          482,
          492,
          492,
          502,
          502,
          512,
          512,
          522,
          522,
          532,
          532,
          542,
          542,
          552,
          552,
          562,
          562,
          572,
          572,
          582,
          582,
          592,
          592,
          602,
          602,
          612,
          612,
          622,
          622,
          632,
          632,
          642,
          642,
          652,
          652,
          662,
          662,
          672,
          672,
          682,
          682,
          692,
          692,
          702,
          702,
          712,
          712,
          722,
          722,
          732,
          732,
          742,
          742,
          752,
          752,
          762,
          762,
          772,
          772,
          782,
          782,
          792,
          792,
          802,
          802
         ],
         "y": [
          0.1350834016953787,
          0.5422913719943423,
          0.5422913719943423,
          0.5422913719943423,
          0.4825531914893617,
          0.4825531914893617,
          0.5098150782361308,
          0.5098150782361308,
          0.4770328102710414,
          0.4770328102710414,
          0.6131616595135908,
          0.6131616595135908,
          0.6634146341463415,
          0.6634146341463415,
          0.6083453237410072,
          0.6083453237410072,
          0.6733044733044733,
          0.6733044733044733,
          0.7036179450072358,
          0.7036179450072358,
          0.7256894049346879,
          0.7256894049346879,
          0.757787481804949,
          0.757787481804949,
          0.7521167883211679,
          0.7521167883211679,
          0.7944363103953148,
          0.7944363103953148,
          0.7847283406754773,
          0.7847283406754773,
          0.8035346097201768,
          0.8035346097201768,
          0.806794682422452,
          0.806794682422452,
          0.8154074074074074,
          0.8154074074074074,
          0.8154531946508172,
          0.8154531946508172,
          0.8140089418777944,
          0.8140089418777944,
          0.8266068759342302,
          0.8266068759342302,
          0.8143928035982009,
          0.8143928035982009,
          0.8261654135338345,
          0.8261654135338345,
          0.8328808446455506,
          0.8328808446455506,
          0.8332829046898639,
          0.8332829046898639,
          0.8315629742033384,
          0.8315629742033384,
          0.8322678843226788,
          0.8322678843226788,
          0.8354198473282443,
          0.8354198473282443,
          0.839509954058193,
          0.839509954058193,
          0.8463901689708141,
          0.8463901689708141,
          0.8579352850539291,
          0.8579352850539291,
          0.8633693972179289,
          0.8633693972179289,
          0.866046511627907,
          0.866046511627907,
          0.8618973561430793,
          0.8618973561430793,
          0.8567862714508581,
          0.8567862714508581,
          0.8663536776212832,
          0.8663536776212832,
          0.8775510204081632,
          0.8775510204081632,
          0.8771653543307086,
          0.8771653543307086,
          0.874565560821485,
          0.874565560821485,
          0.8719492868462757,
          0.8719492868462757,
          0.8693163751987282,
          0.8693163751987282,
          0.8609250398724083,
          0.8609250398724083,
          0.88512,
          0.88512,
          0.8825040128410915,
          0.8825040128410915,
          0.8769726247987117,
          0.8769726247987117,
          0.8768982229402261,
          0.8768982229402261,
          0.8713128038897893,
          0.8713128038897893,
          0.8734959349593496,
          0.8734959349593496,
          0.8747145187601958,
          0.8747145187601958,
          0.8788870703764321,
          0.8788870703764321,
          0.8804597701149425,
          0.8804597701149425,
          0.8958813838550247,
          0.8958813838550247,
          0.9011570247933884,
          0.9011570247933884,
          0.9024875621890548,
          0.9024875621890548,
          0.9058236272878536,
          0.9058236272878536,
          0.896160267111853,
          0.896160267111853,
          0.8981574539363484,
          0.8981574539363484,
          0.9105882352941176,
          0.9105882352941176,
          0.9079258010118044,
          0.9079258010118044,
          0.9069373942470388,
          0.9069373942470388,
          0.9110356536502546,
          0.9110356536502546,
          0.9066439522998296,
          0.9066439522998296,
          0.9117948717948718,
          0.9117948717948718,
          0.9135506003430532,
          0.9135506003430532,
          0.8929432013769363,
          0.8929432013769363,
          0.9043177892918826,
          0.9043177892918826,
          0.9116117850953206,
          0.9116117850953206,
          0.9255652173913044,
          0.9255652173913044,
          0.9183246073298428,
          0.9183246073298428
         ]
        },
        {
         "line": {
          "color": "rgb(246, 207, 113)"
         },
         "name": "Damping = 0.75, Preference = -180",
         "type": "scatter",
         "x": [
          10,
          136,
          136,
          136,
          146,
          146,
          156,
          156,
          166,
          166,
          176,
          176,
          186,
          186,
          196,
          196,
          206,
          206,
          216,
          216,
          226,
          226,
          236,
          236,
          246,
          246,
          256,
          256,
          266,
          266,
          276,
          276,
          286,
          286,
          296,
          296,
          306,
          306,
          316,
          316,
          326,
          326,
          336,
          336,
          346,
          346,
          356,
          356,
          366,
          366,
          376,
          376,
          386,
          386,
          396,
          396,
          406,
          406,
          416,
          416,
          426,
          426,
          436,
          436,
          446,
          446,
          456,
          456,
          466,
          466,
          476,
          476,
          486,
          486,
          496,
          496,
          506,
          506,
          516,
          516,
          526,
          526,
          536,
          536,
          546,
          546,
          556,
          556,
          566,
          566,
          576,
          576,
          586,
          586,
          596,
          596,
          606,
          606,
          616,
          616,
          626,
          626,
          636,
          636,
          646,
          646,
          656,
          656,
          666,
          666,
          676,
          676,
          686,
          686,
          696,
          696,
          706,
          706,
          716,
          716,
          726,
          726,
          736,
          736,
          746,
          746,
          756,
          756,
          766,
          766,
          776,
          776,
          786,
          786,
          796,
          796,
          806,
          806
         ],
         "y": [
          0.1350834016953787,
          0.4129141886151232,
          0.4129141886151232,
          0.4129141886151232,
          0.4924737290542459,
          0.4924737290542459,
          0.5474223867843919,
          0.5474223867843919,
          0.6052556412453585,
          0.6052556412453585,
          0.6336293325694643,
          0.6336293325694643,
          0.6693478885377765,
          0.6693478885377765,
          0.668971477960242,
          0.668971477960242,
          0.61167292689974,
          0.61167292689974,
          0.6172124022022603,
          0.6172124022022603,
          0.6236559139784946,
          0.6236559139784946,
          0.6415039347129117,
          0.6415039347129117,
          0.6495176848874598,
          0.6495176848874598,
          0.7314570507182644,
          0.7314570507182644,
          0.7662452219935313,
          0.7662452219935313,
          0.8097906222353288,
          0.8097906222353288,
          0.8101153504880213,
          0.8101153504880213,
          0.8065855829130821,
          0.8065855829130821,
          0.8074977685212734,
          0.8074977685212734,
          0.8108027454491197,
          0.8108027454491197,
          0.8114337024842861,
          0.8114337024842861,
          0.8150705493845692,
          0.8150705493845692,
          0.7970490816019271,
          0.7970490816019271,
          0.8193899124131683,
          0.8193899124131683,
          0.8191457134201757,
          0.8191457134201757,
          0.8195077484047402,
          0.8195077484047402,
          0.832063395306309,
          0.832063395306309,
          0.8419443595230817,
          0.8419443595230817,
          0.848819380558111,
          0.848819380558111,
          0.853583512765303,
          0.853583512765303,
          0.8506633755013885,
          0.8506633755013885,
          0.8601052305787682,
          0.8601052305787682,
          0.8640173859049984,
          0.8640173859049984,
          0.8614138897539707,
          0.8614138897539707,
          0.8628553577007185,
          0.8628553577007185,
          0.8652460043873393,
          0.8652460043873393,
          0.8607356177302735,
          0.8607356177302735,
          0.8659728792179123,
          0.8659728792179123,
          0.8728250553622271,
          0.8728250553622271,
          0.8806728022849889,
          0.8806728022849889,
          0.8853868194842407,
          0.8853868194842407,
          0.881826892366656,
          0.881826892366656,
          0.8808074335148991,
          0.8808074335148991,
          0.8878174220507875,
          0.8878174220507875,
          0.891002902289584,
          0.891002902289584,
          0.8971206729213846,
          0.8971206729213846,
          0.8928919182083739,
          0.8928919182083739,
          0.8971019211983068,
          0.8971019211983068,
          0.9000326690623979,
          0.9000326690623979,
          0.9121599475581776,
          0.9121599475581776,
          0.9102268990463664,
          0.9102268990463664,
          0.9158693500494888,
          0.9158693500494888,
          0.917907977490897,
          0.917907977490897,
          0.9209564928595152,
          0.9209564928595152,
          0.9176941019660112,
          0.9176941019660112,
          0.9167502507522568,
          0.9167502507522568,
          0.918819188191882,
          0.918819188191882,
          0.9235947492426791,
          0.9235947492426791,
          0.9260385005065856,
          0.9260385005065856,
          0.9274822094205354,
          0.9274822094205354,
          0.9272356341380484,
          0.9272356341380484,
          0.9286932787444558,
          0.9286932787444558,
          0.9294762067785004,
          0.9294762067785004,
          0.9340432840948129,
          0.9340432840948129,
          0.9362288865908308,
          0.9362288865908308,
          0.9228640608785889,
          0.9228640608785889,
          0.9382158972578966,
          0.9382158972578966,
          0.9386973180076628,
          0.9386973180076628,
          0.94023068857043,
          0.94023068857043
         ]
        },
        {
         "line": {
          "color": "rgb(248, 156, 116)"
         },
         "name": "Damping = 0.8, Preference = -40",
         "type": "scatter",
         "x": [
          10,
          493,
          493,
          493,
          503,
          503,
          513,
          513,
          523,
          523,
          533,
          533,
          543,
          543,
          553,
          553,
          563,
          563,
          573,
          573,
          583,
          583,
          593,
          593,
          603,
          603,
          613,
          613,
          623,
          623,
          633,
          633,
          643,
          643,
          653,
          653,
          663,
          663,
          673,
          673,
          683,
          683,
          693,
          693,
          703,
          703,
          713,
          713,
          723,
          723,
          733,
          733,
          743,
          743,
          753,
          753,
          763,
          763,
          773,
          773,
          783,
          783,
          793,
          793,
          803,
          803
         ],
         "y": [
          0.1350834016953787,
          0.7325141776937618,
          0.7325141776937618,
          0.7325141776937618,
          0.7518963337547409,
          0.7518963337547409,
          0.7599873176918199,
          0.7599873176918199,
          0.7655852417302799,
          0.7655852417302799,
          0.791959157626037,
          0.791959157626037,
          0.8204225352112676,
          0.8204225352112676,
          0.8220937700706487,
          0.8220937700706487,
          0.819909793814433,
          0.819909793814433,
          0.8199741435035552,
          0.8199741435035552,
          0.8271725032425421,
          0.8271725032425421,
          0.8327911515940143,
          0.8327911515940143,
          0.8306135770234987,
          0.8306135770234987,
          0.831041257367387,
          0.831041257367387,
          0.8258869908015769,
          0.8258869908015769,
          0.8292682926829268,
          0.8292682926829268,
          0.8227513227513228,
          0.8227513227513228,
          0.847378898473789,
          0.847378898473789,
          0.8149134487350199,
          0.8149134487350199,
          0.8169672678690715,
          0.8169672678690715,
          0.8213806970509383,
          0.8213806970509383,
          0.8264963012777404,
          0.8264963012777404,
          0.8603238866396761,
          0.8603238866396761,
          0.8625592417061612,
          0.8625592417061612,
          0.8688858695652174,
          0.8688858695652174,
          0.8619631901840491,
          0.8619631901840491,
          0.8662790697674418,
          0.8662790697674418,
          0.86238846945779,
          0.86238846945779,
          0.8701790633608816,
          0.8701790633608816,
          0.8735314443676572,
          0.8735314443676572,
          0.8616504854368932,
          0.8616504854368932,
          0.8632567849686847,
          0.8632567849686847,
          0.8708100558659218,
          0.8708100558659218
         ]
        },
        {
         "line": {
          "color": "rgb(220, 176, 242)"
         },
         "name": "Damping = 0.6, Preference = -40",
         "type": "scatter",
         "x": [
          10,
          489,
          489,
          489,
          499,
          499,
          509,
          509,
          519,
          519,
          529,
          529,
          539,
          539,
          549,
          549,
          559,
          559,
          569,
          569,
          579,
          579,
          589,
          589,
          599,
          599,
          609,
          609,
          619,
          619,
          629,
          629,
          639,
          639,
          649,
          649,
          659,
          659,
          669,
          669,
          679,
          679,
          689,
          689,
          699,
          699,
          709,
          709,
          719,
          719,
          729,
          729,
          739,
          739,
          749,
          749,
          759,
          759,
          769,
          769,
          779,
          779,
          789,
          789,
          799,
          799,
          809,
          809
         ],
         "y": [
          0.1350834016953787,
          0.7312775330396476,
          0.7312775330396476,
          0.7312775330396476,
          0.7440025252525253,
          0.7440025252525253,
          0.753324889170361,
          0.753324889170361,
          0.7662007623888183,
          0.7662007623888183,
          0.769917144678139,
          0.769917144678139,
          0.7781329923273658,
          0.7781329923273658,
          0.7847979474021809,
          0.7847979474021809,
          0.7886100386100386,
          0.7886100386100386,
          0.7921239509360878,
          0.7921239509360878,
          0.7956606217616581,
          0.7956606217616581,
          0.7985705003248863,
          0.7985705003248863,
          0.8119295958279009,
          0.8119295958279009,
          0.8230869849574886,
          0.8230869849574886,
          0.8293963254593176,
          0.8293963254593176,
          0.8278472679394339,
          0.8278472679394339,
          0.8345442536327609,
          0.8345442536327609,
          0.8485752153744202,
          0.8485752153744202,
          0.8503989361702128,
          0.8503989361702128,
          0.8535690460306872,
          0.8535690460306872,
          0.8624497991967871,
          0.8624497991967871,
          0.8663532572196104,
          0.8663532572196104,
          0.8685983827493261,
          0.8685983827493261,
          0.8522650439486139,
          0.8522650439486139,
          0.8453188602442334,
          0.8453188602442334,
          0.8716814159292036,
          0.8716814159292036,
          0.8784153005464481,
          0.8784153005464481,
          0.8793694311172036,
          0.8793694311172036,
          0.8703576341127923,
          0.8703576341127923,
          0.8747412008281573,
          0.8747412008281573,
          0.8611495844875346,
          0.8611495844875346,
          0.8703961084086171,
          0.8703961084086171,
          0.8852859135285913,
          0.8852859135285913,
          0.8971308607417775,
          0.8971308607417775
         ]
        }
       ],
       "layout": {
        "legend": {
         "orientation": "h",
         "x": 1,
         "xanchor": "right",
         "y": 1.02,
         "yanchor": "bottom"
        },
        "shapes": [
         {
          "line": {
           "color": "g    rey",
           "dash": "dot",
           "width": 3
          },
          "name": "Transition between affinity propagation and BvSB sampling",
          "type": "line",
          "x0": 132,
          "x1": 132,
          "y0": 0,
          "y1": 0.5422913719943423
         },
         {
          "line": {
           "color": "g    rey",
           "dash": "dot",
           "width": 3
          },
          "name": "Transition between affinity propagation and BvSB sampling",
          "type": "line",
          "x0": 136,
          "x1": 136,
          "y0": 0,
          "y1": 0.4129141886151232
         },
         {
          "line": {
           "color": "g    rey",
           "dash": "dot",
           "width": 3
          },
          "name": "Transition between affinity propagation and BvSB sampling",
          "type": "line",
          "x0": 493,
          "x1": 493,
          "y0": 0,
          "y1": 0.7325141776937618
         },
         {
          "line": {
           "color": "g    rey",
           "dash": "dot",
           "width": 3
          },
          "name": "Transition between affinity propagation and BvSB sampling",
          "type": "line",
          "x0": 489,
          "x1": 489,
          "y0": 0,
          "y1": 0.7312775330396476
         }
        ],
        "template": {
         "data": {
          "bar": [
           {
            "error_x": {
             "color": "#2a3f5f"
            },
            "error_y": {
             "color": "#2a3f5f"
            },
            "marker": {
             "line": {
              "color": "#E5ECF6",
              "width": 0.5
             },
             "pattern": {
              "fillmode": "overlay",
              "size": 10,
              "solidity": 0.2
             }
            },
            "type": "bar"
           }
          ],
          "barpolar": [
           {
            "marker": {
             "line": {
              "color": "#E5ECF6",
              "width": 0.5
             },
             "pattern": {
              "fillmode": "overlay",
              "size": 10,
              "solidity": 0.2
             }
            },
            "type": "barpolar"
           }
          ],
          "carpet": [
           {
            "aaxis": {
             "endlinecolor": "#2a3f5f",
             "gridcolor": "white",
             "linecolor": "white",
             "minorgridcolor": "white",
             "startlinecolor": "#2a3f5f"
            },
            "baxis": {
             "endlinecolor": "#2a3f5f",
             "gridcolor": "white",
             "linecolor": "white",
             "minorgridcolor": "white",
             "startlinecolor": "#2a3f5f"
            },
            "type": "carpet"
           }
          ],
          "choropleth": [
           {
            "colorbar": {
             "outlinewidth": 0,
             "ticks": ""
            },
            "type": "choropleth"
           }
          ],
          "contour": [
           {
            "colorbar": {
             "outlinewidth": 0,
             "ticks": ""
            },
            "colorscale": [
             [
              0,
              "#0d0887"
             ],
             [
              0.1111111111111111,
              "#46039f"
             ],
             [
              0.2222222222222222,
              "#7201a8"
             ],
             [
              0.3333333333333333,
              "#9c179e"
             ],
             [
              0.4444444444444444,
              "#bd3786"
             ],
             [
              0.5555555555555556,
              "#d8576b"
             ],
             [
              0.6666666666666666,
              "#ed7953"
             ],
             [
              0.7777777777777778,
              "#fb9f3a"
             ],
             [
              0.8888888888888888,
              "#fdca26"
             ],
             [
              1,
              "#f0f921"
             ]
            ],
            "type": "contour"
           }
          ],
          "contourcarpet": [
           {
            "colorbar": {
             "outlinewidth": 0,
             "ticks": ""
            },
            "type": "contourcarpet"
           }
          ],
          "heatmap": [
           {
            "colorbar": {
             "outlinewidth": 0,
             "ticks": ""
            },
            "colorscale": [
             [
              0,
              "#0d0887"
             ],
             [
              0.1111111111111111,
              "#46039f"
             ],
             [
              0.2222222222222222,
              "#7201a8"
             ],
             [
              0.3333333333333333,
              "#9c179e"
             ],
             [
              0.4444444444444444,
              "#bd3786"
             ],
             [
              0.5555555555555556,
              "#d8576b"
             ],
             [
              0.6666666666666666,
              "#ed7953"
             ],
             [
              0.7777777777777778,
              "#fb9f3a"
             ],
             [
              0.8888888888888888,
              "#fdca26"
             ],
             [
              1,
              "#f0f921"
             ]
            ],
            "type": "heatmap"
           }
          ],
          "heatmapgl": [
           {
            "colorbar": {
             "outlinewidth": 0,
             "ticks": ""
            },
            "colorscale": [
             [
              0,
              "#0d0887"
             ],
             [
              0.1111111111111111,
              "#46039f"
             ],
             [
              0.2222222222222222,
              "#7201a8"
             ],
             [
              0.3333333333333333,
              "#9c179e"
             ],
             [
              0.4444444444444444,
              "#bd3786"
             ],
             [
              0.5555555555555556,
              "#d8576b"
             ],
             [
              0.6666666666666666,
              "#ed7953"
             ],
             [
              0.7777777777777778,
              "#fb9f3a"
             ],
             [
              0.8888888888888888,
              "#fdca26"
             ],
             [
              1,
              "#f0f921"
             ]
            ],
            "type": "heatmapgl"
           }
          ],
          "histogram": [
           {
            "marker": {
             "pattern": {
              "fillmode": "overlay",
              "size": 10,
              "solidity": 0.2
             }
            },
            "type": "histogram"
           }
          ],
          "histogram2d": [
           {
            "colorbar": {
             "outlinewidth": 0,
             "ticks": ""
            },
            "colorscale": [
             [
              0,
              "#0d0887"
             ],
             [
              0.1111111111111111,
              "#46039f"
             ],
             [
              0.2222222222222222,
              "#7201a8"
             ],
             [
              0.3333333333333333,
              "#9c179e"
             ],
             [
              0.4444444444444444,
              "#bd3786"
             ],
             [
              0.5555555555555556,
              "#d8576b"
             ],
             [
              0.6666666666666666,
              "#ed7953"
             ],
             [
              0.7777777777777778,
              "#fb9f3a"
             ],
             [
              0.8888888888888888,
              "#fdca26"
             ],
             [
              1,
              "#f0f921"
             ]
            ],
            "type": "histogram2d"
           }
          ],
          "histogram2dcontour": [
           {
            "colorbar": {
             "outlinewidth": 0,
             "ticks": ""
            },
            "colorscale": [
             [
              0,
              "#0d0887"
             ],
             [
              0.1111111111111111,
              "#46039f"
             ],
             [
              0.2222222222222222,
              "#7201a8"
             ],
             [
              0.3333333333333333,
              "#9c179e"
             ],
             [
              0.4444444444444444,
              "#bd3786"
             ],
             [
              0.5555555555555556,
              "#d8576b"
             ],
             [
              0.6666666666666666,
              "#ed7953"
             ],
             [
              0.7777777777777778,
              "#fb9f3a"
             ],
             [
              0.8888888888888888,
              "#fdca26"
             ],
             [
              1,
              "#f0f921"
             ]
            ],
            "type": "histogram2dcontour"
           }
          ],
          "mesh3d": [
           {
            "colorbar": {
             "outlinewidth": 0,
             "ticks": ""
            },
            "type": "mesh3d"
           }
          ],
          "parcoords": [
           {
            "line": {
             "colorbar": {
              "outlinewidth": 0,
              "ticks": ""
             }
            },
            "type": "parcoords"
           }
          ],
          "pie": [
           {
            "automargin": true,
            "type": "pie"
           }
          ],
          "scatter": [
           {
            "fillpattern": {
             "fillmode": "overlay",
             "size": 10,
             "solidity": 0.2
            },
            "type": "scatter"
           }
          ],
          "scatter3d": [
           {
            "line": {
             "colorbar": {
              "outlinewidth": 0,
              "ticks": ""
             }
            },
            "marker": {
             "colorbar": {
              "outlinewidth": 0,
              "ticks": ""
             }
            },
            "type": "scatter3d"
           }
          ],
          "scattercarpet": [
           {
            "marker": {
             "colorbar": {
              "outlinewidth": 0,
              "ticks": ""
             }
            },
            "type": "scattercarpet"
           }
          ],
          "scattergeo": [
           {
            "marker": {
             "colorbar": {
              "outlinewidth": 0,
              "ticks": ""
             }
            },
            "type": "scattergeo"
           }
          ],
          "scattergl": [
           {
            "marker": {
             "colorbar": {
              "outlinewidth": 0,
              "ticks": ""
             }
            },
            "type": "scattergl"
           }
          ],
          "scattermapbox": [
           {
            "marker": {
             "colorbar": {
              "outlinewidth": 0,
              "ticks": ""
             }
            },
            "type": "scattermapbox"
           }
          ],
          "scatterpolar": [
           {
            "marker": {
             "colorbar": {
              "outlinewidth": 0,
              "ticks": ""
             }
            },
            "type": "scatterpolar"
           }
          ],
          "scatterpolargl": [
           {
            "marker": {
             "colorbar": {
              "outlinewidth": 0,
              "ticks": ""
             }
            },
            "type": "scatterpolargl"
           }
          ],
          "scatterternary": [
           {
            "marker": {
             "colorbar": {
              "outlinewidth": 0,
              "ticks": ""
             }
            },
            "type": "scatterternary"
           }
          ],
          "surface": [
           {
            "colorbar": {
             "outlinewidth": 0,
             "ticks": ""
            },
            "colorscale": [
             [
              0,
              "#0d0887"
             ],
             [
              0.1111111111111111,
              "#46039f"
             ],
             [
              0.2222222222222222,
              "#7201a8"
             ],
             [
              0.3333333333333333,
              "#9c179e"
             ],
             [
              0.4444444444444444,
              "#bd3786"
             ],
             [
              0.5555555555555556,
              "#d8576b"
             ],
             [
              0.6666666666666666,
              "#ed7953"
             ],
             [
              0.7777777777777778,
              "#fb9f3a"
             ],
             [
              0.8888888888888888,
              "#fdca26"
             ],
             [
              1,
              "#f0f921"
             ]
            ],
            "type": "surface"
           }
          ],
          "table": [
           {
            "cells": {
             "fill": {
              "color": "#EBF0F8"
             },
             "line": {
              "color": "white"
             }
            },
            "header": {
             "fill": {
              "color": "#C8D4E3"
             },
             "line": {
              "color": "white"
             }
            },
            "type": "table"
           }
          ]
         },
         "layout": {
          "annotationdefaults": {
           "arrowcolor": "#2a3f5f",
           "arrowhead": 0,
           "arrowwidth": 1
          },
          "autotypenumbers": "strict",
          "coloraxis": {
           "colorbar": {
            "outlinewidth": 0,
            "ticks": ""
           }
          },
          "colorscale": {
           "diverging": [
            [
             0,
             "#8e0152"
            ],
            [
             0.1,
             "#c51b7d"
            ],
            [
             0.2,
             "#de77ae"
            ],
            [
             0.3,
             "#f1b6da"
            ],
            [
             0.4,
             "#fde0ef"
            ],
            [
             0.5,
             "#f7f7f7"
            ],
            [
             0.6,
             "#e6f5d0"
            ],
            [
             0.7,
             "#b8e186"
            ],
            [
             0.8,
             "#7fbc41"
            ],
            [
             0.9,
             "#4d9221"
            ],
            [
             1,
             "#276419"
            ]
           ],
           "sequential": [
            [
             0,
             "#0d0887"
            ],
            [
             0.1111111111111111,
             "#46039f"
            ],
            [
             0.2222222222222222,
             "#7201a8"
            ],
            [
             0.3333333333333333,
             "#9c179e"
            ],
            [
             0.4444444444444444,
             "#bd3786"
            ],
            [
             0.5555555555555556,
             "#d8576b"
            ],
            [
             0.6666666666666666,
             "#ed7953"
            ],
            [
             0.7777777777777778,
             "#fb9f3a"
            ],
            [
             0.8888888888888888,
             "#fdca26"
            ],
            [
             1,
             "#f0f921"
            ]
           ],
           "sequentialminus": [
            [
             0,
             "#0d0887"
            ],
            [
             0.1111111111111111,
             "#46039f"
            ],
            [
             0.2222222222222222,
             "#7201a8"
            ],
            [
             0.3333333333333333,
             "#9c179e"
            ],
            [
             0.4444444444444444,
             "#bd3786"
            ],
            [
             0.5555555555555556,
             "#d8576b"
            ],
            [
             0.6666666666666666,
             "#ed7953"
            ],
            [
             0.7777777777777778,
             "#fb9f3a"
            ],
            [
             0.8888888888888888,
             "#fdca26"
            ],
            [
             1,
             "#f0f921"
            ]
           ]
          },
          "colorway": [
           "#636efa",
           "#EF553B",
           "#00cc96",
           "#ab63fa",
           "#FFA15A",
           "#19d3f3",
           "#FF6692",
           "#B6E880",
           "#FF97FF",
           "#FECB52"
          ],
          "font": {
           "color": "#2a3f5f"
          },
          "geo": {
           "bgcolor": "white",
           "lakecolor": "white",
           "landcolor": "#E5ECF6",
           "showlakes": true,
           "showland": true,
           "subunitcolor": "white"
          },
          "hoverlabel": {
           "align": "left"
          },
          "hovermode": "closest",
          "mapbox": {
           "style": "light"
          },
          "paper_bgcolor": "white",
          "plot_bgcolor": "#E5ECF6",
          "polar": {
           "angularaxis": {
            "gridcolor": "white",
            "linecolor": "white",
            "ticks": ""
           },
           "bgcolor": "#E5ECF6",
           "radialaxis": {
            "gridcolor": "white",
            "linecolor": "white",
            "ticks": ""
           }
          },
          "scene": {
           "xaxis": {
            "backgroundcolor": "#E5ECF6",
            "gridcolor": "white",
            "gridwidth": 2,
            "linecolor": "white",
            "showbackground": true,
            "ticks": "",
            "zerolinecolor": "white"
           },
           "yaxis": {
            "backgroundcolor": "#E5ECF6",
            "gridcolor": "white",
            "gridwidth": 2,
            "linecolor": "white",
            "showbackground": true,
            "ticks": "",
            "zerolinecolor": "white"
           },
           "zaxis": {
            "backgroundcolor": "#E5ECF6",
            "gridcolor": "white",
            "gridwidth": 2,
            "linecolor": "white",
            "showbackground": true,
            "ticks": "",
            "zerolinecolor": "white"
           }
          },
          "shapedefaults": {
           "line": {
            "color": "#2a3f5f"
           }
          },
          "ternary": {
           "aaxis": {
            "gridcolor": "white",
            "linecolor": "white",
            "ticks": ""
           },
           "baxis": {
            "gridcolor": "white",
            "linecolor": "white",
            "ticks": ""
           },
           "bgcolor": "#E5ECF6",
           "caxis": {
            "gridcolor": "white",
            "linecolor": "white",
            "ticks": ""
           }
          },
          "title": {
           "x": 0.05
          },
          "xaxis": {
           "automargin": true,
           "gridcolor": "white",
           "linecolor": "white",
           "ticks": "",
           "title": {
            "standoff": 15
           },
           "zerolinecolor": "white",
           "zerolinewidth": 2
          },
          "yaxis": {
           "automargin": true,
           "gridcolor": "white",
           "linecolor": "white",
           "ticks": "",
           "title": {
            "standoff": 15
           },
           "zerolinecolor": "white",
           "zerolinewidth": 2
          }
         }
        },
        "xaxis": {
         "title": {
          "text": "Number of Annotations"
         }
        },
        "yaxis": {
         "range": [
          0,
          1
         ],
         "title": {
          "text": "Accuracy"
         }
        }
       }
      }
     },
     "metadata": {},
     "output_type": "display_data"
    }
   ],
   "source": [
    "import os\n",
    "import pandas as pd\n",
    "import plotly.graph_objects as go\n",
    "import numpy as np\n",
    "\n",
    "folder = 'Results/heatmap_validation'\n",
    "\n",
    "# Get all csv files\n",
    "files = os.listdir(folder)\n",
    "\n",
    "import plotly.express as px\n",
    "pastel = px.colors.qualitative.Pastel\n",
    "\n",
    "# color key\n",
    "color_key = {\n",
    "    'combination1': pastel[0],\n",
    "    'combination2': pastel[1],\n",
    "    'combination3': pastel[2],\n",
    "    'combination4': pastel[3],\n",
    "}\n",
    "\n",
    "# Line style key\n",
    "line_style_key = {\n",
    "    '0': 'solid',\n",
    "    '1': 'solid',\n",
    "    '2': 'dash',\n",
    "    '3': 'dot',\n",
    "}\n",
    "\n",
    "name_key = {\n",
    "    'combination1_2_heatmap_verification.csv': 'Damping = 0.75, Preference = -190',\n",
    "    'combination2_2_heatmap_verification.csv': 'Damping = 0.75, Preference = -180',\n",
    "    'combination3_2_heatmap_verification.csv': 'Damping = 0.8, Preference = -40',\n",
    "    'combination4_2_heatmap_verification.csv': 'Damping = 0.6, Preference = -40',\n",
    "}\n",
    "\n",
    "fig = go.Figure()\n",
    "\n",
    "for file in files:\n",
    "    df = pd.read_csv(f'{folder}\\\\{file}')\n",
    "    color = color_key[file.split('_')[0]]\n",
    "    line_style = line_style_key[file.split('_')[1]]\n",
    "\n",
    "    fig.add_trace(go.Scatter(x=df['Number of Annotations'], y=df['Accuracy'], name=name_key[file], line=dict(color=color)))#, dash=line_style)))\n",
    "\n",
    "    # Add grey dotted vertical line at row 3\n",
    "    fig.add_shape(\n",
    "        type=\"line\",\n",
    "        x0=df.iloc[2]['Number of Annotations'],\n",
    "        y0=0,\n",
    "        x1=df.iloc[2]['Number of Annotations'],\n",
    "        y1=df.iloc[2]['Accuracy'],\n",
    "        line=dict(\n",
    "            color=\"g    rey\",\n",
    "            width=3,\n",
    "            dash=\"dot\",\n",
    "        ),\n",
    "    )\n",
    "\n",
    "\n",
    "\n",
    "\n",
    "# Update ylim and set axis labels\n",
    "fig.update_yaxes(range=[0, 1])\n",
    "fig.update_xaxes(title_text='Number of Annotations')\n",
    "fig.update_yaxes(title_text='Accuracy')\n",
    "\n",
    "# Horizontal legend\n",
    "fig.update_layout(legend=dict(\n",
    "    orientation=\"h\",\n",
    "    yanchor=\"bottom\",\n",
    "    y=1.02,\n",
    "    xanchor=\"right\",\n",
    "    x=1\n",
    "))\n",
    "\n",
    "fig.show()"
   ]
  }
 ],
 "metadata": {
  "kernelspec": {
   "display_name": "DP4",
   "language": "python",
   "name": "python3"
  },
  "language_info": {
   "codemirror_mode": {
    "name": "ipython",
    "version": 3
   },
   "file_extension": ".py",
   "mimetype": "text/x-python",
   "name": "python",
   "nbconvert_exporter": "python",
   "pygments_lexer": "ipython3",
   "version": "3.10.9"
  },
  "orig_nbformat": 4,
  "vscode": {
   "interpreter": {
    "hash": "a8f364f4c6a15a98e6f24366f20c415b81f2b82de1c06055d293928a78744407"
   }
  }
 },
 "nbformat": 4,
 "nbformat_minor": 2
}
