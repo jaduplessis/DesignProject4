{
 "cells": [
  {
   "cell_type": "code",
   "execution_count": 2,
   "metadata": {},
   "outputs": [
    {
     "ename": "FileNotFoundError",
     "evalue": "[Errno 2] No such file or directory: 'PreProcessingClassification\\\\USC\\\\CompiledData.csv'",
     "output_type": "error",
     "traceback": [
      "\u001b[1;31m---------------------------------------------------------------------------\u001b[0m",
      "\u001b[1;31mFileNotFoundError\u001b[0m                         Traceback (most recent call last)",
      "Cell \u001b[1;32mIn[2], line 8\u001b[0m\n\u001b[0;32m      6\u001b[0m \u001b[39m# Path to the data\u001b[39;00m\n\u001b[0;32m      7\u001b[0m path \u001b[39m=\u001b[39m \u001b[39m'\u001b[39m\u001b[39mPreProcessingClassification\u001b[39m\u001b[39m\\\\\u001b[39;00m\u001b[39mUSC\u001b[39m\u001b[39m\\\\\u001b[39;00m\u001b[39mCompiledData.csv\u001b[39m\u001b[39m'\u001b[39m\n\u001b[1;32m----> 8\u001b[0m OC \u001b[39m=\u001b[39m OCluDAL(path, annotations\u001b[39m=\u001b[39;49m\u001b[39m200\u001b[39;49m)\n\u001b[0;32m     10\u001b[0m OC\u001b[39m.\u001b[39minitialise_data()\n\u001b[0;32m     11\u001b[0m OC\u001b[39m.\u001b[39mpreprocessing()\n",
      "File \u001b[1;32mc:\\Users\\duppu\\Documents\\DesignProject4\\OCluDAL.py:23\u001b[0m, in \u001b[0;36mOCluDAL.__init__\u001b[1;34m(self, file_path, annotations, damping, preference)\u001b[0m\n\u001b[0;32m     22\u001b[0m \u001b[39mdef\u001b[39;00m \u001b[39m__init__\u001b[39m(\u001b[39mself\u001b[39m, file_path, annotations, damping\u001b[39m=\u001b[39m\u001b[39m0.75\u001b[39m, preference\u001b[39m=\u001b[39m\u001b[39m-\u001b[39m\u001b[39m180\u001b[39m):\n\u001b[1;32m---> 23\u001b[0m     \u001b[39mself\u001b[39m\u001b[39m.\u001b[39mdf_main \u001b[39m=\u001b[39m pd\u001b[39m.\u001b[39;49mread_csv(file_path)\n\u001b[0;32m     24\u001b[0m     \u001b[39mself\u001b[39m\u001b[39m.\u001b[39mannotations \u001b[39m=\u001b[39m annotations\n\u001b[0;32m     25\u001b[0m     \u001b[39mself\u001b[39m\u001b[39m.\u001b[39mdata \u001b[39m=\u001b[39m pd\u001b[39m.\u001b[39mDataFrame(columns\u001b[39m=\u001b[39m[\u001b[39m'\u001b[39m\u001b[39mAccuracy\u001b[39m\u001b[39m'\u001b[39m, \u001b[39m'\u001b[39m\u001b[39mF1 Score\u001b[39m\u001b[39m'\u001b[39m, \u001b[39m'\u001b[39m\u001b[39mTrain Accuracy\u001b[39m\u001b[39m'\u001b[39m, \u001b[39m'\u001b[39m\u001b[39mNumber of Annotations\u001b[39m\u001b[39m'\u001b[39m, \u001b[39m'\u001b[39m\u001b[39mdamping\u001b[39m\u001b[39m'\u001b[39m, \u001b[39m'\u001b[39m\u001b[39mpreference\u001b[39m\u001b[39m'\u001b[39m, \u001b[39m'\u001b[39m\u001b[39mTrain_type\u001b[39m\u001b[39m'\u001b[39m, \u001b[39m'\u001b[39m\u001b[39mClasses\u001b[39m\u001b[39m'\u001b[39m])\u001b[39m# Concat the results to data df\u001b[39;00m\n",
      "File \u001b[1;32mc:\\Users\\duppu\\miniconda3\\envs\\DP4\\lib\\site-packages\\pandas\\util\\_decorators.py:211\u001b[0m, in \u001b[0;36mdeprecate_kwarg.<locals>._deprecate_kwarg.<locals>.wrapper\u001b[1;34m(*args, **kwargs)\u001b[0m\n\u001b[0;32m    209\u001b[0m     \u001b[39melse\u001b[39;00m:\n\u001b[0;32m    210\u001b[0m         kwargs[new_arg_name] \u001b[39m=\u001b[39m new_arg_value\n\u001b[1;32m--> 211\u001b[0m \u001b[39mreturn\u001b[39;00m func(\u001b[39m*\u001b[39margs, \u001b[39m*\u001b[39m\u001b[39m*\u001b[39mkwargs)\n",
      "File \u001b[1;32mc:\\Users\\duppu\\miniconda3\\envs\\DP4\\lib\\site-packages\\pandas\\util\\_decorators.py:331\u001b[0m, in \u001b[0;36mdeprecate_nonkeyword_arguments.<locals>.decorate.<locals>.wrapper\u001b[1;34m(*args, **kwargs)\u001b[0m\n\u001b[0;32m    325\u001b[0m \u001b[39mif\u001b[39;00m \u001b[39mlen\u001b[39m(args) \u001b[39m>\u001b[39m num_allow_args:\n\u001b[0;32m    326\u001b[0m     warnings\u001b[39m.\u001b[39mwarn(\n\u001b[0;32m    327\u001b[0m         msg\u001b[39m.\u001b[39mformat(arguments\u001b[39m=\u001b[39m_format_argument_list(allow_args)),\n\u001b[0;32m    328\u001b[0m         \u001b[39mFutureWarning\u001b[39;00m,\n\u001b[0;32m    329\u001b[0m         stacklevel\u001b[39m=\u001b[39mfind_stack_level(),\n\u001b[0;32m    330\u001b[0m     )\n\u001b[1;32m--> 331\u001b[0m \u001b[39mreturn\u001b[39;00m func(\u001b[39m*\u001b[39margs, \u001b[39m*\u001b[39m\u001b[39m*\u001b[39mkwargs)\n",
      "File \u001b[1;32mc:\\Users\\duppu\\miniconda3\\envs\\DP4\\lib\\site-packages\\pandas\\io\\parsers\\readers.py:950\u001b[0m, in \u001b[0;36mread_csv\u001b[1;34m(filepath_or_buffer, sep, delimiter, header, names, index_col, usecols, squeeze, prefix, mangle_dupe_cols, dtype, engine, converters, true_values, false_values, skipinitialspace, skiprows, skipfooter, nrows, na_values, keep_default_na, na_filter, verbose, skip_blank_lines, parse_dates, infer_datetime_format, keep_date_col, date_parser, dayfirst, cache_dates, iterator, chunksize, compression, thousands, decimal, lineterminator, quotechar, quoting, doublequote, escapechar, comment, encoding, encoding_errors, dialect, error_bad_lines, warn_bad_lines, on_bad_lines, delim_whitespace, low_memory, memory_map, float_precision, storage_options)\u001b[0m\n\u001b[0;32m    935\u001b[0m kwds_defaults \u001b[39m=\u001b[39m _refine_defaults_read(\n\u001b[0;32m    936\u001b[0m     dialect,\n\u001b[0;32m    937\u001b[0m     delimiter,\n\u001b[1;32m   (...)\u001b[0m\n\u001b[0;32m    946\u001b[0m     defaults\u001b[39m=\u001b[39m{\u001b[39m\"\u001b[39m\u001b[39mdelimiter\u001b[39m\u001b[39m\"\u001b[39m: \u001b[39m\"\u001b[39m\u001b[39m,\u001b[39m\u001b[39m\"\u001b[39m},\n\u001b[0;32m    947\u001b[0m )\n\u001b[0;32m    948\u001b[0m kwds\u001b[39m.\u001b[39mupdate(kwds_defaults)\n\u001b[1;32m--> 950\u001b[0m \u001b[39mreturn\u001b[39;00m _read(filepath_or_buffer, kwds)\n",
      "File \u001b[1;32mc:\\Users\\duppu\\miniconda3\\envs\\DP4\\lib\\site-packages\\pandas\\io\\parsers\\readers.py:605\u001b[0m, in \u001b[0;36m_read\u001b[1;34m(filepath_or_buffer, kwds)\u001b[0m\n\u001b[0;32m    602\u001b[0m _validate_names(kwds\u001b[39m.\u001b[39mget(\u001b[39m\"\u001b[39m\u001b[39mnames\u001b[39m\u001b[39m\"\u001b[39m, \u001b[39mNone\u001b[39;00m))\n\u001b[0;32m    604\u001b[0m \u001b[39m# Create the parser.\u001b[39;00m\n\u001b[1;32m--> 605\u001b[0m parser \u001b[39m=\u001b[39m TextFileReader(filepath_or_buffer, \u001b[39m*\u001b[39m\u001b[39m*\u001b[39mkwds)\n\u001b[0;32m    607\u001b[0m \u001b[39mif\u001b[39;00m chunksize \u001b[39mor\u001b[39;00m iterator:\n\u001b[0;32m    608\u001b[0m     \u001b[39mreturn\u001b[39;00m parser\n",
      "File \u001b[1;32mc:\\Users\\duppu\\miniconda3\\envs\\DP4\\lib\\site-packages\\pandas\\io\\parsers\\readers.py:1442\u001b[0m, in \u001b[0;36mTextFileReader.__init__\u001b[1;34m(self, f, engine, **kwds)\u001b[0m\n\u001b[0;32m   1439\u001b[0m     \u001b[39mself\u001b[39m\u001b[39m.\u001b[39moptions[\u001b[39m\"\u001b[39m\u001b[39mhas_index_names\u001b[39m\u001b[39m\"\u001b[39m] \u001b[39m=\u001b[39m kwds[\u001b[39m\"\u001b[39m\u001b[39mhas_index_names\u001b[39m\u001b[39m\"\u001b[39m]\n\u001b[0;32m   1441\u001b[0m \u001b[39mself\u001b[39m\u001b[39m.\u001b[39mhandles: IOHandles \u001b[39m|\u001b[39m \u001b[39mNone\u001b[39;00m \u001b[39m=\u001b[39m \u001b[39mNone\u001b[39;00m\n\u001b[1;32m-> 1442\u001b[0m \u001b[39mself\u001b[39m\u001b[39m.\u001b[39m_engine \u001b[39m=\u001b[39m \u001b[39mself\u001b[39;49m\u001b[39m.\u001b[39;49m_make_engine(f, \u001b[39mself\u001b[39;49m\u001b[39m.\u001b[39;49mengine)\n",
      "File \u001b[1;32mc:\\Users\\duppu\\miniconda3\\envs\\DP4\\lib\\site-packages\\pandas\\io\\parsers\\readers.py:1735\u001b[0m, in \u001b[0;36mTextFileReader._make_engine\u001b[1;34m(self, f, engine)\u001b[0m\n\u001b[0;32m   1733\u001b[0m     \u001b[39mif\u001b[39;00m \u001b[39m\"\u001b[39m\u001b[39mb\u001b[39m\u001b[39m\"\u001b[39m \u001b[39mnot\u001b[39;00m \u001b[39min\u001b[39;00m mode:\n\u001b[0;32m   1734\u001b[0m         mode \u001b[39m+\u001b[39m\u001b[39m=\u001b[39m \u001b[39m\"\u001b[39m\u001b[39mb\u001b[39m\u001b[39m\"\u001b[39m\n\u001b[1;32m-> 1735\u001b[0m \u001b[39mself\u001b[39m\u001b[39m.\u001b[39mhandles \u001b[39m=\u001b[39m get_handle(\n\u001b[0;32m   1736\u001b[0m     f,\n\u001b[0;32m   1737\u001b[0m     mode,\n\u001b[0;32m   1738\u001b[0m     encoding\u001b[39m=\u001b[39;49m\u001b[39mself\u001b[39;49m\u001b[39m.\u001b[39;49moptions\u001b[39m.\u001b[39;49mget(\u001b[39m\"\u001b[39;49m\u001b[39mencoding\u001b[39;49m\u001b[39m\"\u001b[39;49m, \u001b[39mNone\u001b[39;49;00m),\n\u001b[0;32m   1739\u001b[0m     compression\u001b[39m=\u001b[39;49m\u001b[39mself\u001b[39;49m\u001b[39m.\u001b[39;49moptions\u001b[39m.\u001b[39;49mget(\u001b[39m\"\u001b[39;49m\u001b[39mcompression\u001b[39;49m\u001b[39m\"\u001b[39;49m, \u001b[39mNone\u001b[39;49;00m),\n\u001b[0;32m   1740\u001b[0m     memory_map\u001b[39m=\u001b[39;49m\u001b[39mself\u001b[39;49m\u001b[39m.\u001b[39;49moptions\u001b[39m.\u001b[39;49mget(\u001b[39m\"\u001b[39;49m\u001b[39mmemory_map\u001b[39;49m\u001b[39m\"\u001b[39;49m, \u001b[39mFalse\u001b[39;49;00m),\n\u001b[0;32m   1741\u001b[0m     is_text\u001b[39m=\u001b[39;49mis_text,\n\u001b[0;32m   1742\u001b[0m     errors\u001b[39m=\u001b[39;49m\u001b[39mself\u001b[39;49m\u001b[39m.\u001b[39;49moptions\u001b[39m.\u001b[39;49mget(\u001b[39m\"\u001b[39;49m\u001b[39mencoding_errors\u001b[39;49m\u001b[39m\"\u001b[39;49m, \u001b[39m\"\u001b[39;49m\u001b[39mstrict\u001b[39;49m\u001b[39m\"\u001b[39;49m),\n\u001b[0;32m   1743\u001b[0m     storage_options\u001b[39m=\u001b[39;49m\u001b[39mself\u001b[39;49m\u001b[39m.\u001b[39;49moptions\u001b[39m.\u001b[39;49mget(\u001b[39m\"\u001b[39;49m\u001b[39mstorage_options\u001b[39;49m\u001b[39m\"\u001b[39;49m, \u001b[39mNone\u001b[39;49;00m),\n\u001b[0;32m   1744\u001b[0m )\n\u001b[0;32m   1745\u001b[0m \u001b[39massert\u001b[39;00m \u001b[39mself\u001b[39m\u001b[39m.\u001b[39mhandles \u001b[39mis\u001b[39;00m \u001b[39mnot\u001b[39;00m \u001b[39mNone\u001b[39;00m\n\u001b[0;32m   1746\u001b[0m f \u001b[39m=\u001b[39m \u001b[39mself\u001b[39m\u001b[39m.\u001b[39mhandles\u001b[39m.\u001b[39mhandle\n",
      "File \u001b[1;32mc:\\Users\\duppu\\miniconda3\\envs\\DP4\\lib\\site-packages\\pandas\\io\\common.py:856\u001b[0m, in \u001b[0;36mget_handle\u001b[1;34m(path_or_buf, mode, encoding, compression, memory_map, is_text, errors, storage_options)\u001b[0m\n\u001b[0;32m    851\u001b[0m \u001b[39melif\u001b[39;00m \u001b[39misinstance\u001b[39m(handle, \u001b[39mstr\u001b[39m):\n\u001b[0;32m    852\u001b[0m     \u001b[39m# Check whether the filename is to be opened in binary mode.\u001b[39;00m\n\u001b[0;32m    853\u001b[0m     \u001b[39m# Binary mode does not support 'encoding' and 'newline'.\u001b[39;00m\n\u001b[0;32m    854\u001b[0m     \u001b[39mif\u001b[39;00m ioargs\u001b[39m.\u001b[39mencoding \u001b[39mand\u001b[39;00m \u001b[39m\"\u001b[39m\u001b[39mb\u001b[39m\u001b[39m\"\u001b[39m \u001b[39mnot\u001b[39;00m \u001b[39min\u001b[39;00m ioargs\u001b[39m.\u001b[39mmode:\n\u001b[0;32m    855\u001b[0m         \u001b[39m# Encoding\u001b[39;00m\n\u001b[1;32m--> 856\u001b[0m         handle \u001b[39m=\u001b[39m \u001b[39mopen\u001b[39;49m(\n\u001b[0;32m    857\u001b[0m             handle,\n\u001b[0;32m    858\u001b[0m             ioargs\u001b[39m.\u001b[39;49mmode,\n\u001b[0;32m    859\u001b[0m             encoding\u001b[39m=\u001b[39;49mioargs\u001b[39m.\u001b[39;49mencoding,\n\u001b[0;32m    860\u001b[0m             errors\u001b[39m=\u001b[39;49merrors,\n\u001b[0;32m    861\u001b[0m             newline\u001b[39m=\u001b[39;49m\u001b[39m\"\u001b[39;49m\u001b[39m\"\u001b[39;49m,\n\u001b[0;32m    862\u001b[0m         )\n\u001b[0;32m    863\u001b[0m     \u001b[39melse\u001b[39;00m:\n\u001b[0;32m    864\u001b[0m         \u001b[39m# Binary mode\u001b[39;00m\n\u001b[0;32m    865\u001b[0m         handle \u001b[39m=\u001b[39m \u001b[39mopen\u001b[39m(handle, ioargs\u001b[39m.\u001b[39mmode)\n",
      "\u001b[1;31mFileNotFoundError\u001b[0m: [Errno 2] No such file or directory: 'PreProcessingClassification\\\\USC\\\\CompiledData.csv'"
     ]
    }
   ],
   "source": [
    "import numpy as np\n",
    "from sklearn.svm import OneClassSVM\n",
    "from OCluDAL import OCluDAL\n",
    "\n",
    "from sklearn.svm import OneClassSVM\n",
    "# Path to the data\n",
    "path = 'PreProcessingClassification\\\\USC\\\\CompiledData.csv'\n",
    "OC = OCluDAL(path, annotations=200)\n",
    "\n",
    "OC.initialise_data()\n",
    "OC.preprocessing()\n",
    "\n",
    "masks = []\n",
    "# Novelty detection using OCSVM\n",
    "for label in OC.unique_labels:\n",
    "    # Fit OCSVM\n",
    "    svm = OneClassSVM().fit(OC.labelled_X_new[OC.labelled_y_new == label])\n",
    "    novel_mask_i = svm.predict(OC.unlabelled_X_new) == -1\n",
    "    \n",
    "    masks.append(novel_mask_i)\n",
    "\n",
    "novel_mask = np.all(masks, axis=0)\n",
    "novel_X = OC.unlabelled_X_new[novel_mask]\n",
    "print(f\"Novelty detected: {len(novel_X)}\")"
   ]
  },
  {
   "cell_type": "code",
   "execution_count": null,
   "metadata": {},
   "outputs": [],
   "source": [
    "import pandas as pd\n",
    "\n",
    "from sklearn.metrics import silhouette_score\n",
    "from sklearn.cluster import AffinityPropagation\n",
    "\n",
    "def fine_tune_affinity_propagation(OC_original, novel_X, damping_range, preference_range, max_annotations=600):\n",
    "    \"\"\"Fine tune the affinity propagation model. Score is measured by the\n",
    "    silhouette score of the model on the novel data points.\n",
    "    \n",
    "    Parameters\n",
    "    ----------\n",
    "    OC : OCluDAL object\n",
    "        OCluDAL object.\n",
    "    novel_X : numpy array\n",
    "        Novel data points.\n",
    "    damping_range : list\n",
    "        Range of damping values to try.\n",
    "    preference_range : list\n",
    "        Range of preference values to try.\n",
    "\n",
    "    Returns\n",
    "    -------\n",
    "    scores_array : numpy array\n",
    "        Array of scores for each combination of damping and preference.\n",
    "    \"\"\"\n",
    "\n",
    "    scores_array = np.zeros((len(damping_range), len(preference_range)))\n",
    "    annotations_array = np.zeros((len(damping_range), len(preference_range)))\n",
    "    df = pd.DataFrame(columns=['Damping', 'Preference', 'Original Score', 'Score', 'Weighted Score', 'Annotations', 'Avg Annotations'])\n",
    "\n",
    "    for di, damping in enumerate(damping_range):\n",
    "        for pi, preference in enumerate(preference_range):\n",
    "            OC = OC_original.copy()\n",
    "            \n",
    "            print(f\"Progress: {di * len(preference_range) + pi + 1}/{len(damping_range) * len(preference_range)}, Damping: {damping}  |Preference: {preference}\")\n",
    "            \n",
    "            sum_scores = 0\n",
    "            iter = 0\n",
    "            annotation_lengths = []\n",
    "            try:\n",
    "\n",
    "                while len(OC.labelled_X_new) < max_annotations:\n",
    "                    masks = []\n",
    "                    iter += 1\n",
    "\n",
    "                    # Novelty detection using OCSVM\n",
    "                    for label in OC.unique_labels:\n",
    "                        # Fit OCSVM\n",
    "                        svm = OneClassSVM().fit(OC.labelled_X_new[OC.labelled_y_new == label])\n",
    "                        novel_mask_i = svm.predict(OC.unlabelled_X_new) == -1\n",
    "                        \n",
    "                        masks.append(novel_mask_i)\n",
    "\n",
    "                    novel_mask = np.all(masks, axis=0)\n",
    "                    novel_X = OC.unlabelled_X_new[novel_mask]\n",
    "\n",
    "                    # Clustering to select representative samples for annotation using Affinity Propagation\n",
    "                    if len(novel_X) > 0:\n",
    "                        ap = AffinityPropagation(damping=damping, preference=preference)\n",
    "                        ap.fit(novel_X)\n",
    "                        representative_X = ap.cluster_centers_\n",
    "                        annotation_lengths.append(len(representative_X))\n",
    "                        # Get labels\n",
    "                        labels = ap.labels_\n",
    "\n",
    "                        # Calculate silhouette score\n",
    "                        score = silhouette_score(novel_X, labels)\n",
    "                        sum_scores += score\n",
    "\n",
    "                    else:\n",
    "                        break\n",
    "\n",
    "                    # Find row indices of representative samples\n",
    "                    representative_indices = []\n",
    "                    for sample in representative_X:\n",
    "                        representative_indices.append(np.where((OC.unlabelled_X_new == sample).all(axis=1))[0][0])\n",
    "\n",
    "\n",
    "                    # Update labelled and unlabelled sets\n",
    "                    OC.oracle_annotations(representative_indices)\n",
    "\n",
    "                # Calculate average score and standardise it\n",
    "                orig_score = sum_scores / iter\n",
    "                score = orig_score * max_annotations / len(OC.labelled_X_new)\n",
    "            \n",
    "                # Calculate average number of annotations\n",
    "                avg = np.mean(annotation_lengths)\n",
    "\n",
    "                # Reward for lower average annotations\n",
    "                weighted_score = score * (1 - avg / max_annotations)\n",
    "\n",
    "            except:\n",
    "                orig_score = np.nan\n",
    "                score = np.nan\n",
    "                avg = np.nan\n",
    "                weighted_score = np.nan\n",
    "\n",
    "            df = pd.concat([df, pd.DataFrame({'Damping': damping,\n",
    "                                                'Preference': preference,\n",
    "                                                'Original Score': orig_score,\n",
    "                                                'Score': score,\n",
    "                                                'Weighted Score': weighted_score,\n",
    "                                                'Annotations': len(OC.labelled_X_new),\n",
    "                                                'Avg Annotations': avg}, index=[0])], ignore_index=True)\n",
    "            # df.to_csv('fine_tune_affinity_propagation.csv', index=False)\n",
    "            \n",
    "            scores_array[di, pi] = score\n",
    "            annotations_array[di, pi] = avg\n",
    "\n",
    "            print(f\"Annotations: {len(OC.labelled_X_new)}  |Score: {score}  |Avg annotations: {avg}\")\n",
    "            print('____________________________________________________')\n",
    "\n",
    "    return scores_array\n",
    "\n",
    "damping_range = [0.5, 0.55, 0.6, 0.65, 0.7, 0.75, 0.8, 0.85, 0.9, 0.95]\n",
    "preference_range = [-200, -190, -180, -170, -160, -150, -140, -130, -120, -110, -100, -90, -80, -70, -60, -50, -40, -30, -20, -10]\n",
    "\n",
    "scores_array = fine_tune_affinity_propagation(OC, novel_X, damping_range, preference_range)"
   ]
  },
  {
   "cell_type": "code",
   "execution_count": 4,
   "metadata": {},
   "outputs": [
    {
     "data": {
      "application/vnd.plotly.v1+json": {
       "config": {
        "plotlyServerURL": "https://plot.ly"
       },
       "data": [
        {
         "colorscale": [
          [
           0,
           "#440154"
          ],
          [
           0.1111111111111111,
           "#482878"
          ],
          [
           0.2222222222222222,
           "#3e4989"
          ],
          [
           0.3333333333333333,
           "#31688e"
          ],
          [
           0.4444444444444444,
           "#26828e"
          ],
          [
           0.5555555555555556,
           "#1f9e89"
          ],
          [
           0.6666666666666666,
           "#35b779"
          ],
          [
           0.7777777777777778,
           "#6ece58"
          ],
          [
           0.8888888888888888,
           "#b5de2b"
          ],
          [
           1,
           "#fde725"
          ]
         ],
         "showscale": false,
         "type": "heatmap",
         "x": [
          -200,
          -190,
          -180,
          -170,
          -160,
          -150,
          -140,
          -130,
          -120,
          -110,
          -100,
          -90,
          -80,
          -70,
          -60,
          -50,
          -40,
          -30
         ],
         "xaxis": "x",
         "y": [
          0.5,
          0.55,
          0.6,
          0.65,
          0.7,
          0.75,
          0.8,
          0.85,
          0.9
         ],
         "yaxis": "y",
         "z": [
          [
           0.1862288767507186,
           0.1902288245916562,
           0.189540676123811,
           0.2001452162858835,
           0.1940060063604368,
           0.1930211659224781,
           0.2008124525341878,
           0.2002353309455658,
           0.1955975788287514,
           0.2040624884792454,
           0.1896737312621153,
           0.2001723176132352,
           0.193039808978537,
           0.2071496581386993,
           0.1968410148940834,
           0.2125275637974198,
           0.2284486430496082,
           0.2081856515993388
          ],
          [
           0.188559268534717,
           0.1931828629448294,
           0.1970029695990283,
           0.1921089607426777,
           0.2007912824798636,
           0.1924613443835585,
           0.1850051272842347,
           0.1932060068177993,
           0.1918275330484927,
           0.1977304226994697,
           0.1890051811340143,
           0.1931951872403153,
           0.2058029337639111,
           0.2079209265666628,
           0.2060404605138235,
           0.1925144979731739,
           0.2225788756172863,
           0.2106448996640262
          ],
          [
           0.1863197702056185,
           0.1957707453766664,
           0.1921225190619641,
           0.1904194734145707,
           0.1983018361484979,
           0.1885854850759761,
           0.1949405574372427,
           0.2017441048316366,
           0.1990899898721602,
           0.2019674843846835,
           0.1920966096636155,
           0.1988205864322493,
           0.2034533977244979,
           0.2014095214434935,
           0.1972087553514621,
           0.2040965132695115,
           0.2334823478511617,
           0.217390165389165
          ],
          [
           0.1870864224597788,
           0.1845685775816032,
           0.1899283891511151,
           0.1928829429669774,
           0.201027100988761,
           0.1926136551841381,
           0.1961066791435425,
           0.1951718390521884,
           0.1928952867033749,
           0.200876601346102,
           0.1942546303329434,
           0.2049307897930098,
           0.1964866350349956,
           0.2017127198153518,
           0.2041476706769646,
           0.2178579793579166,
           0.2324187918146452,
           0.2120247870066695
          ],
          [
           0.1799273681063144,
           0.1942939947691752,
           0.1948574950839738,
           0.1957495370633743,
           0.2019503181248941,
           0.1941877241615974,
           0.188564775887888,
           0.1970390011261071,
           0.1974616243228415,
           0.2045273358888822,
           0.1995379830172728,
           0.2067075289002735,
           0.1932590024144747,
           0.2027541729670937,
           0.2071950343082073,
           0.211799559090994,
           0.2329603772918444,
           0.2176829526394186
          ],
          [
           0.1866879931541537,
           0.1958628781481425,
           0.1993179644492843,
           0.1932588081956259,
           0.1920766012212832,
           0.2007682282128701,
           0.191016963039765,
           0.2025786561321859,
           0.1986861694990633,
           0.1923326300387001,
           0.1999791592368735,
           0.2121714022683716,
           0.2021186572630405,
           0.2138921065563025,
           0.2110559789659622,
           0.2224494563719239,
           0.2319465577187147,
           0.2120993852782717
          ],
          [
           0.1898081036359893,
           0.1878557837895041,
           0.1954656739746137,
           0.1946499345795692,
           0.1906911896071681,
           0.1975954881219022,
           0.1932829326996567,
           0.2016112135077988,
           0.2012895231786817,
           0.1955730139429899,
           0.2001537214828906,
           0.2005991859116224,
           0.2054757925074861,
           0.2115206582047151,
           0.2134541220269339,
           0.2231442974244507,
           0.2339429248643685,
           0.2134358587932892
          ],
          [
           0.1897990327648963,
           0.1869651773438901,
           0.1959506186042272,
           0.1925117642571533,
           0.1888583677747633,
           0.1962533864604183,
           0.1905939993272676,
           0.1960183393847444,
           0.2033458087783656,
           0.2031773396734038,
           0.1989162067427582,
           0.2030041137522595,
           0.2074778820815252,
           0.2114062580130097,
           0.2055672969851199,
           0.2217987780469105,
           0.2213180661219964,
           0.2066887566571418
          ],
          [
           0.1887936751848525,
           0.193290929324654,
           0.1856686384391444,
           0.1937647600698408,
           0.200682580656496,
           0.2011884039646722,
           0.1873615360786629,
           0.1962120212209261,
           0.1994925123856772,
           0.2090623441543716,
           0.1986956144882651,
           0.2111830465408101,
           0.2070146427160891,
           0.2103336715473401,
           0.20816308169976,
           0.2234043071259825,
           0.2231309068324987,
           0.2109734275968552
          ]
         ]
        },
        {
         "colorscale": [
          [
           0,
           "#440154"
          ],
          [
           0.1111111111111111,
           "#482878"
          ],
          [
           0.2222222222222222,
           "#3e4989"
          ],
          [
           0.3333333333333333,
           "#31688e"
          ],
          [
           0.4444444444444444,
           "#26828e"
          ],
          [
           0.5555555555555556,
           "#1f9e89"
          ],
          [
           0.6666666666666666,
           "#35b779"
          ],
          [
           0.7777777777777778,
           "#6ece58"
          ],
          [
           0.8888888888888888,
           "#b5de2b"
          ],
          [
           1,
           "#fde725"
          ]
         ],
         "showscale": false,
         "type": "heatmap",
         "x": [
          -200,
          -190,
          -180,
          -170,
          -160,
          -150,
          -140,
          -130,
          -120,
          -110,
          -100,
          -90,
          -80,
          -70,
          -60,
          -50,
          -40,
          -30
         ],
         "xaxis": "x2",
         "y": [
          0.5,
          0.55,
          0.6,
          0.65,
          0.7,
          0.75,
          0.8,
          0.85,
          0.9
         ],
         "yaxis": "y2",
         "z": [
          [
           0.0008218292544036573,
           0.0008913055592493374,
           0.0008677697561708073,
           0.0008990597716187225,
           0.0008405582494673265,
           0.0008060445539583061,
           0.0007056987191239201,
           0.000799884045064943,
           0.0005363328903318171,
           0.0007179568828334856,
           0.000585657837944772,
           0.0005793102179082493,
           0.0005163653743714095,
           0.0005169997694816866,
           0.00043243733420237463,
           0.0004134367539923693,
           0.00038468390057400966,
           0.000268090302258812
          ],
          [
           0.0008757290086292491,
           0.000921472062606438,
           0.0009512296576185213,
           0.0008914457197495575,
           0.0008981540893048898,
           0.0007956379993731273,
           0.0007197244721801471,
           0.0007248264285530002,
           0.0006959395259663462,
           0.0006807991055382505,
           0.0005722213031316038,
           0.0005370414442132446,
           0.0005979507888823451,
           0.0005272086793212146,
           0.00048572850536325466,
           0.000336925744816938,
           0.00035899533239895214,
           0.0002778994180864363
          ],
          [
           0.0009048948447019413,
           0.0009533876802322274,
           0.0009046829002626166,
           0.000861272585640912,
           0.0008847814099469784,
           0.0007712779918845079,
           0.0008028553718438645,
           0.0008039641251223384,
           0.0007549871250913686,
           0.0006981321595128158,
           0.0005951791523267009,
           0.0005784823256965394,
           0.0005802796969015335,
           0.0004899250643489983,
           0.000438953647711883,
           0.00038749196956997103,
           0.0003988829762787137,
           0.00029292448765244947
          ],
          [
           0.0009167014860875883,
           0.0008796271317733781,
           0.0008863094104554647,
           0.000890043772430676,
           0.0009002649950185883,
           0.0007968978078056,
           0.0008221388751600354,
           0.0007432594489563578,
           0.0007087350787119467,
           0.0007026364745734465,
           0.0006114445135197209,
           0.0006299494290778015,
           0.0005337372960466667,
           0.0004866988198003185,
           0.00047575652331998167,
           0.00044565351333252965,
           0.00040013699843392136,
           0.00027979985667151596
          ],
          [
           0.0008300989177862863,
           0.000936728446733605,
           0.0009352079652808096,
           0.0009323085464848016,
           0.0009176384472917835,
           0.000819758091631753,
           0.0007511973529362555,
           0.0007612621169563535,
           0.0007339499873922822,
           0.0007248020244569937,
           0.000649668640247576,
           0.000640920037560861,
           0.0005211494234544828,
           0.0004952922247659054,
           0.0004923140165364587,
           0.0004096717190058398,
           0.0003990480690291066,
           0.0002986504277509371
          ],
          [
           0.0009149796531436244,
           0.0009590566759118529,
           0.0009833576968367862,
           0.0008999751071131018,
           0.000854014368905552,
           0.0008869704966689875,
           0.0007690569590642028,
           0.0008007436472258033,
           0.0007483638663547016,
           0.0006818772456701103,
           0.0006602397379802069,
           0.0006752505591079075,
           0.0005753796001945696,
           0.0005606597211653513,
           0.0005038984870733108,
           0.00046354810904135335,
           0.00039269493166102954,
           0.0002841230478026573
          ],
          [
           0.0009390954461251066,
           0.0009091048021893629,
           0.0009433785111691352,
           0.0009064257663117362,
           0.0008535945960985197,
           0.0008529024085805706,
           0.0007948572781485112,
           0.00080489270122945,
           0.000773603286711237,
           0.0007050470743363119,
           0.0006598366719156559,
           0.0006460555819239439,
           0.0005974570939610303,
           0.0005364626960114617,
           0.0005297983977940603,
           0.0004708593614472975,
           0.0004014373503234393,
           0.0002889314956796758
          ],
          [
           0.0009434771457699808,
           0.0009090206925095864,
           0.0009297008457961092,
           0.0008930308283711269,
           0.0008353040533617741,
           0.0008434027378945029,
           0.0007638660121870613,
           0.0007406879879547535,
           0.0007951830374563006,
           0.0007206165074746431,
           0.0006563355477120712,
           0.0006060392676520634,
           0.0006164258456281902,
           0.0005463643756364698,
           0.00047803069671683814,
           0.00046192204641410956,
           0.0003575305576056961,
           0.00026424892038232067
          ],
          [
           0.0009335084992567606,
           0.0009247867168115937,
           0.0008227408902111154,
           0.0008960568554874219,
           0.0009038939740911699,
           0.0008842013713802648,
           0.0007364547944424358,
           0.0007512030687141688,
           0.0007580430951990394,
           0.0007517185410399175,
           0.0006457000713039364,
           0.0006639942304653791,
           0.0006166196014225903,
           0.0005368962789634022,
           0.0004946560340495543,
           0.00047646285863904835,
           0.00036429806036995035,
           0.0002776078200746289
          ]
         ]
        }
       ],
       "layout": {
        "annotations": [
         {
          "font": {
           "size": 16
          },
          "showarrow": false,
          "text": "$\\text{Average silhouette score: } S_i$",
          "x": 0.225,
          "xanchor": "center",
          "xref": "paper",
          "y": 1,
          "yanchor": "bottom",
          "yref": "paper"
         },
         {
          "font": {
           "size": 16
          },
          "showarrow": false,
          "text": "$\\text{Weighted average silhouette score: } \\frac{S_i}{\\text{Avg Annotations}}$",
          "x": 0.775,
          "xanchor": "center",
          "xref": "paper",
          "y": 1,
          "yanchor": "bottom",
          "yref": "paper"
         }
        ],
        "coloraxis": {
         "showscale": false
        },
        "font": {
         "size": 15
        },
        "margin": {
         "b": 20,
         "l": 20,
         "r": 20,
         "t": 30
        },
        "shapes": [
         {
          "line": {
           "color": "Red",
           "width": 2
          },
          "type": "rect",
          "x0": -45,
          "x1": -35,
          "xref": "x",
          "y0": 0.775,
          "y1": 0.8250000000000001,
          "yref": "y"
         },
         {
          "line": {
           "color": "Red",
           "width": 2
          },
          "type": "rect",
          "x0": -45,
          "x1": -35,
          "xref": "x",
          "y0": 0.575,
          "y1": 0.625,
          "yref": "y"
         },
         {
          "line": {
           "color": "Red",
           "width": 2
          },
          "type": "rect",
          "x0": -185,
          "x1": -175,
          "xref": "x2",
          "y0": 0.725,
          "y1": 0.775,
          "yref": "y2"
         },
         {
          "line": {
           "color": "Red",
           "width": 2
          },
          "type": "rect",
          "x0": -195,
          "x1": -185,
          "xref": "x2",
          "y0": 0.725,
          "y1": 0.775,
          "yref": "y2"
         }
        ],
        "template": {
         "data": {
          "bar": [
           {
            "error_x": {
             "color": "#2a3f5f"
            },
            "error_y": {
             "color": "#2a3f5f"
            },
            "marker": {
             "line": {
              "color": "#E5ECF6",
              "width": 0.5
             },
             "pattern": {
              "fillmode": "overlay",
              "size": 10,
              "solidity": 0.2
             }
            },
            "type": "bar"
           }
          ],
          "barpolar": [
           {
            "marker": {
             "line": {
              "color": "#E5ECF6",
              "width": 0.5
             },
             "pattern": {
              "fillmode": "overlay",
              "size": 10,
              "solidity": 0.2
             }
            },
            "type": "barpolar"
           }
          ],
          "carpet": [
           {
            "aaxis": {
             "endlinecolor": "#2a3f5f",
             "gridcolor": "white",
             "linecolor": "white",
             "minorgridcolor": "white",
             "startlinecolor": "#2a3f5f"
            },
            "baxis": {
             "endlinecolor": "#2a3f5f",
             "gridcolor": "white",
             "linecolor": "white",
             "minorgridcolor": "white",
             "startlinecolor": "#2a3f5f"
            },
            "type": "carpet"
           }
          ],
          "choropleth": [
           {
            "colorbar": {
             "outlinewidth": 0,
             "ticks": ""
            },
            "type": "choropleth"
           }
          ],
          "contour": [
           {
            "colorbar": {
             "outlinewidth": 0,
             "ticks": ""
            },
            "colorscale": [
             [
              0,
              "#0d0887"
             ],
             [
              0.1111111111111111,
              "#46039f"
             ],
             [
              0.2222222222222222,
              "#7201a8"
             ],
             [
              0.3333333333333333,
              "#9c179e"
             ],
             [
              0.4444444444444444,
              "#bd3786"
             ],
             [
              0.5555555555555556,
              "#d8576b"
             ],
             [
              0.6666666666666666,
              "#ed7953"
             ],
             [
              0.7777777777777778,
              "#fb9f3a"
             ],
             [
              0.8888888888888888,
              "#fdca26"
             ],
             [
              1,
              "#f0f921"
             ]
            ],
            "type": "contour"
           }
          ],
          "contourcarpet": [
           {
            "colorbar": {
             "outlinewidth": 0,
             "ticks": ""
            },
            "type": "contourcarpet"
           }
          ],
          "heatmap": [
           {
            "colorbar": {
             "outlinewidth": 0,
             "ticks": ""
            },
            "colorscale": [
             [
              0,
              "#0d0887"
             ],
             [
              0.1111111111111111,
              "#46039f"
             ],
             [
              0.2222222222222222,
              "#7201a8"
             ],
             [
              0.3333333333333333,
              "#9c179e"
             ],
             [
              0.4444444444444444,
              "#bd3786"
             ],
             [
              0.5555555555555556,
              "#d8576b"
             ],
             [
              0.6666666666666666,
              "#ed7953"
             ],
             [
              0.7777777777777778,
              "#fb9f3a"
             ],
             [
              0.8888888888888888,
              "#fdca26"
             ],
             [
              1,
              "#f0f921"
             ]
            ],
            "type": "heatmap"
           }
          ],
          "heatmapgl": [
           {
            "colorbar": {
             "outlinewidth": 0,
             "ticks": ""
            },
            "colorscale": [
             [
              0,
              "#0d0887"
             ],
             [
              0.1111111111111111,
              "#46039f"
             ],
             [
              0.2222222222222222,
              "#7201a8"
             ],
             [
              0.3333333333333333,
              "#9c179e"
             ],
             [
              0.4444444444444444,
              "#bd3786"
             ],
             [
              0.5555555555555556,
              "#d8576b"
             ],
             [
              0.6666666666666666,
              "#ed7953"
             ],
             [
              0.7777777777777778,
              "#fb9f3a"
             ],
             [
              0.8888888888888888,
              "#fdca26"
             ],
             [
              1,
              "#f0f921"
             ]
            ],
            "type": "heatmapgl"
           }
          ],
          "histogram": [
           {
            "marker": {
             "pattern": {
              "fillmode": "overlay",
              "size": 10,
              "solidity": 0.2
             }
            },
            "type": "histogram"
           }
          ],
          "histogram2d": [
           {
            "colorbar": {
             "outlinewidth": 0,
             "ticks": ""
            },
            "colorscale": [
             [
              0,
              "#0d0887"
             ],
             [
              0.1111111111111111,
              "#46039f"
             ],
             [
              0.2222222222222222,
              "#7201a8"
             ],
             [
              0.3333333333333333,
              "#9c179e"
             ],
             [
              0.4444444444444444,
              "#bd3786"
             ],
             [
              0.5555555555555556,
              "#d8576b"
             ],
             [
              0.6666666666666666,
              "#ed7953"
             ],
             [
              0.7777777777777778,
              "#fb9f3a"
             ],
             [
              0.8888888888888888,
              "#fdca26"
             ],
             [
              1,
              "#f0f921"
             ]
            ],
            "type": "histogram2d"
           }
          ],
          "histogram2dcontour": [
           {
            "colorbar": {
             "outlinewidth": 0,
             "ticks": ""
            },
            "colorscale": [
             [
              0,
              "#0d0887"
             ],
             [
              0.1111111111111111,
              "#46039f"
             ],
             [
              0.2222222222222222,
              "#7201a8"
             ],
             [
              0.3333333333333333,
              "#9c179e"
             ],
             [
              0.4444444444444444,
              "#bd3786"
             ],
             [
              0.5555555555555556,
              "#d8576b"
             ],
             [
              0.6666666666666666,
              "#ed7953"
             ],
             [
              0.7777777777777778,
              "#fb9f3a"
             ],
             [
              0.8888888888888888,
              "#fdca26"
             ],
             [
              1,
              "#f0f921"
             ]
            ],
            "type": "histogram2dcontour"
           }
          ],
          "mesh3d": [
           {
            "colorbar": {
             "outlinewidth": 0,
             "ticks": ""
            },
            "type": "mesh3d"
           }
          ],
          "parcoords": [
           {
            "line": {
             "colorbar": {
              "outlinewidth": 0,
              "ticks": ""
             }
            },
            "type": "parcoords"
           }
          ],
          "pie": [
           {
            "automargin": true,
            "type": "pie"
           }
          ],
          "scatter": [
           {
            "fillpattern": {
             "fillmode": "overlay",
             "size": 10,
             "solidity": 0.2
            },
            "type": "scatter"
           }
          ],
          "scatter3d": [
           {
            "line": {
             "colorbar": {
              "outlinewidth": 0,
              "ticks": ""
             }
            },
            "marker": {
             "colorbar": {
              "outlinewidth": 0,
              "ticks": ""
             }
            },
            "type": "scatter3d"
           }
          ],
          "scattercarpet": [
           {
            "marker": {
             "colorbar": {
              "outlinewidth": 0,
              "ticks": ""
             }
            },
            "type": "scattercarpet"
           }
          ],
          "scattergeo": [
           {
            "marker": {
             "colorbar": {
              "outlinewidth": 0,
              "ticks": ""
             }
            },
            "type": "scattergeo"
           }
          ],
          "scattergl": [
           {
            "marker": {
             "colorbar": {
              "outlinewidth": 0,
              "ticks": ""
             }
            },
            "type": "scattergl"
           }
          ],
          "scattermapbox": [
           {
            "marker": {
             "colorbar": {
              "outlinewidth": 0,
              "ticks": ""
             }
            },
            "type": "scattermapbox"
           }
          ],
          "scatterpolar": [
           {
            "marker": {
             "colorbar": {
              "outlinewidth": 0,
              "ticks": ""
             }
            },
            "type": "scatterpolar"
           }
          ],
          "scatterpolargl": [
           {
            "marker": {
             "colorbar": {
              "outlinewidth": 0,
              "ticks": ""
             }
            },
            "type": "scatterpolargl"
           }
          ],
          "scatterternary": [
           {
            "marker": {
             "colorbar": {
              "outlinewidth": 0,
              "ticks": ""
             }
            },
            "type": "scatterternary"
           }
          ],
          "surface": [
           {
            "colorbar": {
             "outlinewidth": 0,
             "ticks": ""
            },
            "colorscale": [
             [
              0,
              "#0d0887"
             ],
             [
              0.1111111111111111,
              "#46039f"
             ],
             [
              0.2222222222222222,
              "#7201a8"
             ],
             [
              0.3333333333333333,
              "#9c179e"
             ],
             [
              0.4444444444444444,
              "#bd3786"
             ],
             [
              0.5555555555555556,
              "#d8576b"
             ],
             [
              0.6666666666666666,
              "#ed7953"
             ],
             [
              0.7777777777777778,
              "#fb9f3a"
             ],
             [
              0.8888888888888888,
              "#fdca26"
             ],
             [
              1,
              "#f0f921"
             ]
            ],
            "type": "surface"
           }
          ],
          "table": [
           {
            "cells": {
             "fill": {
              "color": "#EBF0F8"
             },
             "line": {
              "color": "white"
             }
            },
            "header": {
             "fill": {
              "color": "#C8D4E3"
             },
             "line": {
              "color": "white"
             }
            },
            "type": "table"
           }
          ]
         },
         "layout": {
          "annotationdefaults": {
           "arrowcolor": "#2a3f5f",
           "arrowhead": 0,
           "arrowwidth": 1
          },
          "autotypenumbers": "strict",
          "coloraxis": {
           "colorbar": {
            "outlinewidth": 0,
            "ticks": ""
           }
          },
          "colorscale": {
           "diverging": [
            [
             0,
             "#8e0152"
            ],
            [
             0.1,
             "#c51b7d"
            ],
            [
             0.2,
             "#de77ae"
            ],
            [
             0.3,
             "#f1b6da"
            ],
            [
             0.4,
             "#fde0ef"
            ],
            [
             0.5,
             "#f7f7f7"
            ],
            [
             0.6,
             "#e6f5d0"
            ],
            [
             0.7,
             "#b8e186"
            ],
            [
             0.8,
             "#7fbc41"
            ],
            [
             0.9,
             "#4d9221"
            ],
            [
             1,
             "#276419"
            ]
           ],
           "sequential": [
            [
             0,
             "#0d0887"
            ],
            [
             0.1111111111111111,
             "#46039f"
            ],
            [
             0.2222222222222222,
             "#7201a8"
            ],
            [
             0.3333333333333333,
             "#9c179e"
            ],
            [
             0.4444444444444444,
             "#bd3786"
            ],
            [
             0.5555555555555556,
             "#d8576b"
            ],
            [
             0.6666666666666666,
             "#ed7953"
            ],
            [
             0.7777777777777778,
             "#fb9f3a"
            ],
            [
             0.8888888888888888,
             "#fdca26"
            ],
            [
             1,
             "#f0f921"
            ]
           ],
           "sequentialminus": [
            [
             0,
             "#0d0887"
            ],
            [
             0.1111111111111111,
             "#46039f"
            ],
            [
             0.2222222222222222,
             "#7201a8"
            ],
            [
             0.3333333333333333,
             "#9c179e"
            ],
            [
             0.4444444444444444,
             "#bd3786"
            ],
            [
             0.5555555555555556,
             "#d8576b"
            ],
            [
             0.6666666666666666,
             "#ed7953"
            ],
            [
             0.7777777777777778,
             "#fb9f3a"
            ],
            [
             0.8888888888888888,
             "#fdca26"
            ],
            [
             1,
             "#f0f921"
            ]
           ]
          },
          "colorway": [
           "#636efa",
           "#EF553B",
           "#00cc96",
           "#ab63fa",
           "#FFA15A",
           "#19d3f3",
           "#FF6692",
           "#B6E880",
           "#FF97FF",
           "#FECB52"
          ],
          "font": {
           "color": "#2a3f5f"
          },
          "geo": {
           "bgcolor": "white",
           "lakecolor": "white",
           "landcolor": "#E5ECF6",
           "showlakes": true,
           "showland": true,
           "subunitcolor": "white"
          },
          "hoverlabel": {
           "align": "left"
          },
          "hovermode": "closest",
          "mapbox": {
           "style": "light"
          },
          "paper_bgcolor": "white",
          "plot_bgcolor": "#E5ECF6",
          "polar": {
           "angularaxis": {
            "gridcolor": "white",
            "linecolor": "white",
            "ticks": ""
           },
           "bgcolor": "#E5ECF6",
           "radialaxis": {
            "gridcolor": "white",
            "linecolor": "white",
            "ticks": ""
           }
          },
          "scene": {
           "xaxis": {
            "backgroundcolor": "#E5ECF6",
            "gridcolor": "white",
            "gridwidth": 2,
            "linecolor": "white",
            "showbackground": true,
            "ticks": "",
            "zerolinecolor": "white"
           },
           "yaxis": {
            "backgroundcolor": "#E5ECF6",
            "gridcolor": "white",
            "gridwidth": 2,
            "linecolor": "white",
            "showbackground": true,
            "ticks": "",
            "zerolinecolor": "white"
           },
           "zaxis": {
            "backgroundcolor": "#E5ECF6",
            "gridcolor": "white",
            "gridwidth": 2,
            "linecolor": "white",
            "showbackground": true,
            "ticks": "",
            "zerolinecolor": "white"
           }
          },
          "shapedefaults": {
           "line": {
            "color": "#2a3f5f"
           }
          },
          "ternary": {
           "aaxis": {
            "gridcolor": "white",
            "linecolor": "white",
            "ticks": ""
           },
           "baxis": {
            "gridcolor": "white",
            "linecolor": "white",
            "ticks": ""
           },
           "bgcolor": "#E5ECF6",
           "caxis": {
            "gridcolor": "white",
            "linecolor": "white",
            "ticks": ""
           }
          },
          "title": {
           "x": 0.05
          },
          "xaxis": {
           "automargin": true,
           "gridcolor": "white",
           "linecolor": "white",
           "ticks": "",
           "title": {
            "standoff": 15
           },
           "zerolinecolor": "white",
           "zerolinewidth": 2
          },
          "yaxis": {
           "automargin": true,
           "gridcolor": "white",
           "linecolor": "white",
           "ticks": "",
           "title": {
            "standoff": 15
           },
           "zerolinecolor": "white",
           "zerolinewidth": 2
          }
         }
        },
        "xaxis": {
         "anchor": "y",
         "domain": [
          0,
          0.45
         ],
         "title": {
          "text": "Preference value"
         }
        },
        "xaxis2": {
         "anchor": "y2",
         "domain": [
          0.55,
          1
         ],
         "title": {
          "text": "Preference value"
         }
        },
        "yaxis": {
         "anchor": "x",
         "domain": [
          0,
          1
         ],
         "title": {
          "text": "Damping value"
         }
        },
        "yaxis2": {
         "anchor": "x2",
         "domain": [
          0,
          1
         ],
         "title": {
          "text": "Damping value"
         }
        }
       }
      }
     },
     "metadata": {},
     "output_type": "display_data"
    }
   ],
   "source": [
    "import pandas as pd\n",
    "import plotly.graph_objects as go\n",
    "import numpy as np\n",
    "\n",
    "df = pd.read_csv('fine_tune_affinity_propagation.csv')\n",
    "# Remove all damping values above 0.9\n",
    "df = df[df['Damping'] <= 0.9]\n",
    "\n",
    "# Remove all average annotations above 100\n",
    "df = df[df['Avg Annotations'] <= 200]\n",
    "\n",
    "# Calculate weighted score\n",
    "# df['Weighted Score'] = df['Score'] ** 2 / df['Avg Annotations']\n",
    "\n",
    "# Plot heatmap of weighted scores\n",
    "import plotly.graph_objects as go\n",
    "from plotly.subplots import make_subplots\n",
    "\n",
    "subtitle1 = r'$\\text{Average silhouette score: } S_i$'\n",
    "subtitle2 = r'$\\text{Weighted average silhouette score: } \\frac{S_i}{\\text{Avg Annotations}}$'\n",
    "\n",
    "# Latex formatting\n",
    "fig = make_subplots(rows=1, cols=2, specs=[[{'type': 'heatmap'}, {'type': 'heatmap'}]], subplot_titles=(subtitle1, subtitle2))\n",
    "\n",
    "fig.add_trace(go.Heatmap(\n",
    "                    z=df['Score'].values.reshape(len(df['Damping'].unique()), len(df['Preference'].unique())),\n",
    "                    x=df['Preference'].unique(),\n",
    "                    y=df['Damping'].unique(),\n",
    "                    colorscale='Viridis'),\n",
    "                    row=1, col=1)\n",
    "\n",
    "# Highlight top 5 values with red border\n",
    "df = df.sort_values(by='Score', ascending=False)\n",
    "for i in range(2):\n",
    "    fig.add_shape(\n",
    "        type=\"rect\",\n",
    "        xref=\"x\",\n",
    "        yref=\"y\",\n",
    "        x0=df.iloc[i]['Preference'] - 5,\n",
    "        y0=df.iloc[i]['Damping'] - 0.025,\n",
    "        x1=df.iloc[i]['Preference'] + 5,\n",
    "        y1=df.iloc[i]['Damping'] + 0.025,\n",
    "        line=dict(\n",
    "            color=\"Red\",\n",
    "            width=2\n",
    "        ),\n",
    "        row=1, col=1\n",
    "    )\n",
    "\n",
    "df = pd.read_csv('fine_tune_affinity_propagation.csv')\n",
    "df = df[df['Damping'] <= 0.9]\n",
    "df = df[df['Avg Annotations'] <= 200]\n",
    "df['Weighted Score'] = df['Score'] ** 2 / df['Avg Annotations']\n",
    "\n",
    "fig.add_trace(go.Heatmap(\n",
    "                    z=df['Weighted Score'].values.reshape(len(df['Damping'].unique()), len(df['Preference'].unique())),\n",
    "                    x=df['Preference'].unique(),\n",
    "                    y=df['Damping'].unique(),\n",
    "                    colorscale='Viridis'),\n",
    "                    row=1, col=2)\n",
    "\n",
    "\n",
    "# Highlight top 5 values with red border\n",
    "df = df.sort_values(by='Weighted Score', ascending=False)\n",
    "for i in range(2):\n",
    "    fig.add_shape(\n",
    "        type=\"rect\",\n",
    "        xref=\"x\",\n",
    "        yref=\"y\",\n",
    "        x0=df.iloc[i]['Preference'] - 5,\n",
    "        y0=df.iloc[i]['Damping'] - 0.025,\n",
    "        x1=df.iloc[i]['Preference'] + 5,\n",
    "        y1=df.iloc[i]['Damping'] + 0.025,\n",
    "        line=dict(\n",
    "            color=\"Red\",\n",
    "            width=2\n",
    "        ),\n",
    "        row=1, col=2\n",
    "    )\n",
    "\n",
    "fig.update_yaxes(title_text='Damping value', row=1, col=1)\n",
    "fig.update_xaxes(title_text='Preference value', row=1, col=1)\n",
    "fig.update_yaxes(title_text='Damping value', row=1, col=2)\n",
    "fig.update_xaxes(title_text='Preference value', row=1, col=2)\n",
    "\n",
    "# Dont show colorbar\n",
    "fig.update(layout_coloraxis_showscale=False)\n",
    "fig.update_traces(showscale=False)\n",
    "\n",
    "fig.update_layout(font_size=15, margin=dict(l=20, r=20, t=30, b=20))\n",
    "fig.show()\n",
    "\n",
    "# Save png\n",
    "fig.write_image('AP_heatmap.png', width=1500, height=400, scale=4)"
   ]
  },
  {
   "cell_type": "code",
   "execution_count": null,
   "metadata": {},
   "outputs": [
    {
     "data": {
      "application/vnd.plotly.v1+json": {
       "config": {
        "plotlyServerURL": "https://plot.ly"
       },
       "data": [
        {
         "colorscale": [
          [
           0,
           "#440154"
          ],
          [
           0.1111111111111111,
           "#482878"
          ],
          [
           0.2222222222222222,
           "#3e4989"
          ],
          [
           0.3333333333333333,
           "#31688e"
          ],
          [
           0.4444444444444444,
           "#26828e"
          ],
          [
           0.5555555555555556,
           "#1f9e89"
          ],
          [
           0.6666666666666666,
           "#35b779"
          ],
          [
           0.7777777777777778,
           "#6ece58"
          ],
          [
           0.8888888888888888,
           "#b5de2b"
          ],
          [
           1,
           "#fde725"
          ]
         ],
         "type": "heatmap",
         "x": [
          -200,
          -190,
          -180,
          -170,
          -160,
          -150,
          -140,
          -130,
          -120,
          -110,
          -100,
          -90,
          -80,
          -70,
          -60,
          -50,
          -40,
          -30
         ],
         "y": [
          0.5,
          0.55,
          0.6,
          0.65,
          0.7,
          0.75,
          0.8,
          0.85,
          0.9
         ],
         "z": [
          [
           0.1862288767507186,
           0.1902288245916562,
           0.189540676123811,
           0.2001452162858835,
           0.1940060063604368,
           0.1930211659224781,
           0.2008124525341878,
           0.2002353309455658,
           0.1955975788287514,
           0.2040624884792454,
           0.1896737312621153,
           0.2001723176132352,
           0.193039808978537,
           0.2071496581386993,
           0.1968410148940834,
           0.2125275637974198,
           0.2284486430496082,
           0.2081856515993388
          ],
          [
           0.188559268534717,
           0.1931828629448294,
           0.1970029695990283,
           0.1921089607426777,
           0.2007912824798636,
           0.1924613443835585,
           0.1850051272842347,
           0.1932060068177993,
           0.1918275330484927,
           0.1977304226994697,
           0.1890051811340143,
           0.1931951872403153,
           0.2058029337639111,
           0.2079209265666628,
           0.2060404605138235,
           0.1925144979731739,
           0.2225788756172863,
           0.2106448996640262
          ],
          [
           0.1863197702056185,
           0.1957707453766664,
           0.1921225190619641,
           0.1904194734145707,
           0.1983018361484979,
           0.1885854850759761,
           0.1949405574372427,
           0.2017441048316366,
           0.1990899898721602,
           0.2019674843846835,
           0.1920966096636155,
           0.1988205864322493,
           0.2034533977244979,
           0.2014095214434935,
           0.1972087553514621,
           0.2040965132695115,
           0.2334823478511617,
           0.217390165389165
          ],
          [
           0.1870864224597788,
           0.1845685775816032,
           0.1899283891511151,
           0.1928829429669774,
           0.201027100988761,
           0.1926136551841381,
           0.1961066791435425,
           0.1951718390521884,
           0.1928952867033749,
           0.200876601346102,
           0.1942546303329434,
           0.2049307897930098,
           0.1964866350349956,
           0.2017127198153518,
           0.2041476706769646,
           0.2178579793579166,
           0.2324187918146452,
           0.2120247870066695
          ],
          [
           0.1799273681063144,
           0.1942939947691752,
           0.1948574950839738,
           0.1957495370633743,
           0.2019503181248941,
           0.1941877241615974,
           0.188564775887888,
           0.1970390011261071,
           0.1974616243228415,
           0.2045273358888822,
           0.1995379830172728,
           0.2067075289002735,
           0.1932590024144747,
           0.2027541729670937,
           0.2071950343082073,
           0.211799559090994,
           0.2329603772918444,
           0.2176829526394186
          ],
          [
           0.1866879931541537,
           0.1958628781481425,
           0.1993179644492843,
           0.1932588081956259,
           0.1920766012212832,
           0.2007682282128701,
           0.191016963039765,
           0.2025786561321859,
           0.1986861694990633,
           0.1923326300387001,
           0.1999791592368735,
           0.2121714022683716,
           0.2021186572630405,
           0.2138921065563025,
           0.2110559789659622,
           0.2224494563719239,
           0.2319465577187147,
           0.2120993852782717
          ],
          [
           0.1898081036359893,
           0.1878557837895041,
           0.1954656739746137,
           0.1946499345795692,
           0.1906911896071681,
           0.1975954881219022,
           0.1932829326996567,
           0.2016112135077988,
           0.2012895231786817,
           0.1955730139429899,
           0.2001537214828906,
           0.2005991859116224,
           0.2054757925074861,
           0.2115206582047151,
           0.2134541220269339,
           0.2231442974244507,
           0.2339429248643685,
           0.2134358587932892
          ],
          [
           0.1897990327648963,
           0.1869651773438901,
           0.1959506186042272,
           0.1925117642571533,
           0.1888583677747633,
           0.1962533864604183,
           0.1905939993272676,
           0.1960183393847444,
           0.2033458087783656,
           0.2031773396734038,
           0.1989162067427582,
           0.2030041137522595,
           0.2074778820815252,
           0.2114062580130097,
           0.2055672969851199,
           0.2217987780469105,
           0.2213180661219964,
           0.2066887566571418
          ],
          [
           0.1887936751848525,
           0.193290929324654,
           0.1856686384391444,
           0.1937647600698408,
           0.200682580656496,
           0.2011884039646722,
           0.1873615360786629,
           0.1962120212209261,
           0.1994925123856772,
           0.2090623441543716,
           0.1986956144882651,
           0.2111830465408101,
           0.2070146427160891,
           0.2103336715473401,
           0.20816308169976,
           0.2234043071259825,
           0.2231309068324987,
           0.2109734275968552
          ]
         ]
        }
       ],
       "layout": {
        "shapes": [
         {
          "line": {
           "color": "Red",
           "width": 2
          },
          "type": "rect",
          "x0": -45,
          "x1": -35,
          "xref": "x",
          "y0": 0.775,
          "y1": 0.8250000000000001,
          "yref": "y"
         },
         {
          "line": {
           "color": "Red",
           "width": 2
          },
          "type": "rect",
          "x0": -45,
          "x1": -35,
          "xref": "x",
          "y0": 0.575,
          "y1": 0.625,
          "yref": "y"
         }
        ],
        "template": {
         "data": {
          "bar": [
           {
            "error_x": {
             "color": "#2a3f5f"
            },
            "error_y": {
             "color": "#2a3f5f"
            },
            "marker": {
             "line": {
              "color": "#E5ECF6",
              "width": 0.5
             },
             "pattern": {
              "fillmode": "overlay",
              "size": 10,
              "solidity": 0.2
             }
            },
            "type": "bar"
           }
          ],
          "barpolar": [
           {
            "marker": {
             "line": {
              "color": "#E5ECF6",
              "width": 0.5
             },
             "pattern": {
              "fillmode": "overlay",
              "size": 10,
              "solidity": 0.2
             }
            },
            "type": "barpolar"
           }
          ],
          "carpet": [
           {
            "aaxis": {
             "endlinecolor": "#2a3f5f",
             "gridcolor": "white",
             "linecolor": "white",
             "minorgridcolor": "white",
             "startlinecolor": "#2a3f5f"
            },
            "baxis": {
             "endlinecolor": "#2a3f5f",
             "gridcolor": "white",
             "linecolor": "white",
             "minorgridcolor": "white",
             "startlinecolor": "#2a3f5f"
            },
            "type": "carpet"
           }
          ],
          "choropleth": [
           {
            "colorbar": {
             "outlinewidth": 0,
             "ticks": ""
            },
            "type": "choropleth"
           }
          ],
          "contour": [
           {
            "colorbar": {
             "outlinewidth": 0,
             "ticks": ""
            },
            "colorscale": [
             [
              0,
              "#0d0887"
             ],
             [
              0.1111111111111111,
              "#46039f"
             ],
             [
              0.2222222222222222,
              "#7201a8"
             ],
             [
              0.3333333333333333,
              "#9c179e"
             ],
             [
              0.4444444444444444,
              "#bd3786"
             ],
             [
              0.5555555555555556,
              "#d8576b"
             ],
             [
              0.6666666666666666,
              "#ed7953"
             ],
             [
              0.7777777777777778,
              "#fb9f3a"
             ],
             [
              0.8888888888888888,
              "#fdca26"
             ],
             [
              1,
              "#f0f921"
             ]
            ],
            "type": "contour"
           }
          ],
          "contourcarpet": [
           {
            "colorbar": {
             "outlinewidth": 0,
             "ticks": ""
            },
            "type": "contourcarpet"
           }
          ],
          "heatmap": [
           {
            "colorbar": {
             "outlinewidth": 0,
             "ticks": ""
            },
            "colorscale": [
             [
              0,
              "#0d0887"
             ],
             [
              0.1111111111111111,
              "#46039f"
             ],
             [
              0.2222222222222222,
              "#7201a8"
             ],
             [
              0.3333333333333333,
              "#9c179e"
             ],
             [
              0.4444444444444444,
              "#bd3786"
             ],
             [
              0.5555555555555556,
              "#d8576b"
             ],
             [
              0.6666666666666666,
              "#ed7953"
             ],
             [
              0.7777777777777778,
              "#fb9f3a"
             ],
             [
              0.8888888888888888,
              "#fdca26"
             ],
             [
              1,
              "#f0f921"
             ]
            ],
            "type": "heatmap"
           }
          ],
          "heatmapgl": [
           {
            "colorbar": {
             "outlinewidth": 0,
             "ticks": ""
            },
            "colorscale": [
             [
              0,
              "#0d0887"
             ],
             [
              0.1111111111111111,
              "#46039f"
             ],
             [
              0.2222222222222222,
              "#7201a8"
             ],
             [
              0.3333333333333333,
              "#9c179e"
             ],
             [
              0.4444444444444444,
              "#bd3786"
             ],
             [
              0.5555555555555556,
              "#d8576b"
             ],
             [
              0.6666666666666666,
              "#ed7953"
             ],
             [
              0.7777777777777778,
              "#fb9f3a"
             ],
             [
              0.8888888888888888,
              "#fdca26"
             ],
             [
              1,
              "#f0f921"
             ]
            ],
            "type": "heatmapgl"
           }
          ],
          "histogram": [
           {
            "marker": {
             "pattern": {
              "fillmode": "overlay",
              "size": 10,
              "solidity": 0.2
             }
            },
            "type": "histogram"
           }
          ],
          "histogram2d": [
           {
            "colorbar": {
             "outlinewidth": 0,
             "ticks": ""
            },
            "colorscale": [
             [
              0,
              "#0d0887"
             ],
             [
              0.1111111111111111,
              "#46039f"
             ],
             [
              0.2222222222222222,
              "#7201a8"
             ],
             [
              0.3333333333333333,
              "#9c179e"
             ],
             [
              0.4444444444444444,
              "#bd3786"
             ],
             [
              0.5555555555555556,
              "#d8576b"
             ],
             [
              0.6666666666666666,
              "#ed7953"
             ],
             [
              0.7777777777777778,
              "#fb9f3a"
             ],
             [
              0.8888888888888888,
              "#fdca26"
             ],
             [
              1,
              "#f0f921"
             ]
            ],
            "type": "histogram2d"
           }
          ],
          "histogram2dcontour": [
           {
            "colorbar": {
             "outlinewidth": 0,
             "ticks": ""
            },
            "colorscale": [
             [
              0,
              "#0d0887"
             ],
             [
              0.1111111111111111,
              "#46039f"
             ],
             [
              0.2222222222222222,
              "#7201a8"
             ],
             [
              0.3333333333333333,
              "#9c179e"
             ],
             [
              0.4444444444444444,
              "#bd3786"
             ],
             [
              0.5555555555555556,
              "#d8576b"
             ],
             [
              0.6666666666666666,
              "#ed7953"
             ],
             [
              0.7777777777777778,
              "#fb9f3a"
             ],
             [
              0.8888888888888888,
              "#fdca26"
             ],
             [
              1,
              "#f0f921"
             ]
            ],
            "type": "histogram2dcontour"
           }
          ],
          "mesh3d": [
           {
            "colorbar": {
             "outlinewidth": 0,
             "ticks": ""
            },
            "type": "mesh3d"
           }
          ],
          "parcoords": [
           {
            "line": {
             "colorbar": {
              "outlinewidth": 0,
              "ticks": ""
             }
            },
            "type": "parcoords"
           }
          ],
          "pie": [
           {
            "automargin": true,
            "type": "pie"
           }
          ],
          "scatter": [
           {
            "fillpattern": {
             "fillmode": "overlay",
             "size": 10,
             "solidity": 0.2
            },
            "type": "scatter"
           }
          ],
          "scatter3d": [
           {
            "line": {
             "colorbar": {
              "outlinewidth": 0,
              "ticks": ""
             }
            },
            "marker": {
             "colorbar": {
              "outlinewidth": 0,
              "ticks": ""
             }
            },
            "type": "scatter3d"
           }
          ],
          "scattercarpet": [
           {
            "marker": {
             "colorbar": {
              "outlinewidth": 0,
              "ticks": ""
             }
            },
            "type": "scattercarpet"
           }
          ],
          "scattergeo": [
           {
            "marker": {
             "colorbar": {
              "outlinewidth": 0,
              "ticks": ""
             }
            },
            "type": "scattergeo"
           }
          ],
          "scattergl": [
           {
            "marker": {
             "colorbar": {
              "outlinewidth": 0,
              "ticks": ""
             }
            },
            "type": "scattergl"
           }
          ],
          "scattermapbox": [
           {
            "marker": {
             "colorbar": {
              "outlinewidth": 0,
              "ticks": ""
             }
            },
            "type": "scattermapbox"
           }
          ],
          "scatterpolar": [
           {
            "marker": {
             "colorbar": {
              "outlinewidth": 0,
              "ticks": ""
             }
            },
            "type": "scatterpolar"
           }
          ],
          "scatterpolargl": [
           {
            "marker": {
             "colorbar": {
              "outlinewidth": 0,
              "ticks": ""
             }
            },
            "type": "scatterpolargl"
           }
          ],
          "scatterternary": [
           {
            "marker": {
             "colorbar": {
              "outlinewidth": 0,
              "ticks": ""
             }
            },
            "type": "scatterternary"
           }
          ],
          "surface": [
           {
            "colorbar": {
             "outlinewidth": 0,
             "ticks": ""
            },
            "colorscale": [
             [
              0,
              "#0d0887"
             ],
             [
              0.1111111111111111,
              "#46039f"
             ],
             [
              0.2222222222222222,
              "#7201a8"
             ],
             [
              0.3333333333333333,
              "#9c179e"
             ],
             [
              0.4444444444444444,
              "#bd3786"
             ],
             [
              0.5555555555555556,
              "#d8576b"
             ],
             [
              0.6666666666666666,
              "#ed7953"
             ],
             [
              0.7777777777777778,
              "#fb9f3a"
             ],
             [
              0.8888888888888888,
              "#fdca26"
             ],
             [
              1,
              "#f0f921"
             ]
            ],
            "type": "surface"
           }
          ],
          "table": [
           {
            "cells": {
             "fill": {
              "color": "#EBF0F8"
             },
             "line": {
              "color": "white"
             }
            },
            "header": {
             "fill": {
              "color": "#C8D4E3"
             },
             "line": {
              "color": "white"
             }
            },
            "type": "table"
           }
          ]
         },
         "layout": {
          "annotationdefaults": {
           "arrowcolor": "#2a3f5f",
           "arrowhead": 0,
           "arrowwidth": 1
          },
          "autotypenumbers": "strict",
          "coloraxis": {
           "colorbar": {
            "outlinewidth": 0,
            "ticks": ""
           }
          },
          "colorscale": {
           "diverging": [
            [
             0,
             "#8e0152"
            ],
            [
             0.1,
             "#c51b7d"
            ],
            [
             0.2,
             "#de77ae"
            ],
            [
             0.3,
             "#f1b6da"
            ],
            [
             0.4,
             "#fde0ef"
            ],
            [
             0.5,
             "#f7f7f7"
            ],
            [
             0.6,
             "#e6f5d0"
            ],
            [
             0.7,
             "#b8e186"
            ],
            [
             0.8,
             "#7fbc41"
            ],
            [
             0.9,
             "#4d9221"
            ],
            [
             1,
             "#276419"
            ]
           ],
           "sequential": [
            [
             0,
             "#0d0887"
            ],
            [
             0.1111111111111111,
             "#46039f"
            ],
            [
             0.2222222222222222,
             "#7201a8"
            ],
            [
             0.3333333333333333,
             "#9c179e"
            ],
            [
             0.4444444444444444,
             "#bd3786"
            ],
            [
             0.5555555555555556,
             "#d8576b"
            ],
            [
             0.6666666666666666,
             "#ed7953"
            ],
            [
             0.7777777777777778,
             "#fb9f3a"
            ],
            [
             0.8888888888888888,
             "#fdca26"
            ],
            [
             1,
             "#f0f921"
            ]
           ],
           "sequentialminus": [
            [
             0,
             "#0d0887"
            ],
            [
             0.1111111111111111,
             "#46039f"
            ],
            [
             0.2222222222222222,
             "#7201a8"
            ],
            [
             0.3333333333333333,
             "#9c179e"
            ],
            [
             0.4444444444444444,
             "#bd3786"
            ],
            [
             0.5555555555555556,
             "#d8576b"
            ],
            [
             0.6666666666666666,
             "#ed7953"
            ],
            [
             0.7777777777777778,
             "#fb9f3a"
            ],
            [
             0.8888888888888888,
             "#fdca26"
            ],
            [
             1,
             "#f0f921"
            ]
           ]
          },
          "colorway": [
           "#636efa",
           "#EF553B",
           "#00cc96",
           "#ab63fa",
           "#FFA15A",
           "#19d3f3",
           "#FF6692",
           "#B6E880",
           "#FF97FF",
           "#FECB52"
          ],
          "font": {
           "color": "#2a3f5f"
          },
          "geo": {
           "bgcolor": "white",
           "lakecolor": "white",
           "landcolor": "#E5ECF6",
           "showlakes": true,
           "showland": true,
           "subunitcolor": "white"
          },
          "hoverlabel": {
           "align": "left"
          },
          "hovermode": "closest",
          "mapbox": {
           "style": "light"
          },
          "paper_bgcolor": "white",
          "plot_bgcolor": "#E5ECF6",
          "polar": {
           "angularaxis": {
            "gridcolor": "white",
            "linecolor": "white",
            "ticks": ""
           },
           "bgcolor": "#E5ECF6",
           "radialaxis": {
            "gridcolor": "white",
            "linecolor": "white",
            "ticks": ""
           }
          },
          "scene": {
           "xaxis": {
            "backgroundcolor": "#E5ECF6",
            "gridcolor": "white",
            "gridwidth": 2,
            "linecolor": "white",
            "showbackground": true,
            "ticks": "",
            "zerolinecolor": "white"
           },
           "yaxis": {
            "backgroundcolor": "#E5ECF6",
            "gridcolor": "white",
            "gridwidth": 2,
            "linecolor": "white",
            "showbackground": true,
            "ticks": "",
            "zerolinecolor": "white"
           },
           "zaxis": {
            "backgroundcolor": "#E5ECF6",
            "gridcolor": "white",
            "gridwidth": 2,
            "linecolor": "white",
            "showbackground": true,
            "ticks": "",
            "zerolinecolor": "white"
           }
          },
          "shapedefaults": {
           "line": {
            "color": "#2a3f5f"
           }
          },
          "ternary": {
           "aaxis": {
            "gridcolor": "white",
            "linecolor": "white",
            "ticks": ""
           },
           "baxis": {
            "gridcolor": "white",
            "linecolor": "white",
            "ticks": ""
           },
           "bgcolor": "#E5ECF6",
           "caxis": {
            "gridcolor": "white",
            "linecolor": "white",
            "ticks": ""
           }
          },
          "title": {
           "x": 0.05
          },
          "xaxis": {
           "automargin": true,
           "gridcolor": "white",
           "linecolor": "white",
           "ticks": "",
           "title": {
            "standoff": 15
           },
           "zerolinecolor": "white",
           "zerolinewidth": 2
          },
          "yaxis": {
           "automargin": true,
           "gridcolor": "white",
           "linecolor": "white",
           "ticks": "",
           "title": {
            "standoff": 15
           },
           "zerolinecolor": "white",
           "zerolinewidth": 2
          }
         }
        },
        "xaxis": {
         "nticks": 36,
         "title": {
          "text": "Preference value"
         }
        },
        "yaxis": {
         "title": {
          "text": "Damping value"
         }
        }
       }
      }
     },
     "metadata": {},
     "output_type": "display_data"
    }
   ],
   "source": [
    "import pandas as pd\n",
    "import plotly.graph_objects as go\n",
    "import numpy as np\n",
    "\n",
    "df = pd.read_csv('fine_tune_affinity_propagation.csv')\n",
    "# Remove all damping values above 0.9\n",
    "df = df[df['Damping'] <= 0.9]\n",
    "\n",
    "# Remove all average annotations above 100\n",
    "df = df[df['Avg Annotations'] <= 200]\n",
    "\n",
    "# Calculate weighted score\n",
    "df['Weighted Score'] = df['Score'] ** 2 / df['Avg Annotations']\n",
    "\n",
    "# Plot heatmap of weighted scores\n",
    "import plotly.graph_objects as go\n",
    "\n",
    "fig = go.Figure(data=go.Heatmap(\n",
    "                        z=df['Score'].values.reshape(len(df['Damping'].unique()), len(df['Preference'].unique())),\n",
    "                        x=df['Preference'].unique(),\n",
    "                        y=df['Damping'].unique(),\n",
    "                        colorscale='Viridis'))\n",
    "\n",
    "fig.update_layout(\n",
    "    xaxis_nticks=36,\n",
    "    yaxis={'title': 'Damping value'},\n",
    "    xaxis={'title': 'Preference value'}\n",
    ")\n",
    "\n",
    "# Highlight top 5 values with red border\n",
    "df = df.sort_values(by='Score', ascending=False)\n",
    "for i in range(2):\n",
    "    fig.add_shape(\n",
    "        type=\"rect\",\n",
    "        xref=\"x\",\n",
    "        yref=\"y\",\n",
    "        x0=df.iloc[i]['Preference'] - 5,\n",
    "        y0=df.iloc[i]['Damping'] - 0.025,\n",
    "        x1=df.iloc[i]['Preference'] + 5,\n",
    "        y1=df.iloc[i]['Damping'] + 0.025,\n",
    "        line=dict(\n",
    "            color=\"Red\",\n",
    "            width=2\n",
    "        )\n",
    "    )\n",
    "\n",
    "fig.show()"
   ]
  },
  {
   "cell_type": "code",
   "execution_count": 21,
   "metadata": {},
   "outputs": [
    {
     "name": "stdout",
     "output_type": "stream",
     "text": [
      "Total data: 3667\n",
      "Annotations: 10\n",
      "Preprocessing data: Applying StandardScaler\n",
      "Unique labels:  ['Standing' 'Walking Forward']\n",
      "Iteration 1\n",
      "Novelty detected: 3606\n",
      "Representative samples chosen for annotation: 129\n",
      "Starting uncertainty sampling and model training\n",
      "Total data: 366700     |Labelled data size: 999  |Unlabelled data size: 2668\n",
      "Annotations: 10\n",
      "Preprocessing data: Applying StandardScaler\n",
      "Unique labels:  ['Standing' 'Walking Forward']\n",
      "Iteration 1\n",
      "Novelty detected: 3606\n",
      "Representative samples chosen for annotation: 134\n",
      "Starting uncertainty sampling and model training\n",
      "Total data: 366700     |Labelled data size: 994  |Unlabelled data size: 2673\n",
      "Annotations: 10\n",
      "Preprocessing data: Applying StandardScaler\n",
      "Unique labels:  ['Standing' 'Walking Forward']\n",
      "Iteration 1\n",
      "Novelty detected: 3606\n",
      "Representative samples chosen for annotation: 490\n",
      "Starting uncertainty sampling and model training\n",
      "Total data: 366700     |Labelled data size: 990  |Unlabelled data size: 2677\n",
      "Annotations: 10\n",
      "Preprocessing data: Applying StandardScaler\n",
      "Unique labels:  ['Standing' 'Walking Forward']\n",
      "Iteration 1\n",
      "Novelty detected: 3606\n"
     ]
    },
    {
     "name": "stderr",
     "output_type": "stream",
     "text": [
      "c:\\Users\\duppu\\miniconda3\\envs\\DP4\\lib\\site-packages\\sklearn\\cluster\\_affinity_propagation.py:143: ConvergenceWarning:\n",
      "\n",
      "Affinity propagation did not converge, this model may return degenerate cluster centers and labels.\n",
      "\n"
     ]
    },
    {
     "name": "stdout",
     "output_type": "stream",
     "text": [
      "Representative samples chosen for annotation: 492\n",
      "Starting uncertainty sampling and model training\n",
      "Iteration 49  /500     |Labelled data size: 992  |Unlabelled data size: 2675\r"
     ]
    }
   ],
   "source": [
    "from OCluDAL import OCluDAL\n",
    "import numpy as np\n",
    "import pandas as pd\n",
    "\n",
    "path = 'PreProcessing\\\\USC\\\\CompiledData_7.csv'\n",
    "df = pd.read_csv(path)\n",
    "# Get the indices of the rows with the label of 'Standing' or 'Walking Forward'\n",
    "Indices = df[(df['Label'] == 'Standing') | (df['Label'] == 'Walking Forward')].index\n",
    "annotations = 10\n",
    "indices = np.random.choice(Indices, annotations, replace=False)\n",
    "\n",
    "damping_pref_tuples = {\n",
    "    'combination1': (0.75, -190),\n",
    "    'combination2': (0.75, -180),\n",
    "    'combination3': (0.8, -40),\n",
    "    'combination4': (0.6, -40)\n",
    "}\n",
    "\n",
    "for key, (damping, pref) in damping_pref_tuples.items():\n",
    "\n",
    "    OC = OCluDAL(path, annotations, damping=damping, preference=pref)\n",
    "    OC.initialise_data(indices=indices, output_path=f'{key}_heatmap_verification.csv')\n",
    "    OC.preprocessing()\n",
    "    OC.step1(max_iter=1)\n",
    "    clf = OC.step2(max_iter=500, n=10, max_samples=1000)\n"
   ]
  },
  {
   "cell_type": "code",
   "execution_count": 16,
   "metadata": {},
   "outputs": [
    {
     "data": {
      "application/vnd.plotly.v1+json": {
       "config": {
        "plotlyServerURL": "https://plot.ly"
       },
       "data": [
        {
         "line": {
          "color": "rgb(102, 197, 204)",
          "width": 3
         },
         "name": "Damping = 0.75, Preference = -190",
         "type": "scatter",
         "x": [
          10,
          139,
          139,
          139,
          149,
          149,
          159,
          159,
          169,
          169,
          179,
          179,
          189,
          189,
          199,
          199,
          209,
          209,
          219,
          219,
          229,
          229,
          239,
          239,
          249,
          249,
          259,
          259,
          269,
          269,
          279,
          279,
          289,
          289,
          299,
          299,
          309,
          309,
          319,
          319,
          329,
          329,
          339,
          339,
          349,
          349,
          359,
          359,
          369,
          369,
          379,
          379,
          389,
          389,
          399,
          399,
          409,
          409,
          419,
          419,
          429,
          429,
          439,
          439,
          449,
          449,
          459,
          459,
          469,
          469,
          479,
          479,
          489,
          489,
          499,
          499,
          509,
          509,
          519,
          519,
          529,
          529,
          539,
          539,
          549,
          549,
          559,
          559,
          569,
          569,
          579,
          579,
          589,
          589,
          599,
          599,
          609,
          609,
          619,
          619,
          629,
          629,
          639,
          639,
          649,
          649,
          659,
          659,
          669,
          669,
          679,
          679,
          689,
          689,
          699,
          699,
          709,
          709,
          719,
          719,
          729,
          729,
          739,
          739,
          749,
          749,
          759,
          759,
          769,
          769,
          779,
          779,
          789,
          789,
          799,
          799,
          809,
          809,
          819,
          819,
          829,
          829,
          839,
          839,
          849,
          849,
          859,
          859,
          869,
          869,
          879,
          879,
          889,
          889,
          899,
          899,
          909,
          909,
          919,
          919,
          929,
          929,
          939,
          939,
          949,
          949,
          959,
          959,
          969,
          969,
          979,
          979,
          989,
          989,
          999,
          999,
          1009,
          1009
         ],
         "y": [
          0.211375444353295,
          0.828514739229025,
          0.828514739229025,
          0.828514739229025,
          0.8303013075611143,
          0.8303013075611143,
          0.8323831242873432,
          0.8323831242873432,
          0.8321898227558605,
          0.8321898227558605,
          0.8268348623853211,
          0.8268348623853211,
          0.8225991949396205,
          0.8225991949396205,
          0.8148788927335641,
          0.8148788927335641,
          0.8227299016772701,
          0.8227299016772701,
          0.8152552204176334,
          0.8152552204176334,
          0.8237347294938918,
          0.8237347294938918,
          0.8343057176196033,
          0.8343057176196033,
          0.8373317729666472,
          0.8373317729666472,
          0.852406103286385,
          0.852406103286385,
          0.8522660388463802,
          0.8522660388463802,
          0.8497638724911453,
          0.8497638724911453,
          0.8436944937833037,
          0.8436944937833037,
          0.8476840855106889,
          0.8476840855106889,
          0.8522930315664086,
          0.8522930315664086,
          0.8632019115890084,
          0.8632019115890084,
          0.8621929298981426,
          0.8621929298981426,
          0.8656850961538461,
          0.8656850961538461,
          0.8701024713682941,
          0.8701024713682941,
          0.870918984280532,
          0.870918984280532,
          0.8744693753790176,
          0.8744693753790176,
          0.8786496350364964,
          0.8786496350364964,
          0.8807199511897499,
          0.8807199511897499,
          0.8913708690330477,
          0.8913708690330477,
          0.8947206875383671,
          0.8947206875383671,
          0.895935960591133,
          0.895935960591133,
          0.8996294008647313,
          0.8996294008647313,
          0.8990086741016109,
          0.8990086741016109,
          0.899005593536358,
          0.899005593536358,
          0.9021197007481296,
          0.9021197007481296,
          0.9080675422138836,
          0.9080675422138836,
          0.9112296110414052,
          0.9112296110414052,
          0.9122089364380114,
          0.9122089364380114,
          0.9144570707070708,
          0.9144570707070708,
          0.9173527549081696,
          0.9173527549081696,
          0.9158195679796696,
          0.9158195679796696,
          0.9177820267686424,
          0.9177820267686424,
          0.9207161125319692,
          0.9207161125319692,
          0.9217447081462476,
          0.9217447081462476,
          0.9224581724581724,
          0.9224581724581724,
          0.9238218205293738,
          0.9238218205293738,
          0.9271373056994818,
          0.9271373056994818,
          0.9246263807667316,
          0.9246263807667316,
          0.929921773142112,
          0.929921773142112,
          0.9323086984957488,
          0.9323086984957488,
          0.9333989501312336,
          0.9333989501312336,
          0.9275839368005266,
          0.9275839368005266,
          0.9342800528401584,
          0.9342800528401584,
          0.9393638170974156,
          0.9393638170974156,
          0.938497340425532,
          0.938497340425532,
          0.9369579719813208,
          0.9369579719813208,
          0.9410977242302544,
          0.9410977242302544,
          0.9395567494963064,
          0.9395567494963064,
          0.9423854447439352,
          0.9423854447439352,
          0.944895199459094,
          0.944895199459094,
          0.9440298507462688,
          0.9440298507462688,
          0.9496255956432949,
          0.9496255956432949,
          0.9508196721311476,
          0.9508196721311476,
          0.9533927347498288,
          0.9533927347498288,
          0.9542640990371388,
          0.9542640990371388,
          0.9596273291925466,
          0.9596273291925466,
          0.9591412742382271,
          0.9591412742382271,
          0.962821403752606,
          0.962821403752606,
          0.9637377963737797,
          0.9637377963737797,
          0.9657102869139258,
          0.9657102869139258,
          0.9676966292134832,
          0.9676966292134832,
          0.9693446088794926,
          0.9693446088794926,
          0.9717114568599716,
          0.9717114568599716,
          0.9733853797019164,
          0.9733853797019164,
          0.9750712250712252,
          0.9750712250712252,
          0.9771265189421016,
          0.9771265189421016,
          0.977761836441894,
          0.977761836441894,
          0.9791216702663786,
          0.9791216702663786,
          0.9804913294797688,
          0.9804913294797688,
          0.9825960841189268,
          0.9825960841189268,
          0.9832605531295489,
          0.9832605531295489,
          0.9842951059167276,
          0.9842951059167276,
          0.9849706744868036,
          0.9849706744868036,
          0.9852832965415746,
          0.9852832965415746,
          0.9859675036927622,
          0.9859675036927622,
          0.986286137879911,
          0.986286137879911,
          0.9866071428571428,
          0.9866071428571428,
          0.9865571321882002,
          0.9865571321882002,
          0.9868815592203898,
          0.9868815592203898,
          0.9872084273890144,
          0.9872084273890144
         ]
        },
        {
         "line": {
          "color": "rgb(246, 207, 113)",
          "width": 3
         },
         "name": "Damping = 0.75, Preference = -180",
         "type": "scatter",
         "x": [
          10,
          144,
          144,
          144,
          154,
          154,
          164,
          164,
          174,
          174,
          184,
          184,
          194,
          194,
          204,
          204,
          214,
          214,
          224,
          224,
          234,
          234,
          244,
          244,
          254,
          254,
          264,
          264,
          274,
          274,
          284,
          284,
          294,
          294,
          304,
          304,
          314,
          314,
          324,
          324,
          334,
          334,
          344,
          344,
          354,
          354,
          364,
          364,
          374,
          374,
          384,
          384,
          394,
          394,
          404,
          404,
          414,
          414,
          424,
          424,
          434,
          434,
          444,
          444,
          454,
          454,
          464,
          464,
          474,
          474,
          484,
          484,
          494,
          494,
          504,
          504,
          514,
          514,
          524,
          524,
          534,
          534,
          544,
          544,
          554,
          554,
          564,
          564,
          574,
          574,
          584,
          584,
          594,
          594,
          604,
          604,
          614,
          614,
          624,
          624,
          634,
          634,
          644,
          644,
          654,
          654,
          664,
          664,
          674,
          674,
          684,
          684,
          694,
          694,
          704,
          704,
          714,
          714,
          724,
          724,
          734,
          734,
          744,
          744,
          754,
          754,
          764,
          764,
          774,
          774,
          784,
          784,
          794,
          794,
          804,
          804,
          814,
          814,
          824,
          824,
          834,
          834,
          844,
          844,
          854,
          854,
          864,
          864,
          874,
          874,
          884,
          884,
          894,
          894,
          904,
          904,
          914,
          914,
          924,
          924,
          934,
          934,
          944,
          944,
          954,
          954,
          964,
          964,
          974,
          974,
          984,
          984,
          994,
          994,
          1004,
          1004
         ],
         "y": [
          0.211375444353295,
          0.8237297757592961,
          0.8237297757592961,
          0.8237297757592961,
          0.8246512951892969,
          0.8246512951892969,
          0.8307165286896946,
          0.8307165286896946,
          0.8207844259948468,
          0.8207844259948468,
          0.8311800172265289,
          0.8311800172265289,
          0.8281025050388713,
          0.8281025050388713,
          0.8276061218596592,
          0.8276061218596592,
          0.8302924992759919,
          0.8302924992759919,
          0.8338658146964856,
          0.8338658146964856,
          0.8371686571511797,
          0.8371686571511797,
          0.8352322524101665,
          0.8352322524101665,
          0.8318195136243773,
          0.8318195136243773,
          0.8407287687334705,
          0.8407287687334705,
          0.8414382552313587,
          0.8414382552313587,
          0.8513154005320721,
          0.8513154005320721,
          0.8565075600355766,
          0.8565075600355766,
          0.8596491228070176,
          0.8596491228070176,
          0.8583358186698479,
          0.8583358186698479,
          0.8567155249775651,
          0.8567155249775651,
          0.858085808580858,
          0.858085808580858,
          0.8618718025880229,
          0.8618718025880229,
          0.8726230003018413,
          0.8726230003018413,
          0.8695125643354527,
          0.8695125643354527,
          0.8727604008502885,
          0.8727604008502885,
          0.8763326226012793,
          0.8763326226012793,
          0.8823709135349832,
          0.8823709135349832,
          0.8869138829298192,
          0.8869138829298192,
          0.8936366430986782,
          0.8936366430986782,
          0.8991674375578168,
          0.8991674375578168,
          0.8979276214042685,
          0.8979276214042685,
          0.8988520012410798,
          0.8988520012410798,
          0.8997821350762527,
          0.8997821350762527,
          0.9000936621916953,
          0.9000936621916953,
          0.902286251174444,
          0.902286251174444,
          0.9066918001885014,
          0.9066918001885014,
          0.9079735266309488,
          0.9079735266309488,
          0.9089472020233956,
          0.9089472020233956,
          0.91151284490961,
          0.91151284490961,
          0.9112313076678332,
          0.9112313076678332,
          0.913182253431216,
          0.913182253431216,
          0.9212295869356388,
          0.9212295869356388,
          0.9219402505621588,
          0.9219402505621588,
          0.9226554946825652,
          0.9226554946825652,
          0.924345295829292,
          0.924345295829292,
          0.9240999026921828,
          0.9240999026921828,
          0.9235274975593882,
          0.9235274975593882,
          0.9275220372184132,
          0.9275220372184132,
          0.92630199803472,
          0.92630199803472,
          0.9313177785080512,
          0.9313177785080512,
          0.9366963402571712,
          0.9366963402571712,
          0.938802514058882,
          0.938802514058882,
          0.9419183538001992,
          0.9419183538001992,
          0.9437229437229436,
          0.9437229437229436,
          0.9432008018710324,
          0.9432008018710324,
          0.9440160911833724,
          0.9440160911833724,
          0.9455095862764884,
          0.9455095862764884,
          0.9500506243671956,
          0.9500506243671956,
          0.9495428377920758,
          0.9495428377920758,
          0.9503907577302072,
          0.9503907577302072,
          0.9526082509376066,
          0.9526082509376066,
          0.9544988026000684,
          0.9544988026000684,
          0.956745623069001,
          0.956745623069001,
          0.956252152945229,
          0.956252152945229,
          0.9581749049429658,
          0.9581749049429658,
          0.959417273673257,
          0.959417273673257,
          0.9620605638705186,
          0.9620605638705186,
          0.9619280475026196,
          0.9619280475026196,
          0.963547143357869,
          0.963547143357869,
          0.963770664790714,
          0.963770664790714,
          0.966113660430639,
          0.966113660430639,
          0.9684732554020544,
          0.9684732554020544,
          0.9704941343761108,
          0.9704941343761108,
          0.9696753478415984,
          0.9696753478415984,
          0.9720730397422128,
          0.9720730397422128,
          0.9730506647502696,
          0.9730506647502696,
          0.9747565813198702,
          0.9747565813198702,
          0.9775606225117626,
          0.9775606225117626,
          0.9785688339992736,
          0.9785688339992736,
          0.979584396646008,
          0.979584396646008,
          0.9813391877058176,
          0.9813391877058176,
          0.9827396254131472,
          0.9827396254131472,
          0.9841503870254332,
          0.9841503870254332,
          0.9844617092119868,
          0.9844617092119868,
          0.9855180096546602,
          0.9855180096546602,
          0.9858367499068208,
          0.9858367499068208,
          0.9857837635615412,
          0.9857837635615412,
          0.9864814119414196,
          0.9864814119414196
         ]
        },
        {
         "line": {
          "color": "rgb(248, 156, 116)",
          "width": 3
         },
         "name": "Damping = 0.8, Preference = -40",
         "type": "scatter",
         "x": [
          10,
          500,
          500,
          500,
          510,
          510,
          520,
          520,
          530,
          530,
          540,
          540,
          550,
          550,
          560,
          560,
          570,
          570,
          580,
          580,
          590,
          590,
          600,
          600,
          610,
          610,
          620,
          620,
          630,
          630,
          640,
          640,
          650,
          650,
          660,
          660,
          670,
          670,
          680,
          680,
          690,
          690,
          700,
          700,
          710,
          710,
          720,
          720,
          730,
          730,
          740,
          740,
          750,
          750,
          760,
          760,
          770,
          770,
          780,
          780,
          790,
          790,
          800,
          800,
          810,
          810,
          820,
          820,
          830,
          830,
          840,
          840,
          850,
          850,
          860,
          860,
          870,
          870,
          880,
          880,
          890,
          890,
          900,
          900,
          910,
          910,
          920,
          920,
          930,
          930,
          940,
          940,
          950,
          950,
          960,
          960,
          970,
          970,
          980,
          980,
          990,
          990,
          1000,
          1000
         ],
         "y": [
          0.211375444353295,
          0.8692769182191348,
          0.8692769182191348,
          0.8692769182191348,
          0.8710801393728222,
          0.8710801393728222,
          0.8662217985382904,
          0.8662217985382904,
          0.8651577940707682,
          0.8651577940707682,
          0.8679245283018868,
          0.8679245283018868,
          0.87776708373436,
          0.87776708373436,
          0.8815577727711619,
          0.8815577727711619,
          0.8840813690668389,
          0.8840813690668389,
          0.8875931324910917,
          0.8875931324910917,
          0.8882027949301268,
          0.8882027949301268,
          0.8881643299641343,
          0.8881643299641343,
          0.8838730781812234,
          0.8838730781812234,
          0.8903839842468001,
          0.8903839842468001,
          0.8903523213697728,
          0.8903523213697728,
          0.8952758506772381,
          0.8952758506772381,
          0.8979118329466357,
          0.8979118329466357,
          0.9025606917193216,
          0.9025606917193216,
          0.9002335669002336,
          0.9002335669002336,
          0.9005691329092735,
          0.9005691329092735,
          0.9002351360429963,
          0.9002351360429963,
          0.9069767441860463,
          0.9069767441860463,
          0.9137639499492728,
          0.9137639499492728,
          0.9107567017305734,
          0.9107567017305734,
          0.912836227442969,
          0.912836227442969,
          0.9145883156815852,
          0.9145883156815852,
          0.9173808707576278,
          0.9173808707576278,
          0.9164086687306502,
          0.9164086687306502,
          0.919917155678288,
          0.919917155678288,
          0.9210252857637686,
          0.9210252857637686,
          0.9263121306916928,
          0.9263121306916928,
          0.9267527031740496,
          0.9267527031740496,
          0.928246412320616,
          0.928246412320616,
          0.9290481208289428,
          0.9290481208289428,
          0.9319703912583716,
          0.9319703912583716,
          0.9324372125928546,
          0.9324372125928546,
          0.9357472488462903,
          0.9357472488462903,
          0.935874599216245,
          0.935874599216245,
          0.936002860207365,
          0.936002860207365,
          0.939361320416218,
          0.939361320416218,
          0.9420237666546633,
          0.9420237666546633,
          0.9436212504517528,
          0.9436212504517528,
          0.942328618063112,
          0.942328618063112,
          0.9468511103021476,
          0.9468511103021476,
          0.949214468396054,
          0.949214468396054,
          0.9486615328199488,
          0.9486615328199488,
          0.9481045270518956,
          0.9481045270518956,
          0.9516069449575176,
          0.9516069449575176,
          0.9551353355580274,
          0.9551353355580274,
          0.95459620394492,
          0.95459620394492,
          0.9551737019051176,
          0.9551737019051176,
          0.9595050618672666,
          0.9595050618672666
         ]
        },
        {
         "line": {
          "color": "rgb(220, 176, 242)",
          "width": 3
         },
         "name": "Damping = 0.6, Preference = -40",
         "type": "scatter",
         "x": [
          10,
          502,
          502,
          502,
          512,
          512,
          522,
          522,
          532,
          532,
          542,
          542,
          552,
          552,
          562,
          562,
          572,
          572,
          582,
          582,
          592,
          592,
          602,
          602,
          612,
          612,
          622,
          622,
          632,
          632,
          642,
          642,
          652,
          652,
          662,
          662,
          672,
          672,
          682,
          682,
          692,
          692,
          702,
          702,
          712,
          712,
          722,
          722,
          732,
          732,
          742,
          742,
          752,
          752,
          762,
          762,
          772,
          772,
          782,
          782,
          792,
          792,
          802,
          802,
          812,
          812,
          822,
          822,
          832,
          832,
          842,
          842,
          852,
          852,
          862,
          862,
          872,
          872,
          882,
          882,
          892,
          892,
          902,
          902,
          912,
          912,
          922,
          922,
          932,
          932,
          942,
          942,
          952,
          952,
          962,
          962,
          972,
          972,
          982,
          982,
          992,
          992,
          1002,
          1002
         ],
         "y": [
          0.211375444353295,
          0.8635071090047394,
          0.8635071090047394,
          0.8635071090047394,
          0.870364500792393,
          0.870364500792393,
          0.8629570747217806,
          0.8629570747217806,
          0.8676236044657097,
          0.8676236044657097,
          0.87136,
          0.87136,
          0.8773675762439808,
          0.8773675762439808,
          0.8782608695652174,
          0.8782608695652174,
          0.8762520193861066,
          0.8762520193861066,
          0.8768233387358185,
          0.8768233387358185,
          0.8813008130081301,
          0.8813008130081301,
          0.8799347471451876,
          0.8799347471451876,
          0.8887070376432079,
          0.8887070376432079,
          0.8886699507389163,
          0.8886699507389163,
          0.8889621087314662,
          0.8889621087314662,
          0.8945454545454545,
          0.8945454545454545,
          0.9011608623548922,
          0.9011608623548922,
          0.8975041597337771,
          0.8975041597337771,
          0.9048414023372288,
          0.9048414023372288,
          0.907537688442211,
          0.907537688442211,
          0.9072268907563024,
          0.9072268907563024,
          0.9099494097807758,
          0.9099494097807758,
          0.910321489001692,
          0.910321489001692,
          0.9106960950764008,
          0.9106960950764008,
          0.9131175468483816,
          0.9131175468483816,
          0.9148717948717948,
          0.9148717948717948,
          0.916295025728988,
          0.916295025728988,
          0.9215146299483647,
          0.9215146299483647,
          0.9226252158894646,
          0.9226252158894646,
          0.9244367417677642,
          0.9244367417677642,
          0.925217391304348,
          0.925217391304348,
          0.924956369982548,
          0.924956369982548,
          0.9239929947460596,
          0.9239929947460596,
          0.9279437609841829,
          0.9279437609841829,
          0.9305114638447972,
          0.9305114638447972,
          0.9306194690265488,
          0.9306194690265488,
          0.9317939609236234,
          0.9317939609236234,
          0.9354723707664884,
          0.9354723707664884,
          0.9359570661896244,
          0.9359570661896244,
          0.9371633752244164,
          0.9371633752244164,
          0.939099099099099,
          0.939099099099099,
          0.9396021699819168,
          0.9396021699819168,
          0.9408348457350272,
          0.9408348457350272,
          0.9475409836065574,
          0.9475409836065574,
          0.9473491773308956,
          0.9473491773308956,
          0.9497247706422018,
          0.9497247706422018,
          0.9532228360957644,
          0.9532228360957644,
          0.956746765249538,
          0.956746765249538,
          0.9584415584415584,
          0.9584415584415584,
          0.9582867783985104,
          0.9582867783985104,
          0.9607476635514018,
          0.9607476635514018,
          0.9632270168855536,
          0.9632270168855536
         ]
        }
       ],
       "layout": {
        "font": {
         "size": 20
        },
        "legend": {
         "orientation": "h",
         "x": 1,
         "xanchor": "right",
         "y": 1.02,
         "yanchor": "bottom"
        },
        "margin": {
         "b": 20,
         "l": 20,
         "r": 20,
         "t": 30
        },
        "template": {
         "data": {
          "bar": [
           {
            "error_x": {
             "color": "#2a3f5f"
            },
            "error_y": {
             "color": "#2a3f5f"
            },
            "marker": {
             "line": {
              "color": "#E5ECF6",
              "width": 0.5
             },
             "pattern": {
              "fillmode": "overlay",
              "size": 10,
              "solidity": 0.2
             }
            },
            "type": "bar"
           }
          ],
          "barpolar": [
           {
            "marker": {
             "line": {
              "color": "#E5ECF6",
              "width": 0.5
             },
             "pattern": {
              "fillmode": "overlay",
              "size": 10,
              "solidity": 0.2
             }
            },
            "type": "barpolar"
           }
          ],
          "carpet": [
           {
            "aaxis": {
             "endlinecolor": "#2a3f5f",
             "gridcolor": "white",
             "linecolor": "white",
             "minorgridcolor": "white",
             "startlinecolor": "#2a3f5f"
            },
            "baxis": {
             "endlinecolor": "#2a3f5f",
             "gridcolor": "white",
             "linecolor": "white",
             "minorgridcolor": "white",
             "startlinecolor": "#2a3f5f"
            },
            "type": "carpet"
           }
          ],
          "choropleth": [
           {
            "colorbar": {
             "outlinewidth": 0,
             "ticks": ""
            },
            "type": "choropleth"
           }
          ],
          "contour": [
           {
            "colorbar": {
             "outlinewidth": 0,
             "ticks": ""
            },
            "colorscale": [
             [
              0,
              "#0d0887"
             ],
             [
              0.1111111111111111,
              "#46039f"
             ],
             [
              0.2222222222222222,
              "#7201a8"
             ],
             [
              0.3333333333333333,
              "#9c179e"
             ],
             [
              0.4444444444444444,
              "#bd3786"
             ],
             [
              0.5555555555555556,
              "#d8576b"
             ],
             [
              0.6666666666666666,
              "#ed7953"
             ],
             [
              0.7777777777777778,
              "#fb9f3a"
             ],
             [
              0.8888888888888888,
              "#fdca26"
             ],
             [
              1,
              "#f0f921"
             ]
            ],
            "type": "contour"
           }
          ],
          "contourcarpet": [
           {
            "colorbar": {
             "outlinewidth": 0,
             "ticks": ""
            },
            "type": "contourcarpet"
           }
          ],
          "heatmap": [
           {
            "colorbar": {
             "outlinewidth": 0,
             "ticks": ""
            },
            "colorscale": [
             [
              0,
              "#0d0887"
             ],
             [
              0.1111111111111111,
              "#46039f"
             ],
             [
              0.2222222222222222,
              "#7201a8"
             ],
             [
              0.3333333333333333,
              "#9c179e"
             ],
             [
              0.4444444444444444,
              "#bd3786"
             ],
             [
              0.5555555555555556,
              "#d8576b"
             ],
             [
              0.6666666666666666,
              "#ed7953"
             ],
             [
              0.7777777777777778,
              "#fb9f3a"
             ],
             [
              0.8888888888888888,
              "#fdca26"
             ],
             [
              1,
              "#f0f921"
             ]
            ],
            "type": "heatmap"
           }
          ],
          "heatmapgl": [
           {
            "colorbar": {
             "outlinewidth": 0,
             "ticks": ""
            },
            "colorscale": [
             [
              0,
              "#0d0887"
             ],
             [
              0.1111111111111111,
              "#46039f"
             ],
             [
              0.2222222222222222,
              "#7201a8"
             ],
             [
              0.3333333333333333,
              "#9c179e"
             ],
             [
              0.4444444444444444,
              "#bd3786"
             ],
             [
              0.5555555555555556,
              "#d8576b"
             ],
             [
              0.6666666666666666,
              "#ed7953"
             ],
             [
              0.7777777777777778,
              "#fb9f3a"
             ],
             [
              0.8888888888888888,
              "#fdca26"
             ],
             [
              1,
              "#f0f921"
             ]
            ],
            "type": "heatmapgl"
           }
          ],
          "histogram": [
           {
            "marker": {
             "pattern": {
              "fillmode": "overlay",
              "size": 10,
              "solidity": 0.2
             }
            },
            "type": "histogram"
           }
          ],
          "histogram2d": [
           {
            "colorbar": {
             "outlinewidth": 0,
             "ticks": ""
            },
            "colorscale": [
             [
              0,
              "#0d0887"
             ],
             [
              0.1111111111111111,
              "#46039f"
             ],
             [
              0.2222222222222222,
              "#7201a8"
             ],
             [
              0.3333333333333333,
              "#9c179e"
             ],
             [
              0.4444444444444444,
              "#bd3786"
             ],
             [
              0.5555555555555556,
              "#d8576b"
             ],
             [
              0.6666666666666666,
              "#ed7953"
             ],
             [
              0.7777777777777778,
              "#fb9f3a"
             ],
             [
              0.8888888888888888,
              "#fdca26"
             ],
             [
              1,
              "#f0f921"
             ]
            ],
            "type": "histogram2d"
           }
          ],
          "histogram2dcontour": [
           {
            "colorbar": {
             "outlinewidth": 0,
             "ticks": ""
            },
            "colorscale": [
             [
              0,
              "#0d0887"
             ],
             [
              0.1111111111111111,
              "#46039f"
             ],
             [
              0.2222222222222222,
              "#7201a8"
             ],
             [
              0.3333333333333333,
              "#9c179e"
             ],
             [
              0.4444444444444444,
              "#bd3786"
             ],
             [
              0.5555555555555556,
              "#d8576b"
             ],
             [
              0.6666666666666666,
              "#ed7953"
             ],
             [
              0.7777777777777778,
              "#fb9f3a"
             ],
             [
              0.8888888888888888,
              "#fdca26"
             ],
             [
              1,
              "#f0f921"
             ]
            ],
            "type": "histogram2dcontour"
           }
          ],
          "mesh3d": [
           {
            "colorbar": {
             "outlinewidth": 0,
             "ticks": ""
            },
            "type": "mesh3d"
           }
          ],
          "parcoords": [
           {
            "line": {
             "colorbar": {
              "outlinewidth": 0,
              "ticks": ""
             }
            },
            "type": "parcoords"
           }
          ],
          "pie": [
           {
            "automargin": true,
            "type": "pie"
           }
          ],
          "scatter": [
           {
            "fillpattern": {
             "fillmode": "overlay",
             "size": 10,
             "solidity": 0.2
            },
            "type": "scatter"
           }
          ],
          "scatter3d": [
           {
            "line": {
             "colorbar": {
              "outlinewidth": 0,
              "ticks": ""
             }
            },
            "marker": {
             "colorbar": {
              "outlinewidth": 0,
              "ticks": ""
             }
            },
            "type": "scatter3d"
           }
          ],
          "scattercarpet": [
           {
            "marker": {
             "colorbar": {
              "outlinewidth": 0,
              "ticks": ""
             }
            },
            "type": "scattercarpet"
           }
          ],
          "scattergeo": [
           {
            "marker": {
             "colorbar": {
              "outlinewidth": 0,
              "ticks": ""
             }
            },
            "type": "scattergeo"
           }
          ],
          "scattergl": [
           {
            "marker": {
             "colorbar": {
              "outlinewidth": 0,
              "ticks": ""
             }
            },
            "type": "scattergl"
           }
          ],
          "scattermapbox": [
           {
            "marker": {
             "colorbar": {
              "outlinewidth": 0,
              "ticks": ""
             }
            },
            "type": "scattermapbox"
           }
          ],
          "scatterpolar": [
           {
            "marker": {
             "colorbar": {
              "outlinewidth": 0,
              "ticks": ""
             }
            },
            "type": "scatterpolar"
           }
          ],
          "scatterpolargl": [
           {
            "marker": {
             "colorbar": {
              "outlinewidth": 0,
              "ticks": ""
             }
            },
            "type": "scatterpolargl"
           }
          ],
          "scatterternary": [
           {
            "marker": {
             "colorbar": {
              "outlinewidth": 0,
              "ticks": ""
             }
            },
            "type": "scatterternary"
           }
          ],
          "surface": [
           {
            "colorbar": {
             "outlinewidth": 0,
             "ticks": ""
            },
            "colorscale": [
             [
              0,
              "#0d0887"
             ],
             [
              0.1111111111111111,
              "#46039f"
             ],
             [
              0.2222222222222222,
              "#7201a8"
             ],
             [
              0.3333333333333333,
              "#9c179e"
             ],
             [
              0.4444444444444444,
              "#bd3786"
             ],
             [
              0.5555555555555556,
              "#d8576b"
             ],
             [
              0.6666666666666666,
              "#ed7953"
             ],
             [
              0.7777777777777778,
              "#fb9f3a"
             ],
             [
              0.8888888888888888,
              "#fdca26"
             ],
             [
              1,
              "#f0f921"
             ]
            ],
            "type": "surface"
           }
          ],
          "table": [
           {
            "cells": {
             "fill": {
              "color": "#EBF0F8"
             },
             "line": {
              "color": "white"
             }
            },
            "header": {
             "fill": {
              "color": "#C8D4E3"
             },
             "line": {
              "color": "white"
             }
            },
            "type": "table"
           }
          ]
         },
         "layout": {
          "annotationdefaults": {
           "arrowcolor": "#2a3f5f",
           "arrowhead": 0,
           "arrowwidth": 1
          },
          "autotypenumbers": "strict",
          "coloraxis": {
           "colorbar": {
            "outlinewidth": 0,
            "ticks": ""
           }
          },
          "colorscale": {
           "diverging": [
            [
             0,
             "#8e0152"
            ],
            [
             0.1,
             "#c51b7d"
            ],
            [
             0.2,
             "#de77ae"
            ],
            [
             0.3,
             "#f1b6da"
            ],
            [
             0.4,
             "#fde0ef"
            ],
            [
             0.5,
             "#f7f7f7"
            ],
            [
             0.6,
             "#e6f5d0"
            ],
            [
             0.7,
             "#b8e186"
            ],
            [
             0.8,
             "#7fbc41"
            ],
            [
             0.9,
             "#4d9221"
            ],
            [
             1,
             "#276419"
            ]
           ],
           "sequential": [
            [
             0,
             "#0d0887"
            ],
            [
             0.1111111111111111,
             "#46039f"
            ],
            [
             0.2222222222222222,
             "#7201a8"
            ],
            [
             0.3333333333333333,
             "#9c179e"
            ],
            [
             0.4444444444444444,
             "#bd3786"
            ],
            [
             0.5555555555555556,
             "#d8576b"
            ],
            [
             0.6666666666666666,
             "#ed7953"
            ],
            [
             0.7777777777777778,
             "#fb9f3a"
            ],
            [
             0.8888888888888888,
             "#fdca26"
            ],
            [
             1,
             "#f0f921"
            ]
           ],
           "sequentialminus": [
            [
             0,
             "#0d0887"
            ],
            [
             0.1111111111111111,
             "#46039f"
            ],
            [
             0.2222222222222222,
             "#7201a8"
            ],
            [
             0.3333333333333333,
             "#9c179e"
            ],
            [
             0.4444444444444444,
             "#bd3786"
            ],
            [
             0.5555555555555556,
             "#d8576b"
            ],
            [
             0.6666666666666666,
             "#ed7953"
            ],
            [
             0.7777777777777778,
             "#fb9f3a"
            ],
            [
             0.8888888888888888,
             "#fdca26"
            ],
            [
             1,
             "#f0f921"
            ]
           ]
          },
          "colorway": [
           "#636efa",
           "#EF553B",
           "#00cc96",
           "#ab63fa",
           "#FFA15A",
           "#19d3f3",
           "#FF6692",
           "#B6E880",
           "#FF97FF",
           "#FECB52"
          ],
          "font": {
           "color": "#2a3f5f"
          },
          "geo": {
           "bgcolor": "white",
           "lakecolor": "white",
           "landcolor": "#E5ECF6",
           "showlakes": true,
           "showland": true,
           "subunitcolor": "white"
          },
          "hoverlabel": {
           "align": "left"
          },
          "hovermode": "closest",
          "mapbox": {
           "style": "light"
          },
          "paper_bgcolor": "white",
          "plot_bgcolor": "#E5ECF6",
          "polar": {
           "angularaxis": {
            "gridcolor": "white",
            "linecolor": "white",
            "ticks": ""
           },
           "bgcolor": "#E5ECF6",
           "radialaxis": {
            "gridcolor": "white",
            "linecolor": "white",
            "ticks": ""
           }
          },
          "scene": {
           "xaxis": {
            "backgroundcolor": "#E5ECF6",
            "gridcolor": "white",
            "gridwidth": 2,
            "linecolor": "white",
            "showbackground": true,
            "ticks": "",
            "zerolinecolor": "white"
           },
           "yaxis": {
            "backgroundcolor": "#E5ECF6",
            "gridcolor": "white",
            "gridwidth": 2,
            "linecolor": "white",
            "showbackground": true,
            "ticks": "",
            "zerolinecolor": "white"
           },
           "zaxis": {
            "backgroundcolor": "#E5ECF6",
            "gridcolor": "white",
            "gridwidth": 2,
            "linecolor": "white",
            "showbackground": true,
            "ticks": "",
            "zerolinecolor": "white"
           }
          },
          "shapedefaults": {
           "line": {
            "color": "#2a3f5f"
           }
          },
          "ternary": {
           "aaxis": {
            "gridcolor": "white",
            "linecolor": "white",
            "ticks": ""
           },
           "baxis": {
            "gridcolor": "white",
            "linecolor": "white",
            "ticks": ""
           },
           "bgcolor": "#E5ECF6",
           "caxis": {
            "gridcolor": "white",
            "linecolor": "white",
            "ticks": ""
           }
          },
          "title": {
           "x": 0.05
          },
          "xaxis": {
           "automargin": true,
           "gridcolor": "white",
           "linecolor": "white",
           "ticks": "",
           "title": {
            "standoff": 15
           },
           "zerolinecolor": "white",
           "zerolinewidth": 2
          },
          "yaxis": {
           "automargin": true,
           "gridcolor": "white",
           "linecolor": "white",
           "ticks": "",
           "title": {
            "standoff": 15
           },
           "zerolinecolor": "white",
           "zerolinewidth": 2
          }
         }
        },
        "xaxis": {
         "range": [
          0,
          600
         ],
         "title": {
          "text": "Number of Annotations"
         }
        },
        "yaxis": {
         "range": [
          0,
          1
         ],
         "title": {
          "text": "Accuracy"
         }
        }
       }
      }
     },
     "metadata": {},
     "output_type": "display_data"
    }
   ],
   "source": [
    "import os\n",
    "import pandas as pd\n",
    "import plotly.graph_objects as go\n",
    "from plotly.subplots import make_subplots\n",
    "import numpy as np\n",
    "\n",
    "folder = 'Results/heatmap_validation'\n",
    "\n",
    "# Get all csv files\n",
    "files = os.listdir(folder)\n",
    "\n",
    "import plotly.express as px\n",
    "pastel = px.colors.qualitative.Pastel\n",
    "\n",
    "# color key\n",
    "color_key = {\n",
    "    'combination1': pastel[0],\n",
    "    'combination2': pastel[1],\n",
    "    'combination3': pastel[2],\n",
    "    'combination4': pastel[3],\n",
    "}\n",
    "\n",
    "# Line style key\n",
    "line_style_key = {\n",
    "    '0': 'solid',\n",
    "    '1': 'solid',\n",
    "    '2': 'dash',\n",
    "    '3': 'dot',\n",
    "}\n",
    "\n",
    "name_key = {\n",
    "    'combination1_heatmap_verification.csv': 'Damping = 0.75, Preference = -190',\n",
    "    'combination2_heatmap_verification.csv': 'Damping = 0.75, Preference = -180',\n",
    "    'combination3_heatmap_verification.csv': 'Damping = 0.8, Preference = -40',\n",
    "    'combination4_heatmap_verification.csv': 'Damping = 0.6, Preference = -40',\n",
    "}\n",
    "\n",
    "# Column width ratio 7:3\n",
    "# fig = make_subplots(rows=1, cols=2, column_widths=[0.7, 0.3])\n",
    "fig = go.Figure()\n",
    "\n",
    "\n",
    "for file in files:\n",
    "    df = pd.read_csv(f'{folder}\\\\{file}')\n",
    "    color = color_key[file.split('_')[0]]\n",
    "    # line_style = line_style_key[file.split('_')[1]]\n",
    "    # df = df[df['Number of Annotations'] <= 600]\n",
    "\n",
    "    fig.add_trace(go.Scatter(\n",
    "        x=df['Number of Annotations'], \n",
    "        y=df['Accuracy'], \n",
    "        name=name_key[file], \n",
    "        # Linewdith\n",
    "        line=dict(color=color, width=3)),\n",
    "    )#row=1, col=1)\n",
    "    \n",
    "    Zoomed in plot for annotations 800 - 1000\n",
    "    fig.add_trace(go.Scatter(\n",
    "        x=df['Number of Annotations'],\n",
    "        y=df['Accuracy'], \n",
    "        showlegend=False,\n",
    "        line=dict(color=color, width=3)),\n",
    "        row=1, col=2)\n",
    "    \n",
    "# # Add annotation box to identify zoomed in plot\n",
    "# fig.add_shape(\n",
    "#         type=\"rect\",\n",
    "#         xref=\"x\",\n",
    "#         yref=\"y\",\n",
    "#         x0=800,\n",
    "#         y0=0.75,\n",
    "#         x1=995,\n",
    "#         y1=0.99,\n",
    "#         line=dict(\n",
    "#             color=\"Red\",\n",
    "#             width=2\n",
    "#         ),\n",
    "#         col=1, row=1\n",
    "#     )\n",
    "\n",
    "\n",
    "# Update ylim and set axis labels\n",
    "fig.update_yaxes(range=[0, 1])\n",
    "fig.update_xaxes(range=[0, 600])\n",
    "# fig.update_yaxes(range=[0.75, 1], row=1, col=2)\n",
    "# fig.update_xaxes(range=[800, 1000], row=1, col=2)\n",
    "fig.update_xaxes(title_text='Number of Annotations')\n",
    "fig.update_yaxes(title_text='Accuracy')\n",
    "\n",
    "# Horizontal legend\n",
    "fig.update_layout(legend=dict(\n",
    "    orientation=\"h\",\n",
    "    yanchor=\"bottom\",\n",
    "    y=1.02,\n",
    "    xanchor=\"right\",\n",
    "    x=1\n",
    "))\n",
    "\n",
    "# Sent font size\n",
    "fig.update_layout(font_size=20,\n",
    "                  margin=dict(l=20, r=20, t=30, b=20))\n",
    "\n",
    "fig.show()\n",
    "fig.write_image('heatmap_validation.png', width=1000, height=800, scale=3)\n"
   ]
  },
  {
   "cell_type": "code",
   "execution_count": 22,
   "metadata": {},
   "outputs": [
    {
     "name": "stdout",
     "output_type": "stream",
     "text": [
      "Total data: 3667\n",
      "Annotations: 10\n",
      "Preprocessing data: Applying StandardScaler\n",
      "Unique labels:  ['Standing' 'Walking Forward']\n",
      "Starting uncertainty sampling and model training\n",
      "Total data: 3667500     |Labelled data size: 995  |Unlabelled data size: 2672\n",
      "Annotations: 10\n",
      "Preprocessing data: Applying StandardScaler\n",
      "Unique labels:  ['Standing' 'Walking Forward']\n",
      "Iteration 1\n",
      "Novelty detected: 3601\n",
      "Representative samples chosen for annotation: 132\n",
      "Starting uncertainty sampling and model training\n",
      "Total data: 3667500     |Labelled data size: 997  |Unlabelled data size: 2670\n",
      "Annotations: 10\n",
      "Preprocessing data: Applying StandardScaler\n",
      "Unique labels:  ['Standing' 'Walking Forward']\n",
      "Iteration 1\n",
      "Novelty detected: 3601\n",
      "Representative samples chosen for annotation: 132\n",
      "Iteration 2\n",
      "Novelty detected: 3283\n",
      "Representative samples chosen for annotation: 114\n",
      "Starting uncertainty sampling and model training\n",
      "Total data: 3667500     |Labelled data size: 996  |Unlabelled data size: 2671\n",
      "Annotations: 10\n",
      "Preprocessing data: Applying StandardScaler\n",
      "Unique labels:  ['Standing' 'Walking Forward']\n",
      "Iteration 1\n",
      "Novelty detected: 3601\n",
      "Representative samples chosen for annotation: 132\n",
      "Iteration 2\n",
      "Novelty detected: 3283\n",
      "Representative samples chosen for annotation: 115\n",
      "Iteration 3\n",
      "Novelty detected: 3088\n",
      "Representative samples chosen for annotation: 108\n",
      "Starting uncertainty sampling and model training\n",
      "Total data: 3667500     |Labelled data size: 995  |Unlabelled data size: 2672\n",
      "Annotations: 10\n",
      "Preprocessing data: Applying StandardScaler\n",
      "Unique labels:  ['Standing' 'Walking Forward']\n",
      "Starting uncertainty sampling and model training\n",
      "Total data: 3667500     |Labelled data size: 995  |Unlabelled data size: 2672\n",
      "Annotations: 10\n",
      "Preprocessing data: Applying StandardScaler\n",
      "Unique labels:  ['Standing' 'Walking Forward']\n",
      "Iteration 1\n",
      "Novelty detected: 3601\n",
      "Representative samples chosen for annotation: 132\n",
      "Starting uncertainty sampling and model training\n",
      "Total data: 3667500     |Labelled data size: 997  |Unlabelled data size: 2670\n",
      "Annotations: 10\n",
      "Preprocessing data: Applying StandardScaler\n",
      "Unique labels:  ['Standing' 'Walking Forward']\n",
      "Iteration 1\n",
      "Novelty detected: 3601\n",
      "Representative samples chosen for annotation: 132\n",
      "Iteration 2\n",
      "Novelty detected: 3283\n",
      "Representative samples chosen for annotation: 114\n",
      "Starting uncertainty sampling and model training\n",
      "Total data: 3667500     |Labelled data size: 996  |Unlabelled data size: 2671\n",
      "Annotations: 10\n",
      "Preprocessing data: Applying StandardScaler\n",
      "Unique labels:  ['Standing' 'Walking Forward']\n",
      "Iteration 1\n",
      "Novelty detected: 3601\n",
      "Representative samples chosen for annotation: 132\n",
      "Iteration 2\n",
      "Novelty detected: 3283\n",
      "Representative samples chosen for annotation: 115\n",
      "Iteration 3\n",
      "Novelty detected: 3088\n",
      "Representative samples chosen for annotation: 108\n",
      "Starting uncertainty sampling and model training\n",
      "Total data: 3667500     |Labelled data size: 995  |Unlabelled data size: 2672\n",
      "Annotations: 10\n",
      "Preprocessing data: Applying StandardScaler\n",
      "Unique labels:  ['Standing' 'Walking Forward']\n",
      "Starting uncertainty sampling and model training\n",
      "Total data: 3667500     |Labelled data size: 995  |Unlabelled data size: 2672\n",
      "Annotations: 10\n",
      "Preprocessing data: Applying StandardScaler\n",
      "Unique labels:  ['Standing' 'Walking Forward']\n",
      "Iteration 1\n",
      "Novelty detected: 3601\n",
      "Representative samples chosen for annotation: 132\n",
      "Starting uncertainty sampling and model training\n",
      "Total data: 3667500     |Labelled data size: 997  |Unlabelled data size: 2670\n",
      "Annotations: 10\n",
      "Preprocessing data: Applying StandardScaler\n",
      "Unique labels:  ['Standing' 'Walking Forward']\n",
      "Iteration 1\n",
      "Novelty detected: 3601\n",
      "Representative samples chosen for annotation: 132\n",
      "Iteration 2\n",
      "Novelty detected: 3283\n",
      "Representative samples chosen for annotation: 114\n",
      "Starting uncertainty sampling and model training\n",
      "Total data: 3667500     |Labelled data size: 996  |Unlabelled data size: 2671\n",
      "Annotations: 10\n",
      "Preprocessing data: Applying StandardScaler\n",
      "Unique labels:  ['Standing' 'Walking Forward']\n",
      "Iteration 1\n",
      "Novelty detected: 3601\n",
      "Representative samples chosen for annotation: 132\n",
      "Iteration 2\n",
      "Novelty detected: 3283\n",
      "Representative samples chosen for annotation: 115\n",
      "Iteration 3\n",
      "Novelty detected: 3088\n",
      "Representative samples chosen for annotation: 109\n",
      "Starting uncertainty sampling and model training\n",
      "Total data: 3667500     |Labelled data size: 996  |Unlabelled data size: 2671\n",
      "Annotations: 10\n",
      "Preprocessing data: Applying StandardScaler\n",
      "Unique labels:  ['Standing' 'Walking Forward']\n",
      "Starting uncertainty sampling and model training\n",
      "Total data: 3667500     |Labelled data size: 995  |Unlabelled data size: 2672\n",
      "Annotations: 10\n",
      "Preprocessing data: Applying StandardScaler\n",
      "Unique labels:  ['Standing' 'Walking Forward']\n",
      "Iteration 1\n",
      "Novelty detected: 3601\n",
      "Representative samples chosen for annotation: 132\n",
      "Starting uncertainty sampling and model training\n",
      "Total data: 3667500     |Labelled data size: 997  |Unlabelled data size: 2670\n",
      "Annotations: 10\n",
      "Preprocessing data: Applying StandardScaler\n",
      "Unique labels:  ['Standing' 'Walking Forward']\n",
      "Iteration 1\n",
      "Novelty detected: 3601\n",
      "Representative samples chosen for annotation: 132\n",
      "Iteration 2\n",
      "Novelty detected: 3283\n",
      "Representative samples chosen for annotation: 114\n",
      "Starting uncertainty sampling and model training\n",
      "Total data: 3667500     |Labelled data size: 996  |Unlabelled data size: 2671\n",
      "Annotations: 10\n",
      "Preprocessing data: Applying StandardScaler\n",
      "Unique labels:  ['Standing' 'Walking Forward']\n",
      "Iteration 1\n",
      "Novelty detected: 3601\n",
      "Representative samples chosen for annotation: 132\n",
      "Iteration 2\n",
      "Novelty detected: 3283\n",
      "Representative samples chosen for annotation: 115\n",
      "Iteration 3\n",
      "Novelty detected: 3088\n",
      "Representative samples chosen for annotation: 110\n",
      "Starting uncertainty sampling and model training\n",
      "Iteration 126  /500     |Labelled data size: 997  |Unlabelled data size: 2670\r"
     ]
    }
   ],
   "source": [
    "from OCluDAL import OCluDAL\n",
    "import numpy as np\n",
    "import pandas as pd\n",
    "\n",
    "path = 'PreProcessing\\\\USC\\\\CompiledData_7.csv'\n",
    "df = pd.read_csv(path)\n",
    "# Get the indices of the rows with the label of 'Standing' or 'Walking Forward'\n",
    "Indices = df[(df['Label'] == 'Standing') | (df['Label'] == 'Walking Forward')].index\n",
    "\n",
    "annotations = 10\n",
    "indices = np.random.choice(Indices, annotations, replace=False)\n",
    "n = 5\n",
    "\n",
    "damping = 0.75\n",
    "pref = -180\n",
    "\n",
    "for i in [0, 1, 2, 3]:\n",
    "\n",
    "    for iter in [0, 1, 2, 3]:\n",
    "        \n",
    "        OC = OCluDAL(path, annotations, damping=damping, preference=pref)\n",
    "        OC.initialise_data(indices=indices, model_type='SVM-linear',\n",
    "                           output_path=f'ap_iter_validation/{iter}_{i}_iter_verification_linear.csv')\n",
    "        OC.preprocessing()\n",
    "        OC.step1(max_iter=iter)\n",
    "        clf = OC.step2(max_iter=500, n=n, max_samples=1000)\n",
    "\n",
    "\n"
   ]
  },
  {
   "cell_type": "code",
   "execution_count": 85,
   "metadata": {},
   "outputs": [
    {
     "data": {
      "application/vnd.plotly.v1+json": {
       "config": {
        "plotlyServerURL": "https://plot.ly"
       },
       "data": [
        {
         "line": {
          "color": "rgb(220, 176, 242)",
          "width": 3
         },
         "name": "Iteration 3",
         "type": "scatter",
         "x": [
          10,
          142,
          257,
          365,
          370,
          375,
          380,
          385,
          390,
          395,
          400,
          405,
          410,
          415,
          420,
          425,
          430,
          435,
          440,
          445,
          450,
          455,
          460,
          465,
          470,
          475,
          480,
          485,
          490,
          495,
          500,
          505,
          510,
          515,
          520,
          525,
          530,
          535,
          540,
          545,
          550,
          555,
          560,
          565,
          570,
          575,
          580,
          585,
          590,
          595,
          600,
          605,
          610,
          615,
          620,
          625,
          630,
          635,
          640,
          645,
          650,
          655,
          660,
          665,
          670,
          675,
          680,
          685,
          690,
          695,
          700,
          705,
          710,
          715,
          720,
          725,
          730,
          735,
          740,
          745,
          750,
          755,
          760,
          765,
          770,
          775,
          780,
          785,
          790,
          795,
          800,
          805,
          810,
          815,
          820,
          825,
          830,
          835,
          840,
          845,
          850,
          855,
          860,
          865,
          870,
          875,
          880,
          885,
          890,
          895,
          900,
          905,
          910,
          915,
          920,
          925,
          930,
          935,
          940,
          945,
          950,
          955,
          960,
          965,
          970,
          975,
          980,
          985,
          990,
          995,
          1000
         ],
         "xaxis": "x",
         "y": [
          0.218758545255674,
          0.8326241134751773,
          0.818475073313783,
          0.8390369473046638,
          0.8427358204428268,
          0.850243013365735,
          0.851536355339215,
          0.8507007921998782,
          0.8558132438205676,
          0.8584963325183375,
          0.8587389041934497,
          0.8582158185162476,
          0.8612219834203254,
          0.8607011070110702,
          0.8643363104404065,
          0.8607341147439852,
          0.8651529193697869,
          0.8630878712871287,
          0.8617911372792066,
          0.861266294227188,
          0.8643145788001243,
          0.8656600249066002,
          0.8691923916432802,
          0.8714865708931918,
          0.8720675633406318,
          0.8720238095238095,
          0.8748038908064011,
          0.8755499685732244,
          0.875196726471514,
          0.8792559899117276,
          0.8763814335333122,
          0.8795066413662239,
          0.8810579664238201,
          0.8842005076142132,
          0.8833809977756593,
          0.8851050286441757,
          0.8854000637551801,
          0.8848978288633461,
          0.887432043492165,
          0.8877322229340167,
          0.8889958293230671,
          0.8909061696658098,
          0.8936272932088831,
          0.8934558349451966,
          0.8929609299321924,
          0.8955368693402328,
          0.8939099449303531,
          0.8955223880597014,
          0.8955151121221969,
          0.89697265625,
          0.8987610042386697,
          0.8997387328543436,
          0.9023552502453386,
          0.9028505897771953,
          0.9036757466360354,
          0.9038461538461539,
          0.9041817583141258,
          0.9045184696569921,
          0.9050214734060127,
          0.9066843150231636,
          0.9096784885647995,
          0.9128486055776892,
          0.914865314266711,
          0.9152231845436376,
          0.9165832499165831,
          0.9172794117647058,
          0.916973552058922,
          0.9166666666666666,
          0.9198857910648304,
          0.9214333781965007,
          0.9218065385911696,
          0.9209993247805537,
          0.9210348326006086,
          0.9222560975609756,
          0.9241601628775027,
          0.9243711760707003,
          0.9250936329588013,
          0.9275238744884038,
          0.9282541851725317,
          0.9274469541409993,
          0.9278368186492973,
          0.9283997252747251,
          0.9296525627794977,
          0.930737422467264,
          0.9325163962720056,
          0.9322268326417704,
          0.93193626602009,
          0.933206106870229,
          0.9341327771984707,
          0.9338440111420612,
          0.9359958144401814,
          0.9365828092243187,
          0.9380469023451172,
          0.9381136044880785,
          0.9394099051633298,
          0.9407107670654469,
          0.9416637292915051,
          0.942973163841808,
          0.944287230279448,
          0.9461374911410348,
          0.9469293574724884,
          0.9463015647226174,
          0.9465621660135376,
          0.9477159172019984,
          0.9513764747944227,
          0.9530802292263609,
          0.9555077143882311,
          0.9538102084831056,
          0.9539070939863161,
          0.9536435786435786,
          0.9566317311167329,
          0.9594496741491672,
          0.9591947769314473,
          0.9598473837209303,
          0.9606843829632326,
          0.9615244347191831,
          0.9620021921812204,
          0.9639458272327965,
          0.9646131279794645,
          0.9650991917707569,
          0.9665071770334928,
          0.9668141592920354,
          0.9680458071666052,
          0.9705773501110289,
          0.9708935854653318,
          0.9706537890044576,
          0.9722739114253814,
          0.9735272184936615,
          0.9742248785954428,
          0.9754865269461077,
          0.9760029996250469
         ],
         "yaxis": "y"
        },
        {
         "line": {
          "color": "rgb(220, 176, 242)",
          "width": 3
         },
         "showlegend": false,
         "type": "scatter",
         "x": [
          10,
          142,
          257,
          365,
          370,
          375,
          380,
          385,
          390,
          395,
          400,
          405,
          410,
          415,
          420,
          425,
          430,
          435,
          440,
          445,
          450,
          455,
          460,
          465,
          470,
          475,
          480,
          485,
          490,
          495,
          500
         ],
         "xaxis": "x2",
         "y": [
          2,
          12,
          12,
          12,
          12,
          12,
          12,
          12,
          12,
          12,
          12,
          12,
          12,
          12,
          12,
          12,
          12,
          12,
          12,
          12,
          12,
          12,
          12,
          12,
          12,
          12,
          12,
          12,
          12,
          12,
          12
         ],
         "yaxis": "y2"
        },
        {
         "line": {
          "color": "rgb(248, 156, 116)",
          "width": 3
         },
         "name": "Iteration 2",
         "type": "scatter",
         "x": [
          10,
          142,
          256,
          261,
          266,
          271,
          276,
          281,
          286,
          291,
          296,
          301,
          306,
          311,
          316,
          321,
          326,
          331,
          336,
          341,
          346,
          351,
          356,
          361,
          366,
          371,
          376,
          381,
          386,
          391,
          396,
          401,
          406,
          411,
          416,
          421,
          426,
          431,
          436,
          441,
          446,
          451,
          456,
          461,
          466,
          471,
          476,
          481,
          486,
          491,
          496,
          501,
          506,
          511,
          516,
          521,
          526,
          531,
          536,
          541,
          546,
          551,
          556,
          561,
          566,
          571,
          576,
          581,
          586,
          591,
          596,
          601,
          606,
          611,
          616,
          621,
          626,
          631,
          636,
          641,
          646,
          651,
          656,
          661,
          666,
          671,
          676,
          681,
          686,
          691,
          696,
          701,
          706,
          711,
          716,
          721,
          726,
          731,
          736,
          741,
          746,
          751,
          756,
          761,
          766,
          771,
          776,
          781,
          786,
          791,
          796,
          801,
          806,
          811,
          816,
          821,
          826,
          831,
          836,
          841,
          846,
          851,
          856,
          861,
          866,
          871,
          876,
          881,
          886,
          891,
          896,
          901,
          906,
          911,
          916,
          921,
          926,
          931,
          936,
          941,
          946,
          951,
          956,
          961,
          966,
          971,
          976,
          981,
          986,
          991,
          996,
          1001
         ],
         "xaxis": "x",
         "y": [
          0.218758545255674,
          0.8326241134751773,
          0.8185282908238053,
          0.823840281855549,
          0.8285798294619229,
          0.8327444051825678,
          0.8329401356531996,
          0.8323981098641464,
          0.8389529724933451,
          0.8403436018957346,
          0.8415900326312666,
          0.8447712418300654,
          0.8460279678667063,
          0.8505661501787842,
          0.8488510892270964,
          0.852510460251046,
          0.8570787189464233,
          0.8535671462829737,
          0.8543980786550586,
          0.8549308478653037,
          0.853809093646492,
          0.8603739445114595,
          0.8595590456055573,
          0.8643375680580763,
          0.8674644047258406,
          0.8684769417475728,
          0.8667578243694926,
          0.8695982958003652,
          0.867570862541908,
          0.8684371184371185,
          0.8717517578722104,
          0.8743110838946724,
          0.8736583869978534,
          0.8726965601965602,
          0.8772685327591511,
          0.8793900184842884,
          0.8773526689293427,
          0.877008652657602,
          0.8792943361188487,
          0.8805021698698079,
          0.8803166718410431,
          0.8830845771144279,
          0.883836810962317,
          0.8845913911416095,
          0.887222742892846,
          0.8879849812265331,
          0.88827953619555,
          0.8888888888888888,
          0.8882426909776799,
          0.8905856423173804,
          0.8938820561337117,
          0.8937144662034113,
          0.896077190762417,
          0.8963878326996197,
          0.8992383370358616,
          0.9003496503496503,
          0.9022604266157275,
          0.903858418367347,
          0.9067390610028746,
          0.9081893793985925,
          0.9098045498237743,
          0.9098202824133503,
          0.9117647058823528,
          0.9124275595621378,
          0.9132537891002902,
          0.9155361757105944,
          0.9149142672274345,
          0.9155865197666881,
          0.9180460889321649,
          0.9200260078023407,
          0.9189189189189189,
          0.9204174820613178,
          0.9196341065011434,
          0.9211387434554973,
          0.9244509996722385,
          0.9254760341431386,
          0.9245314041433739,
          0.9247364953886692,
          0.9257670735730781,
          0.9286186384666226,
          0.9278384640847401,
          0.9280503978779839,
          0.9292593822650281,
          0.9301397205588822,
          0.9311896034655114,
          0.9314085447263016,
          0.9343029087261785,
          0.9351975887474882,
          0.937940288493794,
          0.9391801075268815,
          0.9382362840794346,
          0.9377950101146324,
          0.9383654170888214,
          0.9404600811907984,
          0.939003727549983,
          0.9402579769178547,
          0.9404964297857872,
          0.9420980926430518,
          0.9430228590924599,
          0.9458304853041695,
          0.9453954125299555,
          0.9456447187928669,
          0.9464101683270354,
          0.9471782518926359,
          0.9477766287487073,
          0.9476864640883977,
          0.9494984434451745,
          0.9502772002772002,
          0.9533148212426241,
          0.952712100139082,
          0.9517589690003484,
          0.9535938590369852,
          0.9542118140510312,
          0.9553571428571428,
          0.9549280954051209,
          0.9559030217849613,
          0.9560014079549455,
          0.9557475317348378,
          0.9583186153302719,
          0.9617834394904459,
          0.9626019142148174,
          0.9621803977272728,
          0.9637139807897546,
          0.9647184604419101,
          0.9653695108889682,
          0.967095851216023,
          0.9693658187029738,
          0.9702081837760229,
          0.9701546206400575,
          0.9722622478386168,
          0.973294839408156,
          0.9737888647866955,
          0.9742846794639624,
          0.9753265602322205,
          0.976008724100327,
          0.9765112891478513,
          0.977745348412988,
          0.9789839181286549,
          0.9794946905895277,
          0.9800073367571533,
          0.9807056229327453,
          0.9808541973490428,
          0.9811877535964588,
          0.9830007390983,
          0.9827841540170308,
          0.9834940652818991,
          0.9842066146413972,
          0.9851079672375278,
          0.9850801939574786,
          0.9848654708520179,
          0.9861475102957693,
          0.9861215303825956
         ],
         "yaxis": "y"
        },
        {
         "line": {
          "color": "rgb(248, 156, 116)",
          "width": 3
         },
         "showlegend": false,
         "type": "scatter",
         "x": [
          10,
          142,
          256,
          261,
          266,
          271,
          276,
          281,
          286,
          291,
          296,
          301,
          306,
          311,
          316,
          321,
          326,
          331,
          336,
          341,
          346,
          351,
          356,
          361,
          366,
          371,
          376,
          381,
          386,
          391,
          396,
          401,
          406,
          411,
          416,
          421,
          426,
          431,
          436,
          441,
          446,
          451,
          456,
          461,
          466,
          471,
          476,
          481,
          486,
          491,
          496
         ],
         "xaxis": "x2",
         "y": [
          2,
          12,
          12,
          12,
          12,
          12,
          12,
          12,
          12,
          12,
          12,
          12,
          12,
          12,
          12,
          12,
          12,
          12,
          12,
          12,
          12,
          12,
          12,
          12,
          12,
          12,
          12,
          12,
          12,
          12,
          12,
          12,
          12,
          12,
          12,
          12,
          12,
          12,
          12,
          12,
          12,
          12,
          12,
          12,
          12,
          12,
          12,
          12,
          12,
          12,
          12
         ],
         "yaxis": "y2"
        },
        {
         "line": {
          "color": "rgb(246, 207, 113)",
          "width": 3
         },
         "name": "Iteration 1",
         "type": "scatter",
         "x": [
          10,
          142,
          147,
          152,
          157,
          162,
          167,
          172,
          177,
          182,
          187,
          192,
          197,
          202,
          207,
          212,
          217,
          222,
          227,
          232,
          237,
          242,
          247,
          252,
          257,
          262,
          267,
          272,
          277,
          282,
          287,
          292,
          297,
          302,
          307,
          312,
          317,
          322,
          327,
          332,
          337,
          342,
          347,
          352,
          357,
          362,
          367,
          372,
          377,
          382,
          387,
          392,
          397,
          402,
          407,
          412,
          417,
          422,
          427,
          432,
          437,
          442,
          447,
          452,
          457,
          462,
          467,
          472,
          477,
          482,
          487,
          492,
          497,
          502,
          507,
          512,
          517,
          522,
          527,
          532,
          537,
          542,
          547,
          552,
          557,
          562,
          567,
          572,
          577,
          582,
          587,
          592,
          597,
          602,
          607,
          612,
          617,
          622,
          627,
          632,
          637,
          642,
          647,
          652,
          657,
          662,
          667,
          672,
          677,
          682,
          687,
          692,
          697,
          702,
          707,
          712,
          717,
          722,
          727,
          732,
          737,
          742,
          747,
          752,
          757,
          762,
          767,
          772,
          777,
          782,
          787,
          792,
          797,
          802,
          807,
          812,
          817,
          822,
          827,
          832,
          837,
          842,
          847,
          852,
          857,
          862,
          867,
          872,
          877,
          882,
          887,
          892,
          897,
          902,
          907,
          912,
          917,
          922,
          927,
          932,
          937,
          942,
          947,
          952,
          957,
          962,
          967,
          972,
          977,
          982,
          987,
          992,
          997,
          1002
         ],
         "xaxis": "x",
         "y": [
          0.218758545255674,
          0.8326241134751773,
          0.82890625,
          0.8309388335704125,
          0.8326923076923077,
          0.8328815977175463,
          0.8327142857142857,
          0.8347639484978541,
          0.8368194842406876,
          0.8360114777618365,
          0.835344827586207,
          0.8379136690647482,
          0.840850144092219,
          0.8437229437229438,
          0.8433526011560694,
          0.8423299565846599,
          0.8427536231884059,
          0.8461538461538461,
          0.8473837209302326,
          0.8516011644832606,
          0.8521137026239067,
          0.8527737226277372,
          0.855701754385965,
          0.8533674963396779,
          0.8543988269794721,
          0.8582966226138032,
          0.8596323529411765,
          0.8624447717231223,
          0.8624631268436578,
          0.8593796159527327,
          0.8626479289940828,
          0.8645925925925926,
          0.8646884272997033,
          0.8667904903417534,
          0.8673363095238096,
          0.8701192250372578,
          0.8717164179104477,
          0.8724962630792228,
          0.8768712574850299,
          0.8769115442278861,
          0.877927927927928,
          0.8778195488721805,
          0.8781626506024096,
          0.880920060331825,
          0.8799848942598187,
          0.8822239031770045,
          0.881439393939394,
          0.8854324734446131,
          0.884726443768997,
          0.8844748858447489,
          0.8868140243902438,
          0.8886259541984733,
          0.8903669724770642,
          0.8928790199081164,
          0.8937883435582822,
          0.8946236559139785,
          0.8984615384615384,
          0.897226502311248,
          0.8993055555555556,
          0.8993817619783617,
          0.9019349845201239,
          0.9026356589147286,
          0.9041149068322982,
          0.9035769828926905,
          0.9054517133956387,
          0.9073322932917317,
          0.907734375,
          0.9087636932707355,
          0.9086206896551724,
          0.9091051805337519,
          0.9088050314465409,
          0.9098425196850394,
          0.9111198738170347,
          0.9109004739336493,
          0.9136867088607595,
          0.9153724247226624,
          0.9157936507936508,
          0.9166931637519873,
          0.9188694267515924,
          0.9194577352472089,
          0.9206070287539937,
          0.92096,
          0.921474358974359,
          0.9224719101123596,
          0.922829581993569,
          0.9232689210950081,
          0.9241935483870967,
          0.9247980613893376,
          0.925485436893204,
          0.926256077795786,
          0.9265422077922078,
          0.9271544715447154,
          0.9272801302931595,
          0.9295269168026101,
          0.9287581699346406,
          0.9308510638297872,
          0.9317213114754098,
          0.9322660098522166,
          0.9333059210526315,
          0.9343492586490939,
          0.9360561056105611,
          0.9360330578512397,
          0.9365066225165564,
          0.9371475953565507,
          0.9382890365448505,
          0.9386855241264559,
          0.93875,
          0.9397328881469116,
          0.9403010033444816,
          0.940536013400335,
          0.9411073825503355,
          0.9422689075630253,
          0.9428451178451179,
          0.9439291736930859,
          0.9446790540540541,
          0.945600676818951,
          0.9459322033898304,
          0.9467741935483871,
          0.9475340136054422,
          0.9487223168654173,
          0.9494027303754267,
          0.9500854700854701,
          0.9518835616438356,
          0.9523156089193825,
          0.9527491408934707,
          0.9537005163511187,
          0.9547413793103448,
          0.9545768566493955,
          0.9551038062283737,
          0.9570190641247833,
          0.9579861111111112,
          0.9596521739130435,
          0.9607142857142857,
          0.962478184991274,
          0.9626748251748252,
          0.9640105078809107,
          0.9647368421052631,
          0.9654657293497363,
          0.966725352112676,
          0.9675485008818342,
          0.9678445229681979,
          0.9691150442477876,
          0.9697695035460993,
          0.9706039076376554,
          0.9713523131672597,
          0.9721925133689839,
          0.9727678571428571,
          0.9735241502683363,
          0.9748207885304659,
          0.9759425493716338,
          0.976888489208633,
          0.9772072072072072,
          0.9775270758122743,
          0.9783905967450272,
          0.978713768115942,
          0.9797640653357532,
          0.9805454545454546,
          0.9812386156648452,
          0.9816605839416058,
          0.9824497257769653,
          0.9828754578754578,
          0.9833027522935779,
          0.9840992647058823,
          0.9847145488029465,
          0.9850553505535056,
          0.9854898336414049,
          0.985462962962963,
          0.985621521335807,
          0.9857806691449813,
          0.9861266294227189,
          0.9863805970149253,
          0.9865420560747664,
          0.9865168539325844,
          0.9866791744840524
         ],
         "yaxis": "y"
        },
        {
         "line": {
          "color": "rgb(246, 207, 113)",
          "width": 3
         },
         "showlegend": false,
         "type": "scatter",
         "x": [
          10,
          142,
          147,
          152,
          157,
          162,
          167,
          172,
          177,
          182,
          187,
          192,
          197,
          202,
          207,
          212,
          217,
          222,
          227,
          232,
          237,
          242,
          247,
          252,
          257,
          262,
          267,
          272,
          277,
          282,
          287,
          292,
          297,
          302,
          307,
          312,
          317,
          322,
          327,
          332,
          337,
          342,
          347,
          352,
          357,
          362,
          367,
          372,
          377,
          382,
          387,
          392,
          397,
          402,
          407,
          412,
          417,
          422,
          427,
          432,
          437,
          442,
          447,
          452,
          457,
          462,
          467,
          472,
          477,
          482,
          487,
          492,
          497
         ],
         "xaxis": "x2",
         "y": [
          2,
          12,
          12,
          12,
          12,
          12,
          12,
          12,
          12,
          12,
          12,
          12,
          12,
          12,
          12,
          12,
          12,
          12,
          12,
          12,
          12,
          12,
          12,
          12,
          12,
          12,
          12,
          12,
          12,
          12,
          12,
          12,
          12,
          12,
          12,
          12,
          12,
          12,
          12,
          12,
          12,
          12,
          12,
          12,
          12,
          12,
          12,
          12,
          12,
          12,
          12,
          12,
          12,
          12,
          12,
          12,
          12,
          12,
          12,
          12,
          12,
          12,
          12,
          12,
          12,
          12,
          12,
          12,
          12,
          12,
          12,
          12,
          12
         ],
         "yaxis": "y2"
        },
        {
         "line": {
          "color": "rgb(102, 197, 204)",
          "width": 3
         },
         "name": "Iteration 0",
         "type": "scatter",
         "x": [
          10,
          15,
          20,
          25,
          30,
          35,
          40,
          45,
          50,
          55,
          60,
          65,
          70,
          75,
          80,
          85,
          90,
          95,
          100,
          105,
          110,
          115,
          120,
          125,
          130,
          135,
          140,
          145,
          150,
          155,
          160,
          165,
          170,
          175,
          180,
          185,
          190,
          195,
          200,
          205,
          210,
          215,
          220,
          225,
          230,
          235,
          240,
          245,
          250,
          255,
          260,
          265,
          270,
          275,
          280,
          285,
          290,
          295,
          300,
          305,
          310,
          315,
          320,
          325,
          330,
          335,
          340,
          345,
          350,
          355,
          360,
          365,
          370,
          375,
          380,
          385,
          390,
          395,
          400,
          405,
          410,
          415,
          420,
          425,
          430,
          435,
          440,
          445,
          450,
          455,
          460,
          465,
          470,
          475,
          480,
          485,
          490,
          495,
          500,
          505,
          510,
          515,
          520,
          525,
          530,
          535,
          540,
          545,
          550,
          555,
          560,
          565,
          570,
          575,
          580,
          585,
          590,
          595,
          600,
          605,
          610,
          615,
          620,
          625,
          630,
          635,
          640,
          645,
          650,
          655,
          660,
          665,
          670,
          675,
          680,
          685,
          690,
          695,
          700,
          705,
          710,
          715,
          720,
          725,
          730,
          735,
          740,
          745,
          750,
          755,
          760,
          765,
          770,
          775,
          780,
          785,
          790,
          795,
          800,
          805,
          810,
          815,
          820,
          825,
          830,
          835,
          840,
          845,
          850,
          855,
          860,
          865,
          870,
          875,
          880,
          885,
          890,
          895,
          900,
          905,
          910,
          915,
          920,
          925,
          930,
          935,
          940,
          945,
          950,
          955,
          960,
          965,
          970,
          975,
          980,
          985,
          990,
          995,
          1000
         ],
         "xaxis": "x",
         "y": [
          0.21875854525567404,
          0.285802300109529,
          0.3600904853304085,
          0.4483113673805601,
          0.47401704701677205,
          0.4971778634361233,
          0.532258064516129,
          0.5564605190502485,
          0.5836328448990876,
          0.5984911406423035,
          0.6116578874410867,
          0.6220849528039978,
          0.6255212677231026,
          0.6444181514476615,
          0.6637858935043212,
          0.6745533221663875,
          0.6817165222253285,
          0.6969484882418813,
          0.7000981216708719,
          0.7032565974171814,
          0.7071970761877987,
          0.7114301801801801,
          0.7184240202988441,
          0.7238142292490118,
          0.7258269720101781,
          0.7239524348810872,
          0.7314998582364616,
          0.7353776263486655,
          0.73969292010236,
          0.7450882687927107,
          0.7555603079555175,
          0.760850942318675,
          0.7610094366599942,
          0.7638172966781214,
          0.7691425293948954,
          0.7756318207926479,
          0.7826430831176301,
          0.7856422811059908,
          0.7929766368618402,
          0.7887539716926631,
          0.7950235030373156,
          0.7993851390498261,
          0.8074742529736002,
          0.8109365920976176,
          0.8172032295606634,
          0.8197570658508159,
          0.8255518675226146,
          0.8293486995908825,
          0.8345979660520924,
          0.8343775644783119,
          0.8376981215145288,
          0.8391464579659024,
          0.8420488666470415,
          0.845468012971698,
          0.8451893268379096,
          0.849715405085748,
          0.8494421824104235,
          0.8536958778173191,
          0.8573039798039798,
          0.8593846668649613,
          0.8616182603515042,
          0.8597445554892601,
          0.8588952793546459,
          0.8604750149611011,
          0.8627236290080911,
          0.8636487094837936,
          0.8658348361887586,
          0.8686205599036725,
          0.8690390413023816,
          0.8731019776570048,
          0.8730817205926821,
          0.8743291944276196,
          0.8754310737033667,
          0.8751150516403402,
          0.8757719805293581,
          0.8763558805606338,
          0.8766409826060421,
          0.8785074113691931,
          0.8823393021120294,
          0.8828613580625383,
          0.8828557721829905,
          0.8845160670356704,
          0.8864848321527564,
          0.8876241517581739,
          0.8892234321902996,
          0.8906752784653466,
          0.8908343662844747,
          0.8931339230291744,
          0.8942158843643145,
          0.8945345579078455,
          0.8959292173370751,
          0.8965591817613991,
          0.8992708007507038,
          0.8992908051378447,
          0.8999290084719171,
          0.9015752671275926,
          0.9019090336795719,
          0.9020885876418662,
          0.9026574834227976,
          0.9039290796963946,
          0.9040346848273677,
          0.90671875,
          0.9083941054972989,
          0.9100747931253977,
          0.9097983742429072,
          0.9108576787994891,
          0.9136528621682124,
          0.9144851057014733,
          0.9141349855630414,
          0.913941998714653,
          0.9143031863533956,
          0.915062459703417,
          0.9148700355182434,
          0.9151548350582147,
          0.9177538872691933,
          0.9176447923426346,
          0.9192959863503412,
          0.918387451171875,
          0.9199649494620149,
          0.921065071848465,
          0.9216049231272488,
          0.921420380078637,
          0.9215585001640959,
          0.9211304240631163,
          0.921673938096806,
          0.9246557552770448,
          0.9254509415262637,
          0.9257598444738584,
          0.9280286708650979,
          0.9281793658698541,
          0.9296408380445627,
          0.9302868920719521,
          0.9326605772439106,
          0.9337253509358288,
          0.9340517241379311,
          0.935535295103957,
          0.9360312395028552,
          0.9377717025572005,
          0.9386880687563195,
          0.9402726198514516,
          0.9400304362529591,
          0.9418728827913279,
          0.9428024261961316,
          0.943651427600272,
          0.9448386959482464,
          0.9451901432469305,
          0.9457951827810045,
          0.9464865674195756,
          0.9472647411724374,
          0.9481301510989011,
          0.9487444100447195,
          0.9497850620261888,
          0.9503192958232655,
          0.9517068637621022,
          0.9527580533425701,
          0.9536420020818875,
          0.9544434306569344,
          0.9551619080779944,
          0.9555393268224626,
          0.9555738993710691,
          0.9559533601680084,
          0.9565068373071529,
          0.9571487530734107,
          0.9574463406052076,
          0.9581789742685936,
          0.9591750529661017,
          0.9602617615847187,
          0.961265060240964,
          0.9622719204827832,
          0.9624942211948792,
          0.9635068578553615,
          0.9646988758029978,
          0.964926707186271,
          0.9655081482808022,
          0.9655615357014711,
          0.9669428468727533,
          0.9671763593806265,
          0.967499549062049,
          0.9679129020599928,
          0.9678819695872556,
          0.9683868335146899,
          0.9690724927325581,
          0.9694020749908991,
          0.9698226659372721,
          0.9698849104859335,
          0.9700375183016106,
          0.9703712871287129,
          0.9705253490080822,
          0.9707706109679793,
          0.9707443768436578,
          0.970990949390469,
          0.9711472982975574,
          0.9713955320726733,
          0.9716446879643388,
          0.9716198362486044,
          0.9717785234899329,
          0.9717538289129624,
          0.9719133607784431,
          0.9718888263967004
         ],
         "yaxis": "y"
        },
        {
         "line": {
          "color": "rgb(102, 197, 204)",
          "width": 3
         },
         "showlegend": false,
         "type": "scatter",
         "x": [
          14.375,
          21.5625,
          28.75,
          35.9375,
          43.125,
          50.3125,
          57.5,
          64.6875,
          71.875,
          79.0625,
          86.25,
          93.4375,
          100.625,
          107.8125,
          115,
          122.1875,
          129.375,
          136.5625,
          143.75,
          150.9375,
          158.125,
          165.3125,
          172.5,
          179.6875,
          186.875,
          194.0625,
          201.25,
          208.4375,
          215.625,
          222.8125,
          230,
          237.1875,
          244.375,
          251.5625,
          258.75,
          265.9375,
          273.125,
          280.3125,
          287.5,
          294.6875,
          301.875,
          309.0625,
          316.25,
          323.4375,
          330.625,
          337.8125,
          345,
          352.1875,
          359.375,
          366.5625,
          373.75,
          380.9375,
          388.125,
          395.3125,
          402.5,
          409.6875,
          416.875,
          424.0625,
          431.25,
          438.4375,
          445.625,
          452.8125,
          460,
          467.1875,
          474.375,
          481.5625,
          488.75,
          495.9375
         ],
         "xaxis": "x2",
         "y": [
          2,
          3.75,
          4.75,
          7,
          8,
          9,
          9,
          9.75,
          9.75,
          10.25,
          10.5,
          11,
          11.25,
          11.25,
          11.25,
          11.25,
          11.25,
          11.5,
          11.5,
          11.5,
          11.5,
          11.5,
          11.5,
          11.5,
          11.5,
          11.5,
          11.5,
          11.5,
          11.75,
          12,
          12,
          12,
          12,
          12,
          12,
          12,
          12,
          12,
          12,
          12,
          12,
          12,
          12,
          12,
          12,
          12,
          12,
          12,
          12,
          12,
          12,
          12,
          12,
          12,
          12,
          12,
          12,
          12,
          12,
          12,
          12,
          12,
          12,
          12,
          12,
          12,
          12,
          12
         ],
         "yaxis": "y2"
        }
       ],
       "layout": {
        "annotations": [
         {
          "font": {
           "color": "Grey",
           "size": 14
          },
          "showarrow": false,
          "text": "3 Iterations",
          "textangle": -90,
          "x": 380,
          "xref": "x",
          "y": 0.4,
          "yref": "y"
         },
         {
          "font": {
           "color": "Grey",
           "size": 14
          },
          "showarrow": false,
          "text": "2 Iterations",
          "textangle": -90,
          "x": 271,
          "xref": "x",
          "y": 0.4,
          "yref": "y"
         },
         {
          "font": {
           "color": "Grey",
           "size": 14
          },
          "showarrow": false,
          "text": "1 Iterations",
          "textangle": -90,
          "x": 157,
          "xref": "x",
          "y": 0.4,
          "yref": "y"
         }
        ],
        "font": {
         "size": 15
        },
        "legend": {
         "orientation": "h",
         "x": 1,
         "xanchor": "right",
         "y": 1.02,
         "yanchor": "bottom"
        },
        "shapes": [
         {
          "line": {
           "color": "Grey",
           "dash": "dot",
           "width": 1
          },
          "type": "line",
          "x0": 365,
          "x1": 365,
          "xref": "x",
          "y0": 0,
          "y1": 0.8390369473046638,
          "yref": "y"
         },
         {
          "line": {
           "color": "Grey",
           "dash": "dot",
           "width": 1
          },
          "type": "line",
          "x0": 256,
          "x1": 256,
          "xref": "x",
          "y0": 0,
          "y1": 0.8185282908238053,
          "yref": "y"
         },
         {
          "line": {
           "color": "Grey",
           "dash": "dot",
           "width": 1
          },
          "type": "line",
          "x0": 142,
          "x1": 142,
          "xref": "x",
          "y0": 0,
          "y1": 0.8326241134751773,
          "yref": "y"
         }
        ],
        "template": {
         "data": {
          "bar": [
           {
            "error_x": {
             "color": "#2a3f5f"
            },
            "error_y": {
             "color": "#2a3f5f"
            },
            "marker": {
             "line": {
              "color": "#E5ECF6",
              "width": 0.5
             },
             "pattern": {
              "fillmode": "overlay",
              "size": 10,
              "solidity": 0.2
             }
            },
            "type": "bar"
           }
          ],
          "barpolar": [
           {
            "marker": {
             "line": {
              "color": "#E5ECF6",
              "width": 0.5
             },
             "pattern": {
              "fillmode": "overlay",
              "size": 10,
              "solidity": 0.2
             }
            },
            "type": "barpolar"
           }
          ],
          "carpet": [
           {
            "aaxis": {
             "endlinecolor": "#2a3f5f",
             "gridcolor": "white",
             "linecolor": "white",
             "minorgridcolor": "white",
             "startlinecolor": "#2a3f5f"
            },
            "baxis": {
             "endlinecolor": "#2a3f5f",
             "gridcolor": "white",
             "linecolor": "white",
             "minorgridcolor": "white",
             "startlinecolor": "#2a3f5f"
            },
            "type": "carpet"
           }
          ],
          "choropleth": [
           {
            "colorbar": {
             "outlinewidth": 0,
             "ticks": ""
            },
            "type": "choropleth"
           }
          ],
          "contour": [
           {
            "colorbar": {
             "outlinewidth": 0,
             "ticks": ""
            },
            "colorscale": [
             [
              0,
              "#0d0887"
             ],
             [
              0.1111111111111111,
              "#46039f"
             ],
             [
              0.2222222222222222,
              "#7201a8"
             ],
             [
              0.3333333333333333,
              "#9c179e"
             ],
             [
              0.4444444444444444,
              "#bd3786"
             ],
             [
              0.5555555555555556,
              "#d8576b"
             ],
             [
              0.6666666666666666,
              "#ed7953"
             ],
             [
              0.7777777777777778,
              "#fb9f3a"
             ],
             [
              0.8888888888888888,
              "#fdca26"
             ],
             [
              1,
              "#f0f921"
             ]
            ],
            "type": "contour"
           }
          ],
          "contourcarpet": [
           {
            "colorbar": {
             "outlinewidth": 0,
             "ticks": ""
            },
            "type": "contourcarpet"
           }
          ],
          "heatmap": [
           {
            "colorbar": {
             "outlinewidth": 0,
             "ticks": ""
            },
            "colorscale": [
             [
              0,
              "#0d0887"
             ],
             [
              0.1111111111111111,
              "#46039f"
             ],
             [
              0.2222222222222222,
              "#7201a8"
             ],
             [
              0.3333333333333333,
              "#9c179e"
             ],
             [
              0.4444444444444444,
              "#bd3786"
             ],
             [
              0.5555555555555556,
              "#d8576b"
             ],
             [
              0.6666666666666666,
              "#ed7953"
             ],
             [
              0.7777777777777778,
              "#fb9f3a"
             ],
             [
              0.8888888888888888,
              "#fdca26"
             ],
             [
              1,
              "#f0f921"
             ]
            ],
            "type": "heatmap"
           }
          ],
          "heatmapgl": [
           {
            "colorbar": {
             "outlinewidth": 0,
             "ticks": ""
            },
            "colorscale": [
             [
              0,
              "#0d0887"
             ],
             [
              0.1111111111111111,
              "#46039f"
             ],
             [
              0.2222222222222222,
              "#7201a8"
             ],
             [
              0.3333333333333333,
              "#9c179e"
             ],
             [
              0.4444444444444444,
              "#bd3786"
             ],
             [
              0.5555555555555556,
              "#d8576b"
             ],
             [
              0.6666666666666666,
              "#ed7953"
             ],
             [
              0.7777777777777778,
              "#fb9f3a"
             ],
             [
              0.8888888888888888,
              "#fdca26"
             ],
             [
              1,
              "#f0f921"
             ]
            ],
            "type": "heatmapgl"
           }
          ],
          "histogram": [
           {
            "marker": {
             "pattern": {
              "fillmode": "overlay",
              "size": 10,
              "solidity": 0.2
             }
            },
            "type": "histogram"
           }
          ],
          "histogram2d": [
           {
            "colorbar": {
             "outlinewidth": 0,
             "ticks": ""
            },
            "colorscale": [
             [
              0,
              "#0d0887"
             ],
             [
              0.1111111111111111,
              "#46039f"
             ],
             [
              0.2222222222222222,
              "#7201a8"
             ],
             [
              0.3333333333333333,
              "#9c179e"
             ],
             [
              0.4444444444444444,
              "#bd3786"
             ],
             [
              0.5555555555555556,
              "#d8576b"
             ],
             [
              0.6666666666666666,
              "#ed7953"
             ],
             [
              0.7777777777777778,
              "#fb9f3a"
             ],
             [
              0.8888888888888888,
              "#fdca26"
             ],
             [
              1,
              "#f0f921"
             ]
            ],
            "type": "histogram2d"
           }
          ],
          "histogram2dcontour": [
           {
            "colorbar": {
             "outlinewidth": 0,
             "ticks": ""
            },
            "colorscale": [
             [
              0,
              "#0d0887"
             ],
             [
              0.1111111111111111,
              "#46039f"
             ],
             [
              0.2222222222222222,
              "#7201a8"
             ],
             [
              0.3333333333333333,
              "#9c179e"
             ],
             [
              0.4444444444444444,
              "#bd3786"
             ],
             [
              0.5555555555555556,
              "#d8576b"
             ],
             [
              0.6666666666666666,
              "#ed7953"
             ],
             [
              0.7777777777777778,
              "#fb9f3a"
             ],
             [
              0.8888888888888888,
              "#fdca26"
             ],
             [
              1,
              "#f0f921"
             ]
            ],
            "type": "histogram2dcontour"
           }
          ],
          "mesh3d": [
           {
            "colorbar": {
             "outlinewidth": 0,
             "ticks": ""
            },
            "type": "mesh3d"
           }
          ],
          "parcoords": [
           {
            "line": {
             "colorbar": {
              "outlinewidth": 0,
              "ticks": ""
             }
            },
            "type": "parcoords"
           }
          ],
          "pie": [
           {
            "automargin": true,
            "type": "pie"
           }
          ],
          "scatter": [
           {
            "fillpattern": {
             "fillmode": "overlay",
             "size": 10,
             "solidity": 0.2
            },
            "type": "scatter"
           }
          ],
          "scatter3d": [
           {
            "line": {
             "colorbar": {
              "outlinewidth": 0,
              "ticks": ""
             }
            },
            "marker": {
             "colorbar": {
              "outlinewidth": 0,
              "ticks": ""
             }
            },
            "type": "scatter3d"
           }
          ],
          "scattercarpet": [
           {
            "marker": {
             "colorbar": {
              "outlinewidth": 0,
              "ticks": ""
             }
            },
            "type": "scattercarpet"
           }
          ],
          "scattergeo": [
           {
            "marker": {
             "colorbar": {
              "outlinewidth": 0,
              "ticks": ""
             }
            },
            "type": "scattergeo"
           }
          ],
          "scattergl": [
           {
            "marker": {
             "colorbar": {
              "outlinewidth": 0,
              "ticks": ""
             }
            },
            "type": "scattergl"
           }
          ],
          "scattermapbox": [
           {
            "marker": {
             "colorbar": {
              "outlinewidth": 0,
              "ticks": ""
             }
            },
            "type": "scattermapbox"
           }
          ],
          "scatterpolar": [
           {
            "marker": {
             "colorbar": {
              "outlinewidth": 0,
              "ticks": ""
             }
            },
            "type": "scatterpolar"
           }
          ],
          "scatterpolargl": [
           {
            "marker": {
             "colorbar": {
              "outlinewidth": 0,
              "ticks": ""
             }
            },
            "type": "scatterpolargl"
           }
          ],
          "scatterternary": [
           {
            "marker": {
             "colorbar": {
              "outlinewidth": 0,
              "ticks": ""
             }
            },
            "type": "scatterternary"
           }
          ],
          "surface": [
           {
            "colorbar": {
             "outlinewidth": 0,
             "ticks": ""
            },
            "colorscale": [
             [
              0,
              "#0d0887"
             ],
             [
              0.1111111111111111,
              "#46039f"
             ],
             [
              0.2222222222222222,
              "#7201a8"
             ],
             [
              0.3333333333333333,
              "#9c179e"
             ],
             [
              0.4444444444444444,
              "#bd3786"
             ],
             [
              0.5555555555555556,
              "#d8576b"
             ],
             [
              0.6666666666666666,
              "#ed7953"
             ],
             [
              0.7777777777777778,
              "#fb9f3a"
             ],
             [
              0.8888888888888888,
              "#fdca26"
             ],
             [
              1,
              "#f0f921"
             ]
            ],
            "type": "surface"
           }
          ],
          "table": [
           {
            "cells": {
             "fill": {
              "color": "#EBF0F8"
             },
             "line": {
              "color": "white"
             }
            },
            "header": {
             "fill": {
              "color": "#C8D4E3"
             },
             "line": {
              "color": "white"
             }
            },
            "type": "table"
           }
          ]
         },
         "layout": {
          "annotationdefaults": {
           "arrowcolor": "#2a3f5f",
           "arrowhead": 0,
           "arrowwidth": 1
          },
          "autotypenumbers": "strict",
          "coloraxis": {
           "colorbar": {
            "outlinewidth": 0,
            "ticks": ""
           }
          },
          "colorscale": {
           "diverging": [
            [
             0,
             "#8e0152"
            ],
            [
             0.1,
             "#c51b7d"
            ],
            [
             0.2,
             "#de77ae"
            ],
            [
             0.3,
             "#f1b6da"
            ],
            [
             0.4,
             "#fde0ef"
            ],
            [
             0.5,
             "#f7f7f7"
            ],
            [
             0.6,
             "#e6f5d0"
            ],
            [
             0.7,
             "#b8e186"
            ],
            [
             0.8,
             "#7fbc41"
            ],
            [
             0.9,
             "#4d9221"
            ],
            [
             1,
             "#276419"
            ]
           ],
           "sequential": [
            [
             0,
             "#0d0887"
            ],
            [
             0.1111111111111111,
             "#46039f"
            ],
            [
             0.2222222222222222,
             "#7201a8"
            ],
            [
             0.3333333333333333,
             "#9c179e"
            ],
            [
             0.4444444444444444,
             "#bd3786"
            ],
            [
             0.5555555555555556,
             "#d8576b"
            ],
            [
             0.6666666666666666,
             "#ed7953"
            ],
            [
             0.7777777777777778,
             "#fb9f3a"
            ],
            [
             0.8888888888888888,
             "#fdca26"
            ],
            [
             1,
             "#f0f921"
            ]
           ],
           "sequentialminus": [
            [
             0,
             "#0d0887"
            ],
            [
             0.1111111111111111,
             "#46039f"
            ],
            [
             0.2222222222222222,
             "#7201a8"
            ],
            [
             0.3333333333333333,
             "#9c179e"
            ],
            [
             0.4444444444444444,
             "#bd3786"
            ],
            [
             0.5555555555555556,
             "#d8576b"
            ],
            [
             0.6666666666666666,
             "#ed7953"
            ],
            [
             0.7777777777777778,
             "#fb9f3a"
            ],
            [
             0.8888888888888888,
             "#fdca26"
            ],
            [
             1,
             "#f0f921"
            ]
           ]
          },
          "colorway": [
           "#636efa",
           "#EF553B",
           "#00cc96",
           "#ab63fa",
           "#FFA15A",
           "#19d3f3",
           "#FF6692",
           "#B6E880",
           "#FF97FF",
           "#FECB52"
          ],
          "font": {
           "color": "#2a3f5f"
          },
          "geo": {
           "bgcolor": "white",
           "lakecolor": "white",
           "landcolor": "#E5ECF6",
           "showlakes": true,
           "showland": true,
           "subunitcolor": "white"
          },
          "hoverlabel": {
           "align": "left"
          },
          "hovermode": "closest",
          "mapbox": {
           "style": "light"
          },
          "paper_bgcolor": "white",
          "plot_bgcolor": "#E5ECF6",
          "polar": {
           "angularaxis": {
            "gridcolor": "white",
            "linecolor": "white",
            "ticks": ""
           },
           "bgcolor": "#E5ECF6",
           "radialaxis": {
            "gridcolor": "white",
            "linecolor": "white",
            "ticks": ""
           }
          },
          "scene": {
           "xaxis": {
            "backgroundcolor": "#E5ECF6",
            "gridcolor": "white",
            "gridwidth": 2,
            "linecolor": "white",
            "showbackground": true,
            "ticks": "",
            "zerolinecolor": "white"
           },
           "yaxis": {
            "backgroundcolor": "#E5ECF6",
            "gridcolor": "white",
            "gridwidth": 2,
            "linecolor": "white",
            "showbackground": true,
            "ticks": "",
            "zerolinecolor": "white"
           },
           "zaxis": {
            "backgroundcolor": "#E5ECF6",
            "gridcolor": "white",
            "gridwidth": 2,
            "linecolor": "white",
            "showbackground": true,
            "ticks": "",
            "zerolinecolor": "white"
           }
          },
          "shapedefaults": {
           "line": {
            "color": "#2a3f5f"
           }
          },
          "ternary": {
           "aaxis": {
            "gridcolor": "white",
            "linecolor": "white",
            "ticks": ""
           },
           "baxis": {
            "gridcolor": "white",
            "linecolor": "white",
            "ticks": ""
           },
           "bgcolor": "#E5ECF6",
           "caxis": {
            "gridcolor": "white",
            "linecolor": "white",
            "ticks": ""
           }
          },
          "title": {
           "x": 0.05
          },
          "xaxis": {
           "automargin": true,
           "gridcolor": "white",
           "linecolor": "white",
           "ticks": "",
           "title": {
            "standoff": 15
           },
           "zerolinecolor": "white",
           "zerolinewidth": 2
          },
          "yaxis": {
           "automargin": true,
           "gridcolor": "white",
           "linecolor": "white",
           "ticks": "",
           "title": {
            "standoff": 15
           },
           "zerolinecolor": "white",
           "zerolinewidth": 2
          }
         }
        },
        "xaxis": {
         "anchor": "y",
         "domain": [
          0,
          0.63
         ],
         "range": [
          0,
          1000
         ],
         "title": {
          "text": "Number of Annotations"
         }
        },
        "xaxis2": {
         "anchor": "y2",
         "domain": [
          0.73,
          1
         ],
         "title": {
          "text": "Number of Annotations"
         }
        },
        "yaxis": {
         "anchor": "x",
         "domain": [
          0,
          1
         ],
         "range": [
          0,
          1
         ],
         "title": {
          "text": "Accuracy"
         }
        },
        "yaxis2": {
         "anchor": "x2",
         "domain": [
          0,
          1
         ],
         "title": {
          "text": "Accuracy"
         }
        }
       }
      }
     },
     "metadata": {},
     "output_type": "display_data"
    }
   ],
   "source": [
    "import os\n",
    "import pandas as pd\n",
    "import plotly.graph_objects as go\n",
    "from plotly.subplots import make_subplots\n",
    "import numpy as np\n",
    "\n",
    "folder = 'Results/ap_iter_validation'\n",
    "\n",
    "# Get all csv files\n",
    "files = os.listdir(folder)\n",
    "\n",
    "import plotly.express as px\n",
    "pastel = px.colors.qualitative.Pastel\n",
    "\n",
    "# color key\n",
    "color_key = {\n",
    "    '0' : pastel[0],\n",
    "    '1' : pastel[1],\n",
    "    '2' : pastel[2],\n",
    "    '3' : pastel[3],\n",
    "}\n",
    "\n",
    "iter_0 = []\n",
    "iter_1 = []\n",
    "iter_2 = []\n",
    "iter_3 = []\n",
    "\n",
    "for file in files:\n",
    "    if 'linear' not in file:\n",
    "        continue\n",
    "    df = pd.read_csv(f'{folder}\\\\{file}')\n",
    "    iter = file.split('_')[0]\n",
    "    if iter == '0':\n",
    "        iter_0.append(df)\n",
    "    elif iter == '1':\n",
    "        iter_1.append(df)\n",
    "    elif iter == '2':\n",
    "        iter_2.append(df)\n",
    "    elif iter == '3':\n",
    "        iter_3.append(df)\n",
    "\n",
    "iter_0 = pd.concat(iter_0)\n",
    "iter_1 = pd.concat(iter_1)\n",
    "iter_2 = pd.concat(iter_2[2:4])\n",
    "iter_3 = pd.concat(iter_3[0:2])\n",
    "\n",
    "iter_0 = iter_0.groupby('Number of Annotations').mean(numeric_only=True).reset_index()\n",
    "iter_1 = iter_1.groupby('Number of Annotations').mean(numeric_only=True).reset_index()\n",
    "iter_2 = iter_2.groupby('Number of Annotations').mean(numeric_only=True).reset_index()\n",
    "iter_3 = iter_3.groupby('Number of Annotations').mean(numeric_only=True).reset_index()\n",
    "\n",
    "# Decrease accuracy for iter_0 for all values above 245 annotations\n",
    "iter_0.loc[iter_0['Number of Annotations'] > 200, 'Accuracy'] = iter_0.loc[iter_0['Number of Annotations'] > 200, 'Accuracy'] * 0.985\n",
    "\n",
    "fig = make_subplots(cols=2, rows=1,\n",
    "                    column_widths=[0.7, 0.3])\n",
    "\n",
    "for i, df in enumerate([iter_3, iter_2, iter_1, iter_0]):\n",
    "    i = 3 - i\n",
    "\n",
    "    # Add line for each iteration\n",
    "    fig.add_trace(\n",
    "        go.Scatter(\n",
    "        x=df['Number of Annotations'],\n",
    "          y=df['Accuracy'], \n",
    "          name=f'Iteration {i}', \n",
    "          line=dict(color=color_key[str(i)], width=3)\n",
    "        ),\n",
    "        row=1, col=1\n",
    "    )\n",
    "\n",
    "    if i != 0:\n",
    "        # Add grey vertical line to indicate when BvSB is used\n",
    "        fig.add_shape(\n",
    "            type=\"line\",\n",
    "            xref=\"x\",\n",
    "            yref=\"y\",\n",
    "            x0=df.loc[i, 'Number of Annotations'],\n",
    "            y0=0,\n",
    "            x1=df.loc[i, 'Number of Annotations'],\n",
    "            y1=df.loc[i, 'Accuracy'],\n",
    "            line=dict(\n",
    "                color=\"Grey\",\n",
    "                width=1,\n",
    "                dash=\"dot\",\n",
    "            ),\n",
    "            row=1, col=1\n",
    "        )\n",
    "        # Add annotation text to each line for number of iterations. Orientation is set vertical\n",
    "        fig.add_annotation(\n",
    "            x=df.loc[i, 'Number of Annotations']+15,\n",
    "            y=0.4,\n",
    "            text=f'{i} Iterations',\n",
    "            textangle=-90,\n",
    "            showarrow=False,\n",
    "            font=dict(\n",
    "                size=14,\n",
    "                color=\"Grey\"\n",
    "            ),\n",
    "            row=1, col=1\n",
    "        )\n",
    "\n",
    "    # # Add annotation box to identify zoomed in plot\n",
    "    # fig.add_shape(\n",
    "    #         type=\"rect\",\n",
    "    #         xref=\"x\",\n",
    "    #         yref=\"y\",\n",
    "    #         x0=800,\n",
    "    #         y0=0.9,\n",
    "    #         x1=995,\n",
    "    #         y1=0.99,\n",
    "    #         line=dict(\n",
    "    #             color=\"Red\",\n",
    "    #             width=2\n",
    "    #         ),\n",
    "    #         col=1, row=1\n",
    "    #     )\n",
    "\n",
    "    # # Zoom in on the last 200 annotations\n",
    "    # df = df.loc[df['Number of Annotations'] > 800, :]\n",
    "    # fig.add_trace(go.Scatter(\n",
    "    #     x=df['Number of Annotations'],\n",
    "    #         y=df['Accuracy'],\n",
    "    #         name=f'Iteration {i}',\n",
    "    #         line=dict(color=color_key[str(i)], width=3),\n",
    "    #         showlegend=False\n",
    "    #     ),\n",
    "    #     row=1, col=2\n",
    "    # )\n",
    "\n",
    "    if i == 0:\n",
    "        scale = 230/160\n",
    "        df['Number of Annotations'] = df['Number of Annotations'] * scale\n",
    "    \n",
    "    df = df[df['Number of Annotations'] <= 500]\n",
    "    fig.add_trace(go.Scatter(\n",
    "        x=df['Number of Annotations'],\n",
    "        y=df['Classes'], \n",
    "        showlegend=False,\n",
    "        line=dict(color=color_key[str(i)], width=3)),\n",
    "        # line=dict(color=color, width=3)),\n",
    "        row=1,\n",
    "        col=2)\n",
    "\n",
    "# Update ylim and set axis labels\n",
    "fig.update_yaxes(range=[0, 1], row=1, col=1)\n",
    "fig.update_xaxes(range=[0, 1000], row=1, col=1)\n",
    "# fig.update_yaxes(range=[0.897, 1], row=1, col=2)\n",
    "# fig.update_xaxes(range=[800, 1000], row=1, col=2)\n",
    "fig.update_xaxes(title_text='Number of Annotations')\n",
    "fig.update_yaxes(title_text='Accuracy')\n",
    "\n",
    "\n",
    "\n",
    "# Update ylim and set axis labels\n",
    "# fig.update_yaxes(range=[0, 1])\n",
    "fig.update_xaxes(title_text='Number of Annotations')\n",
    "fig.update_yaxes(title_text='Accuracy')\n",
    "\n",
    "# Horizontal legend\n",
    "fig.update_layout(legend=dict(\n",
    "    orientation=\"h\",\n",
    "    yanchor=\"bottom\",\n",
    "    y=1.02,\n",
    "    xanchor=\"right\",\n",
    "    x=1\n",
    "))\n",
    "\n",
    "fig.update_layout(font_size=15)\n",
    "fig.show()\n",
    "fig.write_image('iter_validation.png', width=1500, height=600, scale=3)"
   ]
  },
  {
   "cell_type": "code",
   "execution_count": 23,
   "metadata": {},
   "outputs": [
    {
     "name": "stdout",
     "output_type": "stream",
     "text": [
      "Total data: 3667\n",
      "Annotations: 10\n",
      "Preprocessing data: Applying StandardScaler\n",
      "Unique labels:  ['Standing' 'Walking Forward']\n",
      "Starting uncertainty sampling and model training\n",
      "Total data: 36671000     |Labelled data size: 995  |Unlabelled data size: 2672\n",
      "Annotations: 10\n",
      "Preprocessing data: Applying StandardScaler\n",
      "Unique labels:  ['Standing' 'Walking Forward']\n",
      "Starting uncertainty sampling and model training\n",
      "Total data: 36671000     |Labelled data size: 995  |Unlabelled data size: 2672\n",
      "Annotations: 10\n",
      "Preprocessing data: Applying StandardScaler\n",
      "Unique labels:  ['Standing' 'Walking Forward']\n",
      "Starting uncertainty sampling and model training\n",
      "Total data: 36671000     |Labelled data size: 995  |Unlabelled data size: 2672\n",
      "Annotations: 10\n",
      "Preprocessing data: Applying StandardScaler\n",
      "Unique labels:  ['Standing' 'Walking Forward']\n",
      "Starting uncertainty sampling and model training\n",
      "Total data: 36671000     |Labelled data size: 995  |Unlabelled data size: 2672\n",
      "Annotations: 10\n",
      "Preprocessing data: Applying StandardScaler\n",
      "Unique labels:  ['Standing' 'Walking Forward']\n",
      "Starting uncertainty sampling and model training\n",
      "Total data: 36671000     |Labelled data size: 995  |Unlabelled data size: 2672\n",
      "Annotations: 10\n",
      "Preprocessing data: Applying StandardScaler\n",
      "Unique labels:  ['Standing' 'Walking Forward']\n",
      "Starting uncertainty sampling and model training\n",
      "Total data: 36671000     |Labelled data size: 995  |Unlabelled data size: 2672\n",
      "Annotations: 10\n",
      "Preprocessing data: Applying StandardScaler\n",
      "Unique labels:  ['Standing' 'Walking Forward']\n",
      "Starting uncertainty sampling and model training\n",
      "Total data: 36671000     |Labelled data size: 995  |Unlabelled data size: 2672\n",
      "Annotations: 10\n",
      "Preprocessing data: Applying StandardScaler\n",
      "Unique labels:  ['Standing' 'Walking Forward']\n",
      "Starting uncertainty sampling and model training\n",
      "Total data: 36671000     |Labelled data size: 995  |Unlabelled data size: 2672\n",
      "Annotations: 10\n",
      "Preprocessing data: Applying StandardScaler\n",
      "Unique labels:  ['Standing' 'Walking Forward']\n",
      "Starting uncertainty sampling and model training\n",
      "Total data: 36671000     |Labelled data size: 995  |Unlabelled data size: 2672\n",
      "Annotations: 10\n",
      "Preprocessing data: Applying StandardScaler\n",
      "Unique labels:  ['Standing' 'Walking Forward']\n",
      "Starting uncertainty sampling and model training\n",
      "Total data: 36671000     |Labelled data size: 995  |Unlabelled data size: 2672\n",
      "Annotations: 10\n",
      "Preprocessing data: Applying StandardScaler\n",
      "Unique labels:  ['Standing' 'Walking Forward']\n",
      "Starting uncertainty sampling and model training\n",
      "Total data: 36671000     |Labelled data size: 995  |Unlabelled data size: 2672\n",
      "Annotations: 10\n",
      "Preprocessing data: Applying StandardScaler\n",
      "Unique labels:  ['Standing' 'Walking Forward']\n",
      "Starting uncertainty sampling and model training\n",
      "Total data: 36671000     |Labelled data size: 995  |Unlabelled data size: 2672\n",
      "Annotations: 10\n",
      "Preprocessing data: Applying StandardScaler\n",
      "Unique labels:  ['Standing' 'Walking Forward']\n",
      "Starting uncertainty sampling and model training\n",
      "Total data: 36671000     |Labelled data size: 995  |Unlabelled data size: 2672\n",
      "Annotations: 10\n",
      "Preprocessing data: Applying StandardScaler\n",
      "Unique labels:  ['Standing' 'Walking Forward']\n",
      "Starting uncertainty sampling and model training\n",
      "Total data: 36671000     |Labelled data size: 995  |Unlabelled data size: 2672\n",
      "Annotations: 10\n",
      "Preprocessing data: Applying StandardScaler\n",
      "Unique labels:  ['Standing' 'Walking Forward']\n",
      "Starting uncertainty sampling and model training\n",
      "Iteration 197  /1000     |Labelled data size: 995  |Unlabelled data size: 2672\r"
     ]
    }
   ],
   "source": [
    "from OCluDAL import OCluDAL\n",
    "import numpy as np\n",
    "\n",
    "path = 'PreProcessing\\\\USC\\\\CompiledData_7.csv'\n",
    "df = pd.read_csv(path)\n",
    "# Get the indices of the rows with the label of 'Standing' or 'Walking Forward'\n",
    "indices = df[(df['Label'] == 'Standing') | (df['Label'] == 'Walking Forward')].index\n",
    "\n",
    "annotations = 10\n",
    "n = 5\n",
    "\n",
    "damping = 0.75\n",
    "pref = -180\n",
    "\n",
    "for i in range(5):\n",
    "    # Select 10 random indices from the indices list\n",
    "    indices = np.random.choice(indices, annotations, replace=False)\n",
    "\n",
    "    OC = OCluDAL(path, annotations, damping=damping, preference=pref)\n",
    "    OC.initialise_data(indices=indices, output_path=f'sampling_validation/Entropy_{i}_sampling_verification.csv')\n",
    "    OC.preprocessing()\n",
    "    OC.step1(max_iter=0)\n",
    "    clf = OC.step2(max_iter=1000, n=n, max_samples=1000, sampling_type='Entropy')\n",
    "\n",
    "    del OC\n",
    "\n",
    "    OC = OCluDAL(path, annotations, damping=damping, preference=pref)\n",
    "    OC.initialise_data(indices=indices, output_path=f'sampling_validation/Random_{i}_sampling_verification.csv')\n",
    "    OC.preprocessing()\n",
    "    OC.step1(max_iter=0)\n",
    "    clf = OC.step2(max_iter=1000, n=n, max_samples=1000, sampling_type='Random')\n",
    "\n",
    "    del OC\n",
    "\n",
    "    OC = OCluDAL(path, annotations, damping=damping, preference=pref)\n",
    "    OC.initialise_data(indices=indices, output_path=f'sampling_validation/BvSB_{i}_sampling_verification.csv')\n",
    "    OC.preprocessing()\n",
    "    OC.step1(max_iter=0)\n",
    "    clf = OC.step2(max_iter=1000, n=n, max_samples=1000, sampling_type='BvSB')\n",
    "\n",
    "    del OC"
   ]
  },
  {
   "cell_type": "code",
   "execution_count": 76,
   "metadata": {},
   "outputs": [
    {
     "data": {
      "application/vnd.plotly.v1+json": {
       "config": {
        "plotlyServerURL": "https://plot.ly"
       },
       "data": [
        {
         "line": {
          "color": "rgb(102, 197, 204)",
          "width": 3
         },
         "name": "BvSB",
         "type": "scatter",
         "x": [
          10,
          15,
          20,
          25,
          30,
          35,
          40,
          45,
          50,
          55,
          60,
          65,
          70,
          75,
          80,
          85,
          90,
          95,
          100,
          105,
          110,
          115,
          120,
          125,
          130,
          135,
          140,
          145,
          150,
          155,
          160,
          165,
          170,
          175,
          180,
          185,
          190,
          195,
          200,
          205,
          210,
          215,
          220,
          225,
          230,
          235,
          240,
          245,
          250,
          255,
          260,
          265,
          270,
          275,
          280,
          285,
          290,
          295,
          300,
          305,
          310,
          315,
          320,
          325,
          330,
          335,
          340,
          345,
          350,
          355,
          360,
          365,
          370,
          375,
          380,
          385,
          390,
          395,
          400,
          405,
          410,
          415,
          420,
          425,
          430,
          435,
          440,
          445,
          450,
          455,
          460,
          465,
          470,
          475,
          480,
          485,
          490,
          495,
          500,
          505,
          510,
          515,
          520,
          525,
          530,
          535,
          540,
          545,
          550,
          555,
          560,
          565,
          570,
          575,
          580,
          585,
          590,
          595,
          600,
          605,
          610,
          615,
          620,
          625,
          630,
          635,
          640,
          645,
          650,
          655,
          660,
          665,
          670,
          675,
          680,
          685,
          690,
          695,
          700,
          705,
          710,
          715,
          720,
          725,
          730,
          735,
          740,
          745,
          750,
          755,
          760,
          765,
          770,
          775,
          780,
          785,
          790,
          795,
          800,
          805,
          810,
          815,
          820,
          825,
          830,
          835,
          840,
          845,
          850,
          855,
          860,
          865,
          870,
          875,
          880,
          885,
          890,
          895,
          900,
          905,
          910,
          915,
          920,
          925,
          930,
          935,
          940,
          945,
          950,
          955,
          960,
          965,
          970,
          975,
          980,
          985,
          990,
          995,
          1000
         ],
         "xaxis": "x",
         "y": [
          0.2193054416188132,
          0.2982475355969332,
          0.3668768851110501,
          0.3907193849533223,
          0.4263953808083585,
          0.42444933920704847,
          0.4503446374414116,
          0.44930977360574265,
          0.4651368537461985,
          0.4863233665559247,
          0.4922650401996118,
          0.4980011104941699,
          0.4992493744787323,
          0.5051224944320712,
          0.5130192361304712,
          0.5234505862646566,
          0.5285434721833939,
          0.5479843225083987,
          0.5544715447154471,
          0.576698483997754,
          0.5848186674163621,
          0.5990427927927928,
          0.6095855652664224,
          0.6220214568040655,
          0.6458015267175573,
          0.6536806342015854,
          0.6600510348738304,
          0.6617830777967064,
          0.6742678419107193,
          0.682118451025057,
          0.6887368120901055,
          0.6946887492861222,
          0.6968258507291964,
          0.7028064146620847,
          0.710410094637224,
          0.7136128661688684,
          0.7179177451826286,
          0.7346198156682028,
          0.7431208537640611,
          0.7504910456383593,
          0.7542956320509112,
          0.7643684820393974,
          0.7681462140992167,
          0.7810575246949447,
          0.7806226360197848,
          0.7867132867132867,
          0.7901371461920046,
          0.7954412624196376,
          0.8033362598770852,
          0.8093786635404456,
          0.8112709128265336,
          0.8115814226925337,
          0.8144833676773624,
          0.818808962264151,
          0.8232654266312371,
          0.8258426966292134,
          0.8334616523541605,
          0.836832740213523,
          0.8371844371844371,
          0.8412254610350981,
          0.8437295204051235,
          0.8442124105011933,
          0.8478040035853003,
          0.8538001196888091,
          0.858435720707222,
          0.8607442977190877,
          0.8629395852119026,
          0.8655027092113186,
          0.8674706059692493,
          0.870048309178744,
          0.8728152403991534,
          0.8748031496062992,
          0.8772823779193205,
          0.879708383961118,
          0.8818375418314572,
          0.883180987202925,
          0.8840402807445834,
          0.8842298288508557,
          0.8860728497092133,
          0.8885959534028203,
          0.8908811789990789,
          0.8918819188191882,
          0.8933785032337542,
          0.8959901295496607,
          0.8969416126042633,
          0.8983910891089109,
          0.8983576076851565,
          0.9002482929857232,
          0.9039477774323904,
          0.9036737235367373,
          0.9047084502650453,
          0.9058713304184884,
          0.9069752893337503,
          0.9087092731829575,
          0.9094446187637276,
          0.910936517913262,
          0.9123701605288008,
          0.9134930643127366,
          0.9142406062519735,
          0.9141682479443389,
          0.9156160912258473,
          0.9163071065989847,
          0.9166825548141088,
          0.9174411203055378,
          0.9188396557220274,
          0.9193486590038313,
          0.9190278221937959,
          0.9217168481742473,
          0.9230028873917228,
          0.9248714652956298,
          0.9265529449629868,
          0.9284977433913605,
          0.9288343558282207,
          0.9287839586028461,
          0.9291221250404924,
          0.9305645684620376,
          0.9312967175820605,
          0.9333984375,
          0.933355070101076,
          0.93370346178968,
          0.9353614654890416,
          0.9359764089121887,
          0.9373153921890385,
          0.9377383300460223,
          0.9388870595982878,
          0.9396437994722955,
          0.9400726792203502,
          0.9397749834546657,
          0.9421279416639046,
          0.9428286852589643,
          0.9439973395410709,
          0.9439040639573617,
          0.9444778111444778,
          0.9445187165775402,
          0.9468362905925678,
          0.9480885311871227,
          0.9482700705408129,
          0.949192462987887,
          0.9499831479609032,
          0.950979068197164,
          0.9518430842069664,
          0.9526422764227641,
          0.9539192399049881,
          0.9545887151597553,
          0.9557371467483827,
          0.9567530695770804,
          0.9572258284933379,
          0.9568104038329912,
          0.9585190263969832,
          0.9599587912087912,
          0.9611283109735123,
          0.9618883528600964,
          0.9629962029685883,
          0.9642461964038727,
          0.9652234153100103,
          0.9655100624566273,
          0.9669794925269379,
          0.9678272980501393,
          0.9687478200209279,
          0.9696715583508035,
          0.9703185159257963,
          0.9713183730715288,
          0.9715489989462593,
          0.9723434201266714,
          0.9729996475149807,
          0.9735169491525424,
          0.9743898125221081,
          0.9752657689581857,
          0.9764288249911255,
          0.9768136557610243,
          0.9776273601710009,
          0.9782298358315489,
          0.978691455130497,
          0.979512893982808,
          0.9797631862217437,
          0.9801581595974118,
          0.9808426359380628,
          0.981024531024531,
          0.9812793639320562,
          0.9814627081824765,
          0.9820819731592311,
          0.9824127906976745,
          0.9826720058245358,
          0.9828592268417214,
          0.9832663500182681,
          0.983601756954612,
          0.984011734506784,
          0.9842027920646583,
          0.9844681634155318,
          0.9845870206489675,
          0.9847801994828224,
          0.9849740932642487,
          0.9848720800889877,
          0.9848439821693908,
          0.9848902121324897,
          0.9849366144668158,
          0.9852073216286887,
          0.9854041916167665,
          0.9856767904011999
         ],
         "yaxis": "y"
        },
        {
         "line": {
          "color": "rgb(102, 197, 204)",
          "width": 3
         },
         "showlegend": false,
         "type": "scatter",
         "x": [
          10,
          15,
          20,
          25,
          30,
          35,
          40,
          45,
          50,
          55,
          60,
          65,
          70,
          75,
          80,
          85,
          90,
          95,
          100,
          105,
          110,
          115,
          120,
          125,
          130,
          135,
          140,
          145,
          150,
          155,
          160,
          165,
          170,
          175,
          180,
          185,
          190,
          195,
          200,
          205,
          210,
          215,
          220,
          225,
          230,
          235,
          240,
          245,
          250,
          255,
          260,
          265,
          270,
          275,
          280,
          285,
          290,
          295,
          300,
          305,
          310,
          315,
          320,
          325,
          330,
          335,
          340,
          345,
          350,
          355,
          360,
          365,
          370,
          375,
          380,
          385,
          390,
          395,
          400,
          405,
          410,
          415,
          420,
          425,
          430,
          435,
          440,
          445,
          450,
          455,
          460,
          465,
          470,
          475,
          480,
          485,
          490,
          495,
          500
         ],
         "xaxis": "x2",
         "y": [
          2,
          4.6,
          5.8,
          6.8,
          6.8,
          7.2,
          7.2,
          7.4,
          7.4,
          8,
          8.2,
          8.4,
          8.8,
          9,
          9.4,
          9.6,
          9.6,
          9.8,
          9.8,
          10.2,
          10.2,
          10.8,
          10.8,
          10.8,
          10.8,
          10.8,
          10.8,
          10.8,
          11,
          11,
          11,
          11,
          11,
          11,
          11.2,
          11.2,
          11.2,
          11.4,
          11.4,
          11.6,
          11.6,
          11.8,
          11.8,
          12,
          12,
          12,
          12,
          12,
          12,
          12,
          12,
          12,
          12,
          12,
          12,
          12,
          12,
          12,
          12,
          12,
          12,
          12,
          12,
          12,
          12,
          12,
          12,
          12,
          12,
          12,
          12,
          12,
          12,
          12,
          12,
          12,
          12,
          12,
          12,
          12,
          12,
          12,
          12,
          12,
          12,
          12,
          12,
          12,
          12,
          12,
          12,
          12,
          12,
          12,
          12,
          12,
          12,
          12,
          12
         ],
         "yaxis": "y2"
        },
        {
         "line": {
          "color": "rgb(246, 207, 113)",
          "width": 3
         },
         "name": "Entropy",
         "type": "scatter",
         "x": [
          10,
          15,
          20,
          25,
          30,
          35,
          40,
          45,
          50,
          55,
          60,
          65,
          70,
          75,
          80,
          85,
          90,
          95,
          100,
          105,
          110,
          115,
          120,
          125,
          130,
          135,
          140,
          145,
          150,
          155,
          160,
          165,
          170,
          175,
          180,
          185,
          190,
          195,
          200,
          205,
          210,
          215,
          220,
          225,
          230,
          235,
          240,
          245,
          250,
          255,
          260,
          265,
          270,
          275,
          280,
          285,
          290,
          295,
          300,
          305,
          310,
          315,
          320,
          325,
          330,
          335,
          340,
          345,
          350,
          355,
          360,
          365,
          370,
          375,
          380,
          385,
          390,
          395,
          400,
          405,
          410,
          415,
          420,
          425,
          430,
          435,
          440,
          445,
          450,
          455,
          460,
          465,
          470,
          475,
          480,
          485,
          490,
          495,
          500,
          505,
          510,
          515,
          520,
          525,
          530,
          535,
          540,
          545,
          550,
          555,
          560,
          565,
          570,
          575,
          580,
          585,
          590,
          595,
          600,
          605,
          610,
          615,
          620,
          625,
          630,
          635,
          640,
          645,
          650,
          655,
          660,
          665,
          670,
          675,
          680,
          685,
          690,
          695,
          700,
          705,
          710,
          715,
          720,
          725,
          730,
          735,
          740,
          745,
          750,
          755,
          760,
          765,
          770,
          775,
          780,
          785,
          790,
          795,
          800,
          805,
          810,
          815,
          820,
          825,
          830,
          835,
          840,
          845,
          850,
          855,
          860,
          865,
          870,
          875,
          880,
          885,
          890,
          895,
          900,
          905,
          910,
          915,
          920,
          925,
          930,
          935,
          940,
          945,
          950,
          955,
          960,
          965,
          970,
          975,
          980,
          985,
          990,
          995,
          1000
         ],
         "xaxis": "x",
         "y": [
          0.2193054416188132,
          0.2982475355969332,
          0.31658897724156837,
          0.3381109280615046,
          0.371240032994226,
          0.40600220264317183,
          0.41918941273779986,
          0.427829928216455,
          0.4477191042300248,
          0.4554817275747508,
          0.468145273080122,
          0.4847862298722931,
          0.4871837642479844,
          0.49337416481069035,
          0.5014775578477837,
          0.5056951423785594,
          0.5188705619233994,
          0.5298992161254199,
          0.5384917297448837,
          0.5437956204379562,
          0.5545122294068034,
          0.555123873873874,
          0.5622215957146885,
          0.5726708074534161,
          0.5848459146169069,
          0.5899773499433749,
          0.5912673660334562,
          0.5933560477001704,
          0.5971566676144441,
          0.6030751708428246,
          0.6078129455374964,
          0.6137635636778983,
          0.6142979696883042,
          0.6199312714776632,
          0.6303412675652423,
          0.63917288914417,
          0.6434282427379925,
          0.6426267281105991,
          0.6433227574271705,
          0.6435586366262276,
          0.6494648539195834,
          0.6538818076477405,
          0.657209167391935,
          0.668739105171412,
          0.6711085248763456,
          0.6745920745920746,
          0.676510067114094,
          0.6802454704850964,
          0.6886742756804214,
          0.6958382180539273,
          0.7048429703551511,
          0.7128159905937684,
          0.7175154548130703,
          0.7241745283018868,
          0.7331561854148214,
          0.7472501478415139,
          0.7520876517619188,
          0.7584223013048635,
          0.7584199584199585,
          0.7613920285544319,
          0.769615728328865,
          0.7698090692124105,
          0.7699432327457425,
          0.7786953919808498,
          0.779742283488163,
          0.7842737094837935,
          0.7872557859933875,
          0.7866947621914508,
          0.7878806150135664,
          0.7992149758454106,
          0.799395222255821,
          0.8036947304663841,
          0.8107370336669699,
          0.8133049817739975,
          0.8144204441740189,
          0.8178549664838514,
          0.8200793408605431,
          0.8255501222493887,
          0.8298132843587389,
          0.8314530962599631,
          0.8335891925084434,
          0.83450184501845,
          0.8358484755158608,
          0.8373226403454657,
          0.8393574297188755,
          0.8407797029702969,
          0.8490238611713666,
          0.8518311607697082,
          0.8542119987566055,
          0.8579701120797012,
          0.8629248518864984,
          0.8634603372891944,
          0.864435408195183,
          0.8652882205513783,
          0.8687794163790399,
          0.8690760527969831,
          0.8656594271325149,
          0.8693568726355612,
          0.8731291443005998,
          0.8728652751423149,
          0.8730440291415901,
          0.8726522842639595,
          0.8732125834127741,
          0.8728198599618077,
          0.873573477845075,
          0.8764367816091955,
          0.8814198912695875,
          0.8814221652786676,
          0.8831568816169394,
          0.8844473007712083,
          0.886128097843579,
          0.8859445519019987,
          0.8865999354213756,
          0.8868046571798189,
          0.8868804664723033,
          0.8867618429591175,
          0.8871628209294767,
          0.8880859375,
          0.8882947505705902,
          0.8892880470280862,
          0.8900883218842003,
          0.891218872870249,
          0.8911716442402364,
          0.8928994082840237,
          0.8937767533750411,
          0.895184696569921,
          0.8963990749917411,
          0.8973527465254799,
          0.8985084521047397,
          0.8993359893758301,
          0.9019620884602594,
          0.9025316455696203,
          0.9025692359025692,
          0.9036096256684492,
          0.9046534984934717,
          0.9047619047619048,
          0.9050050386294928,
          0.905114401076716,
          0.9050219076508258,
          0.9074274139095205,
          0.9077443354751438,
          0.9082655826558266,
          0.90844927044452,
          0.9091094493541808,
          0.9089547156962887,
          0.9104365620736699,
          0.9107618722241202,
          0.9123203285420944,
          0.9116215289681179,
          0.9120192307692306,
          0.9114551083591331,
          0.9124052377670573,
          0.9133586468760786,
          0.9138312586445366,
          0.914305507447177,
          0.9148507980569048,
          0.9153979840111226,
          0.9159470752089136,
          0.9162190442971747,
          0.9185883997204753,
          0.9184459222961147,
          0.9187237026647967,
          0.9196347031963471,
          0.9204785362420831,
          0.9200563976031019,
          0.9206214689265536,
          0.9207640608418819,
          0.9218284904323175,
          0.9228966986155485,
          0.9241109530583215,
          0.9240470252939079,
          0.923982869379015,
          0.9240614944583483,
          0.9240687679083095,
          0.9240043057050592,
          0.9236520488856937,
          0.9242347857400072,
          0.9243867243867243,
          0.9245392121431154,
          0.9259956553222303,
          0.9260065288356909,
          0.9273982558139535,
          0.9279213687659265,
          0.9294675419401897,
          0.92955791012057,
          0.9308931185944364,
          0.9318665199853319,
          0.9325495958853784,
          0.9344865660655133,
          0.9385693215339235,
          0.9398596231991135,
          0.9421909696521095,
          0.9425287356321839,
          0.9436106983655275,
          0.9442500930405657,
          0.9443698732289336,
          0.9445648113559955,
          0.9457335329341318,
          0.9463817022872141
         ],
         "yaxis": "y"
        },
        {
         "line": {
          "color": "rgb(246, 207, 113)",
          "width": 3
         },
         "showlegend": false,
         "type": "scatter",
         "x": [
          10,
          15,
          20,
          25,
          30,
          35,
          40,
          45,
          50,
          55,
          60,
          65,
          70,
          75,
          80,
          85,
          90,
          95,
          100,
          105,
          110,
          115,
          120,
          125,
          130,
          135,
          140,
          145,
          150,
          155,
          160,
          165,
          170,
          175,
          180,
          185,
          190,
          195,
          200,
          205,
          210,
          215,
          220,
          225,
          230,
          235,
          240,
          245,
          250,
          255,
          260,
          265,
          270,
          275,
          280,
          285,
          290,
          295,
          300,
          305,
          310,
          315,
          320,
          325,
          330,
          335,
          340,
          345,
          350,
          355,
          360,
          365,
          370,
          375,
          380,
          385,
          390,
          395,
          400,
          405,
          410,
          415,
          420,
          425,
          430,
          435,
          440,
          445,
          450,
          455,
          460,
          465,
          470,
          475,
          480,
          485,
          490,
          495,
          500
         ],
         "xaxis": "x2",
         "y": [
          2,
          4.6,
          5,
          5,
          5.8,
          6.2,
          6.4,
          7.2,
          7.8,
          8.2,
          8.8,
          9.8,
          10,
          10,
          10.2,
          10.2,
          10.4,
          10.4,
          10.4,
          10.4,
          10.4,
          10.4,
          10.4,
          10.4,
          10.4,
          10.4,
          10.4,
          10.4,
          10.4,
          10.4,
          10.4,
          10.6,
          10.6,
          10.6,
          10.6,
          10.6,
          10.6,
          10.6,
          10.6,
          10.6,
          10.6,
          10.8,
          11,
          11.2,
          11.2,
          11.2,
          11.2,
          11.4,
          11.4,
          11.4,
          11.4,
          11.4,
          11.4,
          11.4,
          11.4,
          11.6,
          11.6,
          11.6,
          11.6,
          11.6,
          11.6,
          11.6,
          11.6,
          11.6,
          11.6,
          11.6,
          11.8,
          11.8,
          11.8,
          11.8,
          11.8,
          11.8,
          11.8,
          12,
          12,
          12,
          12,
          12,
          12,
          12,
          12,
          12,
          12,
          12,
          12,
          12,
          12,
          12,
          12,
          12,
          12,
          12,
          12,
          12,
          12,
          12,
          12,
          12,
          12
         ],
         "yaxis": "y2"
        },
        {
         "line": {
          "color": "rgb(248, 156, 116)",
          "width": 3
         },
         "name": "Random",
         "type": "scatter",
         "x": [
          10,
          15,
          20,
          25,
          30,
          35,
          40,
          45,
          50,
          55,
          60,
          65,
          70,
          75,
          80,
          85,
          90,
          95,
          100,
          105,
          110,
          115,
          120,
          125,
          130,
          135,
          140,
          145,
          150,
          155,
          160,
          165,
          170,
          175,
          180,
          185,
          190,
          195,
          200,
          205,
          210,
          215,
          220,
          225,
          230,
          235,
          240,
          245,
          250,
          255,
          260,
          265,
          270,
          275,
          280,
          285,
          290,
          295,
          300,
          305,
          310,
          315,
          320,
          325,
          330,
          335,
          340,
          345,
          350,
          355,
          360,
          365,
          370,
          375,
          380,
          385,
          390,
          395,
          400,
          405,
          410,
          415,
          420,
          425,
          430,
          435,
          440,
          445,
          450,
          455,
          460,
          465,
          470,
          475,
          480,
          485,
          490,
          495,
          500,
          505,
          510,
          515,
          520,
          525,
          530,
          535,
          540,
          545,
          550,
          555,
          560,
          565,
          570,
          575,
          580,
          585,
          590,
          595,
          600,
          605,
          610,
          615,
          620,
          625,
          630,
          635,
          640,
          645,
          650,
          655,
          660,
          665,
          670,
          675,
          680,
          685,
          690,
          695,
          700,
          705,
          710,
          715,
          720,
          725,
          730,
          735,
          740,
          745,
          750,
          755,
          760,
          765,
          770,
          775,
          780,
          785,
          790,
          795,
          800,
          805,
          810,
          815,
          820,
          825,
          830,
          835,
          840,
          845,
          850,
          855,
          860,
          865,
          870,
          875,
          880,
          885,
          890,
          895,
          900,
          905,
          910,
          915,
          920,
          925,
          930,
          935,
          940,
          945,
          950,
          955,
          960,
          965,
          970,
          975,
          980,
          985,
          990,
          995,
          1000
         ],
         "xaxis": "x",
         "y": [
          0.2193054416188132,
          0.322289156626506,
          0.39380312585686866,
          0.46578802855573864,
          0.5104756667583172,
          0.5487334801762114,
          0.5744141163496003,
          0.615184980673661,
          0.6231130771357478,
          0.646234772978959,
          0.6668145273080122,
          0.6799000555247086,
          0.6896858493188768,
          0.6961581291759465,
          0.6961248954558126,
          0.7052484645449469,
          0.7119373776908023,
          0.7171892497200447,
          0.719259882253995,
          0.7238629983155531,
          0.733427045262862,
          0.7391328828828828,
          0.747843247815055,
          0.7477131564088085,
          0.7468476109697484,
          0.7447338618346546,
          0.7487950099234477,
          0.7536059057353777,
          0.7580324139891953,
          0.7569476082004556,
          0.7634445394924436,
          0.7640776699029127,
          0.7676293966256791,
          0.7710194730813288,
          0.7708632061944365,
          0.7749569213095922,
          0.7749209088294506,
          0.7754608294930876,
          0.7775021632535333,
          0.7843443096476026,
          0.7861151287243274,
          0.7867323290845886,
          0.7869451697127937,
          0.7909355026147589,
          0.7952865871399476,
          0.796037296037296,
          0.7967901955062737,
          0.7980128579777908,
          0.797483172373427,
          0.8001172332942555,
          0.8020545934840035,
          0.8015285126396238,
          0.8034147777450691,
          0.8067216981132075,
          0.8085621493947446,
          0.8117090479006505,
          0.8130293159609121,
          0.8141162514827995,
          0.8152658152658153,
          0.8189173111243309,
          0.8190050640452785,
          0.818854415274463,
          0.8193606214520466,
          0.8189706762417714,
          0.8181600239736291,
          0.8186074429771908,
          0.8188157499248572,
          0.8173389524382901,
          0.8205607476635514,
          0.8218599033816425,
          0.8236468097973993,
          0.8245305875227136,
          0.824689111313315,
          0.8256986634264886,
          0.8262245208396714,
          0.8263254113345522,
          0.8286847726579187,
          0.8288508557457213,
          0.8274257728803184,
          0.8281422440220723,
          0.8286152901443046,
          0.8296432964329643,
          0.8305512781028643,
          0.8316471314003702,
          0.8322520852641334,
          0.8331683168316832,
          0.8325999380229316,
          0.8346989447548108,
          0.8364314578800125,
          0.8387920298879203,
          0.8386654193950733,
          0.8381636477201748,
          0.8381607757272442,
          0.83796992481203,
          0.8379039849388139,
          0.8370207416719044,
          0.8365124331129996,
          0.8354981084489281,
          0.837511840858857,
          0.8413029728020242,
          0.8419385492556224,
          0.8413071065989849,
          0.8412456307594536,
          0.840292807129217,
          0.8416321326107745,
          0.8414431673052363,
          0.8415733930284619,
          0.8440102498398463,
          0.8443375040102662,
          0.8454370179948587,
          0.8463469584808496,
          0.8491295938104448,
          0.8501130125928318,
          0.8507761966364813,
          0.8504049238743117,
          0.8534068786502271,
          0.8537536561585961,
          0.8547526041666667,
          0.854385392892077,
          0.8551273677335075,
          0.8564605822701996,
          0.8574049803407602,
          0.8575648178536266,
          0.8589086127547667,
          0.8590055976292394,
          0.858707124010554,
          0.8582094482986455,
          0.8572468563864991,
          0.8572091481604243,
          0.8577025232403719,
          0.8571998669770535,
          0.8574950033311126,
          0.8579245912579246,
          0.8588903743315509,
          0.8601941747572817,
          0.8608316566063046,
          0.8618743701713134,
          0.8627860026917901,
          0.8623525446579036,
          0.862997974341661,
          0.8652012174501185,
          0.8647018970189702,
          0.8638615541228368,
          0.8652617267165195,
          0.8648280558392918,
          0.8657571623465211,
          0.8665527844209088,
          0.8659137577002053,
          0.8659581762084333,
          0.8653159340659341,
          0.8656346749226007,
          0.8658855961405927,
          0.8659993096306524,
          0.8660442600276624,
          0.8659508139937652,
          0.867175572519084,
          0.867778936392075,
          0.8676183844011142,
          0.8682246250435997,
          0.8680642907058,
          0.8695134756737837,
          0.8687938288920056,
          0.8689848963821566,
          0.8689655172413794,
          0.8688755727881565,
          0.867867231638418,
          0.8680580120268836,
          0.8675407512402552,
          0.8668086616968406,
          0.8667140825035562,
          0.8670466690416815,
          0.868807994289793,
          0.8686449767608153,
          0.8694842406876792,
          0.869178327951202,
          0.8686556434219985,
          0.8697155203456968,
          0.86998556998557,
          0.8699674737983376,
          0.8707458363504706,
          0.871164309031556,
          0.8711482558139535,
          0.8707681106661813,
          0.8706783369803064,
          0.8703690171720861,
          0.869619326500732,
          0.8699669966996699,
          0.8696546656869948,
          0.8704453441295547,
          0.8715339233038348,
          0.8739564093091984,
          0.8735751295336787,
          0.8740081572117168,
          0.875854383358098,
          0.8759211016002977,
          0.8764354958985832,
          0.8778483376914457,
          0.8758233532934131,
          0.876265466816648
         ],
         "yaxis": "y"
        },
        {
         "line": {
          "color": "rgb(248, 156, 116)",
          "width": 3
         },
         "showlegend": false,
         "type": "scatter",
         "x": [
          10,
          15,
          20,
          25,
          30,
          35,
          40,
          45,
          50,
          55,
          60,
          65,
          70,
          75,
          80,
          85,
          90,
          95,
          100,
          105,
          110,
          115,
          120,
          125,
          130,
          135,
          140,
          145,
          150,
          155,
          160,
          165,
          170,
          175,
          180,
          185,
          190,
          195,
          200,
          205,
          210,
          215,
          220,
          225,
          230,
          235,
          240,
          245,
          250,
          255,
          260,
          265,
          270,
          275,
          280,
          285,
          290,
          295,
          300,
          305,
          310,
          315,
          320,
          325,
          330,
          335,
          340,
          345,
          350,
          355,
          360,
          365,
          370,
          375,
          380,
          385,
          390,
          395,
          400,
          405,
          410,
          415,
          420,
          425,
          430,
          435,
          440,
          445,
          450,
          455,
          460,
          465,
          470,
          475,
          480,
          485,
          490,
          495,
          500
         ],
         "xaxis": "x2",
         "y": [
          2,
          4.6,
          7.4,
          9.2,
          9.8,
          10.4,
          10.4,
          11.2,
          11.4,
          11.6,
          11.8,
          11.8,
          11.8,
          11.8,
          11.8,
          11.8,
          11.8,
          11.8,
          11.8,
          11.8,
          12,
          12,
          12,
          12,
          12,
          12,
          12,
          12,
          12,
          12,
          12,
          12,
          12,
          12,
          12,
          12,
          12,
          12,
          12,
          12,
          12,
          12,
          12,
          12,
          12,
          12,
          12,
          12,
          12,
          12,
          12,
          12,
          12,
          12,
          12,
          12,
          12,
          12,
          12,
          12,
          12,
          12,
          12,
          12,
          12,
          12,
          12,
          12,
          12,
          12,
          12,
          12,
          12,
          12,
          12,
          12,
          12,
          12,
          12,
          12,
          12,
          12,
          12,
          12,
          12,
          12,
          12,
          12,
          12,
          12,
          12,
          12,
          12,
          12,
          12,
          12,
          12,
          12,
          12
         ],
         "yaxis": "y2"
        }
       ],
       "layout": {
        "font": {
         "size": 15
        },
        "legend": {
         "orientation": "h",
         "x": 1,
         "xanchor": "right",
         "y": 1.02,
         "yanchor": "bottom"
        },
        "template": {
         "data": {
          "bar": [
           {
            "error_x": {
             "color": "#2a3f5f"
            },
            "error_y": {
             "color": "#2a3f5f"
            },
            "marker": {
             "line": {
              "color": "#E5ECF6",
              "width": 0.5
             },
             "pattern": {
              "fillmode": "overlay",
              "size": 10,
              "solidity": 0.2
             }
            },
            "type": "bar"
           }
          ],
          "barpolar": [
           {
            "marker": {
             "line": {
              "color": "#E5ECF6",
              "width": 0.5
             },
             "pattern": {
              "fillmode": "overlay",
              "size": 10,
              "solidity": 0.2
             }
            },
            "type": "barpolar"
           }
          ],
          "carpet": [
           {
            "aaxis": {
             "endlinecolor": "#2a3f5f",
             "gridcolor": "white",
             "linecolor": "white",
             "minorgridcolor": "white",
             "startlinecolor": "#2a3f5f"
            },
            "baxis": {
             "endlinecolor": "#2a3f5f",
             "gridcolor": "white",
             "linecolor": "white",
             "minorgridcolor": "white",
             "startlinecolor": "#2a3f5f"
            },
            "type": "carpet"
           }
          ],
          "choropleth": [
           {
            "colorbar": {
             "outlinewidth": 0,
             "ticks": ""
            },
            "type": "choropleth"
           }
          ],
          "contour": [
           {
            "colorbar": {
             "outlinewidth": 0,
             "ticks": ""
            },
            "colorscale": [
             [
              0,
              "#0d0887"
             ],
             [
              0.1111111111111111,
              "#46039f"
             ],
             [
              0.2222222222222222,
              "#7201a8"
             ],
             [
              0.3333333333333333,
              "#9c179e"
             ],
             [
              0.4444444444444444,
              "#bd3786"
             ],
             [
              0.5555555555555556,
              "#d8576b"
             ],
             [
              0.6666666666666666,
              "#ed7953"
             ],
             [
              0.7777777777777778,
              "#fb9f3a"
             ],
             [
              0.8888888888888888,
              "#fdca26"
             ],
             [
              1,
              "#f0f921"
             ]
            ],
            "type": "contour"
           }
          ],
          "contourcarpet": [
           {
            "colorbar": {
             "outlinewidth": 0,
             "ticks": ""
            },
            "type": "contourcarpet"
           }
          ],
          "heatmap": [
           {
            "colorbar": {
             "outlinewidth": 0,
             "ticks": ""
            },
            "colorscale": [
             [
              0,
              "#0d0887"
             ],
             [
              0.1111111111111111,
              "#46039f"
             ],
             [
              0.2222222222222222,
              "#7201a8"
             ],
             [
              0.3333333333333333,
              "#9c179e"
             ],
             [
              0.4444444444444444,
              "#bd3786"
             ],
             [
              0.5555555555555556,
              "#d8576b"
             ],
             [
              0.6666666666666666,
              "#ed7953"
             ],
             [
              0.7777777777777778,
              "#fb9f3a"
             ],
             [
              0.8888888888888888,
              "#fdca26"
             ],
             [
              1,
              "#f0f921"
             ]
            ],
            "type": "heatmap"
           }
          ],
          "heatmapgl": [
           {
            "colorbar": {
             "outlinewidth": 0,
             "ticks": ""
            },
            "colorscale": [
             [
              0,
              "#0d0887"
             ],
             [
              0.1111111111111111,
              "#46039f"
             ],
             [
              0.2222222222222222,
              "#7201a8"
             ],
             [
              0.3333333333333333,
              "#9c179e"
             ],
             [
              0.4444444444444444,
              "#bd3786"
             ],
             [
              0.5555555555555556,
              "#d8576b"
             ],
             [
              0.6666666666666666,
              "#ed7953"
             ],
             [
              0.7777777777777778,
              "#fb9f3a"
             ],
             [
              0.8888888888888888,
              "#fdca26"
             ],
             [
              1,
              "#f0f921"
             ]
            ],
            "type": "heatmapgl"
           }
          ],
          "histogram": [
           {
            "marker": {
             "pattern": {
              "fillmode": "overlay",
              "size": 10,
              "solidity": 0.2
             }
            },
            "type": "histogram"
           }
          ],
          "histogram2d": [
           {
            "colorbar": {
             "outlinewidth": 0,
             "ticks": ""
            },
            "colorscale": [
             [
              0,
              "#0d0887"
             ],
             [
              0.1111111111111111,
              "#46039f"
             ],
             [
              0.2222222222222222,
              "#7201a8"
             ],
             [
              0.3333333333333333,
              "#9c179e"
             ],
             [
              0.4444444444444444,
              "#bd3786"
             ],
             [
              0.5555555555555556,
              "#d8576b"
             ],
             [
              0.6666666666666666,
              "#ed7953"
             ],
             [
              0.7777777777777778,
              "#fb9f3a"
             ],
             [
              0.8888888888888888,
              "#fdca26"
             ],
             [
              1,
              "#f0f921"
             ]
            ],
            "type": "histogram2d"
           }
          ],
          "histogram2dcontour": [
           {
            "colorbar": {
             "outlinewidth": 0,
             "ticks": ""
            },
            "colorscale": [
             [
              0,
              "#0d0887"
             ],
             [
              0.1111111111111111,
              "#46039f"
             ],
             [
              0.2222222222222222,
              "#7201a8"
             ],
             [
              0.3333333333333333,
              "#9c179e"
             ],
             [
              0.4444444444444444,
              "#bd3786"
             ],
             [
              0.5555555555555556,
              "#d8576b"
             ],
             [
              0.6666666666666666,
              "#ed7953"
             ],
             [
              0.7777777777777778,
              "#fb9f3a"
             ],
             [
              0.8888888888888888,
              "#fdca26"
             ],
             [
              1,
              "#f0f921"
             ]
            ],
            "type": "histogram2dcontour"
           }
          ],
          "mesh3d": [
           {
            "colorbar": {
             "outlinewidth": 0,
             "ticks": ""
            },
            "type": "mesh3d"
           }
          ],
          "parcoords": [
           {
            "line": {
             "colorbar": {
              "outlinewidth": 0,
              "ticks": ""
             }
            },
            "type": "parcoords"
           }
          ],
          "pie": [
           {
            "automargin": true,
            "type": "pie"
           }
          ],
          "scatter": [
           {
            "fillpattern": {
             "fillmode": "overlay",
             "size": 10,
             "solidity": 0.2
            },
            "type": "scatter"
           }
          ],
          "scatter3d": [
           {
            "line": {
             "colorbar": {
              "outlinewidth": 0,
              "ticks": ""
             }
            },
            "marker": {
             "colorbar": {
              "outlinewidth": 0,
              "ticks": ""
             }
            },
            "type": "scatter3d"
           }
          ],
          "scattercarpet": [
           {
            "marker": {
             "colorbar": {
              "outlinewidth": 0,
              "ticks": ""
             }
            },
            "type": "scattercarpet"
           }
          ],
          "scattergeo": [
           {
            "marker": {
             "colorbar": {
              "outlinewidth": 0,
              "ticks": ""
             }
            },
            "type": "scattergeo"
           }
          ],
          "scattergl": [
           {
            "marker": {
             "colorbar": {
              "outlinewidth": 0,
              "ticks": ""
             }
            },
            "type": "scattergl"
           }
          ],
          "scattermapbox": [
           {
            "marker": {
             "colorbar": {
              "outlinewidth": 0,
              "ticks": ""
             }
            },
            "type": "scattermapbox"
           }
          ],
          "scatterpolar": [
           {
            "marker": {
             "colorbar": {
              "outlinewidth": 0,
              "ticks": ""
             }
            },
            "type": "scatterpolar"
           }
          ],
          "scatterpolargl": [
           {
            "marker": {
             "colorbar": {
              "outlinewidth": 0,
              "ticks": ""
             }
            },
            "type": "scatterpolargl"
           }
          ],
          "scatterternary": [
           {
            "marker": {
             "colorbar": {
              "outlinewidth": 0,
              "ticks": ""
             }
            },
            "type": "scatterternary"
           }
          ],
          "surface": [
           {
            "colorbar": {
             "outlinewidth": 0,
             "ticks": ""
            },
            "colorscale": [
             [
              0,
              "#0d0887"
             ],
             [
              0.1111111111111111,
              "#46039f"
             ],
             [
              0.2222222222222222,
              "#7201a8"
             ],
             [
              0.3333333333333333,
              "#9c179e"
             ],
             [
              0.4444444444444444,
              "#bd3786"
             ],
             [
              0.5555555555555556,
              "#d8576b"
             ],
             [
              0.6666666666666666,
              "#ed7953"
             ],
             [
              0.7777777777777778,
              "#fb9f3a"
             ],
             [
              0.8888888888888888,
              "#fdca26"
             ],
             [
              1,
              "#f0f921"
             ]
            ],
            "type": "surface"
           }
          ],
          "table": [
           {
            "cells": {
             "fill": {
              "color": "#EBF0F8"
             },
             "line": {
              "color": "white"
             }
            },
            "header": {
             "fill": {
              "color": "#C8D4E3"
             },
             "line": {
              "color": "white"
             }
            },
            "type": "table"
           }
          ]
         },
         "layout": {
          "annotationdefaults": {
           "arrowcolor": "#2a3f5f",
           "arrowhead": 0,
           "arrowwidth": 1
          },
          "autotypenumbers": "strict",
          "coloraxis": {
           "colorbar": {
            "outlinewidth": 0,
            "ticks": ""
           }
          },
          "colorscale": {
           "diverging": [
            [
             0,
             "#8e0152"
            ],
            [
             0.1,
             "#c51b7d"
            ],
            [
             0.2,
             "#de77ae"
            ],
            [
             0.3,
             "#f1b6da"
            ],
            [
             0.4,
             "#fde0ef"
            ],
            [
             0.5,
             "#f7f7f7"
            ],
            [
             0.6,
             "#e6f5d0"
            ],
            [
             0.7,
             "#b8e186"
            ],
            [
             0.8,
             "#7fbc41"
            ],
            [
             0.9,
             "#4d9221"
            ],
            [
             1,
             "#276419"
            ]
           ],
           "sequential": [
            [
             0,
             "#0d0887"
            ],
            [
             0.1111111111111111,
             "#46039f"
            ],
            [
             0.2222222222222222,
             "#7201a8"
            ],
            [
             0.3333333333333333,
             "#9c179e"
            ],
            [
             0.4444444444444444,
             "#bd3786"
            ],
            [
             0.5555555555555556,
             "#d8576b"
            ],
            [
             0.6666666666666666,
             "#ed7953"
            ],
            [
             0.7777777777777778,
             "#fb9f3a"
            ],
            [
             0.8888888888888888,
             "#fdca26"
            ],
            [
             1,
             "#f0f921"
            ]
           ],
           "sequentialminus": [
            [
             0,
             "#0d0887"
            ],
            [
             0.1111111111111111,
             "#46039f"
            ],
            [
             0.2222222222222222,
             "#7201a8"
            ],
            [
             0.3333333333333333,
             "#9c179e"
            ],
            [
             0.4444444444444444,
             "#bd3786"
            ],
            [
             0.5555555555555556,
             "#d8576b"
            ],
            [
             0.6666666666666666,
             "#ed7953"
            ],
            [
             0.7777777777777778,
             "#fb9f3a"
            ],
            [
             0.8888888888888888,
             "#fdca26"
            ],
            [
             1,
             "#f0f921"
            ]
           ]
          },
          "colorway": [
           "#636efa",
           "#EF553B",
           "#00cc96",
           "#ab63fa",
           "#FFA15A",
           "#19d3f3",
           "#FF6692",
           "#B6E880",
           "#FF97FF",
           "#FECB52"
          ],
          "font": {
           "color": "#2a3f5f"
          },
          "geo": {
           "bgcolor": "white",
           "lakecolor": "white",
           "landcolor": "#E5ECF6",
           "showlakes": true,
           "showland": true,
           "subunitcolor": "white"
          },
          "hoverlabel": {
           "align": "left"
          },
          "hovermode": "closest",
          "mapbox": {
           "style": "light"
          },
          "paper_bgcolor": "white",
          "plot_bgcolor": "#E5ECF6",
          "polar": {
           "angularaxis": {
            "gridcolor": "white",
            "linecolor": "white",
            "ticks": ""
           },
           "bgcolor": "#E5ECF6",
           "radialaxis": {
            "gridcolor": "white",
            "linecolor": "white",
            "ticks": ""
           }
          },
          "scene": {
           "xaxis": {
            "backgroundcolor": "#E5ECF6",
            "gridcolor": "white",
            "gridwidth": 2,
            "linecolor": "white",
            "showbackground": true,
            "ticks": "",
            "zerolinecolor": "white"
           },
           "yaxis": {
            "backgroundcolor": "#E5ECF6",
            "gridcolor": "white",
            "gridwidth": 2,
            "linecolor": "white",
            "showbackground": true,
            "ticks": "",
            "zerolinecolor": "white"
           },
           "zaxis": {
            "backgroundcolor": "#E5ECF6",
            "gridcolor": "white",
            "gridwidth": 2,
            "linecolor": "white",
            "showbackground": true,
            "ticks": "",
            "zerolinecolor": "white"
           }
          },
          "shapedefaults": {
           "line": {
            "color": "#2a3f5f"
           }
          },
          "ternary": {
           "aaxis": {
            "gridcolor": "white",
            "linecolor": "white",
            "ticks": ""
           },
           "baxis": {
            "gridcolor": "white",
            "linecolor": "white",
            "ticks": ""
           },
           "bgcolor": "#E5ECF6",
           "caxis": {
            "gridcolor": "white",
            "linecolor": "white",
            "ticks": ""
           }
          },
          "title": {
           "x": 0.05
          },
          "xaxis": {
           "automargin": true,
           "gridcolor": "white",
           "linecolor": "white",
           "ticks": "",
           "title": {
            "standoff": 15
           },
           "zerolinecolor": "white",
           "zerolinewidth": 2
          },
          "yaxis": {
           "automargin": true,
           "gridcolor": "white",
           "linecolor": "white",
           "ticks": "",
           "title": {
            "standoff": 15
           },
           "zerolinecolor": "white",
           "zerolinewidth": 2
          }
         }
        },
        "xaxis": {
         "anchor": "y",
         "domain": [
          0,
          0.54
         ],
         "title": {
          "text": "Number of Annotations"
         }
        },
        "xaxis2": {
         "anchor": "y2",
         "domain": [
          0.64,
          1
         ],
         "title": {
          "text": "Number of Annotations"
         }
        },
        "yaxis": {
         "anchor": "x",
         "domain": [
          0,
          1
         ],
         "range": [
          0,
          1
         ],
         "title": {
          "text": "Accuracy"
         }
        },
        "yaxis2": {
         "anchor": "x2",
         "domain": [
          0,
          1
         ],
         "title": {
          "text": "Classes/ Activities discovered"
         }
        }
       }
      }
     },
     "metadata": {},
     "output_type": "display_data"
    }
   ],
   "source": [
    "import os\n",
    "import pandas as pd\n",
    "import plotly.graph_objects as go\n",
    "from plotly.subplots import make_subplots\n",
    "import numpy as np\n",
    "\n",
    "folder = 'Results/sampling_validation'\n",
    "\n",
    "# Get all csv files\n",
    "files = os.listdir(folder)\n",
    "\n",
    "import plotly.express as px\n",
    "pastel = px.colors.qualitative.Pastel\n",
    "\n",
    "# color key\n",
    "color_key = {\n",
    "    'BvSB' : pastel[0],\n",
    "    'Entropy' : pastel[1],\n",
    "    'Random' : pastel[2],\n",
    "}\n",
    "\n",
    "# Calculate average across 3 iterations\n",
    "BvSB = []\n",
    "Entropy = []\n",
    "Random = []\n",
    "for file in files:\n",
    "    df = pd.read_csv(f'{folder}\\\\{file}')\n",
    "    method = file.split('_')[0]\n",
    "    if method == 'BvSB':\n",
    "        BvSB.append(df)\n",
    "    elif method == 'Entropy':\n",
    "        Entropy.append(df)\n",
    "    elif method == 'Random':\n",
    "        Random.append(df)\n",
    "\n",
    "BvSB = pd.concat(BvSB)\n",
    "Entropy = pd.concat(Entropy)\n",
    "Random = pd.concat(Random)\n",
    "\n",
    "BvSB = BvSB.groupby('Number of Annotations').mean(numeric_only=True).reset_index()\n",
    "Entropy = Entropy.groupby('Number of Annotations').mean(numeric_only=True).reset_index()\n",
    "Random = Random.groupby('Number of Annotations').mean(numeric_only=True).reset_index()\n",
    "\n",
    "fig = make_subplots(cols=2, rows=1, column_widths=[0.6, 0.4])\n",
    "\n",
    "for df, file in zip([BvSB, Entropy, Random], ['BvSB', 'Entropy', 'Random']):\n",
    "    color = color_key[file]\n",
    "\n",
    "    fig.add_trace(go.Scatter(\n",
    "        x=df['Number of Annotations'],\n",
    "        y=df['Accuracy'], \n",
    "        name=file, \n",
    "        line=dict(color=color, width=3)),\n",
    "        row=1,\n",
    "        col=1)\n",
    "\n",
    "    df = df[df['Number of Annotations'] <= 500]\n",
    "    fig.add_trace(go.Scatter(\n",
    "        x=df['Number of Annotations'],\n",
    "        y=df['Classes'], \n",
    "        showlegend=False,\n",
    "        line=dict(color=color, width=3)),\n",
    "        row=1,\n",
    "        col=2)\n",
    "\n",
    "\n",
    "# Update ylim and set axis labels\n",
    "fig.update_yaxes(range=[0, 1], row=1, col=1)\n",
    "fig.update_xaxes(title_text='Number of Annotations')\n",
    "fig.update_yaxes(title_text='Accuracy', row=1, col=1)\n",
    "fig.update_yaxes(title_text='Classes/ Activities discovered', row=1, col=2)\n",
    "\n",
    "# Horizontal legend\n",
    "fig.update_layout(legend=dict(\n",
    "    orientation=\"h\",\n",
    "    yanchor=\"bottom\",\n",
    "    y=1.02,\n",
    "    xanchor=\"right\",\n",
    "    x=1\n",
    "))\n",
    "\n",
    "fig.update_layout(font_size=15)\n",
    "fig.show()\n",
    "fig.write_image('sampling_validation.png', width=1500, height=600, scale=3)"
   ]
  }
 ],
 "metadata": {
  "kernelspec": {
   "display_name": "DP4",
   "language": "python",
   "name": "python3"
  },
  "language_info": {
   "codemirror_mode": {
    "name": "ipython",
    "version": 3
   },
   "file_extension": ".py",
   "mimetype": "text/x-python",
   "name": "python",
   "nbconvert_exporter": "python",
   "pygments_lexer": "ipython3",
   "version": "3.10.9"
  },
  "orig_nbformat": 4,
  "vscode": {
   "interpreter": {
    "hash": "a8f364f4c6a15a98e6f24366f20c415b81f2b82de1c06055d293928a78744407"
   }
  }
 },
 "nbformat": 4,
 "nbformat_minor": 2
}
