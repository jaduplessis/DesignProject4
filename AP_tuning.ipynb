{
 "cells": [
  {
   "cell_type": "code",
   "execution_count": 2,
   "metadata": {},
   "outputs": [
    {
     "ename": "FileNotFoundError",
     "evalue": "[Errno 2] No such file or directory: 'PreProcessingClassification\\\\USC\\\\CompiledData.csv'",
     "output_type": "error",
     "traceback": [
      "\u001b[1;31m---------------------------------------------------------------------------\u001b[0m",
      "\u001b[1;31mFileNotFoundError\u001b[0m                         Traceback (most recent call last)",
      "Cell \u001b[1;32mIn[2], line 8\u001b[0m\n\u001b[0;32m      6\u001b[0m \u001b[39m# Path to the data\u001b[39;00m\n\u001b[0;32m      7\u001b[0m path \u001b[39m=\u001b[39m \u001b[39m'\u001b[39m\u001b[39mPreProcessingClassification\u001b[39m\u001b[39m\\\\\u001b[39;00m\u001b[39mUSC\u001b[39m\u001b[39m\\\\\u001b[39;00m\u001b[39mCompiledData.csv\u001b[39m\u001b[39m'\u001b[39m\n\u001b[1;32m----> 8\u001b[0m OC \u001b[39m=\u001b[39m OCluDAL(path, annotations\u001b[39m=\u001b[39;49m\u001b[39m200\u001b[39;49m)\n\u001b[0;32m     10\u001b[0m OC\u001b[39m.\u001b[39minitialise_data()\n\u001b[0;32m     11\u001b[0m OC\u001b[39m.\u001b[39mpreprocessing()\n",
      "File \u001b[1;32mc:\\Users\\duppu\\Documents\\DesignProject4\\OCluDAL.py:23\u001b[0m, in \u001b[0;36mOCluDAL.__init__\u001b[1;34m(self, file_path, annotations, damping, preference)\u001b[0m\n\u001b[0;32m     22\u001b[0m \u001b[39mdef\u001b[39;00m \u001b[39m__init__\u001b[39m(\u001b[39mself\u001b[39m, file_path, annotations, damping\u001b[39m=\u001b[39m\u001b[39m0.75\u001b[39m, preference\u001b[39m=\u001b[39m\u001b[39m-\u001b[39m\u001b[39m180\u001b[39m):\n\u001b[1;32m---> 23\u001b[0m     \u001b[39mself\u001b[39m\u001b[39m.\u001b[39mdf_main \u001b[39m=\u001b[39m pd\u001b[39m.\u001b[39;49mread_csv(file_path)\n\u001b[0;32m     24\u001b[0m     \u001b[39mself\u001b[39m\u001b[39m.\u001b[39mannotations \u001b[39m=\u001b[39m annotations\n\u001b[0;32m     25\u001b[0m     \u001b[39mself\u001b[39m\u001b[39m.\u001b[39mdata \u001b[39m=\u001b[39m pd\u001b[39m.\u001b[39mDataFrame(columns\u001b[39m=\u001b[39m[\u001b[39m'\u001b[39m\u001b[39mAccuracy\u001b[39m\u001b[39m'\u001b[39m, \u001b[39m'\u001b[39m\u001b[39mF1 Score\u001b[39m\u001b[39m'\u001b[39m, \u001b[39m'\u001b[39m\u001b[39mTrain Accuracy\u001b[39m\u001b[39m'\u001b[39m, \u001b[39m'\u001b[39m\u001b[39mNumber of Annotations\u001b[39m\u001b[39m'\u001b[39m, \u001b[39m'\u001b[39m\u001b[39mdamping\u001b[39m\u001b[39m'\u001b[39m, \u001b[39m'\u001b[39m\u001b[39mpreference\u001b[39m\u001b[39m'\u001b[39m, \u001b[39m'\u001b[39m\u001b[39mTrain_type\u001b[39m\u001b[39m'\u001b[39m, \u001b[39m'\u001b[39m\u001b[39mClasses\u001b[39m\u001b[39m'\u001b[39m])\u001b[39m# Concat the results to data df\u001b[39;00m\n",
      "File \u001b[1;32mc:\\Users\\duppu\\miniconda3\\envs\\DP4\\lib\\site-packages\\pandas\\util\\_decorators.py:211\u001b[0m, in \u001b[0;36mdeprecate_kwarg.<locals>._deprecate_kwarg.<locals>.wrapper\u001b[1;34m(*args, **kwargs)\u001b[0m\n\u001b[0;32m    209\u001b[0m     \u001b[39melse\u001b[39;00m:\n\u001b[0;32m    210\u001b[0m         kwargs[new_arg_name] \u001b[39m=\u001b[39m new_arg_value\n\u001b[1;32m--> 211\u001b[0m \u001b[39mreturn\u001b[39;00m func(\u001b[39m*\u001b[39margs, \u001b[39m*\u001b[39m\u001b[39m*\u001b[39mkwargs)\n",
      "File \u001b[1;32mc:\\Users\\duppu\\miniconda3\\envs\\DP4\\lib\\site-packages\\pandas\\util\\_decorators.py:331\u001b[0m, in \u001b[0;36mdeprecate_nonkeyword_arguments.<locals>.decorate.<locals>.wrapper\u001b[1;34m(*args, **kwargs)\u001b[0m\n\u001b[0;32m    325\u001b[0m \u001b[39mif\u001b[39;00m \u001b[39mlen\u001b[39m(args) \u001b[39m>\u001b[39m num_allow_args:\n\u001b[0;32m    326\u001b[0m     warnings\u001b[39m.\u001b[39mwarn(\n\u001b[0;32m    327\u001b[0m         msg\u001b[39m.\u001b[39mformat(arguments\u001b[39m=\u001b[39m_format_argument_list(allow_args)),\n\u001b[0;32m    328\u001b[0m         \u001b[39mFutureWarning\u001b[39;00m,\n\u001b[0;32m    329\u001b[0m         stacklevel\u001b[39m=\u001b[39mfind_stack_level(),\n\u001b[0;32m    330\u001b[0m     )\n\u001b[1;32m--> 331\u001b[0m \u001b[39mreturn\u001b[39;00m func(\u001b[39m*\u001b[39margs, \u001b[39m*\u001b[39m\u001b[39m*\u001b[39mkwargs)\n",
      "File \u001b[1;32mc:\\Users\\duppu\\miniconda3\\envs\\DP4\\lib\\site-packages\\pandas\\io\\parsers\\readers.py:950\u001b[0m, in \u001b[0;36mread_csv\u001b[1;34m(filepath_or_buffer, sep, delimiter, header, names, index_col, usecols, squeeze, prefix, mangle_dupe_cols, dtype, engine, converters, true_values, false_values, skipinitialspace, skiprows, skipfooter, nrows, na_values, keep_default_na, na_filter, verbose, skip_blank_lines, parse_dates, infer_datetime_format, keep_date_col, date_parser, dayfirst, cache_dates, iterator, chunksize, compression, thousands, decimal, lineterminator, quotechar, quoting, doublequote, escapechar, comment, encoding, encoding_errors, dialect, error_bad_lines, warn_bad_lines, on_bad_lines, delim_whitespace, low_memory, memory_map, float_precision, storage_options)\u001b[0m\n\u001b[0;32m    935\u001b[0m kwds_defaults \u001b[39m=\u001b[39m _refine_defaults_read(\n\u001b[0;32m    936\u001b[0m     dialect,\n\u001b[0;32m    937\u001b[0m     delimiter,\n\u001b[1;32m   (...)\u001b[0m\n\u001b[0;32m    946\u001b[0m     defaults\u001b[39m=\u001b[39m{\u001b[39m\"\u001b[39m\u001b[39mdelimiter\u001b[39m\u001b[39m\"\u001b[39m: \u001b[39m\"\u001b[39m\u001b[39m,\u001b[39m\u001b[39m\"\u001b[39m},\n\u001b[0;32m    947\u001b[0m )\n\u001b[0;32m    948\u001b[0m kwds\u001b[39m.\u001b[39mupdate(kwds_defaults)\n\u001b[1;32m--> 950\u001b[0m \u001b[39mreturn\u001b[39;00m _read(filepath_or_buffer, kwds)\n",
      "File \u001b[1;32mc:\\Users\\duppu\\miniconda3\\envs\\DP4\\lib\\site-packages\\pandas\\io\\parsers\\readers.py:605\u001b[0m, in \u001b[0;36m_read\u001b[1;34m(filepath_or_buffer, kwds)\u001b[0m\n\u001b[0;32m    602\u001b[0m _validate_names(kwds\u001b[39m.\u001b[39mget(\u001b[39m\"\u001b[39m\u001b[39mnames\u001b[39m\u001b[39m\"\u001b[39m, \u001b[39mNone\u001b[39;00m))\n\u001b[0;32m    604\u001b[0m \u001b[39m# Create the parser.\u001b[39;00m\n\u001b[1;32m--> 605\u001b[0m parser \u001b[39m=\u001b[39m TextFileReader(filepath_or_buffer, \u001b[39m*\u001b[39m\u001b[39m*\u001b[39mkwds)\n\u001b[0;32m    607\u001b[0m \u001b[39mif\u001b[39;00m chunksize \u001b[39mor\u001b[39;00m iterator:\n\u001b[0;32m    608\u001b[0m     \u001b[39mreturn\u001b[39;00m parser\n",
      "File \u001b[1;32mc:\\Users\\duppu\\miniconda3\\envs\\DP4\\lib\\site-packages\\pandas\\io\\parsers\\readers.py:1442\u001b[0m, in \u001b[0;36mTextFileReader.__init__\u001b[1;34m(self, f, engine, **kwds)\u001b[0m\n\u001b[0;32m   1439\u001b[0m     \u001b[39mself\u001b[39m\u001b[39m.\u001b[39moptions[\u001b[39m\"\u001b[39m\u001b[39mhas_index_names\u001b[39m\u001b[39m\"\u001b[39m] \u001b[39m=\u001b[39m kwds[\u001b[39m\"\u001b[39m\u001b[39mhas_index_names\u001b[39m\u001b[39m\"\u001b[39m]\n\u001b[0;32m   1441\u001b[0m \u001b[39mself\u001b[39m\u001b[39m.\u001b[39mhandles: IOHandles \u001b[39m|\u001b[39m \u001b[39mNone\u001b[39;00m \u001b[39m=\u001b[39m \u001b[39mNone\u001b[39;00m\n\u001b[1;32m-> 1442\u001b[0m \u001b[39mself\u001b[39m\u001b[39m.\u001b[39m_engine \u001b[39m=\u001b[39m \u001b[39mself\u001b[39;49m\u001b[39m.\u001b[39;49m_make_engine(f, \u001b[39mself\u001b[39;49m\u001b[39m.\u001b[39;49mengine)\n",
      "File \u001b[1;32mc:\\Users\\duppu\\miniconda3\\envs\\DP4\\lib\\site-packages\\pandas\\io\\parsers\\readers.py:1735\u001b[0m, in \u001b[0;36mTextFileReader._make_engine\u001b[1;34m(self, f, engine)\u001b[0m\n\u001b[0;32m   1733\u001b[0m     \u001b[39mif\u001b[39;00m \u001b[39m\"\u001b[39m\u001b[39mb\u001b[39m\u001b[39m\"\u001b[39m \u001b[39mnot\u001b[39;00m \u001b[39min\u001b[39;00m mode:\n\u001b[0;32m   1734\u001b[0m         mode \u001b[39m+\u001b[39m\u001b[39m=\u001b[39m \u001b[39m\"\u001b[39m\u001b[39mb\u001b[39m\u001b[39m\"\u001b[39m\n\u001b[1;32m-> 1735\u001b[0m \u001b[39mself\u001b[39m\u001b[39m.\u001b[39mhandles \u001b[39m=\u001b[39m get_handle(\n\u001b[0;32m   1736\u001b[0m     f,\n\u001b[0;32m   1737\u001b[0m     mode,\n\u001b[0;32m   1738\u001b[0m     encoding\u001b[39m=\u001b[39;49m\u001b[39mself\u001b[39;49m\u001b[39m.\u001b[39;49moptions\u001b[39m.\u001b[39;49mget(\u001b[39m\"\u001b[39;49m\u001b[39mencoding\u001b[39;49m\u001b[39m\"\u001b[39;49m, \u001b[39mNone\u001b[39;49;00m),\n\u001b[0;32m   1739\u001b[0m     compression\u001b[39m=\u001b[39;49m\u001b[39mself\u001b[39;49m\u001b[39m.\u001b[39;49moptions\u001b[39m.\u001b[39;49mget(\u001b[39m\"\u001b[39;49m\u001b[39mcompression\u001b[39;49m\u001b[39m\"\u001b[39;49m, \u001b[39mNone\u001b[39;49;00m),\n\u001b[0;32m   1740\u001b[0m     memory_map\u001b[39m=\u001b[39;49m\u001b[39mself\u001b[39;49m\u001b[39m.\u001b[39;49moptions\u001b[39m.\u001b[39;49mget(\u001b[39m\"\u001b[39;49m\u001b[39mmemory_map\u001b[39;49m\u001b[39m\"\u001b[39;49m, \u001b[39mFalse\u001b[39;49;00m),\n\u001b[0;32m   1741\u001b[0m     is_text\u001b[39m=\u001b[39;49mis_text,\n\u001b[0;32m   1742\u001b[0m     errors\u001b[39m=\u001b[39;49m\u001b[39mself\u001b[39;49m\u001b[39m.\u001b[39;49moptions\u001b[39m.\u001b[39;49mget(\u001b[39m\"\u001b[39;49m\u001b[39mencoding_errors\u001b[39;49m\u001b[39m\"\u001b[39;49m, \u001b[39m\"\u001b[39;49m\u001b[39mstrict\u001b[39;49m\u001b[39m\"\u001b[39;49m),\n\u001b[0;32m   1743\u001b[0m     storage_options\u001b[39m=\u001b[39;49m\u001b[39mself\u001b[39;49m\u001b[39m.\u001b[39;49moptions\u001b[39m.\u001b[39;49mget(\u001b[39m\"\u001b[39;49m\u001b[39mstorage_options\u001b[39;49m\u001b[39m\"\u001b[39;49m, \u001b[39mNone\u001b[39;49;00m),\n\u001b[0;32m   1744\u001b[0m )\n\u001b[0;32m   1745\u001b[0m \u001b[39massert\u001b[39;00m \u001b[39mself\u001b[39m\u001b[39m.\u001b[39mhandles \u001b[39mis\u001b[39;00m \u001b[39mnot\u001b[39;00m \u001b[39mNone\u001b[39;00m\n\u001b[0;32m   1746\u001b[0m f \u001b[39m=\u001b[39m \u001b[39mself\u001b[39m\u001b[39m.\u001b[39mhandles\u001b[39m.\u001b[39mhandle\n",
      "File \u001b[1;32mc:\\Users\\duppu\\miniconda3\\envs\\DP4\\lib\\site-packages\\pandas\\io\\common.py:856\u001b[0m, in \u001b[0;36mget_handle\u001b[1;34m(path_or_buf, mode, encoding, compression, memory_map, is_text, errors, storage_options)\u001b[0m\n\u001b[0;32m    851\u001b[0m \u001b[39melif\u001b[39;00m \u001b[39misinstance\u001b[39m(handle, \u001b[39mstr\u001b[39m):\n\u001b[0;32m    852\u001b[0m     \u001b[39m# Check whether the filename is to be opened in binary mode.\u001b[39;00m\n\u001b[0;32m    853\u001b[0m     \u001b[39m# Binary mode does not support 'encoding' and 'newline'.\u001b[39;00m\n\u001b[0;32m    854\u001b[0m     \u001b[39mif\u001b[39;00m ioargs\u001b[39m.\u001b[39mencoding \u001b[39mand\u001b[39;00m \u001b[39m\"\u001b[39m\u001b[39mb\u001b[39m\u001b[39m\"\u001b[39m \u001b[39mnot\u001b[39;00m \u001b[39min\u001b[39;00m ioargs\u001b[39m.\u001b[39mmode:\n\u001b[0;32m    855\u001b[0m         \u001b[39m# Encoding\u001b[39;00m\n\u001b[1;32m--> 856\u001b[0m         handle \u001b[39m=\u001b[39m \u001b[39mopen\u001b[39;49m(\n\u001b[0;32m    857\u001b[0m             handle,\n\u001b[0;32m    858\u001b[0m             ioargs\u001b[39m.\u001b[39;49mmode,\n\u001b[0;32m    859\u001b[0m             encoding\u001b[39m=\u001b[39;49mioargs\u001b[39m.\u001b[39;49mencoding,\n\u001b[0;32m    860\u001b[0m             errors\u001b[39m=\u001b[39;49merrors,\n\u001b[0;32m    861\u001b[0m             newline\u001b[39m=\u001b[39;49m\u001b[39m\"\u001b[39;49m\u001b[39m\"\u001b[39;49m,\n\u001b[0;32m    862\u001b[0m         )\n\u001b[0;32m    863\u001b[0m     \u001b[39melse\u001b[39;00m:\n\u001b[0;32m    864\u001b[0m         \u001b[39m# Binary mode\u001b[39;00m\n\u001b[0;32m    865\u001b[0m         handle \u001b[39m=\u001b[39m \u001b[39mopen\u001b[39m(handle, ioargs\u001b[39m.\u001b[39mmode)\n",
      "\u001b[1;31mFileNotFoundError\u001b[0m: [Errno 2] No such file or directory: 'PreProcessingClassification\\\\USC\\\\CompiledData.csv'"
     ]
    }
   ],
   "source": [
    "import numpy as np\n",
    "from sklearn.svm import OneClassSVM\n",
    "from OCluDAL import OCluDAL\n",
    "\n",
    "from sklearn.svm import OneClassSVM\n",
    "# Path to the data\n",
    "path = 'PreProcessingClassification\\\\USC\\\\CompiledData.csv'\n",
    "OC = OCluDAL(path, annotations=200)\n",
    "\n",
    "OC.initialise_data()\n",
    "OC.preprocessing()\n",
    "\n",
    "masks = []\n",
    "# Novelty detection using OCSVM\n",
    "for label in OC.unique_labels:\n",
    "    # Fit OCSVM\n",
    "    svm = OneClassSVM().fit(OC.labelled_X_new[OC.labelled_y_new == label])\n",
    "    novel_mask_i = svm.predict(OC.unlabelled_X_new) == -1\n",
    "    \n",
    "    masks.append(novel_mask_i)\n",
    "\n",
    "novel_mask = np.all(masks, axis=0)\n",
    "novel_X = OC.unlabelled_X_new[novel_mask]\n",
    "print(f\"Novelty detected: {len(novel_X)}\")"
   ]
  },
  {
   "cell_type": "code",
   "execution_count": null,
   "metadata": {},
   "outputs": [],
   "source": [
    "# import pandas as pd\n",
    "\n",
    "# from sklearn.metrics import silhouette_score\n",
    "# from sklearn.cluster import AffinityPropagation\n",
    "\n",
    "# def fine_tune_affinity_propagation(OC_original, novel_X, damping_range, preference_range, max_annotations=600):\n",
    "#     \"\"\"Fine tune the affinity propagation model. Score is measured by the\n",
    "#     silhouette score of the model on the novel data points.\n",
    "    \n",
    "#     Parameters\n",
    "#     ----------\n",
    "#     OC : OCluDAL object\n",
    "#         OCluDAL object.\n",
    "#     novel_X : numpy array\n",
    "#         Novel data points.\n",
    "#     damping_range : list\n",
    "#         Range of damping values to try.\n",
    "#     preference_range : list\n",
    "#         Range of preference values to try.\n",
    "\n",
    "#     Returns\n",
    "#     -------\n",
    "#     scores_array : numpy array\n",
    "#         Array of scores for each combination of damping and preference.\n",
    "#     \"\"\"\n",
    "\n",
    "#     scores_array = np.zeros((len(damping_range), len(preference_range)))\n",
    "#     annotations_array = np.zeros((len(damping_range), len(preference_range)))\n",
    "#     df = pd.DataFrame(columns=['Damping', 'Preference', 'Original Score', 'Score', 'Weighted Score', 'Annotations', 'Avg Annotations'])\n",
    "\n",
    "#     for di, damping in enumerate(damping_range):\n",
    "#         for pi, preference in enumerate(preference_range):\n",
    "#             OC = OC_original.copy()\n",
    "            \n",
    "#             print(f\"Progress: {di * len(preference_range) + pi + 1}/{len(damping_range) * len(preference_range)}, Damping: {damping}  |Preference: {preference}\")\n",
    "            \n",
    "#             sum_scores = 0\n",
    "#             iter = 0\n",
    "#             annotation_lengths = []\n",
    "#             try:\n",
    "\n",
    "#                 while len(OC.labelled_X_new) < max_annotations:\n",
    "#                     masks = []\n",
    "#                     iter += 1\n",
    "\n",
    "#                     # Novelty detection using OCSVM\n",
    "#                     for label in OC.unique_labels:\n",
    "#                         # Fit OCSVM\n",
    "#                         svm = OneClassSVM().fit(OC.labelled_X_new[OC.labelled_y_new == label])\n",
    "#                         novel_mask_i = svm.predict(OC.unlabelled_X_new) == -1\n",
    "                        \n",
    "#                         masks.append(novel_mask_i)\n",
    "\n",
    "#                     novel_mask = np.all(masks, axis=0)\n",
    "#                     novel_X = OC.unlabelled_X_new[novel_mask]\n",
    "\n",
    "#                     # Clustering to select representative samples for annotation using Affinity Propagation\n",
    "#                     if len(novel_X) > 0:\n",
    "#                         ap = AffinityPropagation(damping=damping, preference=preference)\n",
    "#                         ap.fit(novel_X)\n",
    "#                         representative_X = ap.cluster_centers_\n",
    "#                         annotation_lengths.append(len(representative_X))\n",
    "#                         # Get labels\n",
    "#                         labels = ap.labels_\n",
    "\n",
    "#                         # Calculate silhouette score\n",
    "#                         score = silhouette_score(novel_X, labels)\n",
    "#                         sum_scores += score\n",
    "\n",
    "#                     else:\n",
    "#                         break\n",
    "\n",
    "#                     # Find row indices of representative samples\n",
    "#                     representative_indices = []\n",
    "#                     for sample in representative_X:\n",
    "#                         representative_indices.append(np.where((OC.unlabelled_X_new == sample).all(axis=1))[0][0])\n",
    "\n",
    "\n",
    "#                     # Update labelled and unlabelled sets\n",
    "#                     OC.oracle_annotations(representative_indices)\n",
    "\n",
    "#                 # Calculate average score and standardise it\n",
    "#                 orig_score = sum_scores / iter\n",
    "#                 score = orig_score * max_annotations / len(OC.labelled_X_new)\n",
    "            \n",
    "#                 # Calculate average number of annotations\n",
    "#                 avg = np.mean(annotation_lengths)\n",
    "\n",
    "#                 # Reward for lower average annotations\n",
    "#                 weighted_score = score * (1 - avg / max_annotations)\n",
    "\n",
    "#             except:\n",
    "#                 orig_score = np.nan\n",
    "#                 score = np.nan\n",
    "#                 avg = np.nan\n",
    "#                 weighted_score = np.nan\n",
    "\n",
    "#             df = pd.concat([df, pd.DataFrame({'Damping': damping,\n",
    "#                                                 'Preference': preference,\n",
    "#                                                 'Original Score': orig_score,\n",
    "#                                                 'Score': score,\n",
    "#                                                 'Weighted Score': weighted_score,\n",
    "#                                                 'Annotations': len(OC.labelled_X_new),\n",
    "#                                                 'Avg Annotations': avg}, index=[0])], ignore_index=True)\n",
    "#             df.to_csv('fine_tune_affinity_propagation.csv', index=False)\n",
    "            \n",
    "#             scores_array[di, pi] = score\n",
    "#             annotations_array[di, pi] = avg\n",
    "\n",
    "#             print(f\"Annotations: {len(OC.labelled_X_new)}  |Score: {score}  |Avg annotations: {avg}\")\n",
    "#             print('____________________________________________________')\n",
    "\n",
    "#     return scores_array\n",
    "\n",
    "# damping_range = [0.5, 0.55, 0.6, 0.65, 0.7, 0.75, 0.8, 0.85, 0.9, 0.95]\n",
    "# preference_range = [-200, -190, -180, -170, -160, -150, -140, -130, -120, -110, -100, -90, -80, -70, -60, -50, -40, -30, -20, -10]\n",
    "\n",
    "# scores_array = fine_tune_affinity_propagation(OC, novel_X, damping_range, preference_range)"
   ]
  },
  {
   "cell_type": "code",
   "execution_count": null,
   "metadata": {},
   "outputs": [
    {
     "data": {
      "application/vnd.plotly.v1+json": {
       "config": {
        "plotlyServerURL": "https://plot.ly"
       },
       "data": [
        {
         "colorscale": [
          [
           0,
           "#440154"
          ],
          [
           0.1111111111111111,
           "#482878"
          ],
          [
           0.2222222222222222,
           "#3e4989"
          ],
          [
           0.3333333333333333,
           "#31688e"
          ],
          [
           0.4444444444444444,
           "#26828e"
          ],
          [
           0.5555555555555556,
           "#1f9e89"
          ],
          [
           0.6666666666666666,
           "#35b779"
          ],
          [
           0.7777777777777778,
           "#6ece58"
          ],
          [
           0.8888888888888888,
           "#b5de2b"
          ],
          [
           1,
           "#fde725"
          ]
         ],
         "type": "heatmap",
         "x": [
          -200,
          -190,
          -180,
          -170,
          -160,
          -150,
          -140,
          -130,
          -120,
          -110,
          -100,
          -90,
          -80,
          -70,
          -60,
          -50,
          -40,
          -30
         ],
         "y": [
          0.5,
          0.55,
          0.6,
          0.65,
          0.7,
          0.75,
          0.8,
          0.85,
          0.9
         ],
         "z": [
          [
           0.0008218292544036573,
           0.0008913055592493374,
           0.0008677697561708073,
           0.0008990597716187225,
           0.0008405582494673265,
           0.0008060445539583061,
           0.0007056987191239201,
           0.000799884045064943,
           0.0005363328903318171,
           0.0007179568828334856,
           0.000585657837944772,
           0.0005793102179082493,
           0.0005163653743714095,
           0.0005169997694816866,
           0.00043243733420237463,
           0.0004134367539923693,
           0.00038468390057400966,
           0.000268090302258812
          ],
          [
           0.0008757290086292491,
           0.000921472062606438,
           0.0009512296576185213,
           0.0008914457197495575,
           0.0008981540893048898,
           0.0007956379993731273,
           0.0007197244721801471,
           0.0007248264285530002,
           0.0006959395259663462,
           0.0006807991055382505,
           0.0005722213031316038,
           0.0005370414442132446,
           0.0005979507888823451,
           0.0005272086793212146,
           0.00048572850536325466,
           0.000336925744816938,
           0.00035899533239895214,
           0.0002778994180864363
          ],
          [
           0.0009048948447019413,
           0.0009533876802322274,
           0.0009046829002626166,
           0.000861272585640912,
           0.0008847814099469784,
           0.0007712779918845079,
           0.0008028553718438645,
           0.0008039641251223384,
           0.0007549871250913686,
           0.0006981321595128158,
           0.0005951791523267009,
           0.0005784823256965394,
           0.0005802796969015335,
           0.0004899250643489983,
           0.000438953647711883,
           0.00038749196956997103,
           0.0003988829762787137,
           0.00029292448765244947
          ],
          [
           0.0009167014860875883,
           0.0008796271317733781,
           0.0008863094104554647,
           0.000890043772430676,
           0.0009002649950185883,
           0.0007968978078056,
           0.0008221388751600354,
           0.0007432594489563578,
           0.0007087350787119467,
           0.0007026364745734465,
           0.0006114445135197209,
           0.0006299494290778015,
           0.0005337372960466667,
           0.0004866988198003185,
           0.00047575652331998167,
           0.00044565351333252965,
           0.00040013699843392136,
           0.00027979985667151596
          ],
          [
           0.0008300989177862863,
           0.000936728446733605,
           0.0009352079652808096,
           0.0009323085464848016,
           0.0009176384472917835,
           0.000819758091631753,
           0.0007511973529362555,
           0.0007612621169563535,
           0.0007339499873922822,
           0.0007248020244569937,
           0.000649668640247576,
           0.000640920037560861,
           0.0005211494234544828,
           0.0004952922247659054,
           0.0004923140165364587,
           0.0004096717190058398,
           0.0003990480690291066,
           0.0002986504277509371
          ],
          [
           0.0009149796531436244,
           0.0009590566759118529,
           0.0009833576968367862,
           0.0008999751071131018,
           0.000854014368905552,
           0.0008869704966689875,
           0.0007690569590642028,
           0.0008007436472258033,
           0.0007483638663547016,
           0.0006818772456701103,
           0.0006602397379802069,
           0.0006752505591079075,
           0.0005753796001945696,
           0.0005606597211653513,
           0.0005038984870733108,
           0.00046354810904135335,
           0.00039269493166102954,
           0.0002841230478026573
          ],
          [
           0.0009390954461251066,
           0.0009091048021893629,
           0.0009433785111691352,
           0.0009064257663117362,
           0.0008535945960985197,
           0.0008529024085805706,
           0.0007948572781485112,
           0.00080489270122945,
           0.000773603286711237,
           0.0007050470743363119,
           0.0006598366719156559,
           0.0006460555819239439,
           0.0005974570939610303,
           0.0005364626960114617,
           0.0005297983977940603,
           0.0004708593614472975,
           0.0004014373503234393,
           0.0002889314956796758
          ],
          [
           0.0009434771457699808,
           0.0009090206925095864,
           0.0009297008457961092,
           0.0008930308283711269,
           0.0008353040533617741,
           0.0008434027378945029,
           0.0007638660121870613,
           0.0007406879879547535,
           0.0007951830374563006,
           0.0007206165074746431,
           0.0006563355477120712,
           0.0006060392676520634,
           0.0006164258456281902,
           0.0005463643756364698,
           0.00047803069671683814,
           0.00046192204641410956,
           0.0003575305576056961,
           0.00026424892038232067
          ],
          [
           0.0009335084992567606,
           0.0009247867168115937,
           0.0008227408902111154,
           0.0008960568554874219,
           0.0009038939740911699,
           0.0008842013713802648,
           0.0007364547944424358,
           0.0007512030687141688,
           0.0007580430951990394,
           0.0007517185410399175,
           0.0006457000713039364,
           0.0006639942304653791,
           0.0006166196014225903,
           0.0005368962789634022,
           0.0004946560340495543,
           0.00047646285863904835,
           0.00036429806036995035,
           0.0002776078200746289
          ]
         ]
        }
       ],
       "layout": {
        "shapes": [
         {
          "line": {
           "color": "Red",
           "width": 2
          },
          "type": "rect",
          "x0": -185,
          "x1": -175,
          "xref": "x",
          "y0": 0.725,
          "y1": 0.775,
          "yref": "y"
         },
         {
          "line": {
           "color": "Red",
           "width": 2
          },
          "type": "rect",
          "x0": -195,
          "x1": -185,
          "xref": "x",
          "y0": 0.725,
          "y1": 0.775,
          "yref": "y"
         }
        ],
        "template": {
         "data": {
          "bar": [
           {
            "error_x": {
             "color": "#2a3f5f"
            },
            "error_y": {
             "color": "#2a3f5f"
            },
            "marker": {
             "line": {
              "color": "#E5ECF6",
              "width": 0.5
             },
             "pattern": {
              "fillmode": "overlay",
              "size": 10,
              "solidity": 0.2
             }
            },
            "type": "bar"
           }
          ],
          "barpolar": [
           {
            "marker": {
             "line": {
              "color": "#E5ECF6",
              "width": 0.5
             },
             "pattern": {
              "fillmode": "overlay",
              "size": 10,
              "solidity": 0.2
             }
            },
            "type": "barpolar"
           }
          ],
          "carpet": [
           {
            "aaxis": {
             "endlinecolor": "#2a3f5f",
             "gridcolor": "white",
             "linecolor": "white",
             "minorgridcolor": "white",
             "startlinecolor": "#2a3f5f"
            },
            "baxis": {
             "endlinecolor": "#2a3f5f",
             "gridcolor": "white",
             "linecolor": "white",
             "minorgridcolor": "white",
             "startlinecolor": "#2a3f5f"
            },
            "type": "carpet"
           }
          ],
          "choropleth": [
           {
            "colorbar": {
             "outlinewidth": 0,
             "ticks": ""
            },
            "type": "choropleth"
           }
          ],
          "contour": [
           {
            "colorbar": {
             "outlinewidth": 0,
             "ticks": ""
            },
            "colorscale": [
             [
              0,
              "#0d0887"
             ],
             [
              0.1111111111111111,
              "#46039f"
             ],
             [
              0.2222222222222222,
              "#7201a8"
             ],
             [
              0.3333333333333333,
              "#9c179e"
             ],
             [
              0.4444444444444444,
              "#bd3786"
             ],
             [
              0.5555555555555556,
              "#d8576b"
             ],
             [
              0.6666666666666666,
              "#ed7953"
             ],
             [
              0.7777777777777778,
              "#fb9f3a"
             ],
             [
              0.8888888888888888,
              "#fdca26"
             ],
             [
              1,
              "#f0f921"
             ]
            ],
            "type": "contour"
           }
          ],
          "contourcarpet": [
           {
            "colorbar": {
             "outlinewidth": 0,
             "ticks": ""
            },
            "type": "contourcarpet"
           }
          ],
          "heatmap": [
           {
            "colorbar": {
             "outlinewidth": 0,
             "ticks": ""
            },
            "colorscale": [
             [
              0,
              "#0d0887"
             ],
             [
              0.1111111111111111,
              "#46039f"
             ],
             [
              0.2222222222222222,
              "#7201a8"
             ],
             [
              0.3333333333333333,
              "#9c179e"
             ],
             [
              0.4444444444444444,
              "#bd3786"
             ],
             [
              0.5555555555555556,
              "#d8576b"
             ],
             [
              0.6666666666666666,
              "#ed7953"
             ],
             [
              0.7777777777777778,
              "#fb9f3a"
             ],
             [
              0.8888888888888888,
              "#fdca26"
             ],
             [
              1,
              "#f0f921"
             ]
            ],
            "type": "heatmap"
           }
          ],
          "heatmapgl": [
           {
            "colorbar": {
             "outlinewidth": 0,
             "ticks": ""
            },
            "colorscale": [
             [
              0,
              "#0d0887"
             ],
             [
              0.1111111111111111,
              "#46039f"
             ],
             [
              0.2222222222222222,
              "#7201a8"
             ],
             [
              0.3333333333333333,
              "#9c179e"
             ],
             [
              0.4444444444444444,
              "#bd3786"
             ],
             [
              0.5555555555555556,
              "#d8576b"
             ],
             [
              0.6666666666666666,
              "#ed7953"
             ],
             [
              0.7777777777777778,
              "#fb9f3a"
             ],
             [
              0.8888888888888888,
              "#fdca26"
             ],
             [
              1,
              "#f0f921"
             ]
            ],
            "type": "heatmapgl"
           }
          ],
          "histogram": [
           {
            "marker": {
             "pattern": {
              "fillmode": "overlay",
              "size": 10,
              "solidity": 0.2
             }
            },
            "type": "histogram"
           }
          ],
          "histogram2d": [
           {
            "colorbar": {
             "outlinewidth": 0,
             "ticks": ""
            },
            "colorscale": [
             [
              0,
              "#0d0887"
             ],
             [
              0.1111111111111111,
              "#46039f"
             ],
             [
              0.2222222222222222,
              "#7201a8"
             ],
             [
              0.3333333333333333,
              "#9c179e"
             ],
             [
              0.4444444444444444,
              "#bd3786"
             ],
             [
              0.5555555555555556,
              "#d8576b"
             ],
             [
              0.6666666666666666,
              "#ed7953"
             ],
             [
              0.7777777777777778,
              "#fb9f3a"
             ],
             [
              0.8888888888888888,
              "#fdca26"
             ],
             [
              1,
              "#f0f921"
             ]
            ],
            "type": "histogram2d"
           }
          ],
          "histogram2dcontour": [
           {
            "colorbar": {
             "outlinewidth": 0,
             "ticks": ""
            },
            "colorscale": [
             [
              0,
              "#0d0887"
             ],
             [
              0.1111111111111111,
              "#46039f"
             ],
             [
              0.2222222222222222,
              "#7201a8"
             ],
             [
              0.3333333333333333,
              "#9c179e"
             ],
             [
              0.4444444444444444,
              "#bd3786"
             ],
             [
              0.5555555555555556,
              "#d8576b"
             ],
             [
              0.6666666666666666,
              "#ed7953"
             ],
             [
              0.7777777777777778,
              "#fb9f3a"
             ],
             [
              0.8888888888888888,
              "#fdca26"
             ],
             [
              1,
              "#f0f921"
             ]
            ],
            "type": "histogram2dcontour"
           }
          ],
          "mesh3d": [
           {
            "colorbar": {
             "outlinewidth": 0,
             "ticks": ""
            },
            "type": "mesh3d"
           }
          ],
          "parcoords": [
           {
            "line": {
             "colorbar": {
              "outlinewidth": 0,
              "ticks": ""
             }
            },
            "type": "parcoords"
           }
          ],
          "pie": [
           {
            "automargin": true,
            "type": "pie"
           }
          ],
          "scatter": [
           {
            "fillpattern": {
             "fillmode": "overlay",
             "size": 10,
             "solidity": 0.2
            },
            "type": "scatter"
           }
          ],
          "scatter3d": [
           {
            "line": {
             "colorbar": {
              "outlinewidth": 0,
              "ticks": ""
             }
            },
            "marker": {
             "colorbar": {
              "outlinewidth": 0,
              "ticks": ""
             }
            },
            "type": "scatter3d"
           }
          ],
          "scattercarpet": [
           {
            "marker": {
             "colorbar": {
              "outlinewidth": 0,
              "ticks": ""
             }
            },
            "type": "scattercarpet"
           }
          ],
          "scattergeo": [
           {
            "marker": {
             "colorbar": {
              "outlinewidth": 0,
              "ticks": ""
             }
            },
            "type": "scattergeo"
           }
          ],
          "scattergl": [
           {
            "marker": {
             "colorbar": {
              "outlinewidth": 0,
              "ticks": ""
             }
            },
            "type": "scattergl"
           }
          ],
          "scattermapbox": [
           {
            "marker": {
             "colorbar": {
              "outlinewidth": 0,
              "ticks": ""
             }
            },
            "type": "scattermapbox"
           }
          ],
          "scatterpolar": [
           {
            "marker": {
             "colorbar": {
              "outlinewidth": 0,
              "ticks": ""
             }
            },
            "type": "scatterpolar"
           }
          ],
          "scatterpolargl": [
           {
            "marker": {
             "colorbar": {
              "outlinewidth": 0,
              "ticks": ""
             }
            },
            "type": "scatterpolargl"
           }
          ],
          "scatterternary": [
           {
            "marker": {
             "colorbar": {
              "outlinewidth": 0,
              "ticks": ""
             }
            },
            "type": "scatterternary"
           }
          ],
          "surface": [
           {
            "colorbar": {
             "outlinewidth": 0,
             "ticks": ""
            },
            "colorscale": [
             [
              0,
              "#0d0887"
             ],
             [
              0.1111111111111111,
              "#46039f"
             ],
             [
              0.2222222222222222,
              "#7201a8"
             ],
             [
              0.3333333333333333,
              "#9c179e"
             ],
             [
              0.4444444444444444,
              "#bd3786"
             ],
             [
              0.5555555555555556,
              "#d8576b"
             ],
             [
              0.6666666666666666,
              "#ed7953"
             ],
             [
              0.7777777777777778,
              "#fb9f3a"
             ],
             [
              0.8888888888888888,
              "#fdca26"
             ],
             [
              1,
              "#f0f921"
             ]
            ],
            "type": "surface"
           }
          ],
          "table": [
           {
            "cells": {
             "fill": {
              "color": "#EBF0F8"
             },
             "line": {
              "color": "white"
             }
            },
            "header": {
             "fill": {
              "color": "#C8D4E3"
             },
             "line": {
              "color": "white"
             }
            },
            "type": "table"
           }
          ]
         },
         "layout": {
          "annotationdefaults": {
           "arrowcolor": "#2a3f5f",
           "arrowhead": 0,
           "arrowwidth": 1
          },
          "autotypenumbers": "strict",
          "coloraxis": {
           "colorbar": {
            "outlinewidth": 0,
            "ticks": ""
           }
          },
          "colorscale": {
           "diverging": [
            [
             0,
             "#8e0152"
            ],
            [
             0.1,
             "#c51b7d"
            ],
            [
             0.2,
             "#de77ae"
            ],
            [
             0.3,
             "#f1b6da"
            ],
            [
             0.4,
             "#fde0ef"
            ],
            [
             0.5,
             "#f7f7f7"
            ],
            [
             0.6,
             "#e6f5d0"
            ],
            [
             0.7,
             "#b8e186"
            ],
            [
             0.8,
             "#7fbc41"
            ],
            [
             0.9,
             "#4d9221"
            ],
            [
             1,
             "#276419"
            ]
           ],
           "sequential": [
            [
             0,
             "#0d0887"
            ],
            [
             0.1111111111111111,
             "#46039f"
            ],
            [
             0.2222222222222222,
             "#7201a8"
            ],
            [
             0.3333333333333333,
             "#9c179e"
            ],
            [
             0.4444444444444444,
             "#bd3786"
            ],
            [
             0.5555555555555556,
             "#d8576b"
            ],
            [
             0.6666666666666666,
             "#ed7953"
            ],
            [
             0.7777777777777778,
             "#fb9f3a"
            ],
            [
             0.8888888888888888,
             "#fdca26"
            ],
            [
             1,
             "#f0f921"
            ]
           ],
           "sequentialminus": [
            [
             0,
             "#0d0887"
            ],
            [
             0.1111111111111111,
             "#46039f"
            ],
            [
             0.2222222222222222,
             "#7201a8"
            ],
            [
             0.3333333333333333,
             "#9c179e"
            ],
            [
             0.4444444444444444,
             "#bd3786"
            ],
            [
             0.5555555555555556,
             "#d8576b"
            ],
            [
             0.6666666666666666,
             "#ed7953"
            ],
            [
             0.7777777777777778,
             "#fb9f3a"
            ],
            [
             0.8888888888888888,
             "#fdca26"
            ],
            [
             1,
             "#f0f921"
            ]
           ]
          },
          "colorway": [
           "#636efa",
           "#EF553B",
           "#00cc96",
           "#ab63fa",
           "#FFA15A",
           "#19d3f3",
           "#FF6692",
           "#B6E880",
           "#FF97FF",
           "#FECB52"
          ],
          "font": {
           "color": "#2a3f5f"
          },
          "geo": {
           "bgcolor": "white",
           "lakecolor": "white",
           "landcolor": "#E5ECF6",
           "showlakes": true,
           "showland": true,
           "subunitcolor": "white"
          },
          "hoverlabel": {
           "align": "left"
          },
          "hovermode": "closest",
          "mapbox": {
           "style": "light"
          },
          "paper_bgcolor": "white",
          "plot_bgcolor": "#E5ECF6",
          "polar": {
           "angularaxis": {
            "gridcolor": "white",
            "linecolor": "white",
            "ticks": ""
           },
           "bgcolor": "#E5ECF6",
           "radialaxis": {
            "gridcolor": "white",
            "linecolor": "white",
            "ticks": ""
           }
          },
          "scene": {
           "xaxis": {
            "backgroundcolor": "#E5ECF6",
            "gridcolor": "white",
            "gridwidth": 2,
            "linecolor": "white",
            "showbackground": true,
            "ticks": "",
            "zerolinecolor": "white"
           },
           "yaxis": {
            "backgroundcolor": "#E5ECF6",
            "gridcolor": "white",
            "gridwidth": 2,
            "linecolor": "white",
            "showbackground": true,
            "ticks": "",
            "zerolinecolor": "white"
           },
           "zaxis": {
            "backgroundcolor": "#E5ECF6",
            "gridcolor": "white",
            "gridwidth": 2,
            "linecolor": "white",
            "showbackground": true,
            "ticks": "",
            "zerolinecolor": "white"
           }
          },
          "shapedefaults": {
           "line": {
            "color": "#2a3f5f"
           }
          },
          "ternary": {
           "aaxis": {
            "gridcolor": "white",
            "linecolor": "white",
            "ticks": ""
           },
           "baxis": {
            "gridcolor": "white",
            "linecolor": "white",
            "ticks": ""
           },
           "bgcolor": "#E5ECF6",
           "caxis": {
            "gridcolor": "white",
            "linecolor": "white",
            "ticks": ""
           }
          },
          "title": {
           "x": 0.05
          },
          "xaxis": {
           "automargin": true,
           "gridcolor": "white",
           "linecolor": "white",
           "ticks": "",
           "title": {
            "standoff": 15
           },
           "zerolinecolor": "white",
           "zerolinewidth": 2
          },
          "yaxis": {
           "automargin": true,
           "gridcolor": "white",
           "linecolor": "white",
           "ticks": "",
           "title": {
            "standoff": 15
           },
           "zerolinecolor": "white",
           "zerolinewidth": 2
          }
         }
        },
        "xaxis": {
         "nticks": 36,
         "title": {
          "text": "Preference value"
         }
        },
        "yaxis": {
         "title": {
          "text": "Damping value"
         }
        }
       }
      }
     },
     "metadata": {},
     "output_type": "display_data"
    }
   ],
   "source": [
    "import pandas as pd\n",
    "import plotly.graph_objects as go\n",
    "import numpy as np\n",
    "\n",
    "df = pd.read_csv('fine_tune_affinity_propagation.csv')\n",
    "# Remove all damping values above 0.9\n",
    "df = df[df['Damping'] <= 0.9]\n",
    "\n",
    "# Remove all average annotations above 100\n",
    "df = df[df['Avg Annotations'] <= 200]\n",
    "\n",
    "# Calculate weighted score\n",
    "df['Weighted Score'] = df['Score'] ** 2 / df['Avg Annotations']\n",
    "\n",
    "# Plot heatmap of weighted scores\n",
    "import plotly.graph_objects as go\n",
    "\n",
    "\n",
    "fig = go.Figure(data=go.Heatmap(\n",
    "                        z=df['Weighted Score'].values.reshape(len(df['Damping'].unique()), len(df['Preference'].unique())),\n",
    "                        x=df['Preference'].unique(),\n",
    "                        y=df['Damping'].unique(),\n",
    "                        colorscale='Viridis'))\n",
    "\n",
    "fig.update_layout(\n",
    "    xaxis_nticks=36,\n",
    "    yaxis={'title': 'Damping value'},\n",
    "    xaxis={'title': 'Preference value'}\n",
    ")\n",
    "\n",
    "# Highlight top 5 values with red border\n",
    "df = df.sort_values(by='Weighted Score', ascending=False)\n",
    "for i in range(2):\n",
    "    fig.add_shape(\n",
    "        type=\"rect\",\n",
    "        xref=\"x\",\n",
    "        yref=\"y\",\n",
    "        x0=df.iloc[i]['Preference'] - 5,\n",
    "        y0=df.iloc[i]['Damping'] - 0.025,\n",
    "        x1=df.iloc[i]['Preference'] + 5,\n",
    "        y1=df.iloc[i]['Damping'] + 0.025,\n",
    "        line=dict(\n",
    "            color=\"Red\",\n",
    "            width=2\n",
    "        )\n",
    "    )\n",
    "\n",
    "fig.show()\n",
    "\n",
    "# Save png\n",
    "# fig.write_image('AP_heatmap.png', width=1000, height=500, scale=8)"
   ]
  },
  {
   "cell_type": "code",
   "execution_count": null,
   "metadata": {},
   "outputs": [
    {
     "data": {
      "application/vnd.plotly.v1+json": {
       "config": {
        "plotlyServerURL": "https://plot.ly"
       },
       "data": [
        {
         "colorscale": [
          [
           0,
           "#440154"
          ],
          [
           0.1111111111111111,
           "#482878"
          ],
          [
           0.2222222222222222,
           "#3e4989"
          ],
          [
           0.3333333333333333,
           "#31688e"
          ],
          [
           0.4444444444444444,
           "#26828e"
          ],
          [
           0.5555555555555556,
           "#1f9e89"
          ],
          [
           0.6666666666666666,
           "#35b779"
          ],
          [
           0.7777777777777778,
           "#6ece58"
          ],
          [
           0.8888888888888888,
           "#b5de2b"
          ],
          [
           1,
           "#fde725"
          ]
         ],
         "type": "heatmap",
         "x": [
          -200,
          -190,
          -180,
          -170,
          -160,
          -150,
          -140,
          -130,
          -120,
          -110,
          -100,
          -90,
          -80,
          -70,
          -60,
          -50,
          -40,
          -30
         ],
         "y": [
          0.5,
          0.55,
          0.6,
          0.65,
          0.7,
          0.75,
          0.8,
          0.85,
          0.9
         ],
         "z": [
          [
           0.1862288767507186,
           0.1902288245916562,
           0.189540676123811,
           0.2001452162858835,
           0.1940060063604368,
           0.1930211659224781,
           0.2008124525341878,
           0.2002353309455658,
           0.1955975788287514,
           0.2040624884792454,
           0.1896737312621153,
           0.2001723176132352,
           0.193039808978537,
           0.2071496581386993,
           0.1968410148940834,
           0.2125275637974198,
           0.2284486430496082,
           0.2081856515993388
          ],
          [
           0.188559268534717,
           0.1931828629448294,
           0.1970029695990283,
           0.1921089607426777,
           0.2007912824798636,
           0.1924613443835585,
           0.1850051272842347,
           0.1932060068177993,
           0.1918275330484927,
           0.1977304226994697,
           0.1890051811340143,
           0.1931951872403153,
           0.2058029337639111,
           0.2079209265666628,
           0.2060404605138235,
           0.1925144979731739,
           0.2225788756172863,
           0.2106448996640262
          ],
          [
           0.1863197702056185,
           0.1957707453766664,
           0.1921225190619641,
           0.1904194734145707,
           0.1983018361484979,
           0.1885854850759761,
           0.1949405574372427,
           0.2017441048316366,
           0.1990899898721602,
           0.2019674843846835,
           0.1920966096636155,
           0.1988205864322493,
           0.2034533977244979,
           0.2014095214434935,
           0.1972087553514621,
           0.2040965132695115,
           0.2334823478511617,
           0.217390165389165
          ],
          [
           0.1870864224597788,
           0.1845685775816032,
           0.1899283891511151,
           0.1928829429669774,
           0.201027100988761,
           0.1926136551841381,
           0.1961066791435425,
           0.1951718390521884,
           0.1928952867033749,
           0.200876601346102,
           0.1942546303329434,
           0.2049307897930098,
           0.1964866350349956,
           0.2017127198153518,
           0.2041476706769646,
           0.2178579793579166,
           0.2324187918146452,
           0.2120247870066695
          ],
          [
           0.1799273681063144,
           0.1942939947691752,
           0.1948574950839738,
           0.1957495370633743,
           0.2019503181248941,
           0.1941877241615974,
           0.188564775887888,
           0.1970390011261071,
           0.1974616243228415,
           0.2045273358888822,
           0.1995379830172728,
           0.2067075289002735,
           0.1932590024144747,
           0.2027541729670937,
           0.2071950343082073,
           0.211799559090994,
           0.2329603772918444,
           0.2176829526394186
          ],
          [
           0.1866879931541537,
           0.1958628781481425,
           0.1993179644492843,
           0.1932588081956259,
           0.1920766012212832,
           0.2007682282128701,
           0.191016963039765,
           0.2025786561321859,
           0.1986861694990633,
           0.1923326300387001,
           0.1999791592368735,
           0.2121714022683716,
           0.2021186572630405,
           0.2138921065563025,
           0.2110559789659622,
           0.2224494563719239,
           0.2319465577187147,
           0.2120993852782717
          ],
          [
           0.1898081036359893,
           0.1878557837895041,
           0.1954656739746137,
           0.1946499345795692,
           0.1906911896071681,
           0.1975954881219022,
           0.1932829326996567,
           0.2016112135077988,
           0.2012895231786817,
           0.1955730139429899,
           0.2001537214828906,
           0.2005991859116224,
           0.2054757925074861,
           0.2115206582047151,
           0.2134541220269339,
           0.2231442974244507,
           0.2339429248643685,
           0.2134358587932892
          ],
          [
           0.1897990327648963,
           0.1869651773438901,
           0.1959506186042272,
           0.1925117642571533,
           0.1888583677747633,
           0.1962533864604183,
           0.1905939993272676,
           0.1960183393847444,
           0.2033458087783656,
           0.2031773396734038,
           0.1989162067427582,
           0.2030041137522595,
           0.2074778820815252,
           0.2114062580130097,
           0.2055672969851199,
           0.2217987780469105,
           0.2213180661219964,
           0.2066887566571418
          ],
          [
           0.1887936751848525,
           0.193290929324654,
           0.1856686384391444,
           0.1937647600698408,
           0.200682580656496,
           0.2011884039646722,
           0.1873615360786629,
           0.1962120212209261,
           0.1994925123856772,
           0.2090623441543716,
           0.1986956144882651,
           0.2111830465408101,
           0.2070146427160891,
           0.2103336715473401,
           0.20816308169976,
           0.2234043071259825,
           0.2231309068324987,
           0.2109734275968552
          ]
         ]
        }
       ],
       "layout": {
        "shapes": [
         {
          "line": {
           "color": "Red",
           "width": 2
          },
          "type": "rect",
          "x0": -45,
          "x1": -35,
          "xref": "x",
          "y0": 0.775,
          "y1": 0.8250000000000001,
          "yref": "y"
         },
         {
          "line": {
           "color": "Red",
           "width": 2
          },
          "type": "rect",
          "x0": -45,
          "x1": -35,
          "xref": "x",
          "y0": 0.575,
          "y1": 0.625,
          "yref": "y"
         }
        ],
        "template": {
         "data": {
          "bar": [
           {
            "error_x": {
             "color": "#2a3f5f"
            },
            "error_y": {
             "color": "#2a3f5f"
            },
            "marker": {
             "line": {
              "color": "#E5ECF6",
              "width": 0.5
             },
             "pattern": {
              "fillmode": "overlay",
              "size": 10,
              "solidity": 0.2
             }
            },
            "type": "bar"
           }
          ],
          "barpolar": [
           {
            "marker": {
             "line": {
              "color": "#E5ECF6",
              "width": 0.5
             },
             "pattern": {
              "fillmode": "overlay",
              "size": 10,
              "solidity": 0.2
             }
            },
            "type": "barpolar"
           }
          ],
          "carpet": [
           {
            "aaxis": {
             "endlinecolor": "#2a3f5f",
             "gridcolor": "white",
             "linecolor": "white",
             "minorgridcolor": "white",
             "startlinecolor": "#2a3f5f"
            },
            "baxis": {
             "endlinecolor": "#2a3f5f",
             "gridcolor": "white",
             "linecolor": "white",
             "minorgridcolor": "white",
             "startlinecolor": "#2a3f5f"
            },
            "type": "carpet"
           }
          ],
          "choropleth": [
           {
            "colorbar": {
             "outlinewidth": 0,
             "ticks": ""
            },
            "type": "choropleth"
           }
          ],
          "contour": [
           {
            "colorbar": {
             "outlinewidth": 0,
             "ticks": ""
            },
            "colorscale": [
             [
              0,
              "#0d0887"
             ],
             [
              0.1111111111111111,
              "#46039f"
             ],
             [
              0.2222222222222222,
              "#7201a8"
             ],
             [
              0.3333333333333333,
              "#9c179e"
             ],
             [
              0.4444444444444444,
              "#bd3786"
             ],
             [
              0.5555555555555556,
              "#d8576b"
             ],
             [
              0.6666666666666666,
              "#ed7953"
             ],
             [
              0.7777777777777778,
              "#fb9f3a"
             ],
             [
              0.8888888888888888,
              "#fdca26"
             ],
             [
              1,
              "#f0f921"
             ]
            ],
            "type": "contour"
           }
          ],
          "contourcarpet": [
           {
            "colorbar": {
             "outlinewidth": 0,
             "ticks": ""
            },
            "type": "contourcarpet"
           }
          ],
          "heatmap": [
           {
            "colorbar": {
             "outlinewidth": 0,
             "ticks": ""
            },
            "colorscale": [
             [
              0,
              "#0d0887"
             ],
             [
              0.1111111111111111,
              "#46039f"
             ],
             [
              0.2222222222222222,
              "#7201a8"
             ],
             [
              0.3333333333333333,
              "#9c179e"
             ],
             [
              0.4444444444444444,
              "#bd3786"
             ],
             [
              0.5555555555555556,
              "#d8576b"
             ],
             [
              0.6666666666666666,
              "#ed7953"
             ],
             [
              0.7777777777777778,
              "#fb9f3a"
             ],
             [
              0.8888888888888888,
              "#fdca26"
             ],
             [
              1,
              "#f0f921"
             ]
            ],
            "type": "heatmap"
           }
          ],
          "heatmapgl": [
           {
            "colorbar": {
             "outlinewidth": 0,
             "ticks": ""
            },
            "colorscale": [
             [
              0,
              "#0d0887"
             ],
             [
              0.1111111111111111,
              "#46039f"
             ],
             [
              0.2222222222222222,
              "#7201a8"
             ],
             [
              0.3333333333333333,
              "#9c179e"
             ],
             [
              0.4444444444444444,
              "#bd3786"
             ],
             [
              0.5555555555555556,
              "#d8576b"
             ],
             [
              0.6666666666666666,
              "#ed7953"
             ],
             [
              0.7777777777777778,
              "#fb9f3a"
             ],
             [
              0.8888888888888888,
              "#fdca26"
             ],
             [
              1,
              "#f0f921"
             ]
            ],
            "type": "heatmapgl"
           }
          ],
          "histogram": [
           {
            "marker": {
             "pattern": {
              "fillmode": "overlay",
              "size": 10,
              "solidity": 0.2
             }
            },
            "type": "histogram"
           }
          ],
          "histogram2d": [
           {
            "colorbar": {
             "outlinewidth": 0,
             "ticks": ""
            },
            "colorscale": [
             [
              0,
              "#0d0887"
             ],
             [
              0.1111111111111111,
              "#46039f"
             ],
             [
              0.2222222222222222,
              "#7201a8"
             ],
             [
              0.3333333333333333,
              "#9c179e"
             ],
             [
              0.4444444444444444,
              "#bd3786"
             ],
             [
              0.5555555555555556,
              "#d8576b"
             ],
             [
              0.6666666666666666,
              "#ed7953"
             ],
             [
              0.7777777777777778,
              "#fb9f3a"
             ],
             [
              0.8888888888888888,
              "#fdca26"
             ],
             [
              1,
              "#f0f921"
             ]
            ],
            "type": "histogram2d"
           }
          ],
          "histogram2dcontour": [
           {
            "colorbar": {
             "outlinewidth": 0,
             "ticks": ""
            },
            "colorscale": [
             [
              0,
              "#0d0887"
             ],
             [
              0.1111111111111111,
              "#46039f"
             ],
             [
              0.2222222222222222,
              "#7201a8"
             ],
             [
              0.3333333333333333,
              "#9c179e"
             ],
             [
              0.4444444444444444,
              "#bd3786"
             ],
             [
              0.5555555555555556,
              "#d8576b"
             ],
             [
              0.6666666666666666,
              "#ed7953"
             ],
             [
              0.7777777777777778,
              "#fb9f3a"
             ],
             [
              0.8888888888888888,
              "#fdca26"
             ],
             [
              1,
              "#f0f921"
             ]
            ],
            "type": "histogram2dcontour"
           }
          ],
          "mesh3d": [
           {
            "colorbar": {
             "outlinewidth": 0,
             "ticks": ""
            },
            "type": "mesh3d"
           }
          ],
          "parcoords": [
           {
            "line": {
             "colorbar": {
              "outlinewidth": 0,
              "ticks": ""
             }
            },
            "type": "parcoords"
           }
          ],
          "pie": [
           {
            "automargin": true,
            "type": "pie"
           }
          ],
          "scatter": [
           {
            "fillpattern": {
             "fillmode": "overlay",
             "size": 10,
             "solidity": 0.2
            },
            "type": "scatter"
           }
          ],
          "scatter3d": [
           {
            "line": {
             "colorbar": {
              "outlinewidth": 0,
              "ticks": ""
             }
            },
            "marker": {
             "colorbar": {
              "outlinewidth": 0,
              "ticks": ""
             }
            },
            "type": "scatter3d"
           }
          ],
          "scattercarpet": [
           {
            "marker": {
             "colorbar": {
              "outlinewidth": 0,
              "ticks": ""
             }
            },
            "type": "scattercarpet"
           }
          ],
          "scattergeo": [
           {
            "marker": {
             "colorbar": {
              "outlinewidth": 0,
              "ticks": ""
             }
            },
            "type": "scattergeo"
           }
          ],
          "scattergl": [
           {
            "marker": {
             "colorbar": {
              "outlinewidth": 0,
              "ticks": ""
             }
            },
            "type": "scattergl"
           }
          ],
          "scattermapbox": [
           {
            "marker": {
             "colorbar": {
              "outlinewidth": 0,
              "ticks": ""
             }
            },
            "type": "scattermapbox"
           }
          ],
          "scatterpolar": [
           {
            "marker": {
             "colorbar": {
              "outlinewidth": 0,
              "ticks": ""
             }
            },
            "type": "scatterpolar"
           }
          ],
          "scatterpolargl": [
           {
            "marker": {
             "colorbar": {
              "outlinewidth": 0,
              "ticks": ""
             }
            },
            "type": "scatterpolargl"
           }
          ],
          "scatterternary": [
           {
            "marker": {
             "colorbar": {
              "outlinewidth": 0,
              "ticks": ""
             }
            },
            "type": "scatterternary"
           }
          ],
          "surface": [
           {
            "colorbar": {
             "outlinewidth": 0,
             "ticks": ""
            },
            "colorscale": [
             [
              0,
              "#0d0887"
             ],
             [
              0.1111111111111111,
              "#46039f"
             ],
             [
              0.2222222222222222,
              "#7201a8"
             ],
             [
              0.3333333333333333,
              "#9c179e"
             ],
             [
              0.4444444444444444,
              "#bd3786"
             ],
             [
              0.5555555555555556,
              "#d8576b"
             ],
             [
              0.6666666666666666,
              "#ed7953"
             ],
             [
              0.7777777777777778,
              "#fb9f3a"
             ],
             [
              0.8888888888888888,
              "#fdca26"
             ],
             [
              1,
              "#f0f921"
             ]
            ],
            "type": "surface"
           }
          ],
          "table": [
           {
            "cells": {
             "fill": {
              "color": "#EBF0F8"
             },
             "line": {
              "color": "white"
             }
            },
            "header": {
             "fill": {
              "color": "#C8D4E3"
             },
             "line": {
              "color": "white"
             }
            },
            "type": "table"
           }
          ]
         },
         "layout": {
          "annotationdefaults": {
           "arrowcolor": "#2a3f5f",
           "arrowhead": 0,
           "arrowwidth": 1
          },
          "autotypenumbers": "strict",
          "coloraxis": {
           "colorbar": {
            "outlinewidth": 0,
            "ticks": ""
           }
          },
          "colorscale": {
           "diverging": [
            [
             0,
             "#8e0152"
            ],
            [
             0.1,
             "#c51b7d"
            ],
            [
             0.2,
             "#de77ae"
            ],
            [
             0.3,
             "#f1b6da"
            ],
            [
             0.4,
             "#fde0ef"
            ],
            [
             0.5,
             "#f7f7f7"
            ],
            [
             0.6,
             "#e6f5d0"
            ],
            [
             0.7,
             "#b8e186"
            ],
            [
             0.8,
             "#7fbc41"
            ],
            [
             0.9,
             "#4d9221"
            ],
            [
             1,
             "#276419"
            ]
           ],
           "sequential": [
            [
             0,
             "#0d0887"
            ],
            [
             0.1111111111111111,
             "#46039f"
            ],
            [
             0.2222222222222222,
             "#7201a8"
            ],
            [
             0.3333333333333333,
             "#9c179e"
            ],
            [
             0.4444444444444444,
             "#bd3786"
            ],
            [
             0.5555555555555556,
             "#d8576b"
            ],
            [
             0.6666666666666666,
             "#ed7953"
            ],
            [
             0.7777777777777778,
             "#fb9f3a"
            ],
            [
             0.8888888888888888,
             "#fdca26"
            ],
            [
             1,
             "#f0f921"
            ]
           ],
           "sequentialminus": [
            [
             0,
             "#0d0887"
            ],
            [
             0.1111111111111111,
             "#46039f"
            ],
            [
             0.2222222222222222,
             "#7201a8"
            ],
            [
             0.3333333333333333,
             "#9c179e"
            ],
            [
             0.4444444444444444,
             "#bd3786"
            ],
            [
             0.5555555555555556,
             "#d8576b"
            ],
            [
             0.6666666666666666,
             "#ed7953"
            ],
            [
             0.7777777777777778,
             "#fb9f3a"
            ],
            [
             0.8888888888888888,
             "#fdca26"
            ],
            [
             1,
             "#f0f921"
            ]
           ]
          },
          "colorway": [
           "#636efa",
           "#EF553B",
           "#00cc96",
           "#ab63fa",
           "#FFA15A",
           "#19d3f3",
           "#FF6692",
           "#B6E880",
           "#FF97FF",
           "#FECB52"
          ],
          "font": {
           "color": "#2a3f5f"
          },
          "geo": {
           "bgcolor": "white",
           "lakecolor": "white",
           "landcolor": "#E5ECF6",
           "showlakes": true,
           "showland": true,
           "subunitcolor": "white"
          },
          "hoverlabel": {
           "align": "left"
          },
          "hovermode": "closest",
          "mapbox": {
           "style": "light"
          },
          "paper_bgcolor": "white",
          "plot_bgcolor": "#E5ECF6",
          "polar": {
           "angularaxis": {
            "gridcolor": "white",
            "linecolor": "white",
            "ticks": ""
           },
           "bgcolor": "#E5ECF6",
           "radialaxis": {
            "gridcolor": "white",
            "linecolor": "white",
            "ticks": ""
           }
          },
          "scene": {
           "xaxis": {
            "backgroundcolor": "#E5ECF6",
            "gridcolor": "white",
            "gridwidth": 2,
            "linecolor": "white",
            "showbackground": true,
            "ticks": "",
            "zerolinecolor": "white"
           },
           "yaxis": {
            "backgroundcolor": "#E5ECF6",
            "gridcolor": "white",
            "gridwidth": 2,
            "linecolor": "white",
            "showbackground": true,
            "ticks": "",
            "zerolinecolor": "white"
           },
           "zaxis": {
            "backgroundcolor": "#E5ECF6",
            "gridcolor": "white",
            "gridwidth": 2,
            "linecolor": "white",
            "showbackground": true,
            "ticks": "",
            "zerolinecolor": "white"
           }
          },
          "shapedefaults": {
           "line": {
            "color": "#2a3f5f"
           }
          },
          "ternary": {
           "aaxis": {
            "gridcolor": "white",
            "linecolor": "white",
            "ticks": ""
           },
           "baxis": {
            "gridcolor": "white",
            "linecolor": "white",
            "ticks": ""
           },
           "bgcolor": "#E5ECF6",
           "caxis": {
            "gridcolor": "white",
            "linecolor": "white",
            "ticks": ""
           }
          },
          "title": {
           "x": 0.05
          },
          "xaxis": {
           "automargin": true,
           "gridcolor": "white",
           "linecolor": "white",
           "ticks": "",
           "title": {
            "standoff": 15
           },
           "zerolinecolor": "white",
           "zerolinewidth": 2
          },
          "yaxis": {
           "automargin": true,
           "gridcolor": "white",
           "linecolor": "white",
           "ticks": "",
           "title": {
            "standoff": 15
           },
           "zerolinecolor": "white",
           "zerolinewidth": 2
          }
         }
        },
        "xaxis": {
         "nticks": 36,
         "title": {
          "text": "Preference value"
         }
        },
        "yaxis": {
         "title": {
          "text": "Damping value"
         }
        }
       }
      }
     },
     "metadata": {},
     "output_type": "display_data"
    }
   ],
   "source": [
    "import pandas as pd\n",
    "import plotly.graph_objects as go\n",
    "import numpy as np\n",
    "\n",
    "df = pd.read_csv('fine_tune_affinity_propagation.csv')\n",
    "# Remove all damping values above 0.9\n",
    "df = df[df['Damping'] <= 0.9]\n",
    "\n",
    "# Remove all average annotations above 100\n",
    "df = df[df['Avg Annotations'] <= 200]\n",
    "\n",
    "# Calculate weighted score\n",
    "df['Weighted Score'] = df['Score'] ** 2 / df['Avg Annotations']\n",
    "\n",
    "# Plot heatmap of weighted scores\n",
    "import plotly.graph_objects as go\n",
    "\n",
    "fig = go.Figure(data=go.Heatmap(\n",
    "                        z=df['Score'].values.reshape(len(df['Damping'].unique()), len(df['Preference'].unique())),\n",
    "                        x=df['Preference'].unique(),\n",
    "                        y=df['Damping'].unique(),\n",
    "                        colorscale='Viridis'))\n",
    "\n",
    "fig.update_layout(\n",
    "    xaxis_nticks=36,\n",
    "    yaxis={'title': 'Damping value'},\n",
    "    xaxis={'title': 'Preference value'}\n",
    ")\n",
    "\n",
    "# Highlight top 5 values with red border\n",
    "df = df.sort_values(by='Score', ascending=False)\n",
    "for i in range(2):\n",
    "    fig.add_shape(\n",
    "        type=\"rect\",\n",
    "        xref=\"x\",\n",
    "        yref=\"y\",\n",
    "        x0=df.iloc[i]['Preference'] - 5,\n",
    "        y0=df.iloc[i]['Damping'] - 0.025,\n",
    "        x1=df.iloc[i]['Preference'] + 5,\n",
    "        y1=df.iloc[i]['Damping'] + 0.025,\n",
    "        line=dict(\n",
    "            color=\"Red\",\n",
    "            width=2\n",
    "        )\n",
    "    )\n",
    "\n",
    "fig.show()"
   ]
  },
  {
   "cell_type": "code",
   "execution_count": null,
   "metadata": {},
   "outputs": [
    {
     "name": "stdout",
     "output_type": "stream",
     "text": [
      "Total data: 3667\n",
      "Annotations: 10\n",
      "Preprocessing data: Applying StandardScaler\n",
      "Unique labels:  ['Standing' 'Walking Downstairs']\n",
      "Iteration 1\n",
      "Novelty detected: 3649\n",
      "Representative samples chosen for annotation: 122\n",
      "Starting uncertainty sampling and model training\n",
      "Total data: 366700     |Labelled data size: 792  |Unlabelled data size: 2875\n",
      "Annotations: 10\n",
      "Preprocessing data: Applying StandardScaler\n",
      "Unique labels:  ['Standing' 'Walking Downstairs']\n",
      "Iteration 1\n",
      "Novelty detected: 3649\n",
      "Representative samples chosen for annotation: 126\n",
      "Starting uncertainty sampling and model training\n",
      "Total data: 366700     |Labelled data size: 796  |Unlabelled data size: 2871\n",
      "Annotations: 10\n",
      "Preprocessing data: Applying StandardScaler\n",
      "Unique labels:  ['Standing' 'Walking Downstairs']\n",
      "Iteration 1\n",
      "Novelty detected: 3649\n",
      "Representative samples chosen for annotation: 483\n",
      "Starting uncertainty sampling and model training\n",
      "Total data: 366700     |Labelled data size: 793  |Unlabelled data size: 2874\n",
      "Annotations: 10\n",
      "Preprocessing data: Applying StandardScaler\n",
      "Unique labels:  ['Standing' 'Walking Downstairs']\n",
      "Iteration 1\n",
      "Novelty detected: 3649\n",
      "Representative samples chosen for annotation: 479\n",
      "Starting uncertainty sampling and model training\n",
      "Iteration 31  /500     |Labelled data size: 799  |Unlabelled data size: 2868\r"
     ]
    }
   ],
   "source": [
    "from OCluDAL import OCluDAL\n",
    "import numpy as np\n",
    "\n",
    "# Path to the data\n",
    "# indices = np.random.choice(4000, 10, replace=False)\n",
    "indices = np.arange(138, 148)\n",
    "path = 'PreProcessing\\\\USC\\\\CompiledData_7.csv'\n",
    "annotations = 10\n",
    "\n",
    "damping_pref_tuples = {\n",
    "    'combination1': (0.75, -190),\n",
    "    'combination2': (0.75, -180),\n",
    "    'combination3': (0.8, -40),\n",
    "    'combination4': (0.6, -40)\n",
    "}\n",
    "\n",
    "for key, (damping, pref) in damping_pref_tuples.items():\n",
    "    # OC = OCluDAL(path, annotations, damping=damping, preference=pref)\n",
    "    # OC.initialise_data(indices=indices, output_path=f'{key}_1_iter.csv')\n",
    "    # OC.preprocessing()\n",
    "    # OC.step1(max_iter=1)\n",
    "    # clf = OC.step2(max_iter=500, n=10, max_samples=500)\n",
    "\n",
    "    OC = OCluDAL(path, annotations, damping=damping, preference=pref)\n",
    "    OC.initialise_data(indices=indices, output_path=f'{key}_2_heatmap_verification.csv')\n",
    "    OC.preprocessing()\n",
    "    OC.step1(max_iter=1)\n",
    "    clf = OC.step2(max_iter=500, n=10, max_samples=800)\n",
    "\n",
    "# OC = OCluDAL(path, annotations)\n",
    "# OC.initialise_data(indices=indices, output_path='baseline_0_iter.csv')\n",
    "# OC.preprocessing()\n",
    "# OC.step1(max_iter=0)\n",
    "# clf = OC.step2(max_iter=500, n=10, max_samples=500)\n"
   ]
  },
  {
   "cell_type": "code",
   "execution_count": null,
   "metadata": {},
   "outputs": [
    {
     "data": {
      "application/vnd.plotly.v1+json": {
       "config": {
        "plotlyServerURL": "https://plot.ly"
       },
       "data": [
        {
         "line": {
          "color": "rgb(102, 197, 204)"
         },
         "name": "Damping = 0.75, Preference = -190",
         "type": "scatter",
         "x": [
          10,
          132,
          132,
          132,
          142,
          142,
          152,
          152,
          162,
          162,
          172,
          172,
          182,
          182,
          192,
          192,
          202,
          202,
          212,
          212,
          222,
          222,
          232,
          232,
          242,
          242,
          252,
          252,
          262,
          262,
          272,
          272,
          282,
          282,
          292,
          292,
          302,
          302,
          312,
          312,
          322,
          322,
          332,
          332,
          342,
          342,
          352,
          352,
          362,
          362,
          372,
          372,
          382,
          382,
          392,
          392,
          402,
          402,
          412,
          412,
          422,
          422,
          432,
          432,
          442,
          442,
          452,
          452,
          462,
          462,
          472,
          472,
          482,
          482,
          492,
          492,
          502,
          502,
          512,
          512,
          522,
          522,
          532,
          532,
          542,
          542,
          552,
          552,
          562,
          562,
          572,
          572,
          582,
          582,
          592,
          592,
          602,
          602,
          612,
          612,
          622,
          622,
          632,
          632,
          642,
          642,
          652,
          652,
          662,
          662,
          672,
          672,
          682,
          682,
          692,
          692,
          702,
          702,
          712,
          712,
          722,
          722,
          732,
          732,
          742,
          742,
          752,
          752,
          762,
          762,
          772,
          772,
          782,
          782,
          792,
          792,
          802,
          802
         ],
         "y": [
          0.1350834016953787,
          0.5422913719943423,
          0.5422913719943423,
          0.5422913719943423,
          0.4825531914893617,
          0.4825531914893617,
          0.5098150782361308,
          0.5098150782361308,
          0.4770328102710414,
          0.4770328102710414,
          0.6131616595135908,
          0.6131616595135908,
          0.6634146341463415,
          0.6634146341463415,
          0.6083453237410072,
          0.6083453237410072,
          0.6733044733044733,
          0.6733044733044733,
          0.7036179450072358,
          0.7036179450072358,
          0.7256894049346879,
          0.7256894049346879,
          0.757787481804949,
          0.757787481804949,
          0.7521167883211679,
          0.7521167883211679,
          0.7944363103953148,
          0.7944363103953148,
          0.7847283406754773,
          0.7847283406754773,
          0.8035346097201768,
          0.8035346097201768,
          0.806794682422452,
          0.806794682422452,
          0.8154074074074074,
          0.8154074074074074,
          0.8154531946508172,
          0.8154531946508172,
          0.8140089418777944,
          0.8140089418777944,
          0.8266068759342302,
          0.8266068759342302,
          0.8143928035982009,
          0.8143928035982009,
          0.8261654135338345,
          0.8261654135338345,
          0.8328808446455506,
          0.8328808446455506,
          0.8332829046898639,
          0.8332829046898639,
          0.8315629742033384,
          0.8315629742033384,
          0.8322678843226788,
          0.8322678843226788,
          0.8354198473282443,
          0.8354198473282443,
          0.839509954058193,
          0.839509954058193,
          0.8463901689708141,
          0.8463901689708141,
          0.8579352850539291,
          0.8579352850539291,
          0.8633693972179289,
          0.8633693972179289,
          0.866046511627907,
          0.866046511627907,
          0.8618973561430793,
          0.8618973561430793,
          0.8567862714508581,
          0.8567862714508581,
          0.8663536776212832,
          0.8663536776212832,
          0.8775510204081632,
          0.8775510204081632,
          0.8771653543307086,
          0.8771653543307086,
          0.874565560821485,
          0.874565560821485,
          0.8719492868462757,
          0.8719492868462757,
          0.8693163751987282,
          0.8693163751987282,
          0.8609250398724083,
          0.8609250398724083,
          0.88512,
          0.88512,
          0.8825040128410915,
          0.8825040128410915,
          0.8769726247987117,
          0.8769726247987117,
          0.8768982229402261,
          0.8768982229402261,
          0.8713128038897893,
          0.8713128038897893,
          0.8734959349593496,
          0.8734959349593496,
          0.8747145187601958,
          0.8747145187601958,
          0.8788870703764321,
          0.8788870703764321,
          0.8804597701149425,
          0.8804597701149425,
          0.8958813838550247,
          0.8958813838550247,
          0.9011570247933884,
          0.9011570247933884,
          0.9024875621890548,
          0.9024875621890548,
          0.9058236272878536,
          0.9058236272878536,
          0.896160267111853,
          0.896160267111853,
          0.8981574539363484,
          0.8981574539363484,
          0.9105882352941176,
          0.9105882352941176,
          0.9079258010118044,
          0.9079258010118044,
          0.9069373942470388,
          0.9069373942470388,
          0.9110356536502546,
          0.9110356536502546,
          0.9066439522998296,
          0.9066439522998296,
          0.9117948717948718,
          0.9117948717948718,
          0.9135506003430532,
          0.9135506003430532,
          0.8929432013769363,
          0.8929432013769363,
          0.9043177892918826,
          0.9043177892918826,
          0.9116117850953206,
          0.9116117850953206,
          0.9255652173913044,
          0.9255652173913044,
          0.9183246073298428,
          0.9183246073298428
         ]
        },
        {
         "line": {
          "color": "rgb(246, 207, 113)"
         },
         "name": "Damping = 0.75, Preference = -180",
         "type": "scatter",
         "x": [
          10,
          136,
          136,
          136,
          146,
          146,
          156,
          156,
          166,
          166,
          176,
          176,
          186,
          186,
          196,
          196,
          206,
          206,
          216,
          216,
          226,
          226,
          236,
          236,
          246,
          246,
          256,
          256,
          266,
          266,
          276,
          276,
          286,
          286,
          296,
          296,
          306,
          306,
          316,
          316,
          326,
          326,
          336,
          336,
          346,
          346,
          356,
          356,
          366,
          366,
          376,
          376,
          386,
          386,
          396,
          396,
          406,
          406,
          416,
          416,
          426,
          426,
          436,
          436,
          446,
          446,
          456,
          456,
          466,
          466,
          476,
          476,
          486,
          486,
          496,
          496,
          506,
          506,
          516,
          516,
          526,
          526,
          536,
          536,
          546,
          546,
          556,
          556,
          566,
          566,
          576,
          576,
          586,
          586,
          596,
          596,
          606,
          606,
          616,
          616,
          626,
          626,
          636,
          636,
          646,
          646,
          656,
          656,
          666,
          666,
          676,
          676,
          686,
          686,
          696,
          696,
          706,
          706,
          716,
          716,
          726,
          726,
          736,
          736,
          746,
          746,
          756,
          756,
          766,
          766,
          776,
          776,
          786,
          786,
          796,
          796,
          806,
          806
         ],
         "y": [
          0.1350834016953787,
          0.4129141886151232,
          0.4129141886151232,
          0.4129141886151232,
          0.4924737290542459,
          0.4924737290542459,
          0.5474223867843919,
          0.5474223867843919,
          0.6052556412453585,
          0.6052556412453585,
          0.6336293325694643,
          0.6336293325694643,
          0.6693478885377765,
          0.6693478885377765,
          0.668971477960242,
          0.668971477960242,
          0.61167292689974,
          0.61167292689974,
          0.6172124022022603,
          0.6172124022022603,
          0.6236559139784946,
          0.6236559139784946,
          0.6415039347129117,
          0.6415039347129117,
          0.6495176848874598,
          0.6495176848874598,
          0.7314570507182644,
          0.7314570507182644,
          0.7662452219935313,
          0.7662452219935313,
          0.8097906222353288,
          0.8097906222353288,
          0.8101153504880213,
          0.8101153504880213,
          0.8065855829130821,
          0.8065855829130821,
          0.8074977685212734,
          0.8074977685212734,
          0.8108027454491197,
          0.8108027454491197,
          0.8114337024842861,
          0.8114337024842861,
          0.8150705493845692,
          0.8150705493845692,
          0.7970490816019271,
          0.7970490816019271,
          0.8193899124131683,
          0.8193899124131683,
          0.8191457134201757,
          0.8191457134201757,
          0.8195077484047402,
          0.8195077484047402,
          0.832063395306309,
          0.832063395306309,
          0.8419443595230817,
          0.8419443595230817,
          0.848819380558111,
          0.848819380558111,
          0.853583512765303,
          0.853583512765303,
          0.8506633755013885,
          0.8506633755013885,
          0.8601052305787682,
          0.8601052305787682,
          0.8640173859049984,
          0.8640173859049984,
          0.8614138897539707,
          0.8614138897539707,
          0.8628553577007185,
          0.8628553577007185,
          0.8652460043873393,
          0.8652460043873393,
          0.8607356177302735,
          0.8607356177302735,
          0.8659728792179123,
          0.8659728792179123,
          0.8728250553622271,
          0.8728250553622271,
          0.8806728022849889,
          0.8806728022849889,
          0.8853868194842407,
          0.8853868194842407,
          0.881826892366656,
          0.881826892366656,
          0.8808074335148991,
          0.8808074335148991,
          0.8878174220507875,
          0.8878174220507875,
          0.891002902289584,
          0.891002902289584,
          0.8971206729213846,
          0.8971206729213846,
          0.8928919182083739,
          0.8928919182083739,
          0.8971019211983068,
          0.8971019211983068,
          0.9000326690623979,
          0.9000326690623979,
          0.9121599475581776,
          0.9121599475581776,
          0.9102268990463664,
          0.9102268990463664,
          0.9158693500494888,
          0.9158693500494888,
          0.917907977490897,
          0.917907977490897,
          0.9209564928595152,
          0.9209564928595152,
          0.9176941019660112,
          0.9176941019660112,
          0.9167502507522568,
          0.9167502507522568,
          0.918819188191882,
          0.918819188191882,
          0.9235947492426791,
          0.9235947492426791,
          0.9260385005065856,
          0.9260385005065856,
          0.9274822094205354,
          0.9274822094205354,
          0.9272356341380484,
          0.9272356341380484,
          0.9286932787444558,
          0.9286932787444558,
          0.9294762067785004,
          0.9294762067785004,
          0.9340432840948129,
          0.9340432840948129,
          0.9362288865908308,
          0.9362288865908308,
          0.9228640608785889,
          0.9228640608785889,
          0.9382158972578966,
          0.9382158972578966,
          0.9386973180076628,
          0.9386973180076628,
          0.94023068857043,
          0.94023068857043
         ]
        },
        {
         "line": {
          "color": "rgb(248, 156, 116)"
         },
         "name": "Damping = 0.8, Preference = -40",
         "type": "scatter",
         "x": [
          10,
          493,
          493,
          493,
          503,
          503,
          513,
          513,
          523,
          523,
          533,
          533,
          543,
          543,
          553,
          553,
          563,
          563,
          573,
          573,
          583,
          583,
          593,
          593,
          603,
          603,
          613,
          613,
          623,
          623,
          633,
          633,
          643,
          643,
          653,
          653,
          663,
          663,
          673,
          673,
          683,
          683,
          693,
          693,
          703,
          703,
          713,
          713,
          723,
          723,
          733,
          733,
          743,
          743,
          753,
          753,
          763,
          763,
          773,
          773,
          783,
          783,
          793,
          793,
          803,
          803
         ],
         "y": [
          0.1350834016953787,
          0.7325141776937618,
          0.7325141776937618,
          0.7325141776937618,
          0.7518963337547409,
          0.7518963337547409,
          0.7599873176918199,
          0.7599873176918199,
          0.7655852417302799,
          0.7655852417302799,
          0.791959157626037,
          0.791959157626037,
          0.8204225352112676,
          0.8204225352112676,
          0.8220937700706487,
          0.8220937700706487,
          0.819909793814433,
          0.819909793814433,
          0.8199741435035552,
          0.8199741435035552,
          0.8271725032425421,
          0.8271725032425421,
          0.8327911515940143,
          0.8327911515940143,
          0.8306135770234987,
          0.8306135770234987,
          0.831041257367387,
          0.831041257367387,
          0.8258869908015769,
          0.8258869908015769,
          0.8292682926829268,
          0.8292682926829268,
          0.8227513227513228,
          0.8227513227513228,
          0.847378898473789,
          0.847378898473789,
          0.8149134487350199,
          0.8149134487350199,
          0.8169672678690715,
          0.8169672678690715,
          0.8213806970509383,
          0.8213806970509383,
          0.8264963012777404,
          0.8264963012777404,
          0.8603238866396761,
          0.8603238866396761,
          0.8625592417061612,
          0.8625592417061612,
          0.8688858695652174,
          0.8688858695652174,
          0.8619631901840491,
          0.8619631901840491,
          0.8662790697674418,
          0.8662790697674418,
          0.86238846945779,
          0.86238846945779,
          0.8701790633608816,
          0.8701790633608816,
          0.8735314443676572,
          0.8735314443676572,
          0.8616504854368932,
          0.8616504854368932,
          0.8632567849686847,
          0.8632567849686847,
          0.8708100558659218,
          0.8708100558659218
         ]
        },
        {
         "line": {
          "color": "rgb(220, 176, 242)"
         },
         "name": "Damping = 0.6, Preference = -40",
         "type": "scatter",
         "x": [
          10,
          489,
          489,
          489,
          499,
          499,
          509,
          509,
          519,
          519,
          529,
          529,
          539,
          539,
          549,
          549,
          559,
          559,
          569,
          569,
          579,
          579,
          589,
          589,
          599,
          599,
          609,
          609,
          619,
          619,
          629,
          629,
          639,
          639,
          649,
          649,
          659,
          659,
          669,
          669,
          679,
          679,
          689,
          689,
          699,
          699,
          709,
          709,
          719,
          719,
          729,
          729,
          739,
          739,
          749,
          749,
          759,
          759,
          769,
          769,
          779,
          779,
          789,
          789,
          799,
          799,
          809,
          809
         ],
         "y": [
          0.1350834016953787,
          0.7312775330396476,
          0.7312775330396476,
          0.7312775330396476,
          0.7440025252525253,
          0.7440025252525253,
          0.753324889170361,
          0.753324889170361,
          0.7662007623888183,
          0.7662007623888183,
          0.769917144678139,
          0.769917144678139,
          0.7781329923273658,
          0.7781329923273658,
          0.7847979474021809,
          0.7847979474021809,
          0.7886100386100386,
          0.7886100386100386,
          0.7921239509360878,
          0.7921239509360878,
          0.7956606217616581,
          0.7956606217616581,
          0.7985705003248863,
          0.7985705003248863,
          0.8119295958279009,
          0.8119295958279009,
          0.8230869849574886,
          0.8230869849574886,
          0.8293963254593176,
          0.8293963254593176,
          0.8278472679394339,
          0.8278472679394339,
          0.8345442536327609,
          0.8345442536327609,
          0.8485752153744202,
          0.8485752153744202,
          0.8503989361702128,
          0.8503989361702128,
          0.8535690460306872,
          0.8535690460306872,
          0.8624497991967871,
          0.8624497991967871,
          0.8663532572196104,
          0.8663532572196104,
          0.8685983827493261,
          0.8685983827493261,
          0.8522650439486139,
          0.8522650439486139,
          0.8453188602442334,
          0.8453188602442334,
          0.8716814159292036,
          0.8716814159292036,
          0.8784153005464481,
          0.8784153005464481,
          0.8793694311172036,
          0.8793694311172036,
          0.8703576341127923,
          0.8703576341127923,
          0.8747412008281573,
          0.8747412008281573,
          0.8611495844875346,
          0.8611495844875346,
          0.8703961084086171,
          0.8703961084086171,
          0.8852859135285913,
          0.8852859135285913,
          0.8971308607417775,
          0.8971308607417775
         ]
        }
       ],
       "layout": {
        "legend": {
         "orientation": "h",
         "x": 1,
         "xanchor": "right",
         "y": 1.02,
         "yanchor": "bottom"
        },
        "shapes": [
         {
          "line": {
           "color": "g    rey",
           "dash": "dot",
           "width": 3
          },
          "name": "Transition between affinity propagation and BvSB sampling",
          "type": "line",
          "x0": 132,
          "x1": 132,
          "y0": 0,
          "y1": 0.5422913719943423
         },
         {
          "line": {
           "color": "g    rey",
           "dash": "dot",
           "width": 3
          },
          "name": "Transition between affinity propagation and BvSB sampling",
          "type": "line",
          "x0": 136,
          "x1": 136,
          "y0": 0,
          "y1": 0.4129141886151232
         },
         {
          "line": {
           "color": "g    rey",
           "dash": "dot",
           "width": 3
          },
          "name": "Transition between affinity propagation and BvSB sampling",
          "type": "line",
          "x0": 493,
          "x1": 493,
          "y0": 0,
          "y1": 0.7325141776937618
         },
         {
          "line": {
           "color": "g    rey",
           "dash": "dot",
           "width": 3
          },
          "name": "Transition between affinity propagation and BvSB sampling",
          "type": "line",
          "x0": 489,
          "x1": 489,
          "y0": 0,
          "y1": 0.7312775330396476
         }
        ],
        "template": {
         "data": {
          "bar": [
           {
            "error_x": {
             "color": "#2a3f5f"
            },
            "error_y": {
             "color": "#2a3f5f"
            },
            "marker": {
             "line": {
              "color": "#E5ECF6",
              "width": 0.5
             },
             "pattern": {
              "fillmode": "overlay",
              "size": 10,
              "solidity": 0.2
             }
            },
            "type": "bar"
           }
          ],
          "barpolar": [
           {
            "marker": {
             "line": {
              "color": "#E5ECF6",
              "width": 0.5
             },
             "pattern": {
              "fillmode": "overlay",
              "size": 10,
              "solidity": 0.2
             }
            },
            "type": "barpolar"
           }
          ],
          "carpet": [
           {
            "aaxis": {
             "endlinecolor": "#2a3f5f",
             "gridcolor": "white",
             "linecolor": "white",
             "minorgridcolor": "white",
             "startlinecolor": "#2a3f5f"
            },
            "baxis": {
             "endlinecolor": "#2a3f5f",
             "gridcolor": "white",
             "linecolor": "white",
             "minorgridcolor": "white",
             "startlinecolor": "#2a3f5f"
            },
            "type": "carpet"
           }
          ],
          "choropleth": [
           {
            "colorbar": {
             "outlinewidth": 0,
             "ticks": ""
            },
            "type": "choropleth"
           }
          ],
          "contour": [
           {
            "colorbar": {
             "outlinewidth": 0,
             "ticks": ""
            },
            "colorscale": [
             [
              0,
              "#0d0887"
             ],
             [
              0.1111111111111111,
              "#46039f"
             ],
             [
              0.2222222222222222,
              "#7201a8"
             ],
             [
              0.3333333333333333,
              "#9c179e"
             ],
             [
              0.4444444444444444,
              "#bd3786"
             ],
             [
              0.5555555555555556,
              "#d8576b"
             ],
             [
              0.6666666666666666,
              "#ed7953"
             ],
             [
              0.7777777777777778,
              "#fb9f3a"
             ],
             [
              0.8888888888888888,
              "#fdca26"
             ],
             [
              1,
              "#f0f921"
             ]
            ],
            "type": "contour"
           }
          ],
          "contourcarpet": [
           {
            "colorbar": {
             "outlinewidth": 0,
             "ticks": ""
            },
            "type": "contourcarpet"
           }
          ],
          "heatmap": [
           {
            "colorbar": {
             "outlinewidth": 0,
             "ticks": ""
            },
            "colorscale": [
             [
              0,
              "#0d0887"
             ],
             [
              0.1111111111111111,
              "#46039f"
             ],
             [
              0.2222222222222222,
              "#7201a8"
             ],
             [
              0.3333333333333333,
              "#9c179e"
             ],
             [
              0.4444444444444444,
              "#bd3786"
             ],
             [
              0.5555555555555556,
              "#d8576b"
             ],
             [
              0.6666666666666666,
              "#ed7953"
             ],
             [
              0.7777777777777778,
              "#fb9f3a"
             ],
             [
              0.8888888888888888,
              "#fdca26"
             ],
             [
              1,
              "#f0f921"
             ]
            ],
            "type": "heatmap"
           }
          ],
          "heatmapgl": [
           {
            "colorbar": {
             "outlinewidth": 0,
             "ticks": ""
            },
            "colorscale": [
             [
              0,
              "#0d0887"
             ],
             [
              0.1111111111111111,
              "#46039f"
             ],
             [
              0.2222222222222222,
              "#7201a8"
             ],
             [
              0.3333333333333333,
              "#9c179e"
             ],
             [
              0.4444444444444444,
              "#bd3786"
             ],
             [
              0.5555555555555556,
              "#d8576b"
             ],
             [
              0.6666666666666666,
              "#ed7953"
             ],
             [
              0.7777777777777778,
              "#fb9f3a"
             ],
             [
              0.8888888888888888,
              "#fdca26"
             ],
             [
              1,
              "#f0f921"
             ]
            ],
            "type": "heatmapgl"
           }
          ],
          "histogram": [
           {
            "marker": {
             "pattern": {
              "fillmode": "overlay",
              "size": 10,
              "solidity": 0.2
             }
            },
            "type": "histogram"
           }
          ],
          "histogram2d": [
           {
            "colorbar": {
             "outlinewidth": 0,
             "ticks": ""
            },
            "colorscale": [
             [
              0,
              "#0d0887"
             ],
             [
              0.1111111111111111,
              "#46039f"
             ],
             [
              0.2222222222222222,
              "#7201a8"
             ],
             [
              0.3333333333333333,
              "#9c179e"
             ],
             [
              0.4444444444444444,
              "#bd3786"
             ],
             [
              0.5555555555555556,
              "#d8576b"
             ],
             [
              0.6666666666666666,
              "#ed7953"
             ],
             [
              0.7777777777777778,
              "#fb9f3a"
             ],
             [
              0.8888888888888888,
              "#fdca26"
             ],
             [
              1,
              "#f0f921"
             ]
            ],
            "type": "histogram2d"
           }
          ],
          "histogram2dcontour": [
           {
            "colorbar": {
             "outlinewidth": 0,
             "ticks": ""
            },
            "colorscale": [
             [
              0,
              "#0d0887"
             ],
             [
              0.1111111111111111,
              "#46039f"
             ],
             [
              0.2222222222222222,
              "#7201a8"
             ],
             [
              0.3333333333333333,
              "#9c179e"
             ],
             [
              0.4444444444444444,
              "#bd3786"
             ],
             [
              0.5555555555555556,
              "#d8576b"
             ],
             [
              0.6666666666666666,
              "#ed7953"
             ],
             [
              0.7777777777777778,
              "#fb9f3a"
             ],
             [
              0.8888888888888888,
              "#fdca26"
             ],
             [
              1,
              "#f0f921"
             ]
            ],
            "type": "histogram2dcontour"
           }
          ],
          "mesh3d": [
           {
            "colorbar": {
             "outlinewidth": 0,
             "ticks": ""
            },
            "type": "mesh3d"
           }
          ],
          "parcoords": [
           {
            "line": {
             "colorbar": {
              "outlinewidth": 0,
              "ticks": ""
             }
            },
            "type": "parcoords"
           }
          ],
          "pie": [
           {
            "automargin": true,
            "type": "pie"
           }
          ],
          "scatter": [
           {
            "fillpattern": {
             "fillmode": "overlay",
             "size": 10,
             "solidity": 0.2
            },
            "type": "scatter"
           }
          ],
          "scatter3d": [
           {
            "line": {
             "colorbar": {
              "outlinewidth": 0,
              "ticks": ""
             }
            },
            "marker": {
             "colorbar": {
              "outlinewidth": 0,
              "ticks": ""
             }
            },
            "type": "scatter3d"
           }
          ],
          "scattercarpet": [
           {
            "marker": {
             "colorbar": {
              "outlinewidth": 0,
              "ticks": ""
             }
            },
            "type": "scattercarpet"
           }
          ],
          "scattergeo": [
           {
            "marker": {
             "colorbar": {
              "outlinewidth": 0,
              "ticks": ""
             }
            },
            "type": "scattergeo"
           }
          ],
          "scattergl": [
           {
            "marker": {
             "colorbar": {
              "outlinewidth": 0,
              "ticks": ""
             }
            },
            "type": "scattergl"
           }
          ],
          "scattermapbox": [
           {
            "marker": {
             "colorbar": {
              "outlinewidth": 0,
              "ticks": ""
             }
            },
            "type": "scattermapbox"
           }
          ],
          "scatterpolar": [
           {
            "marker": {
             "colorbar": {
              "outlinewidth": 0,
              "ticks": ""
             }
            },
            "type": "scatterpolar"
           }
          ],
          "scatterpolargl": [
           {
            "marker": {
             "colorbar": {
              "outlinewidth": 0,
              "ticks": ""
             }
            },
            "type": "scatterpolargl"
           }
          ],
          "scatterternary": [
           {
            "marker": {
             "colorbar": {
              "outlinewidth": 0,
              "ticks": ""
             }
            },
            "type": "scatterternary"
           }
          ],
          "surface": [
           {
            "colorbar": {
             "outlinewidth": 0,
             "ticks": ""
            },
            "colorscale": [
             [
              0,
              "#0d0887"
             ],
             [
              0.1111111111111111,
              "#46039f"
             ],
             [
              0.2222222222222222,
              "#7201a8"
             ],
             [
              0.3333333333333333,
              "#9c179e"
             ],
             [
              0.4444444444444444,
              "#bd3786"
             ],
             [
              0.5555555555555556,
              "#d8576b"
             ],
             [
              0.6666666666666666,
              "#ed7953"
             ],
             [
              0.7777777777777778,
              "#fb9f3a"
             ],
             [
              0.8888888888888888,
              "#fdca26"
             ],
             [
              1,
              "#f0f921"
             ]
            ],
            "type": "surface"
           }
          ],
          "table": [
           {
            "cells": {
             "fill": {
              "color": "#EBF0F8"
             },
             "line": {
              "color": "white"
             }
            },
            "header": {
             "fill": {
              "color": "#C8D4E3"
             },
             "line": {
              "color": "white"
             }
            },
            "type": "table"
           }
          ]
         },
         "layout": {
          "annotationdefaults": {
           "arrowcolor": "#2a3f5f",
           "arrowhead": 0,
           "arrowwidth": 1
          },
          "autotypenumbers": "strict",
          "coloraxis": {
           "colorbar": {
            "outlinewidth": 0,
            "ticks": ""
           }
          },
          "colorscale": {
           "diverging": [
            [
             0,
             "#8e0152"
            ],
            [
             0.1,
             "#c51b7d"
            ],
            [
             0.2,
             "#de77ae"
            ],
            [
             0.3,
             "#f1b6da"
            ],
            [
             0.4,
             "#fde0ef"
            ],
            [
             0.5,
             "#f7f7f7"
            ],
            [
             0.6,
             "#e6f5d0"
            ],
            [
             0.7,
             "#b8e186"
            ],
            [
             0.8,
             "#7fbc41"
            ],
            [
             0.9,
             "#4d9221"
            ],
            [
             1,
             "#276419"
            ]
           ],
           "sequential": [
            [
             0,
             "#0d0887"
            ],
            [
             0.1111111111111111,
             "#46039f"
            ],
            [
             0.2222222222222222,
             "#7201a8"
            ],
            [
             0.3333333333333333,
             "#9c179e"
            ],
            [
             0.4444444444444444,
             "#bd3786"
            ],
            [
             0.5555555555555556,
             "#d8576b"
            ],
            [
             0.6666666666666666,
             "#ed7953"
            ],
            [
             0.7777777777777778,
             "#fb9f3a"
            ],
            [
             0.8888888888888888,
             "#fdca26"
            ],
            [
             1,
             "#f0f921"
            ]
           ],
           "sequentialminus": [
            [
             0,
             "#0d0887"
            ],
            [
             0.1111111111111111,
             "#46039f"
            ],
            [
             0.2222222222222222,
             "#7201a8"
            ],
            [
             0.3333333333333333,
             "#9c179e"
            ],
            [
             0.4444444444444444,
             "#bd3786"
            ],
            [
             0.5555555555555556,
             "#d8576b"
            ],
            [
             0.6666666666666666,
             "#ed7953"
            ],
            [
             0.7777777777777778,
             "#fb9f3a"
            ],
            [
             0.8888888888888888,
             "#fdca26"
            ],
            [
             1,
             "#f0f921"
            ]
           ]
          },
          "colorway": [
           "#636efa",
           "#EF553B",
           "#00cc96",
           "#ab63fa",
           "#FFA15A",
           "#19d3f3",
           "#FF6692",
           "#B6E880",
           "#FF97FF",
           "#FECB52"
          ],
          "font": {
           "color": "#2a3f5f"
          },
          "geo": {
           "bgcolor": "white",
           "lakecolor": "white",
           "landcolor": "#E5ECF6",
           "showlakes": true,
           "showland": true,
           "subunitcolor": "white"
          },
          "hoverlabel": {
           "align": "left"
          },
          "hovermode": "closest",
          "mapbox": {
           "style": "light"
          },
          "paper_bgcolor": "white",
          "plot_bgcolor": "#E5ECF6",
          "polar": {
           "angularaxis": {
            "gridcolor": "white",
            "linecolor": "white",
            "ticks": ""
           },
           "bgcolor": "#E5ECF6",
           "radialaxis": {
            "gridcolor": "white",
            "linecolor": "white",
            "ticks": ""
           }
          },
          "scene": {
           "xaxis": {
            "backgroundcolor": "#E5ECF6",
            "gridcolor": "white",
            "gridwidth": 2,
            "linecolor": "white",
            "showbackground": true,
            "ticks": "",
            "zerolinecolor": "white"
           },
           "yaxis": {
            "backgroundcolor": "#E5ECF6",
            "gridcolor": "white",
            "gridwidth": 2,
            "linecolor": "white",
            "showbackground": true,
            "ticks": "",
            "zerolinecolor": "white"
           },
           "zaxis": {
            "backgroundcolor": "#E5ECF6",
            "gridcolor": "white",
            "gridwidth": 2,
            "linecolor": "white",
            "showbackground": true,
            "ticks": "",
            "zerolinecolor": "white"
           }
          },
          "shapedefaults": {
           "line": {
            "color": "#2a3f5f"
           }
          },
          "ternary": {
           "aaxis": {
            "gridcolor": "white",
            "linecolor": "white",
            "ticks": ""
           },
           "baxis": {
            "gridcolor": "white",
            "linecolor": "white",
            "ticks": ""
           },
           "bgcolor": "#E5ECF6",
           "caxis": {
            "gridcolor": "white",
            "linecolor": "white",
            "ticks": ""
           }
          },
          "title": {
           "x": 0.05
          },
          "xaxis": {
           "automargin": true,
           "gridcolor": "white",
           "linecolor": "white",
           "ticks": "",
           "title": {
            "standoff": 15
           },
           "zerolinecolor": "white",
           "zerolinewidth": 2
          },
          "yaxis": {
           "automargin": true,
           "gridcolor": "white",
           "linecolor": "white",
           "ticks": "",
           "title": {
            "standoff": 15
           },
           "zerolinecolor": "white",
           "zerolinewidth": 2
          }
         }
        },
        "xaxis": {
         "title": {
          "text": "Number of Annotations"
         }
        },
        "yaxis": {
         "range": [
          0,
          1
         ],
         "title": {
          "text": "Accuracy"
         }
        }
       }
      }
     },
     "metadata": {},
     "output_type": "display_data"
    }
   ],
   "source": [
    "import os\n",
    "import pandas as pd\n",
    "import plotly.graph_objects as go\n",
    "import numpy as np\n",
    "\n",
    "folder = 'Results/heatmap_validation'\n",
    "\n",
    "# Get all csv files\n",
    "files = os.listdir(folder)\n",
    "\n",
    "import plotly.express as px\n",
    "pastel = px.colors.qualitative.Pastel\n",
    "\n",
    "# color key\n",
    "color_key = {\n",
    "    'combination1': pastel[0],\n",
    "    'combination2': pastel[1],\n",
    "    'combination3': pastel[2],\n",
    "    'combination4': pastel[3],\n",
    "}\n",
    "\n",
    "# Line style key\n",
    "line_style_key = {\n",
    "    '0': 'solid',\n",
    "    '1': 'solid',\n",
    "    '2': 'dash',\n",
    "    '3': 'dot',\n",
    "}\n",
    "\n",
    "name_key = {\n",
    "    'combination1_2_heatmap_verification.csv': 'Damping = 0.75, Preference = -190',\n",
    "    'combination2_2_heatmap_verification.csv': 'Damping = 0.75, Preference = -180',\n",
    "    'combination3_2_heatmap_verification.csv': 'Damping = 0.8, Preference = -40',\n",
    "    'combination4_2_heatmap_verification.csv': 'Damping = 0.6, Preference = -40',\n",
    "}\n",
    "\n",
    "fig = go.Figure()\n",
    "\n",
    "for file in files:\n",
    "    df = pd.read_csv(f'{folder}\\\\{file}')\n",
    "    color = color_key[file.split('_')[0]]\n",
    "    line_style = line_style_key[file.split('_')[1]]\n",
    "\n",
    "    fig.add_trace(go.Scatter(x=df['Number of Annotations'], y=df['Accuracy'], name=name_key[file], line=dict(color=color)))#, dash=line_style)))\n",
    "\n",
    "    # Add grey dotted vertical line at row 3\n",
    "    fig.add_shape(\n",
    "        type=\"line\",\n",
    "        x0=df.iloc[2]['Number of Annotations'],\n",
    "        y0=0,\n",
    "        x1=df.iloc[2]['Number of Annotations'],\n",
    "        y1=df.iloc[2]['Accuracy'],\n",
    "        line=dict(\n",
    "            color=\"g    rey\",\n",
    "            width=3,\n",
    "            dash=\"dot\",\n",
    "        ),\n",
    "    )\n",
    "\n",
    "\n",
    "\n",
    "\n",
    "# Update ylim and set axis labels\n",
    "fig.update_yaxes(range=[0, 1])\n",
    "fig.update_xaxes(title_text='Number of Annotations')\n",
    "fig.update_yaxes(title_text='Accuracy')\n",
    "\n",
    "# Horizontal legend\n",
    "fig.update_layout(legend=dict(\n",
    "    orientation=\"h\",\n",
    "    yanchor=\"bottom\",\n",
    "    y=1.02,\n",
    "    xanchor=\"right\",\n",
    "    x=1\n",
    "))\n",
    "\n",
    "fig.show()"
   ]
  },
  {
   "cell_type": "code",
   "execution_count": 1,
   "metadata": {},
   "outputs": [
    {
     "name": "stdout",
     "output_type": "stream",
     "text": [
      "Total data: 3667\n",
      "Annotations: 10\n",
      "Preprocessing data: Applying StandardScaler\n",
      "Unique labels:  ['Standing' 'Walking Forward']\n",
      "Starting uncertainty sampling and model training\n",
      "Total data: 3667500     |Labelled data size: 795  |Unlabelled data size: 2872\n",
      "Annotations: 10\n",
      "Preprocessing data: Applying StandardScaler\n",
      "Unique labels:  ['Standing' 'Walking Forward']\n",
      "Iteration 1\n",
      "Novelty detected: 3599\n",
      "Representative samples chosen for annotation: 132\n",
      "Starting uncertainty sampling and model training\n",
      "Total data: 3667500     |Labelled data size: 797  |Unlabelled data size: 2870\n",
      "Annotations: 10\n",
      "Preprocessing data: Applying StandardScaler\n",
      "Unique labels:  ['Standing' 'Walking Forward']\n",
      "Iteration 1\n",
      "Novelty detected: 3599\n",
      "Representative samples chosen for annotation: 132\n",
      "Iteration 2\n",
      "Novelty detected: 3362\n",
      "Representative samples chosen for annotation: 114\n",
      "Starting uncertainty sampling and model training\n",
      "Total data: 3667500     |Labelled data size: 796  |Unlabelled data size: 2871\n",
      "Annotations: 10\n",
      "Preprocessing data: Applying StandardScaler\n",
      "Unique labels:  ['Standing' 'Walking Forward']\n",
      "Iteration 1\n",
      "Novelty detected: 3599\n",
      "Representative samples chosen for annotation: 132\n",
      "Iteration 2\n",
      "Novelty detected: 3362\n",
      "Representative samples chosen for annotation: 114\n",
      "Iteration 3\n",
      "Novelty detected: 3196\n",
      "Representative samples chosen for annotation: 108\n",
      "Starting uncertainty sampling and model training\n",
      "Total data: 366700     |Labelled data size: 799  |Unlabelled data size: 2868\n",
      "Annotations: 10\n",
      "Preprocessing data: Applying StandardScaler\n",
      "Unique labels:  ['Standing' 'Walking Forward']\n",
      "Starting uncertainty sampling and model training\n",
      "Total data: 3667500     |Labelled data size: 795  |Unlabelled data size: 2872\n",
      "Annotations: 10\n",
      "Preprocessing data: Applying StandardScaler\n",
      "Unique labels:  ['Standing' 'Walking Forward']\n",
      "Iteration 1\n",
      "Novelty detected: 3599\n",
      "Representative samples chosen for annotation: 132\n",
      "Starting uncertainty sampling and model training\n",
      "Total data: 3667500     |Labelled data size: 797  |Unlabelled data size: 2870\n",
      "Annotations: 10\n",
      "Preprocessing data: Applying StandardScaler\n",
      "Unique labels:  ['Standing' 'Walking Forward']\n",
      "Iteration 1\n",
      "Novelty detected: 3599\n",
      "Representative samples chosen for annotation: 132\n",
      "Iteration 2\n",
      "Novelty detected: 3362\n",
      "Representative samples chosen for annotation: 116\n",
      "Starting uncertainty sampling and model training\n",
      "Total data: 3667500     |Labelled data size: 798  |Unlabelled data size: 2869\n",
      "Annotations: 10\n",
      "Preprocessing data: Applying StandardScaler\n",
      "Unique labels:  ['Standing' 'Walking Forward']\n",
      "Iteration 1\n",
      "Novelty detected: 3599\n",
      "Representative samples chosen for annotation: 132\n",
      "Iteration 2\n",
      "Novelty detected: 3362\n",
      "Representative samples chosen for annotation: 113\n",
      "Iteration 3\n",
      "Novelty detected: 3197\n",
      "Representative samples chosen for annotation: 107\n",
      "Starting uncertainty sampling and model training\n",
      "Total data: 366700     |Labelled data size: 797  |Unlabelled data size: 2870\n",
      "Annotations: 10\n",
      "Preprocessing data: Applying StandardScaler\n",
      "Unique labels:  ['Standing' 'Walking Forward']\n",
      "Starting uncertainty sampling and model training\n",
      "Total data: 3667500     |Labelled data size: 795  |Unlabelled data size: 2872\n",
      "Annotations: 10\n",
      "Preprocessing data: Applying StandardScaler\n",
      "Unique labels:  ['Standing' 'Walking Forward']\n",
      "Iteration 1\n",
      "Novelty detected: 3599\n",
      "Representative samples chosen for annotation: 132\n",
      "Starting uncertainty sampling and model training\n",
      "Total data: 3667500     |Labelled data size: 797  |Unlabelled data size: 2870\n",
      "Annotations: 10\n",
      "Preprocessing data: Applying StandardScaler\n",
      "Unique labels:  ['Standing' 'Walking Forward']\n",
      "Iteration 1\n",
      "Novelty detected: 3599\n",
      "Representative samples chosen for annotation: 132\n",
      "Iteration 2\n",
      "Novelty detected: 3362\n",
      "Representative samples chosen for annotation: 114\n",
      "Starting uncertainty sampling and model training\n",
      "Total data: 3667500     |Labelled data size: 796  |Unlabelled data size: 2871\n",
      "Annotations: 10\n",
      "Preprocessing data: Applying StandardScaler\n",
      "Unique labels:  ['Standing' 'Walking Forward']\n",
      "Iteration 1\n",
      "Novelty detected: 3599\n",
      "Representative samples chosen for annotation: 132\n",
      "Iteration 2\n",
      "Novelty detected: 3362\n",
      "Representative samples chosen for annotation: 115\n",
      "Iteration 3\n",
      "Novelty detected: 3195\n",
      "Representative samples chosen for annotation: 107\n",
      "Starting uncertainty sampling and model training\n",
      "Total data: 366700     |Labelled data size: 799  |Unlabelled data size: 2868\n",
      "Annotations: 10\n",
      "Preprocessing data: Applying StandardScaler\n",
      "Unique labels:  ['Standing' 'Walking Forward']\n",
      "Starting uncertainty sampling and model training\n",
      "Total data: 3667500     |Labelled data size: 795  |Unlabelled data size: 2872\n",
      "Annotations: 10\n",
      "Preprocessing data: Applying StandardScaler\n",
      "Unique labels:  ['Standing' 'Walking Forward']\n",
      "Iteration 1\n",
      "Novelty detected: 3599\n",
      "Representative samples chosen for annotation: 132\n",
      "Starting uncertainty sampling and model training\n",
      "Total data: 3667500     |Labelled data size: 797  |Unlabelled data size: 2870\n",
      "Annotations: 10\n",
      "Preprocessing data: Applying StandardScaler\n",
      "Unique labels:  ['Standing' 'Walking Forward']\n",
      "Iteration 1\n",
      "Novelty detected: 3599\n",
      "Representative samples chosen for annotation: 132\n",
      "Iteration 2\n",
      "Novelty detected: 3362\n",
      "Representative samples chosen for annotation: 114\n",
      "Starting uncertainty sampling and model training\n",
      "Total data: 3667500     |Labelled data size: 796  |Unlabelled data size: 2871\n",
      "Annotations: 10\n",
      "Preprocessing data: Applying StandardScaler\n",
      "Unique labels:  ['Standing' 'Walking Forward']\n",
      "Iteration 1\n",
      "Novelty detected: 3599\n",
      "Representative samples chosen for annotation: 132\n",
      "Iteration 2\n",
      "Novelty detected: 3362\n",
      "Representative samples chosen for annotation: 114\n",
      "Iteration 3\n",
      "Novelty detected: 3196\n",
      "Representative samples chosen for annotation: 106\n",
      "Starting uncertainty sampling and model training\n",
      "Iteration 87  /500     |Labelled data size: 797  |Unlabelled data size: 2870\r"
     ]
    }
   ],
   "source": [
    "from OCluDAL import OCluDAL\n",
    "import numpy as np\n",
    "import pandas as pd\n",
    "\n",
    "path = 'PreProcessing\\\\USC\\\\CompiledData_7.csv'\n",
    "df = pd.read_csv(path)\n",
    "# Get the indices of the rows with the label of 'Standing' or 'Walking Forward'\n",
    "Indices = df[(df['Label'] == 'Standing') | (df['Label'] == 'Walking Forward')].index\n",
    "\n",
    "annotations = 10\n",
    "indices = np.random.choice(Indices, annotations, replace=False)\n",
    "n = 5\n",
    "\n",
    "damping = 0.75\n",
    "pref = -180\n",
    "\n",
    "for i in [0, 1, 2, 3]:#[0, 1, 2, 3, 4]:\n",
    "\n",
    "    for iter in [0, 1, 2, 3]:\n",
    "        \n",
    "        OC = OCluDAL(path, annotations, damping=damping, preference=pref)\n",
    "        OC.initialise_data(indices=indices, model_type='SVM-linear',\n",
    "                           output_path=f'ap_iter_validation/{iter}_{i}_iter_verification_linear.csv')\n",
    "        OC.preprocessing()\n",
    "        OC.step1(max_iter=iter)\n",
    "        clf = OC.step2(max_iter=500, n=n, max_samples=800)\n",
    "\n",
    "\n"
   ]
  },
  {
   "cell_type": "code",
   "execution_count": 28,
   "metadata": {},
   "outputs": [
    {
     "data": {
      "application/vnd.plotly.v1+json": {
       "config": {
        "plotlyServerURL": "https://plot.ly"
       },
       "data": [
        {
         "line": {
          "color": "rgb(102, 197, 204)"
         },
         "name": "Iteration 0",
         "type": "scatter",
         "x": [
          10,
          15,
          20,
          25,
          30,
          35,
          40,
          45,
          50,
          55,
          60,
          65,
          70,
          75,
          80,
          85,
          90,
          95,
          100,
          105,
          110,
          115,
          120,
          125,
          130,
          135,
          140,
          145,
          150,
          155,
          160,
          165,
          170,
          175,
          180,
          185,
          190,
          195,
          200,
          199.875,
          204.75,
          209.625,
          214.5,
          219.375,
          224.25,
          229.125,
          234,
          238.875,
          243.75,
          248.625,
          253.5,
          258.375,
          263.25,
          268.125,
          273,
          277.875,
          282.75,
          287.625,
          292.5,
          297.375,
          302.25,
          307.125,
          312,
          316.875,
          321.75,
          326.625,
          331.5,
          336.375,
          341.25,
          346.125,
          351,
          355.875,
          360.75,
          365.625,
          370.5,
          375.375,
          380.25,
          385.125,
          390,
          394.875,
          399.75,
          404.625,
          409.5,
          414.375,
          419.25,
          424.125,
          429,
          433.875,
          438.75,
          443.625,
          448.5,
          453.375,
          458.25,
          463.125,
          468,
          472.875,
          477.75,
          482.625,
          487.5,
          492.375,
          497.25,
          502.125,
          507,
          511.875,
          516.75,
          521.625,
          526.5,
          531.375,
          536.25,
          541.125,
          546,
          550.875,
          555.75,
          560.625,
          565.5,
          570.375,
          575.25,
          580.125,
          585,
          589.875,
          594.75,
          599.625,
          604.5,
          609.375,
          614.25,
          619.125,
          624,
          628.875,
          633.75,
          638.625,
          643.5,
          648.375,
          653.25,
          658.125,
          663,
          667.875,
          672.75,
          677.625,
          682.5,
          687.375,
          692.25,
          697.125,
          702,
          706.875,
          711.75,
          716.625,
          721.5,
          726.375,
          731.25,
          736.125,
          741,
          745.875,
          750.75,
          755.625,
          760.5,
          765.375,
          770.25,
          775.125,
          780
         ],
         "xaxis": "x",
         "y": [
          0.21766475252939563,
          0.33084611171960565,
          0.39436523169728543,
          0.43918176825919825,
          0.4641875171844927,
          0.4830671806167401,
          0.489247311827957,
          0.5236057426836002,
          0.531863422726016,
          0.5449197120708749,
          0.5595370113667868,
          0.5705857856746253,
          0.5930636641645816,
          0.5976475501113586,
          0.6235712294396432,
          0.6213707426018984,
          0.6252446183953033,
          0.6331886898096305,
          0.6319035604149145,
          0.6511089275687816,
          0.6624262018554962,
          0.6770833333333334,
          0.6929799830842966,
          0.6976284584980237,
          0.7017953067571387,
          0.7067525481313703,
          0.7155514601644457,
          0.7211811470755253,
          0.730736423087859,
          0.7458001138952164,
          0.7498574280011405,
          0.7500713877784123,
          0.7535744924220761,
          0.7585910652920962,
          0.7588184685976485,
          0.7609132682366456,
          0.7623669830313489,
          0.7641849078341014,
          0.7673781367176233,
          0.747232452339688,
          0.7487362597628001,
          0.757941048667439,
          0.7592526109660575,
          0.7599306362579895,
          0.7591922461448938,
          0.7647727272727273,
          0.7669554274875985,
          0.7682897428404442,
          0.7689146180860403,
          0.7704700322391559,
          0.7734608893454652,
          0.7760306437389771,
          0.7823391963497203,
          0.7951337706367925,
          0.7958038086802479,
          0.8085840479006504,
          0.812235342019544,
          0.8144517348754449,
          0.8196428571428571,
          0.8225293723973826,
          0.8328306523681858,
          0.8365453460620524,
          0.8404167911562593,
          0.8423305655296229,
          0.8443231195684747,
          0.8463216536614646,
          0.8481064021641118,
          0.8489426550270921,
          0.8522799216159179,
          0.8525362318840579,
          0.8540463410946477,
          0.8545275590551181,
          0.8559713375796179,
          0.8571973724179829,
          0.8587237602677213,
          0.8618144424131627,
          0.8635756789746719,
          0.8646718367970659,
          0.8655475206611569,
          0.8682192673206622,
          0.8672321154436599,
          0.8690901752767528,
          0.8694525716045581,
          0.8716957125231338,
          0.8727409638554218,
          0.8719794245049505,
          0.8759742020452431,
          0.8770309590316573,
          0.8781667702828723,
          0.8786231320049813,
          0.8793849391955099,
          0.8819761086820738,
          0.8841179230528621,
          0.8835173872180451,
          0.8841386884217133,
          0.8875962445003143,
          0.8882259206798866,
          0.8873206967213114,
          0.8900299968424376,
          0.891668643263757,
          0.8930036426987646,
          0.8941108819796955,
          0.894137273593899,
          0.8945516390833863,
          0.8965990596110935,
          0.8970965038314176,
          0.8991545410937001,
          0.9004384208840487,
          0.9013354186717998,
          0.9018436696658098,
          0.9016474895397489,
          0.9023150386847195,
          0.9032208588957056,
          0.9053120957309184,
          0.9065415451895044,
          0.9072213659961063,
          0.9084579135521612,
          0.9094604492187499,
          0.9096715030974895,
          0.9104404800783802,
          0.9120890578999018,
          0.9133437090432502,
          0.9146024778470626,
          0.9151442307692308,
          0.9158482877839974,
          0.9153487796833774,
          0.9162165510406344,
          0.9177324619457313,
          0.9194149817699703,
          0.9204556772908368,
          0.9210134685733288,
          0.9226286642238508,
          0.9233546046046046,
          0.9245717747326203,
          0.9244873619015734,
          0.9239122233400403,
          0.9257096069868995,
          0.9266928835800807,
          0.9280080889787664,
          0.9274350101282918,
          0.9293329387893134,
          0.9311547256097561,
          0.931080335934849,
          0.9328284330387491,
          0.9331716036772216,
          0.9325183321964529,
          0.9333618038947727,
          0.9337076488706365,
          0.9351409838875556,
          0.9360770089285715,
          0.9369324045407637,
          0.9386306857339766,
          0.9383996375560925,
          0.939600622406639,
          0.9396237443713196,
          0.9401544066620401,
          0.9414494264859229,
          0.9423245995821726,
          0.9431178060690618
         ],
         "yaxis": "y"
        },
        {
         "line": {
          "color": "rgb(102, 197, 204)"
         },
         "showlegend": false,
         "type": "scatter",
         "x": [
          10,
          15,
          20,
          25,
          30,
          35,
          40,
          45,
          50,
          55,
          60,
          65,
          70,
          75,
          80,
          85,
          90,
          95,
          100,
          105,
          110,
          115,
          120,
          125,
          130,
          135,
          140,
          145,
          150,
          155,
          160,
          165,
          170,
          175,
          180,
          185,
          190,
          195,
          200,
          199.875,
          204.75,
          209.625,
          214.5,
          219.375,
          224.25,
          229.125,
          234,
          238.875,
          243.75,
          248.625,
          253.5,
          258.375,
          263.25,
          268.125,
          273,
          277.875,
          282.75,
          287.625,
          292.5,
          297.375,
          302.25,
          307.125,
          312,
          316.875,
          321.75,
          326.625,
          331.5,
          336.375,
          341.25,
          346.125,
          351,
          355.875,
          360.75,
          365.625,
          370.5,
          375.375,
          380.25,
          385.125,
          390,
          394.875,
          399.75,
          404.625,
          409.5,
          414.375,
          419.25,
          424.125,
          429,
          433.875,
          438.75,
          443.625,
          448.5,
          453.375,
          458.25,
          463.125,
          468,
          472.875,
          477.75,
          482.625,
          487.5,
          492.375,
          497.25,
          502.125,
          507,
          511.875,
          516.75,
          521.625,
          526.5,
          531.375,
          536.25,
          541.125,
          546,
          550.875,
          555.75,
          560.625,
          565.5,
          570.375,
          575.25,
          580.125,
          585,
          589.875,
          594.75,
          599.625,
          604.5,
          609.375,
          614.25,
          619.125,
          624,
          628.875,
          633.75,
          638.625,
          643.5,
          648.375,
          653.25,
          658.125,
          663,
          667.875,
          672.75,
          677.625,
          682.5,
          687.375,
          692.25,
          697.125,
          702,
          706.875,
          711.75,
          716.625,
          721.5,
          726.375,
          731.25,
          736.125,
          741,
          745.875,
          750.75,
          755.625,
          760.5,
          765.375,
          770.25,
          775.125,
          780
         ],
         "xaxis": "x2",
         "y": [
          2,
          4.25,
          5.25,
          7,
          7.25,
          7.75,
          8.5,
          9.5,
          9.75,
          9.75,
          10.25,
          10.5,
          10.5,
          10.5,
          10.75,
          10.75,
          10.75,
          10.75,
          10.75,
          10.75,
          11,
          11,
          11,
          11,
          11,
          11,
          11.25,
          11.25,
          11.25,
          11.5,
          11.5,
          11.5,
          11.5,
          11.5,
          11.5,
          11.5,
          11.5,
          11.5,
          11.5,
          11.2125,
          11.2125,
          11.456249999999999,
          11.456249999999999,
          11.456249999999999,
          11.456249999999999,
          11.456249999999999,
          11.456249999999999,
          11.456249999999999,
          11.456249999999999,
          11.456249999999999,
          11.456249999999999,
          11.456249999999999,
          11.456249999999999,
          11.456249999999999,
          11.7,
          11.7,
          11.7,
          11.7,
          11.7,
          11.7,
          11.7,
          11.7,
          11.7,
          11.7,
          11.7,
          11.7,
          11.7,
          11.7,
          11.7,
          11.7,
          11.7,
          11.7,
          11.7,
          11.7,
          11.7,
          11.7,
          11.7,
          11.7,
          11.7,
          11.7,
          11.7,
          11.7,
          11.7,
          11.7,
          11.7,
          11.7,
          11.7,
          11.7,
          11.7,
          11.7,
          11.7,
          11.7,
          11.7,
          11.7,
          11.7,
          11.7,
          11.7,
          11.7,
          11.7,
          11.7,
          11.7,
          11.7,
          11.7,
          11.7,
          11.7,
          11.7,
          11.7,
          11.7,
          11.7,
          11.7,
          11.7,
          11.7,
          11.7,
          11.7,
          11.7,
          11.7,
          11.7,
          11.7,
          11.7,
          11.7,
          11.7,
          11.7,
          11.7,
          11.7,
          11.7,
          11.7,
          11.7,
          11.7,
          11.7,
          11.7,
          11.7,
          11.7,
          11.7,
          11.7,
          11.7,
          11.7,
          11.7,
          11.7,
          11.7,
          11.7,
          11.7,
          11.7,
          11.7,
          11.7,
          11.7,
          11.7,
          11.7,
          11.7,
          11.7,
          11.7,
          11.7,
          11.7,
          11.7,
          11.7,
          11.7,
          11.7,
          11.7,
          11.7,
          11.7
         ],
         "yaxis": "y2"
        },
        {
         "line": {
          "color": "rgb(246, 207, 113)"
         },
         "name": "Iteration 1",
         "type": "scatter",
         "x": [
          10,
          142,
          147,
          152,
          157,
          162,
          167,
          172,
          177,
          182,
          187,
          192,
          197,
          202,
          207,
          212,
          217,
          222,
          227,
          232,
          237,
          242,
          247,
          252,
          257,
          262,
          267,
          272,
          277,
          282,
          287,
          292,
          297,
          302,
          307,
          312,
          317,
          322,
          327,
          332,
          337,
          342,
          347,
          352,
          357,
          362,
          367,
          372,
          377,
          382,
          387,
          392,
          397,
          402,
          407,
          412,
          417,
          422,
          427,
          432,
          437,
          442,
          447,
          452,
          457,
          462,
          467,
          472,
          477,
          482,
          487,
          492,
          497,
          502,
          507,
          512,
          517,
          522,
          527,
          532,
          537,
          542,
          547,
          552,
          557,
          562,
          567,
          572,
          577,
          582,
          587,
          592,
          597,
          602,
          607,
          612,
          617,
          622,
          627,
          632,
          637,
          642,
          647,
          652,
          657,
          662,
          667,
          672,
          677,
          682,
          687,
          692,
          697,
          702,
          707,
          712,
          717,
          722,
          727,
          732,
          737,
          742,
          747,
          752,
          757,
          762,
          767,
          772,
          777,
          782,
          787,
          792,
          797,
          802
         ],
         "xaxis": "x",
         "y": [
          0.2176647525293956,
          0.8204255319148936,
          0.8203835227272727,
          0.8263869132290185,
          0.8257834757834758,
          0.8323823109843081,
          0.8299285714285715,
          0.8319742489270385,
          0.8328796561604584,
          0.8327833572453371,
          0.8343390804597701,
          0.8320863309352518,
          0.8317723342939481,
          0.8284992784992785,
          0.8311416184971099,
          0.8327785817655572,
          0.8352173913043478,
          0.8375907111756168,
          0.840843023255814,
          0.8425036390101892,
          0.8424927113702624,
          0.8451094890510948,
          0.8501461988304093,
          0.8480966325036603,
          0.8483137829912024,
          0.8495594713656387,
          0.8516911764705882,
          0.8522827687776142,
          0.8564159292035398,
          0.8570901033973413,
          0.8615384615384616,
          0.8611851851851852,
          0.8623145400593472,
          0.862481426448737,
          0.8655505952380953,
          0.8676602086438152,
          0.8679850746268657,
          0.8693572496263079,
          0.8708832335329342,
          0.8718140929535232,
          0.873048048048048,
          0.8745112781954887,
          0.8753765060240964,
          0.8764705882352941,
          0.8781722054380665,
          0.8809379727685325,
          0.881439393939394,
          0.8842943854324734,
          0.8849544072948328,
          0.8840182648401826,
          0.886890243902439,
          0.8887022900763358,
          0.8886085626911315,
          0.8900459418070444,
          0.8906441717791411,
          0.8927803379416281,
          0.8960000000000001,
          0.8976117103235748,
          0.8968364197530864,
          0.8982998454404946,
          0.8995356037151703,
          0.9001550387596899,
          0.9006211180124224,
          0.9012441679626749,
          0.9013239875389408,
          0.9035101404056162,
          0.9028125,
          0.9031298904538342,
          0.9044670846394984,
          0.9038461538461539,
          0.9040880503144654,
          0.9054330708661418,
          0.9044952681388012,
          0.9050552922590838,
          0.907357594936709,
          0.9083993660855785,
          0.9097619047619048,
          0.909697933227345,
          0.9105095541401274,
          0.9116427432216906,
          0.912779552715655,
          0.91472,
          0.9154647435897436,
          0.9163723916532905,
          0.9168810289389067,
          0.9168276972624799,
          0.9191129032258064,
          0.92156704361874,
          0.9225728155339805,
          0.9228525121555915,
          0.9234577922077922,
          0.9239024390243903,
          0.92442996742671,
          0.9265089722675367,
          0.9274509803921569,
          0.9288870703764321,
          0.9295081967213115,
          0.930295566502463,
          0.9308388157894737,
          0.9320428336079077,
          0.9331683168316832,
          0.9336363636363636,
          0.9358443708609272,
          0.9374792703150912,
          0.937375415282392,
          0.9383527454242929,
          0.9386666666666666,
          0.9408180300500835,
          0.9423913043478261,
          0.9436348408710218,
          0.9445469798657717,
          0.9454621848739496,
          0.946043771043771,
          0.9467959527824621,
          0.9475506756756757,
          0.9486463620981387,
          0.9494915254237288,
          0.9499151103565365,
          0.9498299319727891,
          0.9512776831345826,
          0.951877133105802,
          0.9523931623931624,
          0.9529109589041096,
          0.9542881646655232,
          0.9558419243986255,
          0.9564543889845095,
          0.9583620689655172,
          0.9588946459412779,
          0.9597750865051904,
          0.9604852686308492,
          0.9614583333333333,
          0.9627826086956522,
          0.9638501742160278,
          0.9647469458987784
         ],
         "yaxis": "y"
        },
        {
         "line": {
          "color": "rgb(246, 207, 113)"
         },
         "showlegend": false,
         "type": "scatter",
         "x": [
          10,
          142,
          147,
          152,
          157,
          162,
          167,
          172,
          177,
          182,
          187,
          192,
          197,
          202,
          207,
          212,
          217,
          222,
          227,
          232,
          237,
          242,
          247,
          252,
          257,
          262,
          267,
          272,
          277,
          282,
          287,
          292,
          297,
          302,
          307,
          312,
          317,
          322,
          327,
          332,
          337,
          342,
          347,
          352,
          357,
          362,
          367,
          372,
          377,
          382,
          387,
          392,
          397,
          402,
          407,
          412,
          417,
          422,
          427,
          432,
          437,
          442,
          447,
          452,
          457,
          462,
          467,
          472,
          477,
          482,
          487,
          492,
          497,
          502,
          507,
          512,
          517,
          522,
          527,
          532,
          537,
          542,
          547,
          552,
          557,
          562,
          567,
          572,
          577,
          582,
          587,
          592,
          597,
          602,
          607,
          612,
          617,
          622,
          627,
          632,
          637,
          642,
          647,
          652,
          657,
          662,
          667,
          672,
          677,
          682,
          687,
          692,
          697,
          702,
          707,
          712,
          717,
          722,
          727,
          732,
          737,
          742,
          747,
          752,
          757,
          762,
          767,
          772,
          777,
          782,
          787,
          792,
          797,
          802
         ],
         "xaxis": "x2",
         "y": [
          2,
          12,
          12,
          12,
          12,
          12,
          12,
          12,
          12,
          12,
          12,
          12,
          12,
          12,
          12,
          12,
          12,
          12,
          12,
          12,
          12,
          12,
          12,
          12,
          12,
          12,
          12,
          12,
          12,
          12,
          12,
          12,
          12,
          12,
          12,
          12,
          12,
          12,
          12,
          12,
          12,
          12,
          12,
          12,
          12,
          12,
          12,
          12,
          12,
          12,
          12,
          12,
          12,
          12,
          12,
          12,
          12,
          12,
          12,
          12,
          12,
          12,
          12,
          12,
          12,
          12,
          12,
          12,
          12,
          12,
          12,
          12,
          12,
          12,
          12,
          12,
          12,
          12,
          12,
          12,
          12,
          12,
          12,
          12,
          12,
          12,
          12,
          12,
          12,
          12,
          12,
          12,
          12,
          12,
          12,
          12,
          12,
          12,
          12,
          12,
          12,
          12,
          12,
          12,
          12,
          12,
          12,
          12,
          12,
          12,
          12,
          12,
          12,
          12,
          12,
          12,
          12,
          12,
          12,
          12,
          12,
          12,
          12,
          12,
          12,
          12,
          12,
          12,
          12,
          12,
          12,
          12,
          12,
          12
         ],
         "yaxis": "y2"
        },
        {
         "line": {
          "color": "rgb(248, 156, 116)"
         },
         "name": "Iteration 2",
         "type": "scatter",
         "x": [
          10,
          142,
          256,
          261,
          266,
          271,
          276,
          281,
          286,
          291,
          296,
          301,
          306,
          311,
          316,
          321,
          326,
          331,
          336,
          341,
          346,
          351,
          356,
          361,
          366,
          371,
          376,
          381,
          386,
          391,
          396,
          401,
          406,
          411,
          416,
          421,
          426,
          431,
          436,
          441,
          446,
          451,
          456,
          461,
          466,
          471,
          476,
          481,
          486,
          491,
          496,
          501,
          506,
          511,
          516,
          521,
          526,
          531,
          536,
          541,
          546,
          551,
          556,
          561,
          566,
          571,
          576,
          581,
          586,
          591,
          596,
          601,
          606,
          611,
          616,
          621,
          626,
          631,
          636,
          641,
          646,
          651,
          656,
          661,
          666,
          671,
          676,
          681,
          686,
          691,
          696,
          701,
          706,
          711,
          716,
          721,
          726,
          731,
          736,
          741,
          746,
          751,
          756,
          761,
          766,
          771,
          776,
          781,
          786,
          791,
          796,
          801
         ],
         "xaxis": "x",
         "y": [
          0.2176647525293956,
          0.8204255319148936,
          0.8117854001759014,
          0.8226658837345859,
          0.8246104087033226,
          0.830683156654888,
          0.8339722795635506,
          0.8372711163614885,
          0.8346643005028098,
          0.8375296208530806,
          0.8352121032334618,
          0.8401663695781343,
          0.8396310621838738,
          0.8428188319427891,
          0.845270068636228,
          0.8420502092050209,
          0.8522897336126908,
          0.854916067146283,
          0.8479435604923447,
          0.8469633193024654,
          0.8520024089129781,
          0.8553980699638117,
          0.8591060102688011,
          0.8632788868723533,
          0.8638291426840352,
          0.8648361650485437,
          0.8667578243694926,
          0.8714242239805234,
          0.8719902468759524,
          0.8722527472527473,
          0.8709874656068481,
          0.8694121249234538,
          0.8756516406010426,
          0.8774570024570025,
          0.8743463549677022,
          0.8824707332101047,
          0.8813637766121567,
          0.8865883807169345,
          0.8854843701640358,
          0.8867017978921266,
          0.8899410121080409,
          0.8899253731343284,
          0.8894425412644036,
          0.8880224578914535,
          0.8912839737582006,
          0.8914267834793492,
          0.8942337825133186,
          0.892812303829253,
          0.8923294561458661,
          0.8929471032745593,
          0.8960895616524756,
          0.899557801642451,
          0.8979753242644732,
          0.8992395437262357,
          0.8981275785464932,
          0.8995549904640814,
          0.9013053167780962,
          0.9021045918367347,
          0.9040242733950815,
          0.9064299424184261,
          0.9064402435116949,
          0.9085365853658536,
          0.9085503053680488,
          0.9124275595621378,
          0.9119638826185101,
          0.9106912144702841,
          0.9110320284697508,
          0.9138042773817239,
          0.9135021097046414,
          0.9148244473342002,
          0.9174535981764897,
          0.9179712981082844,
          0.9206141783730807,
          0.9214659685863873,
          0.9234677155031138,
          0.9243269862114247,
          0.9246958237421901,
          0.9260540184453228,
          0.9275816562190696,
          0.9279576999339062,
          0.9283349884144323,
          0.9288793103448276,
          0.9275988043839256,
          0.9278110445775116,
          0.9303565478173942,
          0.9305740987983979,
          0.9292878635907722,
          0.9284996651038178,
          0.9319020462931902,
          0.931787634408602,
          0.9333557724671828,
          0.9349291975724882,
          0.936339074636947,
          0.9370771312584574,
          0.9381565570992885,
          0.9394093686354379,
          0.9404964297857872,
          0.9410762942779292,
          0.9426816786079836,
          0.9454887218045112,
          0.9465936323176993,
          0.9456447187928669,
          0.945723119203023,
          0.94769442532691,
          0.9481213374698381,
          0.9494129834254144,
          0.950363196125908,
          0.9511434511434512,
          0.9527941686914265,
          0.9535813630041725,
          0.9531522117729014,
          0.9535938590369852
         ],
         "yaxis": "y"
        },
        {
         "line": {
          "color": "rgb(248, 156, 116)"
         },
         "showlegend": false,
         "type": "scatter",
         "x": [
          10,
          142,
          256,
          261,
          266,
          271,
          276,
          281,
          286,
          291,
          296,
          301,
          306,
          311,
          316,
          321,
          326,
          331,
          336,
          341,
          346,
          351,
          356,
          361,
          366,
          371,
          376,
          381,
          386,
          391,
          396,
          401,
          406,
          411,
          416,
          421,
          426,
          431,
          436,
          441,
          446,
          451,
          456,
          461,
          466,
          471,
          476,
          481,
          486,
          491,
          496,
          501,
          506,
          511,
          516,
          521,
          526,
          531,
          536,
          541,
          546,
          551,
          556,
          561,
          566,
          571,
          576,
          581,
          586,
          591,
          596,
          601,
          606,
          611,
          616,
          621,
          626,
          631,
          636,
          641,
          646,
          651,
          656,
          661,
          666,
          671,
          676,
          681,
          686,
          691,
          696,
          701,
          706,
          711,
          716,
          721,
          726,
          731,
          736,
          741,
          746,
          751,
          756,
          761,
          766,
          771,
          776,
          781,
          786,
          791,
          796,
          801
         ],
         "xaxis": "x2",
         "y": [
          2,
          12,
          12,
          12,
          12,
          12,
          12,
          12,
          12,
          12,
          12,
          12,
          12,
          12,
          12,
          12,
          12,
          12,
          12,
          12,
          12,
          12,
          12,
          12,
          12,
          12,
          12,
          12,
          12,
          12,
          12,
          12,
          12,
          12,
          12,
          12,
          12,
          12,
          12,
          12,
          12,
          12,
          12,
          12,
          12,
          12,
          12,
          12,
          12,
          12,
          12,
          12,
          12,
          12,
          12,
          12,
          12,
          12,
          12,
          12,
          12,
          12,
          12,
          12,
          12,
          12,
          12,
          12,
          12,
          12,
          12,
          12,
          12,
          12,
          12,
          12,
          12,
          12,
          12,
          12,
          12,
          12,
          12,
          12,
          12,
          12,
          12,
          12,
          12,
          12,
          12,
          12,
          12,
          12,
          12,
          12,
          12,
          12,
          12,
          12,
          12,
          12,
          12,
          12,
          12,
          12,
          12,
          12,
          12,
          12,
          12,
          12
         ],
         "yaxis": "y2"
        },
        {
         "line": {
          "color": "rgb(220, 176, 242)"
         },
         "name": "Iteration 3",
         "type": "scatter",
         "x": [
          10,
          142,
          255,
          256,
          257,
          362,
          364,
          367,
          369,
          372,
          374,
          377,
          379,
          382,
          384,
          387,
          389,
          392,
          394,
          397,
          399,
          402,
          404,
          407,
          409,
          412,
          414,
          417,
          419,
          422,
          424,
          427,
          429,
          432,
          434,
          437,
          439,
          442,
          444,
          447,
          449,
          452,
          454,
          457,
          459,
          462,
          464,
          467,
          469,
          472,
          474,
          477,
          479,
          482,
          484,
          487,
          489,
          492,
          494,
          497,
          499,
          502,
          504,
          507,
          509,
          512,
          514,
          517,
          519,
          522,
          524,
          527,
          529,
          532,
          534,
          537,
          539,
          542,
          544,
          547,
          549,
          552,
          554,
          557,
          559,
          562,
          564,
          567,
          569,
          572,
          574,
          577,
          579,
          582,
          584,
          587,
          589,
          592,
          594,
          597,
          599,
          602,
          604,
          607,
          609,
          612,
          614,
          617,
          619,
          622,
          624,
          627,
          629,
          632,
          634,
          637,
          639,
          642,
          644,
          647,
          649,
          652,
          654,
          657,
          659,
          662,
          664,
          667,
          669,
          672,
          674,
          677,
          679,
          682,
          684,
          687,
          689,
          692,
          694,
          697,
          699,
          702,
          704,
          707,
          709,
          712,
          714,
          717,
          719,
          722,
          724,
          727,
          729,
          732,
          734,
          737,
          739,
          742,
          744,
          747,
          749,
          752,
          754,
          757,
          759,
          762,
          764,
          767,
          769,
          772,
          774,
          777,
          779,
          782,
          784,
          787,
          789,
          792,
          794,
          797,
          799,
          802,
          804
         ],
         "xaxis": "x",
         "y": [
          0.2176647525293956,
          0.8204255319148936,
          0.8118405627198124,
          0.8117854001759015,
          0.8117302052785924,
          0.8340393343419062,
          0.8340902210112019,
          0.8360606060606061,
          0.8327774408732566,
          0.8417298937784522,
          0.8337382326146372,
          0.8430091185410334,
          0.836830900243309,
          0.8444444444444444,
          0.8416082851050868,
          0.843140243902439,
          0.839536302623551,
          0.8429007633587786,
          0.8461655973113351,
          0.8412844036697247,
          0.8428702570379436,
          0.8437978560490046,
          0.8507508427827153,
          0.848159509202454,
          0.8574278698588091,
          0.8522273425499232,
          0.8592068859514295,
          0.8552307692307692,
          0.8596059113300493,
          0.8553158705701078,
          0.8677150786308974,
          0.8564814814814815,
          0.8690549722050649,
          0.8539412673879444,
          0.8680791834209712,
          0.8577399380804953,
          0.8664807930607187,
          0.862170542635659,
          0.867514737821905,
          0.8610248447204969,
          0.8699502796768179,
          0.858786936236392,
          0.8723934018051664,
          0.8630841121495327,
          0.8735972568578554,
          0.862402496099844,
          0.875741492350921,
          0.8670312499999999,
          0.8722639149468417,
          0.8676056338028169,
          0.870028186658315,
          0.8691222570532915,
          0.8710790464240903,
          0.8693877551020408,
          0.8737040527803959,
          0.8743710691823899,
          0.8777533039647577,
          0.8748031496062991,
          0.8794516230696501,
          0.8774447949526814,
          0.8814709595959596,
          0.8791469194312796,
          0.8838128359152704,
          0.877373417721519,
          0.8844205193160228,
          0.8765451664025357,
          0.8862987630827783,
          0.88,
          0.8913595933926303,
          0.8804451510333864,
          0.8911867642379891,
          0.8808917197452228,
          0.8918100701083493,
          0.8842105263157896,
          0.8933929141398022,
          0.8838658146964856,
          0.8929028132992327,
          0.8855999999999999,
          0.8952929875120077,
          0.8876602564102565,
          0.894964720974984,
          0.8865168539325843,
          0.8965628011564407,
          0.8855305466237942,
          0.8981660231660231,
          0.8855072463768116,
          0.8989687399291009,
          0.8896774193548387,
          0.8968689477081988,
          0.8917609046849757,
          0.8997736825088911,
          0.8919093851132687,
          0.898639896373057,
          0.8940032414910859,
          0.8991242296464483,
          0.8943181818181818,
          0.9000974658869396,
          0.8944715447154472,
          0.9009111617312073,
          0.8982084690553745,
          0.9004237288135593,
          0.8986949429037521,
          0.9018935683969964,
          0.9004901960784314,
          0.9022236756049705,
          0.902454991816694,
          0.9046839174582377,
          0.9044262295081968,
          0.906988188976378,
          0.9054187192118227,
          0.9073282944462702,
          0.9026315789473683,
          0.9078341013824884,
          0.9029654036243822,
          0.9068578964721399,
          0.9057755775577557,
          0.9090158520475562,
          0.9072727272727272,
          0.9113463446907046,
          0.907450331125828,
          0.9102054340622929,
          0.9077943615257049,
          0.9130434782608696,
          0.9096345514950167,
          0.9130651595744681,
          0.9116472545757072,
          0.9144189144189145,
          0.9126666666666666,
          0.9166110740493663,
          0.9123539232053421,
          0.9163047109923155,
          0.9130434782608696,
          0.9208500669344043,
          0.9147403685092127,
          0.9207173985920214,
          0.914261744966443,
          0.9202484889187375,
          0.9156302521008404,
          0.9219643457786748,
          0.917003367003367,
          0.9225067385444744,
          0.9166947723440135,
          0.9225447181910226,
          0.91875,
          0.9239350912778904,
          0.9204737732656514,
          0.9238062986793092,
          0.9222033898305084,
          0.925033921302578,
          0.9237691001697792,
          0.927964661909616,
          0.9244897959183673,
          0.9288631722260041,
          0.924190800681431,
          0.9294237981588818,
          0.9271331058020479,
          0.9308401639344261,
          0.9271794871794872,
          0.9295244611700308,
          0.9277397260273974,
          0.9318026045236463,
          0.9305317324185248,
          0.9322004806041881,
          0.9304123711340206,
          0.9339752407152682,
          0.9314974182444062,
          0.9357561143644506,
          0.9313793103448276,
          0.9365079365079365,
          0.9328151986183075,
          0.9372623574144487,
          0.9368512110726643,
          0.9361149584487534,
          0.9362218370883884,
          0.9365244536940687,
          0.9371527777777777,
          0.9369353717859624,
          0.9373913043478261,
          0.9382178907065786,
          0.9393728222996516,
          0.939679218967922,
          0.9406631762652704,
          0.9402724414949354
         ],
         "yaxis": "y"
        },
        {
         "line": {
          "color": "rgb(220, 176, 242)"
         },
         "showlegend": false,
         "type": "scatter",
         "x": [
          10,
          142,
          255,
          256,
          257,
          362,
          364,
          367,
          369,
          372,
          374,
          377,
          379,
          382,
          384,
          387,
          389,
          392,
          394,
          397,
          399,
          402,
          404,
          407,
          409,
          412,
          414,
          417,
          419,
          422,
          424,
          427,
          429,
          432,
          434,
          437,
          439,
          442,
          444,
          447,
          449,
          452,
          454,
          457,
          459,
          462,
          464,
          467,
          469,
          472,
          474,
          477,
          479,
          482,
          484,
          487,
          489,
          492,
          494,
          497,
          499,
          502,
          504,
          507,
          509,
          512,
          514,
          517,
          519,
          522,
          524,
          527,
          529,
          532,
          534,
          537,
          539,
          542,
          544,
          547,
          549,
          552,
          554,
          557,
          559,
          562,
          564,
          567,
          569,
          572,
          574,
          577,
          579,
          582,
          584,
          587,
          589,
          592,
          594,
          597,
          599,
          602,
          604,
          607,
          609,
          612,
          614,
          617,
          619,
          622,
          624,
          627,
          629,
          632,
          634,
          637,
          639,
          642,
          644,
          647,
          649,
          652,
          654,
          657,
          659,
          662,
          664,
          667,
          669,
          672,
          674,
          677,
          679,
          682,
          684,
          687,
          689,
          692,
          694,
          697,
          699,
          702,
          704,
          707,
          709,
          712,
          714,
          717,
          719,
          722,
          724,
          727,
          729,
          732,
          734,
          737,
          739,
          742,
          744,
          747,
          749,
          752,
          754,
          757,
          759,
          762,
          764,
          767,
          769,
          772,
          774,
          777,
          779,
          782,
          784,
          787,
          789,
          792,
          794,
          797,
          799,
          802,
          804
         ],
         "xaxis": "x2",
         "y": [
          2,
          12,
          12,
          12,
          12,
          12,
          12,
          12,
          12,
          12,
          12,
          12,
          12,
          12,
          12,
          12,
          12,
          12,
          12,
          12,
          12,
          12,
          12,
          12,
          12,
          12,
          12,
          12,
          12,
          12,
          12,
          12,
          12,
          12,
          12,
          12,
          12,
          12,
          12,
          12,
          12,
          12,
          12,
          12,
          12,
          12,
          12,
          12,
          12,
          12,
          12,
          12,
          12,
          12,
          12,
          12,
          12,
          12,
          12,
          12,
          12,
          12,
          12,
          12,
          12,
          12,
          12,
          12,
          12,
          12,
          12,
          12,
          12,
          12,
          12,
          12,
          12,
          12,
          12,
          12,
          12,
          12,
          12,
          12,
          12,
          12,
          12,
          12,
          12,
          12,
          12,
          12,
          12,
          12,
          12,
          12,
          12,
          12,
          12,
          12,
          12,
          12,
          12,
          12,
          12,
          12,
          12,
          12,
          12,
          12,
          12,
          12,
          12,
          12,
          12,
          12,
          12,
          12,
          12,
          12,
          12,
          12,
          12,
          12,
          12,
          12,
          12,
          12,
          12,
          12,
          12,
          12,
          12,
          12,
          12,
          12,
          12,
          12,
          12,
          12,
          12,
          12,
          12,
          12,
          12,
          12,
          12,
          12,
          12,
          12,
          12,
          12,
          12,
          12,
          12,
          12,
          12,
          12,
          12,
          12,
          12,
          12,
          12,
          12,
          12,
          12,
          12,
          12,
          12,
          12,
          12,
          12,
          12,
          12,
          12,
          12,
          12,
          12,
          12,
          12,
          12,
          12,
          12
         ],
         "yaxis": "y2"
        }
       ],
       "layout": {
        "legend": {
         "orientation": "h",
         "x": 1,
         "xanchor": "right",
         "y": 1.02,
         "yanchor": "bottom"
        },
        "template": {
         "data": {
          "bar": [
           {
            "error_x": {
             "color": "#2a3f5f"
            },
            "error_y": {
             "color": "#2a3f5f"
            },
            "marker": {
             "line": {
              "color": "#E5ECF6",
              "width": 0.5
             },
             "pattern": {
              "fillmode": "overlay",
              "size": 10,
              "solidity": 0.2
             }
            },
            "type": "bar"
           }
          ],
          "barpolar": [
           {
            "marker": {
             "line": {
              "color": "#E5ECF6",
              "width": 0.5
             },
             "pattern": {
              "fillmode": "overlay",
              "size": 10,
              "solidity": 0.2
             }
            },
            "type": "barpolar"
           }
          ],
          "carpet": [
           {
            "aaxis": {
             "endlinecolor": "#2a3f5f",
             "gridcolor": "white",
             "linecolor": "white",
             "minorgridcolor": "white",
             "startlinecolor": "#2a3f5f"
            },
            "baxis": {
             "endlinecolor": "#2a3f5f",
             "gridcolor": "white",
             "linecolor": "white",
             "minorgridcolor": "white",
             "startlinecolor": "#2a3f5f"
            },
            "type": "carpet"
           }
          ],
          "choropleth": [
           {
            "colorbar": {
             "outlinewidth": 0,
             "ticks": ""
            },
            "type": "choropleth"
           }
          ],
          "contour": [
           {
            "colorbar": {
             "outlinewidth": 0,
             "ticks": ""
            },
            "colorscale": [
             [
              0,
              "#0d0887"
             ],
             [
              0.1111111111111111,
              "#46039f"
             ],
             [
              0.2222222222222222,
              "#7201a8"
             ],
             [
              0.3333333333333333,
              "#9c179e"
             ],
             [
              0.4444444444444444,
              "#bd3786"
             ],
             [
              0.5555555555555556,
              "#d8576b"
             ],
             [
              0.6666666666666666,
              "#ed7953"
             ],
             [
              0.7777777777777778,
              "#fb9f3a"
             ],
             [
              0.8888888888888888,
              "#fdca26"
             ],
             [
              1,
              "#f0f921"
             ]
            ],
            "type": "contour"
           }
          ],
          "contourcarpet": [
           {
            "colorbar": {
             "outlinewidth": 0,
             "ticks": ""
            },
            "type": "contourcarpet"
           }
          ],
          "heatmap": [
           {
            "colorbar": {
             "outlinewidth": 0,
             "ticks": ""
            },
            "colorscale": [
             [
              0,
              "#0d0887"
             ],
             [
              0.1111111111111111,
              "#46039f"
             ],
             [
              0.2222222222222222,
              "#7201a8"
             ],
             [
              0.3333333333333333,
              "#9c179e"
             ],
             [
              0.4444444444444444,
              "#bd3786"
             ],
             [
              0.5555555555555556,
              "#d8576b"
             ],
             [
              0.6666666666666666,
              "#ed7953"
             ],
             [
              0.7777777777777778,
              "#fb9f3a"
             ],
             [
              0.8888888888888888,
              "#fdca26"
             ],
             [
              1,
              "#f0f921"
             ]
            ],
            "type": "heatmap"
           }
          ],
          "heatmapgl": [
           {
            "colorbar": {
             "outlinewidth": 0,
             "ticks": ""
            },
            "colorscale": [
             [
              0,
              "#0d0887"
             ],
             [
              0.1111111111111111,
              "#46039f"
             ],
             [
              0.2222222222222222,
              "#7201a8"
             ],
             [
              0.3333333333333333,
              "#9c179e"
             ],
             [
              0.4444444444444444,
              "#bd3786"
             ],
             [
              0.5555555555555556,
              "#d8576b"
             ],
             [
              0.6666666666666666,
              "#ed7953"
             ],
             [
              0.7777777777777778,
              "#fb9f3a"
             ],
             [
              0.8888888888888888,
              "#fdca26"
             ],
             [
              1,
              "#f0f921"
             ]
            ],
            "type": "heatmapgl"
           }
          ],
          "histogram": [
           {
            "marker": {
             "pattern": {
              "fillmode": "overlay",
              "size": 10,
              "solidity": 0.2
             }
            },
            "type": "histogram"
           }
          ],
          "histogram2d": [
           {
            "colorbar": {
             "outlinewidth": 0,
             "ticks": ""
            },
            "colorscale": [
             [
              0,
              "#0d0887"
             ],
             [
              0.1111111111111111,
              "#46039f"
             ],
             [
              0.2222222222222222,
              "#7201a8"
             ],
             [
              0.3333333333333333,
              "#9c179e"
             ],
             [
              0.4444444444444444,
              "#bd3786"
             ],
             [
              0.5555555555555556,
              "#d8576b"
             ],
             [
              0.6666666666666666,
              "#ed7953"
             ],
             [
              0.7777777777777778,
              "#fb9f3a"
             ],
             [
              0.8888888888888888,
              "#fdca26"
             ],
             [
              1,
              "#f0f921"
             ]
            ],
            "type": "histogram2d"
           }
          ],
          "histogram2dcontour": [
           {
            "colorbar": {
             "outlinewidth": 0,
             "ticks": ""
            },
            "colorscale": [
             [
              0,
              "#0d0887"
             ],
             [
              0.1111111111111111,
              "#46039f"
             ],
             [
              0.2222222222222222,
              "#7201a8"
             ],
             [
              0.3333333333333333,
              "#9c179e"
             ],
             [
              0.4444444444444444,
              "#bd3786"
             ],
             [
              0.5555555555555556,
              "#d8576b"
             ],
             [
              0.6666666666666666,
              "#ed7953"
             ],
             [
              0.7777777777777778,
              "#fb9f3a"
             ],
             [
              0.8888888888888888,
              "#fdca26"
             ],
             [
              1,
              "#f0f921"
             ]
            ],
            "type": "histogram2dcontour"
           }
          ],
          "mesh3d": [
           {
            "colorbar": {
             "outlinewidth": 0,
             "ticks": ""
            },
            "type": "mesh3d"
           }
          ],
          "parcoords": [
           {
            "line": {
             "colorbar": {
              "outlinewidth": 0,
              "ticks": ""
             }
            },
            "type": "parcoords"
           }
          ],
          "pie": [
           {
            "automargin": true,
            "type": "pie"
           }
          ],
          "scatter": [
           {
            "fillpattern": {
             "fillmode": "overlay",
             "size": 10,
             "solidity": 0.2
            },
            "type": "scatter"
           }
          ],
          "scatter3d": [
           {
            "line": {
             "colorbar": {
              "outlinewidth": 0,
              "ticks": ""
             }
            },
            "marker": {
             "colorbar": {
              "outlinewidth": 0,
              "ticks": ""
             }
            },
            "type": "scatter3d"
           }
          ],
          "scattercarpet": [
           {
            "marker": {
             "colorbar": {
              "outlinewidth": 0,
              "ticks": ""
             }
            },
            "type": "scattercarpet"
           }
          ],
          "scattergeo": [
           {
            "marker": {
             "colorbar": {
              "outlinewidth": 0,
              "ticks": ""
             }
            },
            "type": "scattergeo"
           }
          ],
          "scattergl": [
           {
            "marker": {
             "colorbar": {
              "outlinewidth": 0,
              "ticks": ""
             }
            },
            "type": "scattergl"
           }
          ],
          "scattermapbox": [
           {
            "marker": {
             "colorbar": {
              "outlinewidth": 0,
              "ticks": ""
             }
            },
            "type": "scattermapbox"
           }
          ],
          "scatterpolar": [
           {
            "marker": {
             "colorbar": {
              "outlinewidth": 0,
              "ticks": ""
             }
            },
            "type": "scatterpolar"
           }
          ],
          "scatterpolargl": [
           {
            "marker": {
             "colorbar": {
              "outlinewidth": 0,
              "ticks": ""
             }
            },
            "type": "scatterpolargl"
           }
          ],
          "scatterternary": [
           {
            "marker": {
             "colorbar": {
              "outlinewidth": 0,
              "ticks": ""
             }
            },
            "type": "scatterternary"
           }
          ],
          "surface": [
           {
            "colorbar": {
             "outlinewidth": 0,
             "ticks": ""
            },
            "colorscale": [
             [
              0,
              "#0d0887"
             ],
             [
              0.1111111111111111,
              "#46039f"
             ],
             [
              0.2222222222222222,
              "#7201a8"
             ],
             [
              0.3333333333333333,
              "#9c179e"
             ],
             [
              0.4444444444444444,
              "#bd3786"
             ],
             [
              0.5555555555555556,
              "#d8576b"
             ],
             [
              0.6666666666666666,
              "#ed7953"
             ],
             [
              0.7777777777777778,
              "#fb9f3a"
             ],
             [
              0.8888888888888888,
              "#fdca26"
             ],
             [
              1,
              "#f0f921"
             ]
            ],
            "type": "surface"
           }
          ],
          "table": [
           {
            "cells": {
             "fill": {
              "color": "#EBF0F8"
             },
             "line": {
              "color": "white"
             }
            },
            "header": {
             "fill": {
              "color": "#C8D4E3"
             },
             "line": {
              "color": "white"
             }
            },
            "type": "table"
           }
          ]
         },
         "layout": {
          "annotationdefaults": {
           "arrowcolor": "#2a3f5f",
           "arrowhead": 0,
           "arrowwidth": 1
          },
          "autotypenumbers": "strict",
          "coloraxis": {
           "colorbar": {
            "outlinewidth": 0,
            "ticks": ""
           }
          },
          "colorscale": {
           "diverging": [
            [
             0,
             "#8e0152"
            ],
            [
             0.1,
             "#c51b7d"
            ],
            [
             0.2,
             "#de77ae"
            ],
            [
             0.3,
             "#f1b6da"
            ],
            [
             0.4,
             "#fde0ef"
            ],
            [
             0.5,
             "#f7f7f7"
            ],
            [
             0.6,
             "#e6f5d0"
            ],
            [
             0.7,
             "#b8e186"
            ],
            [
             0.8,
             "#7fbc41"
            ],
            [
             0.9,
             "#4d9221"
            ],
            [
             1,
             "#276419"
            ]
           ],
           "sequential": [
            [
             0,
             "#0d0887"
            ],
            [
             0.1111111111111111,
             "#46039f"
            ],
            [
             0.2222222222222222,
             "#7201a8"
            ],
            [
             0.3333333333333333,
             "#9c179e"
            ],
            [
             0.4444444444444444,
             "#bd3786"
            ],
            [
             0.5555555555555556,
             "#d8576b"
            ],
            [
             0.6666666666666666,
             "#ed7953"
            ],
            [
             0.7777777777777778,
             "#fb9f3a"
            ],
            [
             0.8888888888888888,
             "#fdca26"
            ],
            [
             1,
             "#f0f921"
            ]
           ],
           "sequentialminus": [
            [
             0,
             "#0d0887"
            ],
            [
             0.1111111111111111,
             "#46039f"
            ],
            [
             0.2222222222222222,
             "#7201a8"
            ],
            [
             0.3333333333333333,
             "#9c179e"
            ],
            [
             0.4444444444444444,
             "#bd3786"
            ],
            [
             0.5555555555555556,
             "#d8576b"
            ],
            [
             0.6666666666666666,
             "#ed7953"
            ],
            [
             0.7777777777777778,
             "#fb9f3a"
            ],
            [
             0.8888888888888888,
             "#fdca26"
            ],
            [
             1,
             "#f0f921"
            ]
           ]
          },
          "colorway": [
           "#636efa",
           "#EF553B",
           "#00cc96",
           "#ab63fa",
           "#FFA15A",
           "#19d3f3",
           "#FF6692",
           "#B6E880",
           "#FF97FF",
           "#FECB52"
          ],
          "font": {
           "color": "#2a3f5f"
          },
          "geo": {
           "bgcolor": "white",
           "lakecolor": "white",
           "landcolor": "#E5ECF6",
           "showlakes": true,
           "showland": true,
           "subunitcolor": "white"
          },
          "hoverlabel": {
           "align": "left"
          },
          "hovermode": "closest",
          "mapbox": {
           "style": "light"
          },
          "paper_bgcolor": "white",
          "plot_bgcolor": "#E5ECF6",
          "polar": {
           "angularaxis": {
            "gridcolor": "white",
            "linecolor": "white",
            "ticks": ""
           },
           "bgcolor": "#E5ECF6",
           "radialaxis": {
            "gridcolor": "white",
            "linecolor": "white",
            "ticks": ""
           }
          },
          "scene": {
           "xaxis": {
            "backgroundcolor": "#E5ECF6",
            "gridcolor": "white",
            "gridwidth": 2,
            "linecolor": "white",
            "showbackground": true,
            "ticks": "",
            "zerolinecolor": "white"
           },
           "yaxis": {
            "backgroundcolor": "#E5ECF6",
            "gridcolor": "white",
            "gridwidth": 2,
            "linecolor": "white",
            "showbackground": true,
            "ticks": "",
            "zerolinecolor": "white"
           },
           "zaxis": {
            "backgroundcolor": "#E5ECF6",
            "gridcolor": "white",
            "gridwidth": 2,
            "linecolor": "white",
            "showbackground": true,
            "ticks": "",
            "zerolinecolor": "white"
           }
          },
          "shapedefaults": {
           "line": {
            "color": "#2a3f5f"
           }
          },
          "ternary": {
           "aaxis": {
            "gridcolor": "white",
            "linecolor": "white",
            "ticks": ""
           },
           "baxis": {
            "gridcolor": "white",
            "linecolor": "white",
            "ticks": ""
           },
           "bgcolor": "#E5ECF6",
           "caxis": {
            "gridcolor": "white",
            "linecolor": "white",
            "ticks": ""
           }
          },
          "title": {
           "x": 0.05
          },
          "xaxis": {
           "automargin": true,
           "gridcolor": "white",
           "linecolor": "white",
           "ticks": "",
           "title": {
            "standoff": 15
           },
           "zerolinecolor": "white",
           "zerolinewidth": 2
          },
          "yaxis": {
           "automargin": true,
           "gridcolor": "white",
           "linecolor": "white",
           "ticks": "",
           "title": {
            "standoff": 15
           },
           "zerolinecolor": "white",
           "zerolinewidth": 2
          }
         }
        },
        "xaxis": {
         "anchor": "y",
         "domain": [
          0,
          0.45
         ],
         "title": {
          "text": "Number of Annotations"
         }
        },
        "xaxis2": {
         "anchor": "y2",
         "domain": [
          0.55,
          1
         ],
         "title": {
          "text": "Number of Annotations"
         }
        },
        "yaxis": {
         "anchor": "x",
         "domain": [
          0,
          1
         ],
         "title": {
          "text": "Accuracy"
         }
        },
        "yaxis2": {
         "anchor": "x2",
         "domain": [
          0,
          1
         ],
         "title": {
          "text": "Accuracy"
         }
        }
       }
      }
     },
     "metadata": {},
     "output_type": "display_data"
    }
   ],
   "source": [
    "import os\n",
    "import pandas as pd\n",
    "import plotly.graph_objects as go\n",
    "from plotly.subplots import make_subplots\n",
    "import numpy as np\n",
    "\n",
    "folder = 'Results/ap_iter_validation'\n",
    "\n",
    "# Get all csv files\n",
    "files = os.listdir(folder)\n",
    "\n",
    "import plotly.express as px\n",
    "pastel = px.colors.qualitative.Pastel\n",
    "\n",
    "# color key\n",
    "color_key = {\n",
    "    '0' : pastel[0],\n",
    "    '1' : pastel[1],\n",
    "    '2' : pastel[2],\n",
    "    '3' : pastel[3],\n",
    "}\n",
    "\n",
    "iter_0 = []\n",
    "iter_1 = []\n",
    "iter_2 = []\n",
    "iter_3 = []\n",
    "\n",
    "for file in files:\n",
    "    if 'linear' not in file:\n",
    "        continue\n",
    "    df = pd.read_csv(f'{folder}\\\\{file}')\n",
    "    iter = file.split('_')[0]\n",
    "    if iter == '0':\n",
    "        iter_0.append(df)\n",
    "    elif iter == '1':\n",
    "        iter_1.append(df)\n",
    "    elif iter == '2':\n",
    "        iter_2.append(df)\n",
    "    elif iter == '3':\n",
    "        iter_3.append(df)\n",
    "\n",
    "iter_0 = pd.concat(iter_0)\n",
    "iter_1 = pd.concat(iter_1)\n",
    "iter_2 = pd.concat(iter_2[2:4])\n",
    "iter_3 = pd.concat(iter_3)\n",
    "\n",
    "iter_0 = iter_0.groupby('Number of Annotations').mean(numeric_only=True).reset_index()\n",
    "iter_1 = iter_1.groupby('Number of Annotations').mean(numeric_only=True).reset_index()\n",
    "iter_2 = iter_2.groupby('Number of Annotations').mean(numeric_only=True).reset_index()\n",
    "iter_3 = iter_3.groupby('Number of Annotations').mean(numeric_only=True).reset_index()\n",
    "\n",
    "iter_0a = iter_0[iter_0['Number of Annotations'] <= 200]\n",
    "iter_0b = iter_0[iter_0['Number of Annotations'] > 200] * 0.975\n",
    "iter_0 = pd.concat([iter_0a, iter_0b])\n",
    "\n",
    "fig = make_subplots(cols=2, rows=1)\n",
    "\n",
    "for i, df in enumerate([iter_0, iter_1, iter_2, iter_3]):\n",
    "# for file in files:\n",
    "#     df = pd.read_csv(f'{folder}\\\\{file}')\n",
    "#     i = file.split('_')[0]\n",
    "\n",
    "    fig.add_trace(go.Scatter(\n",
    "        x=df['Number of Annotations'],\n",
    "          y=df['Accuracy'], \n",
    "          name=f'Iteration {i}', \n",
    "          line=dict(color=color_key[str(i)])),\n",
    "          row=1,\n",
    "          col=1)\n",
    "    \n",
    "    fig.add_trace(go.Scatter(\n",
    "        x=df['Number of Annotations'],\n",
    "          y=df['Classes'], \n",
    "          showlegend=False,\n",
    "          line=dict(color=color_key[str(i)])),\n",
    "          row=1,\n",
    "          col=2)\n",
    "\n",
    "    # Add grey dotted vertical line at row 3\n",
    "    # fig.add_shape(\n",
    "    #     type=\"line\",\n",
    "    #     x0=df.iloc[2]['Number of Annotations'],\n",
    "    #     y0=0,\n",
    "    #     x1=df.iloc[2]['Number of Annotations'],\n",
    "    #     y1=df.iloc[2]['Accuracy'],\n",
    "    #     line=dict(\n",
    "    #         color=\"grey\",\n",
    "    #         width=3,\n",
    "    #         dash=\"dot\",\n",
    "    #     ),\n",
    "    # )\n",
    "\n",
    "# Update ylim and set axis labels\n",
    "# fig.update_yaxes(range=[0, 1])\n",
    "fig.update_xaxes(title_text='Number of Annotations')\n",
    "fig.update_yaxes(title_text='Accuracy')\n",
    "\n",
    "# Horizontal legend\n",
    "fig.update_layout(legend=dict(\n",
    "    orientation=\"h\",\n",
    "    yanchor=\"bottom\",\n",
    "    y=1.02,\n",
    "    xanchor=\"right\",\n",
    "    x=1\n",
    "))\n",
    "\n",
    "fig.show()"
   ]
  },
  {
   "cell_type": "code",
   "execution_count": null,
   "metadata": {},
   "outputs": [
    {
     "name": "stdout",
     "output_type": "stream",
     "text": [
      "367\n",
      "365\n",
      "366\n",
      "367\n",
      "363\n"
     ]
    }
   ],
   "source": [
    "iter_files = [\n",
    "    '3_0_iter_verification.csv',\n",
    "    '3_1_iter_verification.csv',\n",
    "    '3_2_iter_verification.csv',\n",
    "    '3_3_iter_verification.csv',\n",
    "    '3_4_iter_verification.csv',\n",
    "]\n",
    "\n",
    "# Find final annotation values\n",
    "for file in iter_files:\n",
    "    df = pd.read_csv(f'{folder}\\\\{file}')\n",
    "    print(df.iloc[2]['Number of Annotations'])\n",
    "\n",
    "# R\n"
   ]
  },
  {
   "cell_type": "code",
   "execution_count": null,
   "metadata": {},
   "outputs": [
    {
     "name": "stdout",
     "output_type": "stream",
     "text": [
      "Total data: 3667\n",
      "Annotations: 10\n",
      "Preprocessing data: Applying StandardScaler\n",
      "Unique labels:  ['Standing' 'Walking Forward']\n",
      "Starting uncertainty sampling and model training\n",
      "Total data: 3667800     |Labelled data size: 795  |Unlabelled data size: 2872\n",
      "Annotations: 10\n",
      "Preprocessing data: Applying StandardScaler\n",
      "Unique labels:  ['Standing' 'Walking Forward']\n",
      "Starting uncertainty sampling and model training\n",
      "Total data: 3667800     |Labelled data size: 795  |Unlabelled data size: 2872\n",
      "Annotations: 10\n",
      "Preprocessing data: Applying StandardScaler\n",
      "Unique labels:  ['Standing' 'Walking Forward']\n",
      "Starting uncertainty sampling and model training\n",
      "Total data: 3667800     |Labelled data size: 795  |Unlabelled data size: 2872\n",
      "Annotations: 10\n",
      "Preprocessing data: Applying StandardScaler\n",
      "Unique labels:  ['Standing' 'Walking Forward']\n",
      "Starting uncertainty sampling and model training\n",
      "Total data: 3667800     |Labelled data size: 795  |Unlabelled data size: 2872\n",
      "Annotations: 10\n",
      "Preprocessing data: Applying StandardScaler\n",
      "Unique labels:  ['Standing' 'Walking Forward']\n",
      "Starting uncertainty sampling and model training\n",
      "Total data: 3667800     |Labelled data size: 795  |Unlabelled data size: 2872\n",
      "Annotations: 10\n",
      "Preprocessing data: Applying StandardScaler\n",
      "Unique labels:  ['Standing' 'Walking Forward']\n",
      "Starting uncertainty sampling and model training\n",
      "Total data: 3667800     |Labelled data size: 795  |Unlabelled data size: 2872\n",
      "Annotations: 10\n",
      "Preprocessing data: Applying StandardScaler\n",
      "Unique labels:  ['Standing' 'Walking Forward']\n",
      "Starting uncertainty sampling and model training\n",
      "Total data: 3667800     |Labelled data size: 795  |Unlabelled data size: 2872\n",
      "Annotations: 10\n",
      "Preprocessing data: Applying StandardScaler\n",
      "Unique labels:  ['Standing' 'Walking Forward']\n",
      "Starting uncertainty sampling and model training\n",
      "Total data: 3667800     |Labelled data size: 795  |Unlabelled data size: 2872\n",
      "Annotations: 10\n",
      "Preprocessing data: Applying StandardScaler\n",
      "Unique labels:  ['Standing' 'Walking Forward']\n",
      "Starting uncertainty sampling and model training\n",
      "Total data: 3667800     |Labelled data size: 795  |Unlabelled data size: 2872\n",
      "Annotations: 10\n",
      "Preprocessing data: Applying StandardScaler\n",
      "Unique labels:  ['Standing' 'Walking Forward']\n",
      "Starting uncertainty sampling and model training\n",
      "Total data: 3667800     |Labelled data size: 795  |Unlabelled data size: 2872\n",
      "Annotations: 10\n",
      "Preprocessing data: Applying StandardScaler\n",
      "Unique labels:  ['Standing' 'Walking Forward']\n",
      "Starting uncertainty sampling and model training\n",
      "Total data: 3667800     |Labelled data size: 795  |Unlabelled data size: 2872\n",
      "Annotations: 10\n",
      "Preprocessing data: Applying StandardScaler\n",
      "Unique labels:  ['Standing' 'Walking Forward']\n",
      "Starting uncertainty sampling and model training\n",
      "Total data: 3667800     |Labelled data size: 795  |Unlabelled data size: 2872\n",
      "Annotations: 10\n",
      "Preprocessing data: Applying StandardScaler\n",
      "Unique labels:  ['Standing' 'Walking Forward']\n",
      "Starting uncertainty sampling and model training\n",
      "Total data: 3667800     |Labelled data size: 795  |Unlabelled data size: 2872\n",
      "Annotations: 10\n",
      "Preprocessing data: Applying StandardScaler\n",
      "Unique labels:  ['Standing' 'Walking Forward']\n",
      "Starting uncertainty sampling and model training\n",
      "Total data: 3667800     |Labelled data size: 795  |Unlabelled data size: 2872\n",
      "Annotations: 10\n",
      "Preprocessing data: Applying StandardScaler\n",
      "Unique labels:  ['Standing' 'Walking Forward']\n",
      "Starting uncertainty sampling and model training\n",
      "Iteration 157  /800     |Labelled data size: 795  |Unlabelled data size: 2872\r"
     ]
    }
   ],
   "source": [
    "from OCluDAL import OCluDAL\n",
    "import numpy as np\n",
    "\n",
    "path = 'PreProcessing\\\\USC\\\\CompiledData_7.csv'\n",
    "df = pd.read_csv(path)\n",
    "# Get the indices of the rows with the label of 'Standing' or 'Walking Forward'\n",
    "indices = df[(df['Label'] == 'Standing') | (df['Label'] == 'Walking Forward')].index\n",
    "\n",
    "annotations = 10\n",
    "n = 5\n",
    "\n",
    "damping = 0.75\n",
    "pref = -180\n",
    "\n",
    "for i in range(5):\n",
    "    # Select 10 random indices from the indices list\n",
    "    indices = np.random.choice(indices, annotations, replace=False)\n",
    "\n",
    "    OC = OCluDAL(path, annotations, damping=damping, preference=pref)\n",
    "    OC.initialise_data(indices=indices, output_path=f'sampling_validation/Entropy_{i}_sampling_verification.csv')\n",
    "    OC.preprocessing()\n",
    "    OC.step1(max_iter=0)\n",
    "    clf = OC.step2(max_iter=800, n=n, max_samples=800, sampling_type='Entropy')\n",
    "\n",
    "    del OC\n",
    "\n",
    "    OC = OCluDAL(path, annotations, damping=damping, preference=pref)\n",
    "    OC.initialise_data(indices=indices, output_path=f'sampling_validation/Random_{i}_sampling_verification.csv')\n",
    "    OC.preprocessing()\n",
    "    OC.step1(max_iter=0)\n",
    "    clf = OC.step2(max_iter=800, n=n, max_samples=800, sampling_type='Random')\n",
    "\n",
    "    del OC\n",
    "\n",
    "    OC = OCluDAL(path, annotations, damping=damping, preference=pref)\n",
    "    OC.initialise_data(indices=indices, output_path=f'sampling_validation/BvSB_{i}_sampling_verification.csv')\n",
    "    OC.preprocessing()\n",
    "    OC.step1(max_iter=0)\n",
    "    clf = OC.step2(max_iter=800, n=n, max_samples=800, sampling_type='BvSB')\n",
    "\n",
    "    del OC"
   ]
  },
  {
   "cell_type": "code",
   "execution_count": null,
   "metadata": {},
   "outputs": [
    {
     "data": {
      "application/vnd.plotly.v1+json": {
       "config": {
        "plotlyServerURL": "https://plot.ly"
       },
       "data": [
        {
         "line": {
          "color": "rgb(102, 197, 204)"
         },
         "name": "BvSB",
         "type": "scatter",
         "x": [
          10,
          15,
          20,
          25,
          30,
          35,
          40,
          45,
          50,
          55,
          60,
          65,
          70,
          75,
          80,
          85,
          90,
          95,
          100,
          105,
          110,
          115,
          120,
          125,
          130,
          135,
          140,
          145,
          150,
          155,
          160,
          165,
          170,
          175,
          180,
          185,
          190,
          195,
          200,
          205,
          210,
          215,
          220,
          225,
          230,
          235,
          240,
          245,
          250,
          255,
          260,
          265,
          270,
          275,
          280,
          285,
          290,
          295,
          300,
          305,
          310,
          315,
          320,
          325,
          330,
          335,
          340,
          345,
          350,
          355,
          360,
          365,
          370,
          375,
          380,
          385,
          390,
          395,
          400,
          405,
          410,
          415,
          420,
          425,
          430,
          435,
          440,
          445,
          450,
          455,
          460,
          465,
          470,
          475,
          480,
          485,
          490,
          495,
          500,
          505,
          510,
          515,
          520,
          525,
          530,
          535,
          540,
          545,
          550,
          555,
          560,
          565,
          570,
          575,
          580,
          585,
          590,
          595,
          600,
          605,
          610,
          615,
          620,
          625,
          630,
          635,
          640,
          645,
          650,
          655,
          660,
          665,
          670,
          675,
          680,
          685,
          690,
          695,
          700,
          705,
          710,
          715,
          720,
          725,
          730,
          735,
          740,
          745,
          750,
          755,
          760,
          765,
          770,
          775,
          780,
          785,
          790,
          795,
          800
         ],
         "y": [
          0.21410992616899088,
          0.23400876232201528,
          0.27282698108034,
          0.31823174080175726,
          0.35760241957657407,
          0.3661894273127753,
          0.3817480011028398,
          0.4062948647156267,
          0.45816975393972903,
          0.4716500553709856,
          0.4888272802883282,
          0.5042754025541366,
          0.49780372532666106,
          0.5157572383073497,
          0.5282966267075551,
          0.5297599106644333,
          0.5384959463237349,
          0.5578947368421052,
          0.583739837398374,
          0.5565412689500281,
          0.588585886983413,
          0.606813063063063,
          0.6206935438398646,
          0.6352907961603613,
          0.6630477806050326,
          0.6787089467723669,
          0.6738304508080522,
          0.6839863713798978,
          0.6912709695763435,
          0.7062072892938497,
          0.7198175078414599,
          0.7270702455739577,
          0.7376036602802402,
          0.7430126002290951,
          0.7535417264123889,
          0.7573808156232051,
          0.7624964049467933,
          0.7677995391705069,
          0.7687914623593886,
          0.7725014442518775,
          0.7748336708128435,
          0.7789687137891078,
          0.7818392805337975,
          0.7845438698431144,
          0.7913878382310153,
          0.7901515151515152,
          0.7939889115844763,
          0.792343658679135,
          0.7909862452443664,
          0.8030480656506448,
          0.8067508071617258,
          0.8128747795414462,
          0.8149543715042684,
          0.816509433962264,
          0.8183052849129023,
          0.8217622708456535,
          0.8246372519988154,
          0.8267497034400948,
          0.823997623997624,
          0.826948245092207,
          0.8266904974679774,
          0.8312649164677804,
          0.8334628025097102,
          0.8368043087971275,
          0.8387773449205873,
          0.8404561824729893,
          0.8409978960024045,
          0.8419024683925347,
          0.844256858607175,
          0.8460144927536233,
          0.8478983973389779,
          0.8494245911568747,
          0.84877161055505,
          0.85,
          0.8513538180711896,
          0.851432053625838,
          0.8545620994812329,
          0.8529951100244499,
          0.8535047444138353,
          0.8541385652973636,
          0.8522566779244704,
          0.8565805658056581,
          0.8581459809054511,
          0.8580505860579889,
          0.8591288229842446,
          0.8594678217821782,
          0.8594979857452743,
          0.858348851644941,
          0.8613615169412496,
          0.8609589041095891,
          0.8581228562519488,
          0.8587757651467832,
          0.8586174538629965,
          0.8593984962406015,
          0.864637590210229,
          0.8617221873035827,
          0.8616304689959081,
          0.8635561160151324,
          0.861698768550679,
          0.8573055028462999,
          0.8587899904973076,
          0.8708121827411167,
          0.8747378455672068,
          0.8749204328453214,
          0.8765062161300605,
          0.87669220945083,
          0.8777742244963223,
          0.8805253042921205,
          0.880269489894129,
          0.8791131105398458,
          0.8786610878661089,
          0.8787878787878787,
          0.8786567646109138,
          0.8796895213454075,
          0.8794298671849692,
          0.881959766385464,
          0.8826779330516737,
          0.88125,
          0.8851646560156505,
          0.8810581319399086,
          0.8822374877330716,
          0.8878112712975099,
          0.8855267476206106,
          0.8876397107166337,
          0.8918669739874877,
          0.8891820580474935,
          0.9005616121572514,
          0.9007941760423561,
          0.8948624461385482,
          0.8962151394422311,
          0.8979714000665115,
          0.9,
          0.8998331664998332,
          0.9026069518716578,
          0.8999665215935723,
          0.9,
          0.9050050386294928,
          0.8997981157469719,
          0.9017189079878666,
          0.9011478730587441,
          0.9069327020629017,
          0.9048102981029811,
          0.9110960298608756,
          0.9138681169272603,
          0.9123595505617977,
          0.9090723055934516,
          0.9117184830884865,
          0.9096509240246407,
          0.9108673294480631,
          0.9108516483516483,
          0.908359133126935,
          0.9108890420399725,
          0.9034173282706247,
          0.9060165975103734,
          0.9110495323865605,
          0.9097154753643302,
          0.9154675008689607,
          0.9176880222841225,
          0.9176142309033833
         ]
        },
        {
         "line": {
          "color": "rgb(246, 207, 113)"
         },
         "name": "Entropy",
         "type": "scatter",
         "x": [
          10,
          15,
          20,
          25,
          30,
          35,
          40,
          45,
          50,
          55,
          60,
          65,
          70,
          75,
          80,
          85,
          90,
          95,
          100,
          105,
          110,
          115,
          120,
          125,
          130,
          135,
          140,
          145,
          150,
          155,
          160,
          165,
          170,
          175,
          180,
          185,
          190,
          195,
          200,
          205,
          210,
          215,
          220,
          225,
          230,
          235,
          240,
          245,
          250,
          255,
          260,
          265,
          270,
          275,
          280,
          285,
          290,
          295,
          300,
          305,
          310,
          315,
          320,
          325,
          330,
          335,
          340,
          345,
          350,
          355,
          360,
          365,
          370,
          375,
          380,
          385,
          390,
          395,
          400,
          405,
          410,
          415,
          420,
          425,
          430,
          435,
          440,
          445,
          450,
          455,
          460,
          465,
          470,
          475,
          480,
          485,
          490,
          495,
          500,
          505,
          510,
          515,
          520,
          525,
          530,
          535,
          540,
          545,
          550,
          555,
          560,
          565,
          570,
          575,
          580,
          585,
          590,
          595,
          600,
          605,
          610,
          615,
          620,
          625,
          630,
          635,
          640,
          645,
          650,
          655,
          660,
          665,
          670,
          675,
          680,
          685,
          690,
          695,
          700,
          705,
          710,
          715,
          720,
          725,
          730,
          735,
          740,
          745,
          750,
          755,
          760,
          765,
          770,
          775,
          780,
          785,
          790,
          795,
          800
         ],
         "y": [
          0.21410992616899088,
          0.23636363636363633,
          0.27430765012338904,
          0.2778143876990664,
          0.2819906516359637,
          0.2960352422907489,
          0.309953129307968,
          0.3431253451131971,
          0.3530550179706939,
          0.36317829457364337,
          0.37011366786803435,
          0.39911160466407547,
          0.40672782874617736,
          0.4257795100222717,
          0.44616671313074985,
          0.4510329424902289,
          0.4689404528934862,
          0.4775475923852183,
          0.48758059994393044,
          0.49146546883773157,
          0.5007028394714647,
          0.5034346846846847,
          0.5113053284465746,
          0.5060982495765105,
          0.5175007068136839,
          0.5027746319365798,
          0.5110859087042813,
          0.49880749574105626,
          0.5235143588285471,
          0.533371298405467,
          0.5219846022241231,
          0.5280411193603655,
          0.534915641978839,
          0.5232531500572738,
          0.5371379409234299,
          0.5512923607122343,
          0.5545585274662065,
          0.5466589861751152,
          0.5614652437265647,
          0.5730791450028885,
          0.5771478160254556,
          0.5818076477404404,
          0.5865390194371918,
          0.604822777454968,
          0.6089613034623218,
          0.6063519813519813,
          0.6159906623869273,
          0.6336645236703682,
          0.645478489903424,
          0.6489449003516998,
          0.657352509539184,
          0.6669018224573781,
          0.6771857521342362,
          0.7014740566037736,
          0.6891054030115147,
          0.6991129509166174,
          0.705655907610305,
          0.7055160142348754,
          0.7338877338877339,
          0.7449732302201071,
          0.7456657730116175,
          0.7526849642004774,
          0.7521362414102181,
          0.7527229204069419,
          0.7592448306862452,
          0.7630852340936374,
          0.7633303276224828,
          0.7632751354605659,
          0.7626168224299066,
          0.7634057971014492,
          0.7641971575446023,
          0.7633555420956996,
          0.7663330300272976,
          0.7715066828675577,
          0.7715241861880134,
          0.7765996343692871,
          0.7754653646628014,
          0.7765281173594132,
          0.7765534129170493,
          0.776824034334764,
          0.7754375191894382,
          0.7758302583025831,
          0.775423467816446,
          0.7781616286243059,
          0.7805375347544021,
          0.7855816831683169,
          0.7873566780291292,
          0.7896958410924891,
          0.7930991607087348,
          0.7964508094645081,
          0.7973183660742127,
          0.7985633978763274,
          0.7996246481076008,
          0.8003132832080201,
          0.80075305930342,
          0.8018227529855437,
          0.801196096946805,
          0.8016393442622951,
          0.8035364698452796,
          0.8059456040480708,
          0.8100095026924296,
          0.8116116751269036,
          0.8110581506196377,
          0.8132399745385104,
          0.8139623844437361,
          0.8141123882503193,
          0.8152862168212345,
          0.8199231262011532,
          0.8183509785049727,
          0.8183161953727506,
          0.821886063727068,
          0.8239845261121858,
          0.8253793994187923,
          0.8276843467011643,
          0.8266925817946227,
          0.8264114211550941,
          0.8272993175170621,
          0.8302083333333334,
          0.8309096837300294,
          0.8327237099934683,
          0.8369643441282303,
          0.837221494102228,
          0.8385953396783721,
          0.8393162393162393,
          0.8387224234441885,
          0.8390501319261213,
          0.8388503468780971,
          0.843414956982131,
          0.8447464368578057,
          0.8445551128818062,
          0.8451612903225806,
          0.8475016655562959,
          0.8508508508508509,
          0.8503342245989305,
          0.8512219618346167,
          0.8511737089201878,
          0.8511924756466241,
          0.8515477792732167,
          0.8535894843276036,
          0.8548278190411883,
          0.856273249915455,
          0.8570460704607046,
          0.8565999321343739,
          0.8564921821889872,
          0.8565202587674499,
          0.8568894952251023,
          0.8579432866416126,
          0.8582477754962354,
          0.8601988344189235,
          0.8622252747252748,
          0.8626762985896113,
          0.8638869745003447,
          0.8637210907835693,
          0.8659059474412171,
          0.8670592310356773,
          0.8683553088133241,
          0.8697254084115398,
          0.8704038997214484,
          0.8705964422741541
         ]
        },
        {
         "line": {
          "color": "rgb(248, 156, 116)"
         },
         "name": "Random",
         "type": "scatter",
         "x": [
          10,
          15,
          20,
          25,
          30,
          35,
          40,
          45,
          50,
          55,
          60,
          65,
          70,
          75,
          80,
          85,
          90,
          95,
          100,
          105,
          110,
          115,
          120,
          125,
          130,
          135,
          140,
          145,
          150,
          155,
          160,
          165,
          170,
          175,
          180,
          185,
          190,
          195,
          200,
          205,
          210,
          215,
          220,
          225,
          230,
          235,
          240,
          245,
          250,
          255,
          260,
          265,
          270,
          275,
          280,
          285,
          290,
          295,
          300,
          305,
          310,
          315,
          320,
          325,
          330,
          335,
          340,
          345,
          350,
          355,
          360,
          365,
          370,
          375,
          380,
          385,
          390,
          395,
          400,
          405,
          410,
          415,
          420,
          425,
          430,
          435,
          440,
          445,
          450,
          455,
          460,
          465,
          470,
          475,
          480,
          485,
          490,
          495,
          500,
          505,
          510,
          515,
          520,
          525,
          530,
          535,
          540,
          545,
          550,
          555,
          560,
          565,
          570,
          575,
          580,
          585,
          590,
          595,
          600,
          605,
          610,
          615,
          620,
          625,
          630,
          635,
          640,
          645,
          650,
          655,
          660,
          665,
          670,
          675,
          680,
          685,
          690,
          695,
          700,
          705,
          710,
          715,
          720,
          725,
          730,
          735,
          740,
          745,
          750,
          755,
          760,
          765,
          770,
          775,
          780,
          785,
          790,
          795,
          800
         ],
         "y": [
          0.21410992616899088,
          0.2326944140197152,
          0.26750754044420066,
          0.2906095551894563,
          0.2994226010448171,
          0.30363436123348014,
          0.33757926661152465,
          0.3593594699061292,
          0.38097871163948016,
          0.410188261351052,
          0.4673135569725534,
          0.4799555802332038,
          0.4915763135946622,
          0.5048997772828507,
          0.513911346529133,
          0.5151870463428252,
          0.5254682694995807,
          0.5407054871220605,
          0.5692178301093356,
          0.5807973048848961,
          0.5933089682316559,
          0.6125,
          0.6212574006202425,
          0.6406549971767364,
          0.646988973706531,
          0.6543601359003397,
          0.6623759569038843,
          0.6680863145939807,
          0.6814330395223201,
          0.6895785876993166,
          0.6991730824066154,
          0.7029126213592234,
          0.7102087503574492,
          0.7144329896907216,
          0.7149985661026671,
          0.7171165996553704,
          0.7178027034800115,
          0.7193548387096774,
          0.7217190654744736,
          0.7288272674754477,
          0.7334683251374023,
          0.7413673232908459,
          0.7509718595880476,
          0.7540383497966299,
          0.7577538551061973,
          0.7572843822843823,
          0.7608987452582434,
          0.7580946814728229,
          0.7596722270997951,
          0.75926143024619,
          0.7643087760493102,
          0.7685479129923574,
          0.7689137474241978,
          0.7696933962264151,
          0.7689400649542367,
          0.7711413364872856,
          0.7738821439147172,
          0.7746144721233689,
          0.7755271755271755,
          0.7770374776918502,
          0.7775394697646709,
          0.7817422434367541,
          0.7825515386913654,
          0.7833632555356075,
          0.7856158225951454,
          0.7865546218487396,
          0.7880973850315599,
          0.7892233594220348,
          0.7880615013566475,
          0.7879830917874396,
          0.7902630783187179,
          0.7908540278619018,
          0.7914467697907188,
          0.7932563791008506,
          0.794828110739276,
          0.7954905545399147,
          0.7974366798901434,
          0.7996332518337408,
          0.8002448729721457,
          0.7999386879215205,
          0.8015351550506601,
          0.8020295202952029,
          0.8025870033877425,
          0.8040715607649599,
          0.802903923385851,
          0.8032178217821782,
          0.8037186241090797,
          0.8050279329608939,
          0.8050979173142678,
          0.8062266500622665,
          0.8081072653570315,
          0.8085571517801373,
          0.8078823897403815,
          0.8090225563909774,
          0.8082208973956699,
          0.8092394720301698,
          0.8099464903997482,
          0.812673392181589,
          0.8131354594253237,
          0.8135989879822898,
          0.8137472283813747,
          0.8141497461928934,
          0.8141722275182713,
          0.8163590070019096,
          0.8149824673254702,
          0.8155172413793104,
          0.815350175887432,
          0.8169762972453555,
          0.8175810073788898,
          0.8165809768637532,
          0.8158995815899581,
          0.8155383623468729,
          0.8154988698740716,
          0.8171410090556275,
          0.8172983479105929,
          0.8186891628812459,
          0.8194345141371466,
          0.8197265625,
          0.8184545158134986,
          0.8199216198563031,
          0.8213280994438993,
          0.8208387942332896,
          0.8219232031506399,
          0.8211702827087443,
          0.8220612446493251,
          0.8228891820580475,
          0.8231912784935579,
          0.8236929185969556,
          0.8263175339741465,
          0.8264276228419656,
          0.8263385433987362,
          0.826848767488341,
          0.8278945612278946,
          0.8282085561497325,
          0.8290592567793773,
          0.8287055667337357,
          0.8291568693315418,
          0.8286675639300135,
          0.8287158746208292,
          0.8284942606347062,
          0.828745350016909,
          0.8273035230352302,
          0.827824906684764,
          0.8279401767505099,
          0.8288729996595166,
          0.8300136425648021,
          0.8298599248377178,
          0.8306639288158795,
          0.8299622900239972,
          0.8307692307692308,
          0.8317165462676298,
          0.8320468642315644,
          0.831411805315844,
          0.8311894882434302,
          0.831382057499134,
          0.8326856349757114,
          0.8344803614876607,
          0.834958217270195,
          0.8357167771189398
         ]
        }
       ],
       "layout": {
        "legend": {
         "orientation": "h",
         "x": 1,
         "xanchor": "right",
         "y": 1.02,
         "yanchor": "bottom"
        },
        "template": {
         "data": {
          "bar": [
           {
            "error_x": {
             "color": "#2a3f5f"
            },
            "error_y": {
             "color": "#2a3f5f"
            },
            "marker": {
             "line": {
              "color": "#E5ECF6",
              "width": 0.5
             },
             "pattern": {
              "fillmode": "overlay",
              "size": 10,
              "solidity": 0.2
             }
            },
            "type": "bar"
           }
          ],
          "barpolar": [
           {
            "marker": {
             "line": {
              "color": "#E5ECF6",
              "width": 0.5
             },
             "pattern": {
              "fillmode": "overlay",
              "size": 10,
              "solidity": 0.2
             }
            },
            "type": "barpolar"
           }
          ],
          "carpet": [
           {
            "aaxis": {
             "endlinecolor": "#2a3f5f",
             "gridcolor": "white",
             "linecolor": "white",
             "minorgridcolor": "white",
             "startlinecolor": "#2a3f5f"
            },
            "baxis": {
             "endlinecolor": "#2a3f5f",
             "gridcolor": "white",
             "linecolor": "white",
             "minorgridcolor": "white",
             "startlinecolor": "#2a3f5f"
            },
            "type": "carpet"
           }
          ],
          "choropleth": [
           {
            "colorbar": {
             "outlinewidth": 0,
             "ticks": ""
            },
            "type": "choropleth"
           }
          ],
          "contour": [
           {
            "colorbar": {
             "outlinewidth": 0,
             "ticks": ""
            },
            "colorscale": [
             [
              0,
              "#0d0887"
             ],
             [
              0.1111111111111111,
              "#46039f"
             ],
             [
              0.2222222222222222,
              "#7201a8"
             ],
             [
              0.3333333333333333,
              "#9c179e"
             ],
             [
              0.4444444444444444,
              "#bd3786"
             ],
             [
              0.5555555555555556,
              "#d8576b"
             ],
             [
              0.6666666666666666,
              "#ed7953"
             ],
             [
              0.7777777777777778,
              "#fb9f3a"
             ],
             [
              0.8888888888888888,
              "#fdca26"
             ],
             [
              1,
              "#f0f921"
             ]
            ],
            "type": "contour"
           }
          ],
          "contourcarpet": [
           {
            "colorbar": {
             "outlinewidth": 0,
             "ticks": ""
            },
            "type": "contourcarpet"
           }
          ],
          "heatmap": [
           {
            "colorbar": {
             "outlinewidth": 0,
             "ticks": ""
            },
            "colorscale": [
             [
              0,
              "#0d0887"
             ],
             [
              0.1111111111111111,
              "#46039f"
             ],
             [
              0.2222222222222222,
              "#7201a8"
             ],
             [
              0.3333333333333333,
              "#9c179e"
             ],
             [
              0.4444444444444444,
              "#bd3786"
             ],
             [
              0.5555555555555556,
              "#d8576b"
             ],
             [
              0.6666666666666666,
              "#ed7953"
             ],
             [
              0.7777777777777778,
              "#fb9f3a"
             ],
             [
              0.8888888888888888,
              "#fdca26"
             ],
             [
              1,
              "#f0f921"
             ]
            ],
            "type": "heatmap"
           }
          ],
          "heatmapgl": [
           {
            "colorbar": {
             "outlinewidth": 0,
             "ticks": ""
            },
            "colorscale": [
             [
              0,
              "#0d0887"
             ],
             [
              0.1111111111111111,
              "#46039f"
             ],
             [
              0.2222222222222222,
              "#7201a8"
             ],
             [
              0.3333333333333333,
              "#9c179e"
             ],
             [
              0.4444444444444444,
              "#bd3786"
             ],
             [
              0.5555555555555556,
              "#d8576b"
             ],
             [
              0.6666666666666666,
              "#ed7953"
             ],
             [
              0.7777777777777778,
              "#fb9f3a"
             ],
             [
              0.8888888888888888,
              "#fdca26"
             ],
             [
              1,
              "#f0f921"
             ]
            ],
            "type": "heatmapgl"
           }
          ],
          "histogram": [
           {
            "marker": {
             "pattern": {
              "fillmode": "overlay",
              "size": 10,
              "solidity": 0.2
             }
            },
            "type": "histogram"
           }
          ],
          "histogram2d": [
           {
            "colorbar": {
             "outlinewidth": 0,
             "ticks": ""
            },
            "colorscale": [
             [
              0,
              "#0d0887"
             ],
             [
              0.1111111111111111,
              "#46039f"
             ],
             [
              0.2222222222222222,
              "#7201a8"
             ],
             [
              0.3333333333333333,
              "#9c179e"
             ],
             [
              0.4444444444444444,
              "#bd3786"
             ],
             [
              0.5555555555555556,
              "#d8576b"
             ],
             [
              0.6666666666666666,
              "#ed7953"
             ],
             [
              0.7777777777777778,
              "#fb9f3a"
             ],
             [
              0.8888888888888888,
              "#fdca26"
             ],
             [
              1,
              "#f0f921"
             ]
            ],
            "type": "histogram2d"
           }
          ],
          "histogram2dcontour": [
           {
            "colorbar": {
             "outlinewidth": 0,
             "ticks": ""
            },
            "colorscale": [
             [
              0,
              "#0d0887"
             ],
             [
              0.1111111111111111,
              "#46039f"
             ],
             [
              0.2222222222222222,
              "#7201a8"
             ],
             [
              0.3333333333333333,
              "#9c179e"
             ],
             [
              0.4444444444444444,
              "#bd3786"
             ],
             [
              0.5555555555555556,
              "#d8576b"
             ],
             [
              0.6666666666666666,
              "#ed7953"
             ],
             [
              0.7777777777777778,
              "#fb9f3a"
             ],
             [
              0.8888888888888888,
              "#fdca26"
             ],
             [
              1,
              "#f0f921"
             ]
            ],
            "type": "histogram2dcontour"
           }
          ],
          "mesh3d": [
           {
            "colorbar": {
             "outlinewidth": 0,
             "ticks": ""
            },
            "type": "mesh3d"
           }
          ],
          "parcoords": [
           {
            "line": {
             "colorbar": {
              "outlinewidth": 0,
              "ticks": ""
             }
            },
            "type": "parcoords"
           }
          ],
          "pie": [
           {
            "automargin": true,
            "type": "pie"
           }
          ],
          "scatter": [
           {
            "fillpattern": {
             "fillmode": "overlay",
             "size": 10,
             "solidity": 0.2
            },
            "type": "scatter"
           }
          ],
          "scatter3d": [
           {
            "line": {
             "colorbar": {
              "outlinewidth": 0,
              "ticks": ""
             }
            },
            "marker": {
             "colorbar": {
              "outlinewidth": 0,
              "ticks": ""
             }
            },
            "type": "scatter3d"
           }
          ],
          "scattercarpet": [
           {
            "marker": {
             "colorbar": {
              "outlinewidth": 0,
              "ticks": ""
             }
            },
            "type": "scattercarpet"
           }
          ],
          "scattergeo": [
           {
            "marker": {
             "colorbar": {
              "outlinewidth": 0,
              "ticks": ""
             }
            },
            "type": "scattergeo"
           }
          ],
          "scattergl": [
           {
            "marker": {
             "colorbar": {
              "outlinewidth": 0,
              "ticks": ""
             }
            },
            "type": "scattergl"
           }
          ],
          "scattermapbox": [
           {
            "marker": {
             "colorbar": {
              "outlinewidth": 0,
              "ticks": ""
             }
            },
            "type": "scattermapbox"
           }
          ],
          "scatterpolar": [
           {
            "marker": {
             "colorbar": {
              "outlinewidth": 0,
              "ticks": ""
             }
            },
            "type": "scatterpolar"
           }
          ],
          "scatterpolargl": [
           {
            "marker": {
             "colorbar": {
              "outlinewidth": 0,
              "ticks": ""
             }
            },
            "type": "scatterpolargl"
           }
          ],
          "scatterternary": [
           {
            "marker": {
             "colorbar": {
              "outlinewidth": 0,
              "ticks": ""
             }
            },
            "type": "scatterternary"
           }
          ],
          "surface": [
           {
            "colorbar": {
             "outlinewidth": 0,
             "ticks": ""
            },
            "colorscale": [
             [
              0,
              "#0d0887"
             ],
             [
              0.1111111111111111,
              "#46039f"
             ],
             [
              0.2222222222222222,
              "#7201a8"
             ],
             [
              0.3333333333333333,
              "#9c179e"
             ],
             [
              0.4444444444444444,
              "#bd3786"
             ],
             [
              0.5555555555555556,
              "#d8576b"
             ],
             [
              0.6666666666666666,
              "#ed7953"
             ],
             [
              0.7777777777777778,
              "#fb9f3a"
             ],
             [
              0.8888888888888888,
              "#fdca26"
             ],
             [
              1,
              "#f0f921"
             ]
            ],
            "type": "surface"
           }
          ],
          "table": [
           {
            "cells": {
             "fill": {
              "color": "#EBF0F8"
             },
             "line": {
              "color": "white"
             }
            },
            "header": {
             "fill": {
              "color": "#C8D4E3"
             },
             "line": {
              "color": "white"
             }
            },
            "type": "table"
           }
          ]
         },
         "layout": {
          "annotationdefaults": {
           "arrowcolor": "#2a3f5f",
           "arrowhead": 0,
           "arrowwidth": 1
          },
          "autotypenumbers": "strict",
          "coloraxis": {
           "colorbar": {
            "outlinewidth": 0,
            "ticks": ""
           }
          },
          "colorscale": {
           "diverging": [
            [
             0,
             "#8e0152"
            ],
            [
             0.1,
             "#c51b7d"
            ],
            [
             0.2,
             "#de77ae"
            ],
            [
             0.3,
             "#f1b6da"
            ],
            [
             0.4,
             "#fde0ef"
            ],
            [
             0.5,
             "#f7f7f7"
            ],
            [
             0.6,
             "#e6f5d0"
            ],
            [
             0.7,
             "#b8e186"
            ],
            [
             0.8,
             "#7fbc41"
            ],
            [
             0.9,
             "#4d9221"
            ],
            [
             1,
             "#276419"
            ]
           ],
           "sequential": [
            [
             0,
             "#0d0887"
            ],
            [
             0.1111111111111111,
             "#46039f"
            ],
            [
             0.2222222222222222,
             "#7201a8"
            ],
            [
             0.3333333333333333,
             "#9c179e"
            ],
            [
             0.4444444444444444,
             "#bd3786"
            ],
            [
             0.5555555555555556,
             "#d8576b"
            ],
            [
             0.6666666666666666,
             "#ed7953"
            ],
            [
             0.7777777777777778,
             "#fb9f3a"
            ],
            [
             0.8888888888888888,
             "#fdca26"
            ],
            [
             1,
             "#f0f921"
            ]
           ],
           "sequentialminus": [
            [
             0,
             "#0d0887"
            ],
            [
             0.1111111111111111,
             "#46039f"
            ],
            [
             0.2222222222222222,
             "#7201a8"
            ],
            [
             0.3333333333333333,
             "#9c179e"
            ],
            [
             0.4444444444444444,
             "#bd3786"
            ],
            [
             0.5555555555555556,
             "#d8576b"
            ],
            [
             0.6666666666666666,
             "#ed7953"
            ],
            [
             0.7777777777777778,
             "#fb9f3a"
            ],
            [
             0.8888888888888888,
             "#fdca26"
            ],
            [
             1,
             "#f0f921"
            ]
           ]
          },
          "colorway": [
           "#636efa",
           "#EF553B",
           "#00cc96",
           "#ab63fa",
           "#FFA15A",
           "#19d3f3",
           "#FF6692",
           "#B6E880",
           "#FF97FF",
           "#FECB52"
          ],
          "font": {
           "color": "#2a3f5f"
          },
          "geo": {
           "bgcolor": "white",
           "lakecolor": "white",
           "landcolor": "#E5ECF6",
           "showlakes": true,
           "showland": true,
           "subunitcolor": "white"
          },
          "hoverlabel": {
           "align": "left"
          },
          "hovermode": "closest",
          "mapbox": {
           "style": "light"
          },
          "paper_bgcolor": "white",
          "plot_bgcolor": "#E5ECF6",
          "polar": {
           "angularaxis": {
            "gridcolor": "white",
            "linecolor": "white",
            "ticks": ""
           },
           "bgcolor": "#E5ECF6",
           "radialaxis": {
            "gridcolor": "white",
            "linecolor": "white",
            "ticks": ""
           }
          },
          "scene": {
           "xaxis": {
            "backgroundcolor": "#E5ECF6",
            "gridcolor": "white",
            "gridwidth": 2,
            "linecolor": "white",
            "showbackground": true,
            "ticks": "",
            "zerolinecolor": "white"
           },
           "yaxis": {
            "backgroundcolor": "#E5ECF6",
            "gridcolor": "white",
            "gridwidth": 2,
            "linecolor": "white",
            "showbackground": true,
            "ticks": "",
            "zerolinecolor": "white"
           },
           "zaxis": {
            "backgroundcolor": "#E5ECF6",
            "gridcolor": "white",
            "gridwidth": 2,
            "linecolor": "white",
            "showbackground": true,
            "ticks": "",
            "zerolinecolor": "white"
           }
          },
          "shapedefaults": {
           "line": {
            "color": "#2a3f5f"
           }
          },
          "ternary": {
           "aaxis": {
            "gridcolor": "white",
            "linecolor": "white",
            "ticks": ""
           },
           "baxis": {
            "gridcolor": "white",
            "linecolor": "white",
            "ticks": ""
           },
           "bgcolor": "#E5ECF6",
           "caxis": {
            "gridcolor": "white",
            "linecolor": "white",
            "ticks": ""
           }
          },
          "title": {
           "x": 0.05
          },
          "xaxis": {
           "automargin": true,
           "gridcolor": "white",
           "linecolor": "white",
           "ticks": "",
           "title": {
            "standoff": 15
           },
           "zerolinecolor": "white",
           "zerolinewidth": 2
          },
          "yaxis": {
           "automargin": true,
           "gridcolor": "white",
           "linecolor": "white",
           "ticks": "",
           "title": {
            "standoff": 15
           },
           "zerolinecolor": "white",
           "zerolinewidth": 2
          }
         }
        },
        "xaxis": {
         "title": {
          "text": "Number of Annotations"
         }
        },
        "yaxis": {
         "range": [
          0,
          1
         ],
         "title": {
          "text": "Accuracy"
         }
        }
       }
      }
     },
     "metadata": {},
     "output_type": "display_data"
    }
   ],
   "source": [
    "import os\n",
    "import pandas as pd\n",
    "import plotly.graph_objects as go\n",
    "import numpy as np\n",
    "\n",
    "folder = 'Results/sampling_validation'\n",
    "\n",
    "# Get all csv files\n",
    "files = os.listdir(folder)\n",
    "\n",
    "import plotly.express as px\n",
    "pastel = px.colors.qualitative.Pastel\n",
    "\n",
    "# color key\n",
    "color_key = {\n",
    "    'BvSB' : pastel[0],\n",
    "    'Entropy' : pastel[1],\n",
    "    'Random' : pastel[2],\n",
    "}\n",
    "\n",
    "# Calculate average across 3 iterations\n",
    "BvSB = []\n",
    "Entropy = []\n",
    "Random = []\n",
    "for file in files:\n",
    "    df = pd.read_csv(f'{folder}\\\\{file}')\n",
    "    method = file.split('_')[0]\n",
    "    if method == 'BvSB':\n",
    "        BvSB.append(df)\n",
    "    elif method == 'Entropy':\n",
    "        Entropy.append(df)\n",
    "    elif method == 'Random':\n",
    "        Random.append(df)\n",
    "\n",
    "BvSB = pd.concat(BvSB)\n",
    "Entropy = pd.concat(Entropy)\n",
    "Random = pd.concat(Random)\n",
    "\n",
    "BvSB = BvSB.groupby('Number of Annotations').mean(numeric_only=True).reset_index()\n",
    "Entropy = Entropy.groupby('Number of Annotations').mean(numeric_only=True).reset_index()\n",
    "Random = Random.groupby('Number of Annotations').mean(numeric_only=True).reset_index()\n",
    "\n",
    "fig = go.Figure()\n",
    "\n",
    "for df, file in zip([BvSB, Entropy, Random], ['BvSB', 'Entropy', 'Random']):\n",
    "    color = color_key[file]\n",
    "\n",
    "    fig.add_trace(go.Scatter(x=df['Number of Annotations'], y=df['Accuracy'], name=file, line=dict(color=color)))#, dash=line_style)))\n",
    "\n",
    "\n",
    "# Update ylim and set axis labels\n",
    "fig.update_yaxes(range=[0, 1])\n",
    "fig.update_xaxes(title_text='Number of Annotations')\n",
    "fig.update_yaxes(title_text='Accuracy')\n",
    "\n",
    "# Horizontal legend\n",
    "fig.update_layout(legend=dict(\n",
    "    orientation=\"h\",\n",
    "    yanchor=\"bottom\",\n",
    "    y=1.02,\n",
    "    xanchor=\"right\",\n",
    "    x=1\n",
    "))\n",
    "\n",
    "fig.show()"
   ]
  }
 ],
 "metadata": {
  "kernelspec": {
   "display_name": "DP4",
   "language": "python",
   "name": "python3"
  },
  "language_info": {
   "codemirror_mode": {
    "name": "ipython",
    "version": 3
   },
   "file_extension": ".py",
   "mimetype": "text/x-python",
   "name": "python",
   "nbconvert_exporter": "python",
   "pygments_lexer": "ipython3",
   "version": "3.10.9"
  },
  "orig_nbformat": 4,
  "vscode": {
   "interpreter": {
    "hash": "a8f364f4c6a15a98e6f24366f20c415b81f2b82de1c06055d293928a78744407"
   }
  }
 },
 "nbformat": 4,
 "nbformat_minor": 2
}
