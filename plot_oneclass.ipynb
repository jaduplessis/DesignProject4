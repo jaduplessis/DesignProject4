{
  "cells": [
    {
      "cell_type": "code",
      "execution_count": 1,
      "metadata": {
        "collapsed": false
      },
      "outputs": [],
      "source": [
        "%matplotlib inline"
      ]
    },
    {
      "cell_type": "markdown",
      "metadata": {},
      "source": [
        "\n",
        "# One-class SVM with non-linear kernel (RBF)\n",
        "\n",
        "An example using a one-class SVM for novelty detection.\n",
        "\n",
        "`One-class SVM <svm_outlier_detection>` is an unsupervised\n",
        "algorithm that learns a decision function for novelty detection:\n",
        "classifying new data as similar or different to the training set.\n"
      ]
    },
    {
      "cell_type": "code",
      "execution_count": 2,
      "metadata": {
        "collapsed": false
      },
      "outputs": [],
      "source": [
        "import numpy as np\n",
        "import matplotlib.pyplot as plt\n",
        "import matplotlib.font_manager\n",
        "from sklearn import svm"
      ]
    },
    {
      "cell_type": "code",
      "execution_count": 4,
      "metadata": {},
      "outputs": [],
      "source": [
        "xx, yy = np.meshgrid(np.linspace(-5, 5, 500), np.linspace(-5, 5, 500))\n",
        "# Generate train data\n",
        "X = 0.3 * np.random.randn(100, 2)\n",
        "X_train = np.r_[X + 2, X - 2]\n",
        "# Generate some regular novel observations\n",
        "X = 0.3 * np.random.randn(20, 2)\n",
        "X_test = np.r_[X + 2, X - 2]\n",
        "# Generate some abnormal novel observations\n",
        "X_outliers = np.random.uniform(low=-4, high=4, size=(20, 2))"
      ]
    },
    {
      "cell_type": "code",
      "execution_count": 7,
      "metadata": {},
      "outputs": [
        {
          "data": {
            "text/plain": [
              "array([[-7.67850343, -7.65839971, -7.63820517, ..., -9.37139976,\n",
              "        -9.37292297, -9.3744189 ],\n",
              "       [-7.65796479, -7.63763199, -7.6172074 , ..., -9.36986805,\n",
              "        -9.37141442, -9.37293321],\n",
              "       [-7.63732769, -7.61676475, -7.59610906, ..., -9.36830876,\n",
              "        -9.3698786 , -9.37142054],\n",
              "       ...,\n",
              "       [-9.3734409 , -9.37196426, -9.37046132, ..., -7.43360189,\n",
              "        -7.45565374, -7.47761659],\n",
              "       [-9.37495987, -9.37350613, -9.37202639, ..., -7.45567543,\n",
              "        -7.47748875, -7.49921401],\n",
              "       [-9.37645109, -9.37501993, -9.37356306, ..., -7.47765768,\n",
              "        -7.49923343, -7.52072202]])"
            ]
          },
          "execution_count": 7,
          "metadata": {},
          "output_type": "execute_result"
        }
      ],
      "source": [
        "# fit the model\n",
        "clf = svm.OneClassSVM(nu=0.1, kernel=\"rbf\", gamma=0.1)\n",
        "clf.fit(X_train)\n",
        "y_pred_train = clf.predict(X_train)\n",
        "y_pred_test = clf.predict(X_test)\n",
        "y_pred_outliers = clf.predict(X_outliers)\n",
        "n_error_train = y_pred_train[y_pred_train == -1].size\n",
        "n_error_test = y_pred_test[y_pred_test == -1].size\n",
        "n_error_outliers = y_pred_outliers[y_pred_outliers == 1].size\n",
        "\n",
        "# plot the line, the points, and the nearest vectors to the plane\n",
        "Z = clf.decision_function(np.c_[xx.ravel(), yy.ravel()])\n",
        "Z = Z.reshape(xx.shape)\n",
        "\n",
        "Z"
      ]
    },
    {
      "cell_type": "code",
      "execution_count": null,
      "metadata": {},
      "outputs": [],
      "source": [
        "plt.title(\"Novelty Detection\")\n",
        "plt.contourf(xx, yy, Z, levels=np.linspace(Z.min(), 0, 7), cmap=plt.cm.PuBu)\n",
        "a = plt.contour(xx, yy, Z, levels=[0], linewidths=2, colors=\"darkred\")\n",
        "plt.contourf(xx, yy, Z, levels=[0, Z.max()], colors=\"palevioletred\")\n",
        "\n",
        "s = 40\n",
        "b1 = plt.scatter(X_train[:, 0], X_train[:, 1], c=\"white\", s=s, edgecolors=\"k\")\n",
        "b2 = plt.scatter(X_test[:, 0], X_test[:, 1], c=\"blueviolet\", s=s, edgecolors=\"k\")\n",
        "c = plt.scatter(X_outliers[:, 0], X_outliers[:, 1], c=\"gold\", s=s, edgecolors=\"k\")\n",
        "plt.axis(\"tight\")\n",
        "plt.xlim((-5, 5))\n",
        "plt.ylim((-5, 5))\n",
        "plt.legend(\n",
        "    [a.collections[0], b1, b2, c],\n",
        "    [\n",
        "        \"learned frontier\",\n",
        "        \"training observations\",\n",
        "        \"new regular observations\",\n",
        "        \"new abnormal observations\",\n",
        "    ],\n",
        "    loc=\"upper left\",\n",
        "    prop=matplotlib.font_manager.FontProperties(size=11),\n",
        ")\n",
        "plt.xlabel(\n",
        "    \"error train: %d/200 ; errors novel regular: %d/40 ; errors novel abnormal: %d/40\"\n",
        "    % (n_error_train, n_error_test, n_error_outliers)\n",
        ")\n",
        "plt.show()"
      ]
    }
  ],
  "metadata": {
    "kernelspec": {
      "display_name": "DP4",
      "language": "python",
      "name": "python3"
    },
    "language_info": {
      "codemirror_mode": {
        "name": "ipython",
        "version": 3
      },
      "file_extension": ".py",
      "mimetype": "text/x-python",
      "name": "python",
      "nbconvert_exporter": "python",
      "pygments_lexer": "ipython3",
      "version": "3.10.9"
    },
    "vscode": {
      "interpreter": {
        "hash": "a8f364f4c6a15a98e6f24366f20c415b81f2b82de1c06055d293928a78744407"
      }
    }
  },
  "nbformat": 4,
  "nbformat_minor": 0
}
